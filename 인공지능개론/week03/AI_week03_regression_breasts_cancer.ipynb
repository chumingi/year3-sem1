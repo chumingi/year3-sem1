{
 "cells": [
  {
   "cell_type": "code",
   "execution_count": 1,
   "id": "26d2a5a8-b692-468a-8832-d89afcb46609",
   "metadata": {},
   "outputs": [],
   "source": [
    "import pandas as pd\n",
    "import numpy as np\n",
    "from sklearn.model_selection import train_test_split\n",
    "from sklearn.preprocessing import LabelEncoder, StandardScaler\n",
    "from sklearn.metrics import mean_squared_error\n",
    "import seaborn as sns"
   ]
  },
  {
   "cell_type": "code",
   "execution_count": 2,
   "id": "ebea40a4-c12b-4db3-9d8b-7682f190ef48",
   "metadata": {},
   "outputs": [
    {
     "name": "stdout",
     "output_type": "stream",
     "text": [
      "   Unnamed: 0  mean radius  mean texture  mean perimeter  mean area  \\\n",
      "0           0        17.99         10.38          122.80     1001.0   \n",
      "1           1        20.57         17.77          132.90     1326.0   \n",
      "2           2        19.69         21.25          130.00     1203.0   \n",
      "3           3        11.42         20.38           77.58      386.1   \n",
      "4           4        20.29         14.34          135.10     1297.0   \n",
      "\n",
      "   mean smoothness  mean compactness  mean concavity  mean concave points  \\\n",
      "0          0.11840           0.27760          0.3001              0.14710   \n",
      "1          0.08474           0.07864          0.0869              0.07017   \n",
      "2          0.10960           0.15990          0.1974              0.12790   \n",
      "3          0.14250           0.28390          0.2414              0.10520   \n",
      "4          0.10030           0.13280          0.1980              0.10430   \n",
      "\n",
      "   mean symmetry  ...  worst texture  worst perimeter  worst area  \\\n",
      "0         0.2419  ...          17.33           184.60      2019.0   \n",
      "1         0.1812  ...          23.41           158.80      1956.0   \n",
      "2         0.2069  ...          25.53           152.50      1709.0   \n",
      "3         0.2597  ...          26.50            98.87       567.7   \n",
      "4         0.1809  ...          16.67           152.20      1575.0   \n",
      "\n",
      "   worst smoothness  worst compactness  worst concavity  worst concave points  \\\n",
      "0            0.1622             0.6656           0.7119                0.2654   \n",
      "1            0.1238             0.1866           0.2416                0.1860   \n",
      "2            0.1444             0.4245           0.4504                0.2430   \n",
      "3            0.2098             0.8663           0.6869                0.2575   \n",
      "4            0.1374             0.2050           0.4000                0.1625   \n",
      "\n",
      "   worst symmetry  worst fractal dimension  label  \n",
      "0          0.4601                  0.11890      0  \n",
      "1          0.2750                  0.08902      0  \n",
      "2          0.3613                  0.08758      0  \n",
      "3          0.6638                  0.17300      0  \n",
      "4          0.2364                  0.07678      0  \n",
      "\n",
      "[5 rows x 32 columns]\n",
      "Unnamed: 0                 0\n",
      "mean radius                0\n",
      "mean texture               0\n",
      "mean perimeter             0\n",
      "mean area                  0\n",
      "mean smoothness            0\n",
      "mean compactness           0\n",
      "mean concavity             0\n",
      "mean concave points        0\n",
      "mean symmetry              0\n",
      "mean fractal dimension     0\n",
      "radius error               0\n",
      "texture error              0\n",
      "perimeter error            0\n",
      "area error                 0\n",
      "smoothness error           0\n",
      "compactness error          0\n",
      "concavity error            0\n",
      "concave points error       0\n",
      "symmetry error             0\n",
      "fractal dimension error    0\n",
      "worst radius               0\n",
      "worst texture              0\n",
      "worst perimeter            0\n",
      "worst area                 0\n",
      "worst smoothness           0\n",
      "worst compactness          0\n",
      "worst concavity            0\n",
      "worst concave points       0\n",
      "worst symmetry             0\n",
      "worst fractal dimension    0\n",
      "label                      0\n",
      "dtype: int64\n"
     ]
    }
   ],
   "source": [
    "file_path = r\"C:\\Users\\MinGi\\Desktop\\year3-sem1\\인공지능개론\\dataset\\breast_cancer.csv\"\n",
    "df = pd.read_csv(file_path)\n",
    "print(df.head())\n",
    "print(df.isnull().sum())"
   ]
  },
  {
   "cell_type": "code",
   "execution_count": 7,
   "id": "0293ffb1-1eb9-4146-9b58-d14d5507b7b5",
   "metadata": {},
   "outputs": [
    {
     "name": "stdout",
     "output_type": "stream",
     "text": [
      "Pregnancies  Glucose  BloodPressure  SkinThickness  Insulin  BMI   DiabetesPedigreeFunction  Age  Outcome\n",
      "0            57       60             0              0        21.7  0.735                     67   0          1\n",
      "             67       76             0              0        45.3  0.194                     46   0          1\n",
      "5            103      108            37             0        39.2  0.305                     65   0          1\n",
      "             104      74             0              0        28.8  0.153                     48   0          1\n",
      "             105      72             29             325      36.9  0.159                     28   0          1\n",
      "                                                                                                            ..\n",
      "2            84       50             23             76       30.4  0.968                     21   0          1\n",
      "             85       65             0              0        39.6  0.930                     27   0          1\n",
      "             87       0              23             0        28.9  0.773                     25   0          1\n",
      "                      58             16             52       32.7  0.166                     25   0          1\n",
      "17           163      72             41             114      40.9  0.817                     47   1          1\n",
      "Name: count, Length: 768, dtype: int64\n"
     ]
    }
   ],
   "source": [
    "print(df.value_counts())"
   ]
  },
  {
   "cell_type": "code",
   "execution_count": 4,
   "id": "707e8a8a-679e-4f84-9f40-97abc5d1f8f7",
   "metadata": {},
   "outputs": [],
   "source": [
    "x = df.drop('label', axis=1)\n",
    "y = df['label']\n",
    "\n",
    "scaler = StandardScaler()\n",
    "x = scaler.fit_transform(x)\n",
    "x_train, x_test, y_train, y_test = train_test_split(x, y, test_size=0.3, random_state=0)"
   ]
  },
  {
   "cell_type": "code",
   "execution_count": 5,
   "id": "dafbba69-2ce4-4f88-b910-313a0ad5b740",
   "metadata": {},
   "outputs": [
    {
     "name": "stdout",
     "output_type": "stream",
     "text": [
      "평균제곱근오차 0.058275826226814396\n",
      "평균제곱근오차 0.058275826226814396\n",
      "평균제곱근오차 0.05827582622681441\n"
     ]
    }
   ],
   "source": [
    "from sklearn.linear_model import LinearRegression\n",
    "\n",
    "model = LinearRegression()\n",
    "model.fit(x_train, y_train)\n",
    "ly_preds = model.predict(x_test)\n",
    "\n",
    "print('평균제곱근오차', mean_squared_error(ly_preds, y_test))\n",
    "\n",
    "def mse_np(actual, predicted):\n",
    "    return np.mean((np.array(actual) - np.array(predicted)) ** 2)\n",
    "\n",
    "print('평균제곱근오차', mse_np(ly_preds, y_test))\n",
    "\n",
    "def mse(actual, predicted):\n",
    "    sum_square_error = sum((a - p) ** 2 for a, p in zip(actual, predicted))\n",
    "    mean_square_error = sum_square_error / len(actual)\n",
    "    return mean_square_error\n",
    "\n",
    "print('평균제곱근오차', mse(ly_preds, y_test))"
   ]
  },
  {
   "cell_type": "code",
   "execution_count": 6,
   "id": "4989c2ca-320c-4aa7-8e44-d99136c67bcc",
   "metadata": {},
   "outputs": [
    {
     "name": "stdout",
     "output_type": "stream",
     "text": [
      "평균제곱근오차 0.0935672514619883\n"
     ]
    }
   ],
   "source": [
    "from sklearn.tree import DecisionTreeRegressor\n",
    "\n",
    "model = DecisionTreeRegressor()\n",
    "model.fit(x_train, y_train)\n",
    "\n",
    "dy_preds = model.predict(x_test)\n",
    "print('평균제곱근오차', mean_squared_error(dy_preds, y_test))"
   ]
  },
  {
   "cell_type": "code",
   "execution_count": 7,
   "id": "14bde495-98db-4260-a599-ed14d7105adf",
   "metadata": {},
   "outputs": [
    {
     "name": "stdout",
     "output_type": "stream",
     "text": [
      "평균제곱근오차 0.036304678362573096\n"
     ]
    }
   ],
   "source": [
    "from sklearn.ensemble import RandomForestRegressor\n",
    "\n",
    "model = RandomForestRegressor()\n",
    "model.fit(x_train, y_train)\n",
    "\n",
    "ry_preds = model.predict(x_test)\n",
    "print('평균제곱근오차', mean_squared_error(ry_preds, y_test))"
   ]
  },
  {
   "cell_type": "code",
   "execution_count": 8,
   "id": "807ea7b4-4cb1-4c56-974f-49333d42116d",
   "metadata": {},
   "outputs": [
    {
     "name": "stdout",
     "output_type": "stream",
     "text": [
      "평균제곱근오차 0.06039009244917454\n"
     ]
    }
   ],
   "source": [
    "from sklearn.svm import SVR\n",
    "\n",
    "model = SVR(kernel='linear')\n",
    "model.fit(x_train, y_train)\n",
    "\n",
    "ry_preds = model.predict(x_test)\n",
    "print('평균제곱근오차', mean_squared_error(ry_preds, y_test))"
   ]
  }
 ],
 "metadata": {
  "kernelspec": {
   "display_name": "Python 3 (ipykernel)",
   "language": "python",
   "name": "python3"
  },
  "language_info": {
   "codemirror_mode": {
    "name": "ipython",
    "version": 3
   },
   "file_extension": ".py",
   "mimetype": "text/x-python",
   "name": "python",
   "nbconvert_exporter": "python",
   "pygments_lexer": "ipython3",
   "version": "3.12.3"
  }
 },
 "nbformat": 4,
 "nbformat_minor": 5
}
