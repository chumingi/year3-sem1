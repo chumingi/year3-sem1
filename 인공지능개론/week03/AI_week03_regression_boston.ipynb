{
 "cells": [
  {
   "cell_type": "markdown",
   "id": "a3f9a00b-3b82-43ca-9d26-1f4464e74f62",
   "metadata": {},
   "source": [
    "# Regression\n",
    "- 평가지표 : mean_squared_error\n",
    "- Classifier 대신 Regression 사용"
   ]
  },
  {
   "cell_type": "code",
   "execution_count": 2,
   "id": "58bc90b0-2620-48ca-b614-0a9778bfe1d6",
   "metadata": {},
   "outputs": [],
   "source": [
    "import pandas as pd\n",
    "import numpy as np\n",
    "import seaborn as sns\n",
    "from sklearn.model_selection import train_test_split\n",
    "from sklearn.preprocessing import LabelEncoder, StandardScaler\n",
    "from sklearn.metrics import mean_squared_error, r2_score"
   ]
  },
  {
   "cell_type": "code",
   "execution_count": 3,
   "id": "b4f59e3b-cf45-46ec-aa15-307fb8dd11d3",
   "metadata": {},
   "outputs": [
    {
     "name": "stdout",
     "output_type": "stream",
     "text": [
      "   Unnamed: 0  MedInc  HouseAge  AveRooms  AveBedrms  Population  AveOccup  \\\n",
      "0           0  8.3252      41.0  6.984127   1.023810       322.0  2.555556   \n",
      "1           1  8.3014      21.0  6.238137   0.971880      2401.0  2.109842   \n",
      "2           2  7.2574      52.0  8.288136   1.073446       496.0  2.802260   \n",
      "3           3  5.6431      52.0  5.817352   1.073059       558.0  2.547945   \n",
      "4           4  3.8462      52.0  6.281853   1.081081       565.0  2.181467   \n",
      "\n",
      "   Latitude  Longitude  PRICE  \n",
      "0     37.88    -122.23  4.526  \n",
      "1     37.86    -122.22  3.585  \n",
      "2     37.85    -122.24  3.521  \n",
      "3     37.85    -122.25  3.413  \n",
      "4     37.85    -122.25  3.422  \n",
      "Unnamed: 0    0\n",
      "MedInc        0\n",
      "HouseAge      0\n",
      "AveRooms      0\n",
      "AveBedrms     0\n",
      "Population    0\n",
      "AveOccup      0\n",
      "Latitude      0\n",
      "Longitude     0\n",
      "PRICE         0\n",
      "dtype: int64\n"
     ]
    }
   ],
   "source": [
    "file_path = r\"C:\\Users\\MinGi\\Desktop\\year3-sem1\\인공지능개론\\dataset\\boston.csv\"\n",
    "df = pd.read_csv(file_path)\n",
    "\n",
    "print(df.head())\n",
    "print(df.isnull().sum())"
   ]
  },
  {
   "cell_type": "code",
   "execution_count": 5,
   "id": "49a82aaa-48e1-451d-99a5-76c4746fa12a",
   "metadata": {},
   "outputs": [
    {
     "name": "stdout",
     "output_type": "stream",
     "text": [
      "(14448, 9) (14448,)\n",
      "(6192, 9) (6192,)\n"
     ]
    }
   ],
   "source": [
    "x = df.drop('PRICE', axis=1)\n",
    "y = df['PRICE']\n",
    "\n",
    "scaler = StandardScaler()\n",
    "x = scaler.fit_transform(x)\n",
    "x_train, x_test, y_train, y_test = train_test_split(x, y, test_size=0.3, random_state=0)\n",
    "\n",
    "print(x_train.shape, y_train.shape)\n",
    "print(x_test.shape, y_test.shape)"
   ]
  },
  {
   "cell_type": "code",
   "execution_count": 7,
   "id": "47bd2c5e-9e19-4f0e-949a-0e04d081120b",
   "metadata": {},
   "outputs": [
    {
     "name": "stdout",
     "output_type": "stream",
     "text": [
      "평균제곱근오차 0.5427599240102576\n",
      "평균제곱근오차 0.5427599240102576\n",
      "평균제곱근오차 0.5427599240102592\n"
     ]
    }
   ],
   "source": [
    "from sklearn.linear_model import LinearRegression\n",
    "\n",
    "model = LinearRegression()\n",
    "model.fit(x_train, y_train)\n",
    "ly_preds = model.predict(x_test)\n",
    "\n",
    "print('평균제곱근오차', mean_squared_error(ly_preds, y_test))\n",
    "\n",
    "def mse_np(actual, predicted):\n",
    "    return np.mean((np.array(actual) - np.array(predicted)) ** 2)\n",
    "\n",
    "print('평균제곱근오차', mse_np(ly_preds, y_test))\n",
    "\n",
    "def mse(actual, predicted):\n",
    "    sum_square_error = sum((a - p) ** 2 for a, p in zip(actual, predicted))\n",
    "    mean_square_error = sum_square_error / len(actual)\n",
    "    return mean_square_error\n",
    "\n",
    "print('평균제곱근오차', mse(ly_preds, y_test))"
   ]
  },
  {
   "cell_type": "code",
   "execution_count": 8,
   "id": "509c8b11-68ce-4c13-b55d-923912db90b1",
   "metadata": {},
   "outputs": [
    {
     "name": "stdout",
     "output_type": "stream",
     "text": [
      "평균제곱근오차 0.5151278604275193\n"
     ]
    }
   ],
   "source": [
    "from sklearn.tree import DecisionTreeRegressor\n",
    "\n",
    "model = DecisionTreeRegressor()\n",
    "model.fit(x_train, y_train)\n",
    "\n",
    "dy_preds = model.predict(x_test)\n",
    "print('평균제곱근오차', mean_squared_error(dy_preds, y_test))"
   ]
  },
  {
   "cell_type": "code",
   "execution_count": 9,
   "id": "3a87b2c1-c0da-417a-abc9-b6ca3db0469b",
   "metadata": {},
   "outputs": [
    {
     "name": "stdout",
     "output_type": "stream",
     "text": [
      "평균제곱근오차 0.2606366859920328\n"
     ]
    }
   ],
   "source": [
    "from sklearn.ensemble import RandomForestRegressor\n",
    "\n",
    "model = RandomForestRegressor()\n",
    "model.fit(x_train, y_train)\n",
    "\n",
    "ry_preds = model.predict(x_test)\n",
    "print('평균제곱근오차', mean_squared_error(ry_preds, y_test))"
   ]
  },
  {
   "cell_type": "code",
   "execution_count": 10,
   "id": "6e18ab51-1c8b-49c8-9657-608eb7671109",
   "metadata": {},
   "outputs": [
    {
     "name": "stdout",
     "output_type": "stream",
     "text": [
      "평균제곱근오차 3.3691693525078152\n"
     ]
    }
   ],
   "source": [
    "from sklearn.svm import SVR\n",
    "\n",
    "model = SVR(kernel='linear')\n",
    "model.fit(x_train, y_train)\n",
    "\n",
    "ry_preds = model.predict(x_test)\n",
    "print('평균제곱근오차', mean_squared_error(ry_preds, y_test))"
   ]
  }
 ],
 "metadata": {
  "kernelspec": {
   "display_name": "Python 3 (ipykernel)",
   "language": "python",
   "name": "python3"
  },
  "language_info": {
   "codemirror_mode": {
    "name": "ipython",
    "version": 3
   },
   "file_extension": ".py",
   "mimetype": "text/x-python",
   "name": "python",
   "nbconvert_exporter": "python",
   "pygments_lexer": "ipython3",
   "version": "3.12.3"
  }
 },
 "nbformat": 4,
 "nbformat_minor": 5
}
