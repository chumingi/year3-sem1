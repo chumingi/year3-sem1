{
 "cells": [
  {
   "cell_type": "code",
   "execution_count": 1,
   "id": "070d6bfd-2952-4363-a07c-b41606bf5d5a",
   "metadata": {},
   "outputs": [],
   "source": [
    "import pandas as pd\n",
    "import numpy as np\n",
    "from sklearn.model_selection import train_test_split\n",
    "from sklearn.preprocessing import LabelEncoder, StandardScaler\n",
    "from sklearn.metrics import accuracy_score, confusion_matrix\n",
    "import seaborn as sns"
   ]
  },
  {
   "cell_type": "code",
   "execution_count": 3,
   "id": "c43e9a5c-51a7-445f-aecb-7e4dd50bc9fe",
   "metadata": {},
   "outputs": [
    {
     "name": "stdout",
     "output_type": "stream",
     "text": [
      "   vhigh vhigh.1  2 2.1  small   low  unacc\n",
      "0  vhigh   vhigh  2   2  small   med  unacc\n",
      "1  vhigh   vhigh  2   2  small  high  unacc\n",
      "2  vhigh   vhigh  2   2    med   low  unacc\n",
      "3  vhigh   vhigh  2   2    med   med  unacc\n",
      "4  vhigh   vhigh  2   2    med  high  unacc\n",
      "vhigh      0\n",
      "vhigh.1    0\n",
      "2          0\n",
      "2.1        0\n",
      "small      0\n",
      "low        0\n",
      "unacc      0\n",
      "dtype: int64\n"
     ]
    }
   ],
   "source": [
    "file_path = r\"C:\\Users\\MinGi\\Desktop\\year3-sem1\\인공지능개론\\dataset\\car_evaluation.csv\"\n",
    "df = pd.read_csv(file_path)\n",
    "\n",
    "print(df.head())\n",
    "print(df.isnull().sum())"
   ]
  },
  {
   "cell_type": "code",
   "execution_count": 7,
   "id": "6d34a513-e468-414f-b29e-2a6050020d0d",
   "metadata": {},
   "outputs": [
    {
     "name": "stdout",
     "output_type": "stream",
     "text": [
      "   vhigh  vhigh.1  2  2.1  small  low  unacc\n",
      "0      3        3  0    0      2    2      2\n",
      "1      3        3  0    0      2    0      2\n",
      "2      3        3  0    0      1    1      2\n",
      "3      3        3  0    0      1    2      2\n",
      "4      3        3  0    0      1    0      2\n"
     ]
    }
   ],
   "source": [
    "label_encoder = {}\n",
    "for label in df.columns:\n",
    "    label_encoder[column\n",
    "    df[label] = label_encoder.fit_transform(df[label])\n",
    "\n",
    "print(df.head())"
   ]
  },
  {
   "cell_type": "code",
   "execution_count": 8,
   "id": "d46dae94-be77-470e-b68f-574b663d383e",
   "metadata": {},
   "outputs": [
    {
     "name": "stdout",
     "output_type": "stream",
     "text": [
      "vhigh  vhigh.1  2  2.1  small  low  unacc\n",
      "0      0        0  0    0      0    2        1\n",
      "2      2        2  2    2      2    0        1\n",
      "                               0    0        1\n",
      "                        1      2    0        1\n",
      "                               1    2        1\n",
      "                                            ..\n",
      "1      1        1  0    1      2    2        1\n",
      "                               1    2        1\n",
      "                               0    2        1\n",
      "                        0      2    2        1\n",
      "3      3        3  2    2      2    2        1\n",
      "Name: count, Length: 1727, dtype: int64\n"
     ]
    }
   ],
   "source": [
    "print(df.value_counts())"
   ]
  },
  {
   "cell_type": "code",
   "execution_count": null,
   "id": "64b4eddd-ef2c-4533-b452-a0ac9d69c384",
   "metadata": {},
   "outputs": [],
   "source": [
    "x = df.drop('unacc', axis=1)\n",
    "y = df['unacc']\n",
    "x_train, x_test, y_train, y_test = train_test_split(x, y, test_size=0.3, random_state=0, stratify=y)\n",
    "print(X_train.shape, X_test.shape, y_train.shape, y_test.shape, "
   ]
  }
 ],
 "metadata": {
  "kernelspec": {
   "display_name": "Python 3 (ipykernel)",
   "language": "python",
   "name": "python3"
  },
  "language_info": {
   "codemirror_mode": {
    "name": "ipython",
    "version": 3
   },
   "file_extension": ".py",
   "mimetype": "text/x-python",
   "name": "python",
   "nbconvert_exporter": "python",
   "pygments_lexer": "ipython3",
   "version": "3.12.3"
  }
 },
 "nbformat": 4,
 "nbformat_minor": 5
}
