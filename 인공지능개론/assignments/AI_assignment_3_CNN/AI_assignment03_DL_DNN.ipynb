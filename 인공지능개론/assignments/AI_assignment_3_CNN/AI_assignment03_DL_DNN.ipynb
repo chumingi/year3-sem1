{
 "cells": [
  {
   "cell_type": "markdown",
   "id": "78b08448-936a-4498-b590-fad754e52122",
   "metadata": {},
   "source": [
    "### 라이브러리 임포트"
   ]
  },
  {
   "cell_type": "code",
   "execution_count": 2,
   "id": "ca6b5d23-dd0e-4c57-9a37-f25f55f6d1f7",
   "metadata": {},
   "outputs": [
    {
     "name": "stdout",
     "output_type": "stream",
     "text": [
      "WARNING:tensorflow:From C:\\Users\\MinGi\\anaconda3\\envs\\tf_env\\lib\\site-packages\\keras\\src\\losses.py:2976: The name tf.losses.sparse_softmax_cross_entropy is deprecated. Please use tf.compat.v1.losses.sparse_softmax_cross_entropy instead.\n",
      "\n"
     ]
    }
   ],
   "source": [
    "import tensorflow as tf\n",
    "from tensorflow.keras.datasets import mnist\n",
    "from tensorflow.keras.models import Sequential\n",
    "from tensorflow.keras.layers import Dense, Flatten\n",
    "from tensorflow.keras.utils import to_categorical\n",
    "from sklearn.metrics import confusion_matrix, classification_report\n",
    "import numpy as np"
   ]
  },
  {
   "cell_type": "markdown",
   "id": "a589751c-38c3-43ad-9587-d73baaf08d14",
   "metadata": {},
   "source": [
    "### 전처리"
   ]
  },
  {
   "cell_type": "code",
   "execution_count": 3,
   "id": "a9e5bb29-e040-478d-b0f2-4ce4b1bb9d50",
   "metadata": {},
   "outputs": [],
   "source": [
    "(x_train, y_train), (x_test, y_test) = mnist.load_data()\n",
    "x_train, x_test = x_train / 255.0, x_test / 255.0\n",
    "y_train, y_test = to_categorical(y_train, 10), to_categorical(y_test, 10) "
   ]
  },
  {
   "cell_type": "markdown",
   "id": "7325320b-6dd1-4ce5-a7bd-75680c14d39d",
   "metadata": {},
   "source": [
    " ### 모델 정의 및 컴파일"
   ]
  },
  {
   "cell_type": "code",
   "execution_count": 4,
   "id": "cec83b96-8880-4dba-a265-165d004cae2f",
   "metadata": {},
   "outputs": [
    {
     "name": "stdout",
     "output_type": "stream",
     "text": [
      "WARNING:tensorflow:From C:\\Users\\MinGi\\anaconda3\\envs\\tf_env\\lib\\site-packages\\keras\\src\\backend.py:873: The name tf.get_default_graph is deprecated. Please use tf.compat.v1.get_default_graph instead.\n",
      "\n",
      "WARNING:tensorflow:From C:\\Users\\MinGi\\anaconda3\\envs\\tf_env\\lib\\site-packages\\keras\\src\\optimizers\\__init__.py:309: The name tf.train.Optimizer is deprecated. Please use tf.compat.v1.train.Optimizer instead.\n",
      "\n"
     ]
    }
   ],
   "source": [
    "model = Sequential([\n",
    "    Flatten(input_shape=(28, 28)),\n",
    "    Dense(128, activation='relu'),\n",
    "    Dense(64, activation='relu'),\n",
    "    Dense(10, activation='softmax')\n",
    "])\n",
    "\n",
    "model.compile(optimizer='adam', loss='categorical_crossentropy', metrics=['accuracy'])"
   ]
  },
  {
   "cell_type": "markdown",
   "id": "33ec6bbe-0aaf-4e8a-860d-56664ff8ca29",
   "metadata": {},
   "source": [
    "### 모델 학습 및 평가"
   ]
  },
  {
   "cell_type": "code",
   "execution_count": 5,
   "id": "c1fbbd1a-2a8f-407b-aa60-caf5ac44533f",
   "metadata": {},
   "outputs": [
    {
     "name": "stdout",
     "output_type": "stream",
     "text": [
      "Epoch 1/5\n",
      "WARNING:tensorflow:From C:\\Users\\MinGi\\anaconda3\\envs\\tf_env\\lib\\site-packages\\keras\\src\\utils\\tf_utils.py:492: The name tf.ragged.RaggedTensorValue is deprecated. Please use tf.compat.v1.ragged.RaggedTensorValue instead.\n",
      "\n",
      "WARNING:tensorflow:From C:\\Users\\MinGi\\anaconda3\\envs\\tf_env\\lib\\site-packages\\keras\\src\\engine\\base_layer_utils.py:384: The name tf.executing_eagerly_outside_functions is deprecated. Please use tf.compat.v1.executing_eagerly_outside_functions instead.\n",
      "\n",
      "1875/1875 [==============================] - 14s 6ms/step - loss: 0.2384 - accuracy: 0.9302\n",
      "Epoch 2/5\n",
      "1875/1875 [==============================] - 12s 6ms/step - loss: 0.1026 - accuracy: 0.9689\n",
      "Epoch 3/5\n",
      "1875/1875 [==============================] - 8s 4ms/step - loss: 0.0729 - accuracy: 0.9779\n",
      "Epoch 4/5\n",
      "1875/1875 [==============================] - 6s 3ms/step - loss: 0.0541 - accuracy: 0.9831\n",
      "Epoch 5/5\n",
      "1875/1875 [==============================] - 6s 3ms/step - loss: 0.0426 - accuracy: 0.9865\n",
      "313/313 [==============================] - 1s 3ms/step - loss: 0.0821 - accuracy: 0.9762\n",
      "테스트 손실: 0.08206261694431305\n",
      "테스트 정확도: 0.9761999845504761\n"
     ]
    }
   ],
   "source": [
    "model.fit(x_train, y_train, epochs=5, batch_size=32)\n",
    "test_loss, test_acc = model.evaluate(x_test, y_test)\n",
    "print(f\"테스트 손실: {test_loss}\")\n",
    "print(f\"테스트 정확도: {test_acc}\")"
   ]
  },
  {
   "cell_type": "code",
   "execution_count": 6,
   "id": "9abf7d99-bbc1-47be-92f2-95ac483e3fd8",
   "metadata": {},
   "outputs": [
    {
     "name": "stdout",
     "output_type": "stream",
     "text": [
      "313/313 [==============================] - 1s 2ms/step\n",
      "[[ 975    0    0    1    0    1    1    0    1    1]\n",
      " [   1 1126    0    2    0    1    2    0    3    0]\n",
      " [   4    2 1007    1    1    0    1   11    5    0]\n",
      " [   0    2    6  991    0    1    0    5    2    3]\n",
      " [   1    0    4    1  956    1    4    2    1   12]\n",
      " [   2    1    0   25    0  855    3    1    2    3]\n",
      " [   6    4    0    1    1    6  939    0    1    0]\n",
      " [   1    4    9    4    1    0    0 1002    1    6]\n",
      " [   4    1    4   18    2    2    2    3  935    3]\n",
      " [   2    3    0   13   10    0    0    3    2  976]] \n",
      "\n",
      "              precision    recall  f1-score   support\n",
      "\n",
      "           0       0.98      0.99      0.99       980\n",
      "           1       0.99      0.99      0.99      1135\n",
      "           2       0.98      0.98      0.98      1032\n",
      "           3       0.94      0.98      0.96      1010\n",
      "           4       0.98      0.97      0.98       982\n",
      "           5       0.99      0.96      0.97       892\n",
      "           6       0.99      0.98      0.98       958\n",
      "           7       0.98      0.97      0.98      1028\n",
      "           8       0.98      0.96      0.97       974\n",
      "           9       0.97      0.97      0.97      1009\n",
      "\n",
      "    accuracy                           0.98     10000\n",
      "   macro avg       0.98      0.98      0.98     10000\n",
      "weighted avg       0.98      0.98      0.98     10000\n",
      "\n"
     ]
    }
   ],
   "source": [
    "pred = model.predict(x_test)\n",
    "pred_labels = np.argmax(pred, axis=1)\n",
    "\n",
    "y_labels = np.argmax(y_test, axis=1) # 원-핫 인코딩 -> 정수형 클래스 라벨\n",
    "print(confusion_matrix(y_labels, pred_labels), \"\\n\") # Confusion Matrix\n",
    "print(classification_report(y_labels, pred_labels)) # 전체 지표"
   ]
  }
 ],
 "metadata": {
  "kernelspec": {
   "display_name": "Python (tf_env)",
   "language": "python",
   "name": "tf_env"
  },
  "language_info": {
   "codemirror_mode": {
    "name": "ipython",
    "version": 3
   },
   "file_extension": ".py",
   "mimetype": "text/x-python",
   "name": "python",
   "nbconvert_exporter": "python",
   "pygments_lexer": "ipython3",
   "version": "3.10.16"
  }
 },
 "nbformat": 4,
 "nbformat_minor": 5
}
