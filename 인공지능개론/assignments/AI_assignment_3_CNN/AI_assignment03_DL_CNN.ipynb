{
 "cells": [
  {
   "cell_type": "markdown",
   "id": "0ab99c3f-5599-4acc-820f-bfad64aca225",
   "metadata": {},
   "source": [
    "### 라이브러리 임포트"
   ]
  },
  {
   "cell_type": "code",
   "execution_count": 2,
   "id": "9ca34fb6-221b-470c-8999-7c5a3138ef3f",
   "metadata": {},
   "outputs": [
    {
     "name": "stdout",
     "output_type": "stream",
     "text": [
      "WARNING:tensorflow:From C:\\Users\\MinGi\\anaconda3\\envs\\tf_env\\lib\\site-packages\\keras\\src\\losses.py:2976: The name tf.losses.sparse_softmax_cross_entropy is deprecated. Please use tf.compat.v1.losses.sparse_softmax_cross_entropy instead.\n",
      "\n"
     ]
    }
   ],
   "source": [
    "import tensorflow as tf\n",
    "from tensorflow.keras import datasets, layers, models"
   ]
  },
  {
   "cell_type": "markdown",
   "id": "d90b790f-4edb-4a78-a716-b20004ea3f7b",
   "metadata": {},
   "source": [
    "### 전처리"
   ]
  },
  {
   "cell_type": "code",
   "execution_count": 3,
   "id": "6d83f166-6160-4b44-ab22-8588d46ed35f",
   "metadata": {},
   "outputs": [],
   "source": [
    "(train_images, train_labels), (test_images, test_labels) = datasets.mnist.load_data()\n",
    "train_images = train_images.reshape((60000, 28, 28, 1))\n",
    "test_images = test_images.reshape((10000, 28, 28, 1))\n",
    "\n",
    "# 필셀 값을 0과 1 사이로 정규화\n",
    "train_images, test_images = train_images / 255.0, test_images / 255.0"
   ]
  },
  {
   "cell_type": "markdown",
   "id": "9a849d79-345c-480c-aae1-7b1c1748f107",
   "metadata": {},
   "source": [
    "### 컨벌루션 신경망 생성\n",
    "- keras에서는 6줄만 가지고 컨벌루션 신경망 생성 가능\n",
    "- `Copy2D`와 `MaxPooling2D` 레이어 쌓기\n",
    "- 입력: 이미지 높이, 이미지 너비, 채널 개수) 형식의 텐서\n",
    "- 배치 개수는 항상 맨 앞에 있다고 가정\n",
    "- MNIST 숫자 이미지 모양인 (28, 28, 1) 형상의 입력 처리하는 신경망 정의\n",
    "- Conv2D와 MaxPooling 레이어의 출력: (높이, 너비, 채널 개수) 형식의 3차원 텐서\n",
    "- 신경 모델의 마지막에는 항상 완전 연결 신경망인 Dense 레이어 추가 (3차원 -> 1차원)"
   ]
  },
  {
   "cell_type": "code",
   "execution_count": 4,
   "id": "d2ee520e-a947-4ae1-af4e-fa1c9abf7725",
   "metadata": {},
   "outputs": [
    {
     "name": "stdout",
     "output_type": "stream",
     "text": [
      "WARNING:tensorflow:From C:\\Users\\MinGi\\anaconda3\\envs\\tf_env\\lib\\site-packages\\keras\\src\\backend.py:873: The name tf.get_default_graph is deprecated. Please use tf.compat.v1.get_default_graph instead.\n",
      "\n",
      "WARNING:tensorflow:From C:\\Users\\MinGi\\anaconda3\\envs\\tf_env\\lib\\site-packages\\keras\\src\\layers\\pooling\\max_pooling2d.py:161: The name tf.nn.max_pool is deprecated. Please use tf.nn.max_pool2d instead.\n",
      "\n"
     ]
    }
   ],
   "source": [
    "model = models.Sequential() # 층을 순차적으로 쌓는 구조\n",
    "model.add(layers.Conv2D(32, (3, 3), activation='relu', input_shape=(28, 28, 1))) # 첫번째 합성곱 층 추가. 필터 수 32개, 크기 3x3, 이미지 크기 28x28, 채널 수 1(흑백 이미지), 활성화함수 relu\n",
    "model.add(layers.MaxPooling2D((2, 2))) # 2x2 크기의 최대 플링 층 추가하여 크기를 절반으로 축소\n",
    "model.add(layers.Conv2D(64, (3, 3), activation='relu')) # 두 번째 합성곱 층. 필터 수 64개, 크기 3x3,  활성화함수 relu\n",
    "model.add(layers.MaxPooling2D((2, 2))) # 두 번째 최대 풀링 층을 추가하여 크기로 절반으로 축소\n",
    "model.add(layers.Conv2D(64, (3, 3), activation='relu')) # 세 번째 합성곱 층. 필터 수 64개, 크기 3x3, ReLU 활성화함수\n",
    "\n",
    "model.add(layers.Flatten()) # 다차원 배열을 1차원으로 변환\n",
    "model.add(layers.Dense(64, activation='relu')) # Dense 층 추가. 뉴런 수 64개, ReLU 활성화함수\n",
    "model.add(layers.Dense(10, activation='softmax')) # 출력층: 10개의 클래스를 softmax로 분류"
   ]
  },
  {
   "cell_type": "markdown",
   "id": "f1076f77-5604-437d-946a-e07df3cc68e8",
   "metadata": {},
   "source": [
    "### 모델 출력\n",
    "- Conv2D: 이미지 크기 2만큼 감소\n",
    "- MaxPooling2D: 이미지의 크기 절반으로 감소"
   ]
  },
  {
   "cell_type": "code",
   "execution_count": 5,
   "id": "2857071f-1bc5-44f4-a031-4af98f7db287",
   "metadata": {},
   "outputs": [
    {
     "name": "stdout",
     "output_type": "stream",
     "text": [
      "Model: \"sequential\"\n",
      "_________________________________________________________________\n",
      " Layer (type)                Output Shape              Param #   \n",
      "=================================================================\n",
      " conv2d (Conv2D)             (None, 26, 26, 32)        320       \n",
      "                                                                 \n",
      " max_pooling2d (MaxPooling2  (None, 13, 13, 32)        0         \n",
      " D)                                                              \n",
      "                                                                 \n",
      " conv2d_1 (Conv2D)           (None, 11, 11, 64)        18496     \n",
      "                                                                 \n",
      " max_pooling2d_1 (MaxPoolin  (None, 5, 5, 64)          0         \n",
      " g2D)                                                            \n",
      "                                                                 \n",
      " conv2d_2 (Conv2D)           (None, 3, 3, 64)          36928     \n",
      "                                                                 \n",
      " flatten (Flatten)           (None, 576)               0         \n",
      "                                                                 \n",
      " dense (Dense)               (None, 64)                36928     \n",
      "                                                                 \n",
      " dense_1 (Dense)             (None, 10)                650       \n",
      "                                                                 \n",
      "=================================================================\n",
      "Total params: 93322 (364.54 KB)\n",
      "Trainable params: 93322 (364.54 KB)\n",
      "Non-trainable params: 0 (0.00 Byte)\n",
      "_________________________________________________________________\n"
     ]
    }
   ],
   "source": [
    "model.summary()"
   ]
  },
  {
   "cell_type": "markdown",
   "id": "d4f7c4b8-da36-4ee3-b5c6-961cf879408f",
   "metadata": {},
   "source": [
    "### 컴파일과 훈련\n",
    "- 손실함수: sparse_categorical_crossentropy: 훈련 샘플의 출력을 원-핫 인코딩으로 만들지 않아도 됨"
   ]
  },
  {
   "cell_type": "code",
   "execution_count": 6,
   "id": "2d121923-37b9-46e7-be38-521313a4fb6b",
   "metadata": {},
   "outputs": [
    {
     "name": "stdout",
     "output_type": "stream",
     "text": [
      "WARNING:tensorflow:From C:\\Users\\MinGi\\anaconda3\\envs\\tf_env\\lib\\site-packages\\keras\\src\\optimizers\\__init__.py:309: The name tf.train.Optimizer is deprecated. Please use tf.compat.v1.train.Optimizer instead.\n",
      "\n",
      "Epoch 1/5\n",
      "WARNING:tensorflow:From C:\\Users\\MinGi\\anaconda3\\envs\\tf_env\\lib\\site-packages\\keras\\src\\utils\\tf_utils.py:492: The name tf.ragged.RaggedTensorValue is deprecated. Please use tf.compat.v1.ragged.RaggedTensorValue instead.\n",
      "\n",
      "WARNING:tensorflow:From C:\\Users\\MinGi\\anaconda3\\envs\\tf_env\\lib\\site-packages\\keras\\src\\engine\\base_layer_utils.py:384: The name tf.executing_eagerly_outside_functions is deprecated. Please use tf.compat.v1.executing_eagerly_outside_functions instead.\n",
      "\n",
      "1875/1875 [==============================] - 22s 11ms/step - loss: 0.1457 - accuracy: 0.9543\n",
      "Epoch 2/5\n",
      "1875/1875 [==============================] - 21s 11ms/step - loss: 0.0473 - accuracy: 0.9853\n",
      "Epoch 3/5\n",
      "1875/1875 [==============================] - 21s 11ms/step - loss: 0.0343 - accuracy: 0.9889\n",
      "Epoch 4/5\n",
      "1875/1875 [==============================] - 21s 11ms/step - loss: 0.0255 - accuracy: 0.9921\n",
      "Epoch 5/5\n",
      "1875/1875 [==============================] - 28s 15ms/step - loss: 0.0204 - accuracy: 0.9934\n"
     ]
    },
    {
     "data": {
      "text/plain": [
       "<keras.src.callbacks.History at 0x17a3d5ed900>"
      ]
     },
     "execution_count": 6,
     "metadata": {},
     "output_type": "execute_result"
    }
   ],
   "source": [
    "model.compile(optimizer='adam',\n",
    "              loss='sparse_categorical_crossentropy',\n",
    "              metrics=['accuracy'])\n",
    "model.fit(train_images, train_labels, epochs=5)"
   ]
  },
  {
   "cell_type": "code",
   "execution_count": 16,
   "id": "187f7a5f-5619-4b97-be82-f0f4c4f11ec8",
   "metadata": {},
   "outputs": [
    {
     "name": "stdout",
     "output_type": "stream",
     "text": [
      "313/313 [==============================] - 1s 4ms/step\n",
      "313/313 [==============================] - 3s 8ms/step - loss: 0.0302 - accuracy: 0.9911\n",
      "테스트 손실: 0.03015991300344467\n",
      "테스트 정확도: 0.991100013256073\n",
      "\n",
      "[[ 978    0    0    0    0    0    0    1    1    0]\n",
      " [   0 1122    0    8    0    1    0    3    0    1]\n",
      " [   0    1 1029    0    0    0    0    2    0    0]\n",
      " [   0    0    0 1007    0    3    0    0    0    0]\n",
      " [   0    0    1    0  970    0    0    0    1   10]\n",
      " [   0    0    0   12    0  878    1    0    1    0]\n",
      " [   5    3    2    0    1    1  943    0    3    0]\n",
      " [   0    2    6    1    0    0    0 1018    0    1]\n",
      " [   0    0    3    1    0    0    0    1  968    1]\n",
      " [   1    0    1    3    1    3    0    0    2  998]] \n",
      "\n",
      "              precision    recall  f1-score   support\n",
      "\n",
      "           0       0.99      1.00      1.00       980\n",
      "           1       0.99      0.99      0.99      1135\n",
      "           2       0.99      1.00      0.99      1032\n",
      "           3       0.98      1.00      0.99      1010\n",
      "           4       1.00      0.99      0.99       982\n",
      "           5       0.99      0.98      0.99       892\n",
      "           6       1.00      0.98      0.99       958\n",
      "           7       0.99      0.99      0.99      1028\n",
      "           8       0.99      0.99      0.99       974\n",
      "           9       0.99      0.99      0.99      1009\n",
      "\n",
      "    accuracy                           0.99     10000\n",
      "   macro avg       0.99      0.99      0.99     10000\n",
      "weighted avg       0.99      0.99      0.99     10000\n",
      "\n"
     ]
    }
   ],
   "source": [
    "from sklearn.metrics import mean_squared_error, f1_score, recall_score, confusion_matrix, classification_report\n",
    "import numpy as np\n",
    "\n",
    "# 예측\n",
    "pred = model.predict(test_images)\n",
    "pred_labels = np.argmax(pred, axis=1)\n",
    "\n",
    "# 손실과 정확도 출력\n",
    "test_loss, test_acc = model.evaluate(test_images, test_labels)\n",
    "print(f\"테스트 손실: {test_loss}\")\n",
    "print(f\"테스트 정확도: {test_acc}\\n\")\n",
    "\n",
    "print(confusion_matrix(test_labels, predicted_labels), \"\\n\") # Confusion Matrix\n",
    "print(classification_report(test_labels, pred_labels)) # 전체 지표"
   ]
  }
 ],
 "metadata": {
  "kernelspec": {
   "display_name": "Python (tf_env)",
   "language": "python",
   "name": "tf_env"
  },
  "language_info": {
   "codemirror_mode": {
    "name": "ipython",
    "version": 3
   },
   "file_extension": ".py",
   "mimetype": "text/x-python",
   "name": "python",
   "nbconvert_exporter": "python",
   "pygments_lexer": "ipython3",
   "version": "3.10.16"
  }
 },
 "nbformat": 4,
 "nbformat_minor": 5
}
