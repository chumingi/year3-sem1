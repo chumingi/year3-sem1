{
 "cells": [
  {
   "cell_type": "code",
   "execution_count": 1,
   "id": "c78b1e23-b2b1-4c55-84d3-53f709d3e4d2",
   "metadata": {},
   "outputs": [],
   "source": [
    "from sklearn.datasets import load_breast_cancer\n",
    "import pandas as pd\n",
    "import numpy as np\n",
    "import matplotlib.pyplot as plt\n",
    "from sklearn.model_selection import train_test_split\n",
    "from sklearn.preprocessing import StandardScaler, LabelEncoder\n",
    "from sklearn.metrics import accuracy_score, confusion_matrix\n",
    "import seaborn as sns\n",
    "from keras.models import Sequential\n",
    "from keras.layers import Dense\n",
    "from keras.optimizers import SGD,Adam"
   ]
  },
  {
   "cell_type": "code",
   "execution_count": 2,
   "id": "d362ca38-35e9-48ec-93fd-2153b59102b3",
   "metadata": {},
   "outputs": [
    {
     "name": "stdout",
     "output_type": "stream",
     "text": [
      "   id Sex  Length  Diameter  Height  Whole_weight  Shucked_weight  \\\n",
      "0   0   M   0.455     0.365   0.095        0.5140          0.2245   \n",
      "1   1   M   0.350     0.265   0.090        0.2255          0.0995   \n",
      "2   2   F   0.530     0.420   0.135        0.6770          0.2565   \n",
      "3   3   M   0.440     0.365   0.125        0.5160          0.2155   \n",
      "4   4   I   0.330     0.255   0.080        0.2050          0.0895   \n",
      "\n",
      "   Viscera_weight  Shell_weight  Rings  \n",
      "0          0.1010         0.150     15  \n",
      "1          0.0485         0.070      7  \n",
      "2          0.1415         0.210      9  \n",
      "3          0.1140         0.155     10  \n",
      "4          0.0395         0.055      7  \n"
     ]
    }
   ],
   "source": [
    "file_path = r\"C:\\Users\\MinGi\\Desktop\\year3-sem1\\인공지능개론\\dataset\\abalone.csv\"\n",
    "df = pd.read_csv(file_path)\n",
    "\n",
    "print(df.head())"
   ]
  },
  {
   "cell_type": "code",
   "execution_count": 3,
   "id": "33bf8bec-154f-41a7-b5f5-52f30d51e650",
   "metadata": {},
   "outputs": [
    {
     "data": {
      "text/plain": [
       "id                0\n",
       "Sex               0\n",
       "Length            0\n",
       "Diameter          0\n",
       "Height            0\n",
       "Whole_weight      0\n",
       "Shucked_weight    0\n",
       "Viscera_weight    0\n",
       "Shell_weight      0\n",
       "Rings             0\n",
       "dtype: int64"
      ]
     },
     "execution_count": 3,
     "metadata": {},
     "output_type": "execute_result"
    }
   ],
   "source": [
    "df.isnull().sum()"
   ]
  },
  {
   "cell_type": "code",
   "execution_count": 4,
   "id": "f623138e-63c0-437d-a015-8464c2872fec",
   "metadata": {},
   "outputs": [
    {
     "name": "stdout",
     "output_type": "stream",
     "text": [
      "id\n",
      "0       1\n",
      "2775    1\n",
      "2777    1\n",
      "2778    1\n",
      "2779    1\n",
      "       ..\n",
      "1397    1\n",
      "1398    1\n",
      "1399    1\n",
      "1400    1\n",
      "4176    1\n",
      "Name: count, Length: 4177, dtype: int64\n",
      "Sex\n",
      "M    1528\n",
      "I    1342\n",
      "F    1307\n",
      "Name: count, dtype: int64\n",
      "Length\n",
      "0.625    94\n",
      "0.550    94\n",
      "0.575    93\n",
      "0.580    92\n",
      "0.600    87\n",
      "         ..\n",
      "0.075     1\n",
      "0.815     1\n",
      "0.110     1\n",
      "0.150     1\n",
      "0.800     1\n",
      "Name: count, Length: 134, dtype: int64\n",
      "Diameter\n",
      "0.450    139\n",
      "0.475    120\n",
      "0.400    111\n",
      "0.500    110\n",
      "0.470    100\n",
      "        ... \n",
      "0.610      1\n",
      "0.650      1\n",
      "0.620      1\n",
      "0.095      1\n",
      "0.615      1\n",
      "Name: count, Length: 111, dtype: int64\n",
      "Height\n",
      "0.150    267\n",
      "0.140    220\n",
      "0.155    217\n",
      "0.175    211\n",
      "0.160    205\n",
      "0.125    202\n",
      "0.165    193\n",
      "0.135    189\n",
      "0.145    182\n",
      "0.130    169\n",
      "0.120    169\n",
      "0.170    160\n",
      "0.100    145\n",
      "0.110    135\n",
      "0.115    133\n",
      "0.180    131\n",
      "0.090    124\n",
      "0.105    114\n",
      "0.185    103\n",
      "0.190    103\n",
      "0.095     91\n",
      "0.195     78\n",
      "0.080     76\n",
      "0.085     74\n",
      "0.200     68\n",
      "0.075     61\n",
      "0.070     47\n",
      "0.205     45\n",
      "0.065     39\n",
      "0.215     31\n",
      "0.060     26\n",
      "0.055     25\n",
      "0.210     23\n",
      "0.050     18\n",
      "0.220     17\n",
      "0.040     13\n",
      "0.225     13\n",
      "0.045     11\n",
      "0.230     10\n",
      "0.030      6\n",
      "0.035      6\n",
      "0.235      6\n",
      "0.025      5\n",
      "0.240      4\n",
      "0.250      3\n",
      "0.020      2\n",
      "0.015      2\n",
      "0.000      2\n",
      "0.010      1\n",
      "0.515      1\n",
      "1.130      1\n",
      "Name: count, dtype: int64\n",
      "Whole_weight\n",
      "0.2225    8\n",
      "1.1345    7\n",
      "0.9700    7\n",
      "0.4775    7\n",
      "0.1960    7\n",
      "         ..\n",
      "0.0475    1\n",
      "1.8930    1\n",
      "1.8725    1\n",
      "2.1055    1\n",
      "1.9485    1\n",
      "Name: count, Length: 2429, dtype: int64\n",
      "Shucked_weight\n",
      "0.1750    11\n",
      "0.2505    10\n",
      "0.0970     9\n",
      "0.0960     9\n",
      "0.4190     9\n",
      "          ..\n",
      "0.4175     1\n",
      "0.1935     1\n",
      "0.1790     1\n",
      "0.1275     1\n",
      "0.9455     1\n",
      "Name: count, Length: 1515, dtype: int64\n",
      "Viscera_weight\n",
      "0.1715    15\n",
      "0.1960    14\n",
      "0.0575    13\n",
      "0.0610    13\n",
      "0.0370    13\n",
      "          ..\n",
      "0.4270     1\n",
      "0.4075     1\n",
      "0.4920     1\n",
      "0.4650     1\n",
      "0.5260     1\n",
      "Name: count, Length: 880, dtype: int64\n",
      "Shell_weight\n",
      "0.2750    43\n",
      "0.2500    42\n",
      "0.2650    40\n",
      "0.3150    40\n",
      "0.1850    40\n",
      "          ..\n",
      "0.0060     1\n",
      "0.6460     1\n",
      "0.5010     1\n",
      "0.3295     1\n",
      "0.0920     1\n",
      "Name: count, Length: 926, dtype: int64\n",
      "Rings\n",
      "9     689\n",
      "10    634\n",
      "8     568\n",
      "11    487\n",
      "7     391\n",
      "12    267\n",
      "6     259\n",
      "13    203\n",
      "14    126\n",
      "5     115\n",
      "15    103\n",
      "16     67\n",
      "17     58\n",
      "4      57\n",
      "18     42\n",
      "19     32\n",
      "20     26\n",
      "3      15\n",
      "21     14\n",
      "23      9\n",
      "22      6\n",
      "27      2\n",
      "24      2\n",
      "1       1\n",
      "26      1\n",
      "29      1\n",
      "2       1\n",
      "25      1\n",
      "Name: count, dtype: int64\n"
     ]
    }
   ],
   "source": [
    "for c in df.columns:\n",
    "    print(df[c].value_counts())"
   ]
  },
  {
   "cell_type": "code",
   "execution_count": 5,
   "id": "40c09bc0-10df-41e0-9941-d521f8997094",
   "metadata": {},
   "outputs": [],
   "source": [
    "df['Sex'] = LabelEncoder().fit_transform(df['Sex'])\n",
    "\n",
    "x = df.drop('Rings', axis=1)\n",
    "y = df['Rings']\n",
    "\n",
    "scaler = StandardScaler()\n",
    "x = scaler.fit_transform(x)"
   ]
  },
  {
   "cell_type": "code",
   "execution_count": 6,
   "id": "37e95a19-8711-4ea7-9d41-9ecb462c2b19",
   "metadata": {},
   "outputs": [
    {
     "name": "stdout",
     "output_type": "stream",
     "text": [
      "(3132, 9) (3132, 28)\n",
      "(1045, 9) (1045, 28)\n"
     ]
    }
   ],
   "source": [
    "Y = pd.get_dummies(y).values\n",
    "\n",
    "x_train, x_test, y_train, y_test = train_test_split(x, Y,test_size=0.25,random_state=0)\n",
    "\n",
    "print(x_train.shape, y_train.shape)\n",
    "print(x_test.shape, y_test.shape)"
   ]
  },
  {
   "cell_type": "code",
   "execution_count": 7,
   "id": "d4e80c02-1172-4e12-9030-1c0d7b6d0d0a",
   "metadata": {},
   "outputs": [
    {
     "name": "stderr",
     "output_type": "stream",
     "text": [
      "C:\\Users\\MinGi\\AppData\\Local\\Programs\\Python\\Python312\\Lib\\site-packages\\keras\\src\\layers\\core\\dense.py:87: UserWarning: Do not pass an `input_shape`/`input_dim` argument to a layer. When using Sequential models, prefer using an `Input(shape)` object as the first layer in the model instead.\n",
      "  super().__init__(activity_regularizer=activity_regularizer, **kwargs)\n"
     ]
    },
    {
     "data": {
      "text/html": [
       "<pre style=\"white-space:pre;overflow-x:auto;line-height:normal;font-family:Menlo,'DejaVu Sans Mono',consolas,'Courier New',monospace\"><span style=\"font-weight: bold\">Model: \"sequential\"</span>\n",
       "</pre>\n"
      ],
      "text/plain": [
       "\u001b[1mModel: \"sequential\"\u001b[0m\n"
      ]
     },
     "metadata": {},
     "output_type": "display_data"
    },
    {
     "data": {
      "text/html": [
       "<pre style=\"white-space:pre;overflow-x:auto;line-height:normal;font-family:Menlo,'DejaVu Sans Mono',consolas,'Courier New',monospace\">┏━━━━━━━━━━━━━━┳━━━━━━━━━━━┳━━━━━━┓\n",
       "┃<span style=\"font-weight: bold\">              </span>┃<span style=\"font-weight: bold\"> Output    </span>┃<span style=\"font-weight: bold\"> Par… </span>┃\n",
       "┃<span style=\"font-weight: bold\"> Layer (type) </span>┃<span style=\"font-weight: bold\"> Shape     </span>┃<span style=\"font-weight: bold\">    # </span>┃\n",
       "┡━━━━━━━━━━━━━━╇━━━━━━━━━━━╇━━━━━━┩\n",
       "│ dense        │ (<span style=\"color: #00d7ff; text-decoration-color: #00d7ff\">None</span>,    │  <span style=\"color: #00af00; text-decoration-color: #00af00\">200</span> │\n",
       "│ (<span style=\"color: #0087ff; text-decoration-color: #0087ff\">Dense</span>)      │ <span style=\"color: #00af00; text-decoration-color: #00af00\">20</span>)       │      │\n",
       "├──────────────┼───────────┼──────┤\n",
       "│ dense_1      │ (<span style=\"color: #00d7ff; text-decoration-color: #00d7ff\">None</span>,    │  <span style=\"color: #00af00; text-decoration-color: #00af00\">315</span> │\n",
       "│ (<span style=\"color: #0087ff; text-decoration-color: #0087ff\">Dense</span>)      │ <span style=\"color: #00af00; text-decoration-color: #00af00\">15</span>)       │      │\n",
       "├──────────────┼───────────┼──────┤\n",
       "│ dense_2      │ (<span style=\"color: #00d7ff; text-decoration-color: #00d7ff\">None</span>,    │  <span style=\"color: #00af00; text-decoration-color: #00af00\">160</span> │\n",
       "│ (<span style=\"color: #0087ff; text-decoration-color: #0087ff\">Dense</span>)      │ <span style=\"color: #00af00; text-decoration-color: #00af00\">10</span>)       │      │\n",
       "├──────────────┼───────────┼──────┤\n",
       "│ dense_3      │ (<span style=\"color: #00d7ff; text-decoration-color: #00d7ff\">None</span>, <span style=\"color: #00af00; text-decoration-color: #00af00\">1</span>) │   <span style=\"color: #00af00; text-decoration-color: #00af00\">11</span> │\n",
       "│ (<span style=\"color: #0087ff; text-decoration-color: #0087ff\">Dense</span>)      │           │      │\n",
       "└──────────────┴───────────┴──────┘\n",
       "</pre>\n"
      ],
      "text/plain": [
       "┏━━━━━━━━━━━━━━┳━━━━━━━━━━━┳━━━━━━┓\n",
       "┃\u001b[1m              \u001b[0m┃\u001b[1m \u001b[0m\u001b[1mOutput   \u001b[0m\u001b[1m \u001b[0m┃\u001b[1m \u001b[0m\u001b[1mPar…\u001b[0m\u001b[1m \u001b[0m┃\n",
       "┃\u001b[1m \u001b[0m\u001b[1mLayer (type)\u001b[0m\u001b[1m \u001b[0m┃\u001b[1m \u001b[0m\u001b[1mShape    \u001b[0m\u001b[1m \u001b[0m┃\u001b[1m \u001b[0m\u001b[1m   #\u001b[0m\u001b[1m \u001b[0m┃\n",
       "┡━━━━━━━━━━━━━━╇━━━━━━━━━━━╇━━━━━━┩\n",
       "│ dense        │ (\u001b[38;5;45mNone\u001b[0m,    │  \u001b[38;5;34m200\u001b[0m │\n",
       "│ (\u001b[38;5;33mDense\u001b[0m)      │ \u001b[38;5;34m20\u001b[0m)       │      │\n",
       "├──────────────┼───────────┼──────┤\n",
       "│ dense_1      │ (\u001b[38;5;45mNone\u001b[0m,    │  \u001b[38;5;34m315\u001b[0m │\n",
       "│ (\u001b[38;5;33mDense\u001b[0m)      │ \u001b[38;5;34m15\u001b[0m)       │      │\n",
       "├──────────────┼───────────┼──────┤\n",
       "│ dense_2      │ (\u001b[38;5;45mNone\u001b[0m,    │  \u001b[38;5;34m160\u001b[0m │\n",
       "│ (\u001b[38;5;33mDense\u001b[0m)      │ \u001b[38;5;34m10\u001b[0m)       │      │\n",
       "├──────────────┼───────────┼──────┤\n",
       "│ dense_3      │ (\u001b[38;5;45mNone\u001b[0m, \u001b[38;5;34m1\u001b[0m) │   \u001b[38;5;34m11\u001b[0m │\n",
       "│ (\u001b[38;5;33mDense\u001b[0m)      │           │      │\n",
       "└──────────────┴───────────┴──────┘\n"
      ]
     },
     "metadata": {},
     "output_type": "display_data"
    },
    {
     "data": {
      "text/html": [
       "<pre style=\"white-space:pre;overflow-x:auto;line-height:normal;font-family:Menlo,'DejaVu Sans Mono',consolas,'Courier New',monospace\"><span style=\"font-weight: bold\"> Total params: </span><span style=\"color: #00af00; text-decoration-color: #00af00\">686</span> (2.68 KB)\n",
       "</pre>\n"
      ],
      "text/plain": [
       "\u001b[1m Total params: \u001b[0m\u001b[38;5;34m686\u001b[0m (2.68 KB)\n"
      ]
     },
     "metadata": {},
     "output_type": "display_data"
    },
    {
     "data": {
      "text/html": [
       "<pre style=\"white-space:pre;overflow-x:auto;line-height:normal;font-family:Menlo,'DejaVu Sans Mono',consolas,'Courier New',monospace\"><span style=\"font-weight: bold\"> Trainable params: </span><span style=\"color: #00af00; text-decoration-color: #00af00\">686</span> (2.68 KB)\n",
       "</pre>\n"
      ],
      "text/plain": [
       "\u001b[1m Trainable params: \u001b[0m\u001b[38;5;34m686\u001b[0m (2.68 KB)\n"
      ]
     },
     "metadata": {},
     "output_type": "display_data"
    },
    {
     "data": {
      "text/html": [
       "<pre style=\"white-space:pre;overflow-x:auto;line-height:normal;font-family:Menlo,'DejaVu Sans Mono',consolas,'Courier New',monospace\"><span style=\"font-weight: bold\"> Non-trainable params: </span><span style=\"color: #00af00; text-decoration-color: #00af00\">0</span> (0.00 B)\n",
       "</pre>\n"
      ],
      "text/plain": [
       "\u001b[1m Non-trainable params: \u001b[0m\u001b[38;5;34m0\u001b[0m (0.00 B)\n"
      ]
     },
     "metadata": {},
     "output_type": "display_data"
    }
   ],
   "source": [
    "model = Sequential()\n",
    "\n",
    "model.add(Dense(20,input_shape=(9,),activation='relu'))\n",
    "model.add(Dense(15,activation='relu'))\n",
    "model.add(Dense(10,activation='relu'))\n",
    "model.add(Dense(1))\n",
    "\n",
    "model.compile(optimizer='rmsprop', loss='mse', metrics=['mse'])\n",
    "\n",
    "model.summary()"
   ]
  },
  {
   "cell_type": "code",
   "execution_count": 9,
   "id": "a4ee2689-ead6-4a35-aa08-5338222195ae",
   "metadata": {},
   "outputs": [
    {
     "name": "stdout",
     "output_type": "stream",
     "text": [
      "Epoch 1/9\n",
      "\u001b[1m89/89\u001b[0m \u001b[32m━━━━━━━━━━━━━━━━━━━━\u001b[0m\u001b[37m\u001b[0m \u001b[1m0s\u001b[0m 2ms/step - loss: 0.0344 - mse: 0.0344 - val_loss: 0.0345 - val_mse: 0.0345\n",
      "Epoch 2/9\n",
      "\u001b[1m89/89\u001b[0m \u001b[32m━━━━━━━━━━━━━━━━━━━━\u001b[0m\u001b[37m\u001b[0m \u001b[1m0s\u001b[0m 1ms/step - loss: 0.0344 - mse: 0.0344 - val_loss: 0.0344 - val_mse: 0.0344\n",
      "Epoch 3/9\n",
      "\u001b[1m89/89\u001b[0m \u001b[32m━━━━━━━━━━━━━━━━━━━━\u001b[0m\u001b[37m\u001b[0m \u001b[1m0s\u001b[0m 1ms/step - loss: 0.0344 - mse: 0.0344 - val_loss: 0.0344 - val_mse: 0.0344\n",
      "Epoch 4/9\n",
      "\u001b[1m89/89\u001b[0m \u001b[32m━━━━━━━━━━━━━━━━━━━━\u001b[0m\u001b[37m\u001b[0m \u001b[1m0s\u001b[0m 1ms/step - loss: 0.0344 - mse: 0.0344 - val_loss: 0.0344 - val_mse: 0.0344\n",
      "Epoch 5/9\n",
      "\u001b[1m89/89\u001b[0m \u001b[32m━━━━━━━━━━━━━━━━━━━━\u001b[0m\u001b[37m\u001b[0m \u001b[1m0s\u001b[0m 2ms/step - loss: 0.0344 - mse: 0.0344 - val_loss: 0.0344 - val_mse: 0.0344\n",
      "Epoch 6/9\n",
      "\u001b[1m89/89\u001b[0m \u001b[32m━━━━━━━━━━━━━━━━━━━━\u001b[0m\u001b[37m\u001b[0m \u001b[1m0s\u001b[0m 2ms/step - loss: 0.0344 - mse: 0.0344 - val_loss: 0.0344 - val_mse: 0.0344\n",
      "Epoch 7/9\n",
      "\u001b[1m89/89\u001b[0m \u001b[32m━━━━━━━━━━━━━━━━━━━━\u001b[0m\u001b[37m\u001b[0m \u001b[1m0s\u001b[0m 2ms/step - loss: 0.0344 - mse: 0.0344 - val_loss: 0.0344 - val_mse: 0.0344\n",
      "Epoch 8/9\n",
      "\u001b[1m89/89\u001b[0m \u001b[32m━━━━━━━━━━━━━━━━━━━━\u001b[0m\u001b[37m\u001b[0m \u001b[1m0s\u001b[0m 2ms/step - loss: 0.0344 - mse: 0.0344 - val_loss: 0.0344 - val_mse: 0.0344\n",
      "Epoch 9/9\n",
      "\u001b[1m89/89\u001b[0m \u001b[32m━━━━━━━━━━━━━━━━━━━━\u001b[0m\u001b[37m\u001b[0m \u001b[1m0s\u001b[0m 2ms/step - loss: 0.0344 - mse: 0.0344 - val_loss: 0.0344 - val_mse: 0.0344\n",
      "\u001b[1m33/33\u001b[0m \u001b[32m━━━━━━━━━━━━━━━━━━━━\u001b[0m\u001b[37m\u001b[0m \u001b[1m0s\u001b[0m 875us/step\n"
     ]
    }
   ],
   "source": [
    "N_EPOCHS = 9\n",
    "model_history = model.fit(x=x_train, y=y_train, epochs=N_EPOCHS, batch_size=32,validation_split=0.1) # train의 10%를 validation으로 설정. 검증에 사용\n",
    "y_pred = model.predict(x_test)\n",
    "\n",
    "y_test_class = np.argmax(y_test,axis=1)\n",
    "y_pred_class = np.argmax(y_pred,axis=1)"
   ]
  },
  {
   "cell_type": "code",
   "execution_count": 10,
   "id": "64c8bcbf-7abd-42ef-a17e-57e8e3838bd9",
   "metadata": {},
   "outputs": [
    {
     "data": {
      "image/png": "[encoded data removed]",
      "text/plain": [
       "<Figure size 1000x700 with 1 Axes>"
      ]
     },
     "metadata": {},
     "output_type": "display_data"
    }
   ],
   "source": [
    "plt.figure(figsize=(10,7))\n",
    "plt.plot(range(N_EPOCHS), model_history.history['loss'], label='train loss')\n",
    "plt.plot(range(N_EPOCHS), model_history.history['val_loss'], label='test loss')\n",
    "plt.xlabel('Epoch')\n",
    "plt.ylabel('Loss')\n",
    "plt.legend()\n",
    "plt.show()"
   ]
  },
  {
   "cell_type": "code",
   "execution_count": 11,
   "id": "e8ce4864-56f0-4879-a6f3-2da60fac40f1",
   "metadata": {},
   "outputs": [
    {
     "name": "stdout",
     "output_type": "stream",
     "text": [
      "\u001b[1m33/33\u001b[0m \u001b[32m━━━━━━━━━━━━━━━━━━━━\u001b[0m\u001b[37m\u001b[0m \u001b[1m0s\u001b[0m 1ms/step - loss: 0.0344 - mse: 0.0344 \n"
     ]
    },
    {
     "data": {
      "text/plain": [
       "[0.03444042429327965, 0.03444042429327965]"
      ]
     },
     "execution_count": 11,
     "metadata": {},
     "output_type": "execute_result"
    }
   ],
   "source": [
    "model.evaluate(x_test, y_test)"
   ]
  }
 ],
 "metadata": {
  "kernelspec": {
   "display_name": "Python 3 (ipykernel)",
   "language": "python",
   "name": "python3"
  },
  "language_info": {
   "codemirror_mode": {
    "name": "ipython",
    "version": 3
   },
   "file_extension": ".py",
   "mimetype": "text/x-python",
   "name": "python",
   "nbconvert_exporter": "python",
   "pygments_lexer": "ipython3",
   "version": "3.12.3"
  }
 },
 "nbformat": 4,
 "nbformat_minor": 5
}
