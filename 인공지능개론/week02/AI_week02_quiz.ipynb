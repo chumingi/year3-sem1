{
 "cells": [
  {
   "cell_type": "code",
   "execution_count": 35,
   "id": "52f8ca28-f130-45c9-acf3-082a8625c801",
   "metadata": {},
   "outputs": [],
   "source": [
    "import pandas as pd\n",
    "import numpy as np\n",
    "from sklearn.model_selection import train_test_split\n",
    "from sklearn.preprocessing import StandardScaler\n",
    "from sklearn.metrics import accuracy_score\n",
    "from sklearn.metrics import confusion_matrix"
   ]
  },
  {
   "cell_type": "code",
   "execution_count": 34,
   "id": "ee153b62-953d-4a02-b2ba-600d922910ca",
   "metadata": {},
   "outputs": [
    {
     "name": "stdout",
     "output_type": "stream",
     "text": [
      "   battery_power  blue  clock_speed  dual_sim  fc  four_g  int_memory  m_dep  \\\n",
      "0            842     0          2.2         0   1       0           7    0.6   \n",
      "1           1021     1          0.5         1   0       1          53    0.7   \n",
      "2            563     1          0.5         1   2       1          41    0.9   \n",
      "3            615     1          2.5         0   0       0          10    0.8   \n",
      "4           1821     1          1.2         0  13       1          44    0.6   \n",
      "\n",
      "   mobile_wt  n_cores  ...  px_height  px_width   ram  sc_h  sc_w  talk_time  \\\n",
      "0        188        2  ...         20       756  2549     9     7         19   \n",
      "1        136        3  ...        905      1988  2631    17     3          7   \n",
      "2        145        5  ...       1263      1716  2603    11     2          9   \n",
      "3        131        6  ...       1216      1786  2769    16     8         11   \n",
      "4        141        2  ...       1208      1212  1411     8     2         15   \n",
      "\n",
      "   three_g  touch_screen  wifi  price_range  \n",
      "0        0             0     1            1  \n",
      "1        1             1     0            2  \n",
      "2        1             1     0            2  \n",
      "3        1             0     0            2  \n",
      "4        1             1     0            1  \n",
      "\n",
      "[5 rows x 21 columns]\n",
      "Index(['battery_power', 'blue', 'clock_speed', 'dual_sim', 'fc', 'four_g',\n",
      "       'int_memory', 'm_dep', 'mobile_wt', 'n_cores', 'pc', 'px_height',\n",
      "       'px_width', 'ram', 'sc_h', 'sc_w', 'talk_time', 'three_g',\n",
      "       'touch_screen', 'wifi', 'price_range'],\n",
      "      dtype='object')\n"
     ]
    }
   ],
   "source": [
    "file_path = r\"C:\\Users\\MinGi\\Desktop\\year3-sem1\\인공지능개론\\dataset\\mobile.csv\"\n",
    "df = pd.read_csv(file_path)\n",
    "\n",
    "print(df.head())\n",
    "print(df.columns)\n",
    "\n",
    "x = df.drop('price_range', axis=1)\n",
    "y = df['price_range']\n",
    "x_train, x_test, y_train, y_test = train_test_split(x, y, test_size=0.3, random_state=42, stratify=y)\n",
    "\n",
    "scaler = StandardScaler()\n",
    "x_train_scaled = scaler.fit_transform(x_train)\n",
    "x_test_scaled = scaler.transform(x_test)"
   ]
  },
  {
   "cell_type": "code",
   "execution_count": 41,
   "id": "74330821-e405-40fa-ba93-1deeb2a10faa",
   "metadata": {},
   "outputs": [
    {
     "name": "stdout",
     "output_type": "stream",
     "text": [
      "Decision Tree Accuracy: 0.8166666666666667\n",
      "[[133  17   0   0]\n",
      " [ 15 113  22   0]\n",
      " [  0  13 111  26]\n",
      " [  0   0  17 133]]\n"
     ]
    }
   ],
   "source": [
    "# 1. Decision Tree (DT)\n",
    "from sklearn.tree import DecisionTreeClassifier\n",
    "\n",
    "dt_model = DecisionTreeClassifier(random_state=42)\n",
    "dt_model.fit(x_train, y_train)\n",
    "\n",
    "y_pred_dt = dt_model.predict(x_test)\n",
    "print(\"Decision Tree Accuracy:\", accuracy_score(y_test, y_pred_dt))\n",
    "print(confusion_matrix(y_test, y_pred_dt))"
   ]
  },
  {
   "cell_type": "code",
   "execution_count": 24,
   "id": "856a756c-77c4-4ad1-8c83-3b47a4f05546",
   "metadata": {},
   "outputs": [
    {
     "name": "stdout",
     "output_type": "stream",
     "text": [
      "570     3\n",
      "414     3\n",
      "1837    1\n",
      "1510    1\n",
      "1130    3\n",
      "       ..\n",
      "544     1\n",
      "1303    3\n",
      "1193    0\n",
      "1818    0\n",
      "67      3\n",
      "Name: price_range, Length: 600, dtype: int64\n",
      "570     3\n",
      "414     3\n",
      "1837    1\n",
      "1510    2\n",
      "1130    3\n",
      "       ..\n",
      "544     1\n",
      "1303    2\n",
      "1193    0\n",
      "1818    0\n",
      "67      3\n",
      "Name: price_range, Length: 600, dtype: int64\n"
     ]
    }
   ],
   "source": [
    "y_pred_dt_series = pd.Series(y_pred_dt, index=y_test.index, name=\"price_range\")\n",
    "print(y_test)\n",
    "print(y_pred_dt_series)"
   ]
  },
  {
   "cell_type": "code",
   "execution_count": 9,
   "id": "2e531a16-51e2-417b-aad0-61c5de2e327d",
   "metadata": {},
   "outputs": [
    {
     "name": "stdout",
     "output_type": "stream",
     "text": [
      "Random Forest Accuracy: 0.8716666666666667\n",
      "              precision    recall  f1-score   support\n",
      "\n",
      "           0       0.96      0.95      0.96       150\n",
      "           1       0.83      0.88      0.85       150\n",
      "           2       0.82      0.73      0.77       150\n",
      "           3       0.87      0.92      0.90       150\n",
      "\n",
      "    accuracy                           0.87       600\n",
      "   macro avg       0.87      0.87      0.87       600\n",
      "weighted avg       0.87      0.87      0.87       600\n",
      "\n"
     ]
    }
   ],
   "source": [
    "from sklearn.ensemble import RandomForestClassifier\n",
    "\n",
    "rf_model = RandomForestClassifier(n_estimators=100, random_state=42)\n",
    "rf_model.fit(x_train, y_train)\n",
    "\n",
    "y_pred_rf = rf_model.predict(x_test)\n",
    "print(\"Random Forest Accuracy:\", accuracy_score(y_test, y_pred_rf))\n",
    "print(classification_report(y_test, y_pred_rf))"
   ]
  },
  {
   "cell_type": "code",
   "execution_count": 8,
   "id": "c2c03548-2682-4465-98c2-593f6e5f608f",
   "metadata": {},
   "outputs": [
    {
     "name": "stdout",
     "output_type": "stream",
     "text": [
      "SVM Accuracy: 0.9583333333333334\n",
      "              precision    recall  f1-score   support\n",
      "\n",
      "           0       0.99      0.95      0.97       150\n",
      "           1       0.93      0.95      0.94       150\n",
      "           2       0.95      0.94      0.95       150\n",
      "           3       0.97      0.99      0.98       150\n",
      "\n",
      "    accuracy                           0.96       600\n",
      "   macro avg       0.96      0.96      0.96       600\n",
      "weighted avg       0.96      0.96      0.96       600\n",
      "\n"
     ]
    }
   ],
   "source": [
    "# 3. Support Vector Machine (SVM)\n",
    "from sklearn.svm import SVC\n",
    "\n",
    "svm_model = SVC(kernel='linear', random_state=42)\n",
    "svm_model.fit(x_train_scaled, y_train)\n",
    "\n",
    "y_pred_svm = svm_model.predict(x_test_scaled)\n",
    "print(\"SVM Accuracy:\", accuracy_score(y_test, y_pred_svm))\n",
    "print(classification_report(y_test, y_pred_svm))"
   ]
  },
  {
   "cell_type": "code",
   "execution_count": 10,
   "id": "34a06893-2071-421a-b211-b39115b66af2",
   "metadata": {},
   "outputs": [
    {
     "name": "stdout",
     "output_type": "stream",
     "text": [
      "Logistic Regression Accuracy: 0.96\n",
      "              precision    recall  f1-score   support\n",
      "\n",
      "           0       0.99      0.97      0.98       150\n",
      "           1       0.94      0.96      0.95       150\n",
      "           2       0.95      0.93      0.94       150\n",
      "           3       0.95      0.99      0.97       150\n",
      "\n",
      "    accuracy                           0.96       600\n",
      "   macro avg       0.96      0.96      0.96       600\n",
      "weighted avg       0.96      0.96      0.96       600\n",
      "\n"
     ]
    }
   ],
   "source": [
    "# 4. Logistic Regression (LR)\n",
    "from sklearn.linear_model import LogisticRegression\n",
    "\n",
    "lr_model = LogisticRegression(max_iter=200, random_state=42)\n",
    "lr_model.fit(x_train_scaled, y_train)\n",
    "\n",
    "y_pred_lr = lr_model.predict(x_test_scaled)\n",
    "print(\"Logistic Regression Accuracy:\", accuracy_score(y_test, y_pred_lr))\n",
    "print(classification_report(y_test, y_pred_lr))"
   ]
  },
  {
   "cell_type": "code",
   "execution_count": null,
   "id": "fc17338b-00e5-4f75-ae7c-bd7c1446c519",
   "metadata": {},
   "outputs": [],
   "source": [
    "from sklearn.neighbors import KNeighborClassifier\n",
    "\n",
    "# KNN 모델 정의 및 훈련 (k=5)\n",
    "knn = KNeightborClassifier(n_neighbors=5)\n",
    "knn.fit(x_train, y_train)\n",
    "\n",
    "# 예측\n",
    "y_pred_knn = knn.predict(x_test)\n",
    "print(\"KNN Acurracy:\", accuracy_score(y_pred_knn, y_test)\n",
    "print(classification_report(y_test, y_pred_knn))"
   ]
  },
  {
   "cell_type": "code",
   "execution_count": 25,
   "id": "9b37284d-eed4-4efc-87e1-40875f6f86a0",
   "metadata": {},
   "outputs": [
    {
     "name": "stdout",
     "output_type": "stream",
     "text": [
      "a\n"
     ]
    }
   ],
   "source": [
    "print(\"a\")"
   ]
  },
  {
   "cell_type": "code",
   "execution_count": null,
   "id": "e3c8ae6f-8eb8-441f-ac31-657b1890e8d3",
   "metadata": {},
   "outputs": [],
   "source": []
  },
  {
   "cell_type": "code",
   "execution_count": 40,
   "id": "b42a5e0b-a038-4ba3-9347-9c7b7cc71d0e",
   "metadata": {},
   "outputs": [
    {
     "name": "stdout",
     "output_type": "stream",
     "text": [
      "Random Forest Accuracy: 0.88\n",
      "[[141   9   0   0]\n",
      " [  6 126  18   0]\n",
      " [  0  19 121  10]\n",
      " [  0   0  10 140]]\n"
     ]
    }
   ],
   "source": [
    "#  2. Random Forest (RF)\n",
    "from sklearn.ensemble import RandomForestClassifier\n",
    "\n",
    "rf_model = RandomForestClassifier(random_state=0)\n",
    "rf_model.fit(x_train, y_train)\n",
    "\n",
    "y_pred_rf = rf_model.predict(x_test)\n",
    "print(\"Random Forest Accuracy:\", accuracy_score(y_test, y_pred_rf))\n",
    "print(confusion_matrix(y_test, y_pred_rf))"
   ]
  },
  {
   "cell_type": "code",
   "execution_count": 43,
   "id": "c9fc2d20-6ae5-4f90-9582-d37c46533f7d",
   "metadata": {},
   "outputs": [
    {
     "name": "stdout",
     "output_type": "stream",
     "text": [
      "Support Vector Machine Accuracy: 0.8683333333333333\n",
      "[[140  10   0   0]\n",
      " [  5 125  20   0]\n",
      " [  0  12 124  14]\n",
      " [  0   0  18 132]]\n"
     ]
    }
   ],
   "source": [
    "# 3. Support Vector Machine (SVM)\n",
    "from sklearn.svm import SVC\n",
    "\n",
    "svm_model = SVC(random_state=0)\n",
    "svm_model.fit(x_train_scaled, y_train)\n",
    "\n",
    "y_pred_svm = svm_model.predict(x_test_scaled)\n",
    "print(\"Support Vector Machine Accuracy:\", accuracy_score(y_test, y_pred_svm))\n",
    "print(confusion_matrix(y_test, y_pred_svm))"
   ]
  },
  {
   "cell_type": "code",
   "execution_count": 46,
   "id": "c822a57b-4907-41ee-9969-936c5ac6b438",
   "metadata": {},
   "outputs": [
    {
     "name": "stdout",
     "output_type": "stream",
     "text": [
      "Logistic Regression Accuracy: 0.96\n",
      "[[145   5   0   0]\n",
      " [  1 144   5   0]\n",
      " [  0   4 139   7]\n",
      " [  0   0   2 148]]\n"
     ]
    }
   ],
   "source": [
    "# 4. Logistic Regression (LR)\n",
    "from sklearn.linear_model import LogisticRegression\n",
    "\n",
    "lr_model = LogisticRegression(random_state=0)\n",
    "lr_model.fit(x_train_scaled, y_train)\n",
    "\n",
    "y_pred_lr = lr_model.predict(x_test_scaled)\n",
    "print(\"Logistic Regression Accuracy:\", accuracy_score(y_test, y_pred_lr))\n",
    "print(confusion_matrix(y_test, y_pred_lr))"
   ]
  }
 ],
 "metadata": {
  "kernelspec": {
   "display_name": "Python 3 (ipykernel)",
   "language": "python",
   "name": "python3"
  },
  "language_info": {
   "codemirror_mode": {
    "name": "ipython",
    "version": 3
   },
   "file_extension": ".py",
   "mimetype": "text/x-python",
   "name": "python",
   "nbconvert_exporter": "python",
   "pygments_lexer": "ipython3",
   "version": "3.12.3"
  }
 },
 "nbformat": 4,
 "nbformat_minor": 5
}
