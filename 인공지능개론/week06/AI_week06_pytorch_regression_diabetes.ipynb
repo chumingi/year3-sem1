{
 "cells": [
  {
   "cell_type": "markdown",
   "id": "f6a49f8d-22ea-46e3-b343-f4b323addc4b",
   "metadata": {},
   "source": [
    "### 라이브러리 임포트"
   ]
  },
  {
   "cell_type": "code",
   "execution_count": 22,
   "id": "f12168b6-0d35-4486-854c-5af89992f7c9",
   "metadata": {},
   "outputs": [],
   "source": [
    "import pandas as pd\n",
    "import numpy as np\n",
    "import matplotlib.pyplot as plt\n",
    "import seaborn as sns\n",
    "\n",
    "from sklearn.model_selection import train_test_split\n",
    "from sklearn.preprocessing import StandardScaler\n",
    "from sklearn.metrics import mean_squared_error\n",
    "\n",
    "import torch\n",
    "from torch import nn\n",
    "from torch.utils.data import TensorDataset, DataLoader\n",
    "import torch.optim as optim"
   ]
  },
  {
   "cell_type": "markdown",
   "id": "881f7ccb-d8f9-4aa0-beda-afa2a53599d7",
   "metadata": {},
   "source": [
    "### CSV 파일 불러오기"
   ]
  },
  {
   "cell_type": "code",
   "execution_count": 4,
   "id": "bd0c393c-122f-420f-a757-ac880aa5c78f",
   "metadata": {},
   "outputs": [
    {
     "name": "stdout",
     "output_type": "stream",
     "text": [
      "   Pregnancies  Glucose  BloodPressure  SkinThickness  Insulin   BMI  \\\n",
      "0            6      148             72             35        0  33.6   \n",
      "1            1       85             66             29        0  26.6   \n",
      "2            8      183             64              0        0  23.3   \n",
      "3            1       89             66             23       94  28.1   \n",
      "4            0      137             40             35      168  43.1   \n",
      "\n",
      "   DiabetesPedigreeFunction  Age  Outcome  \n",
      "0                     0.627   50        1  \n",
      "1                     0.351   31        0  \n",
      "2                     0.672   32        1  \n",
      "3                     0.167   21        0  \n",
      "4                     2.288   33        1  \n"
     ]
    }
   ],
   "source": [
    "file_path = r\"C:\\Users\\MinGi\\Desktop\\year3-sem1\\인공지능개론\\dataset\\diabetes.csv\"\n",
    "df = pd.read_csv(file_path)\n",
    "\n",
    "print(df.head())"
   ]
  },
  {
   "cell_type": "markdown",
   "id": "7286ab2e-ec6f-409d-95bf-f0552be140cd",
   "metadata": {},
   "source": [
    "### 레이블 개수 확인"
   ]
  },
  {
   "cell_type": "code",
   "execution_count": 5,
   "id": "ed4bf638-861a-4fb5-8045-3db97f0f256e",
   "metadata": {},
   "outputs": [
    {
     "data": {
      "text/plain": [
       "BMI\n",
       "32.0    13\n",
       "31.6    12\n",
       "31.2    12\n",
       "0.0     11\n",
       "32.4    10\n",
       "        ..\n",
       "36.7     1\n",
       "41.8     1\n",
       "42.6     1\n",
       "42.8     1\n",
       "46.3     1\n",
       "Name: count, Length: 248, dtype: int64"
      ]
     },
     "execution_count": 5,
     "metadata": {},
     "output_type": "execute_result"
    }
   ],
   "source": [
    "df['BMI'].value_counts()"
   ]
  },
  {
   "cell_type": "markdown",
   "id": "15299b1b-3b36-4763-81e4-a5ca52451825",
   "metadata": {},
   "source": [
    "### 결측치 확인"
   ]
  },
  {
   "cell_type": "code",
   "execution_count": 6,
   "id": "ae3edf1c-b48f-4d9b-9184-70bd49186a78",
   "metadata": {},
   "outputs": [
    {
     "data": {
      "text/plain": [
       "Pregnancies                 0\n",
       "Glucose                     0\n",
       "BloodPressure               0\n",
       "SkinThickness               0\n",
       "Insulin                     0\n",
       "BMI                         0\n",
       "DiabetesPedigreeFunction    0\n",
       "Age                         0\n",
       "Outcome                     0\n",
       "dtype: int64"
      ]
     },
     "execution_count": 6,
     "metadata": {},
     "output_type": "execute_result"
    }
   ],
   "source": [
    "df.isnull().sum()"
   ]
  },
  {
   "cell_type": "markdown",
   "id": "67c43d32-ca0a-400d-92ca-be0c7f90a424",
   "metadata": {},
   "source": [
    "### 입력/정답 나누기 및 전처리"
   ]
  },
  {
   "cell_type": "code",
   "execution_count": 8,
   "id": "a51aa5aa-8e9d-4afd-ab07-1dd4533722ca",
   "metadata": {},
   "outputs": [],
   "source": [
    "x = df.drop('Outcome', axis=1)\n",
    "x = df.drop('BMI', axis=1)\n",
    "y = df['BMI']\n",
    "\n",
    "scaler = StandardScaler()\n",
    "x = scaler.fit_transform(x)"
   ]
  },
  {
   "cell_type": "code",
   "execution_count": 19,
   "id": "816b3322-56a2-47dc-8b3c-36a55d024c37",
   "metadata": {},
   "outputs": [],
   "source": [
    "Y = pd.get_dummies(y).values"
   ]
  },
  {
   "cell_type": "markdown",
   "id": "cfc9bd8f-ca01-4eb7-b24f-ad46fb15ab1f",
   "metadata": {},
   "source": [
    "### 훈련/테스트 나누기"
   ]
  },
  {
   "cell_type": "code",
   "execution_count": 10,
   "id": "1a20782d-6ed5-4fa5-b5ff-c043cefdaca7",
   "metadata": {},
   "outputs": [
    {
     "name": "stdout",
     "output_type": "stream",
     "text": [
      "(576, 8) (576,)\n",
      "(192, 8) (192,)\n"
     ]
    }
   ],
   "source": [
    "x_train, x_test, y_train, y_test = train_test_split(x, y,test_size=0.25,random_state=0)\n",
    "\n",
    "print(x_train.shape, y_train.shape)\n",
    "print(x_test.shape, y_test.shape)"
   ]
  },
  {
   "cell_type": "markdown",
   "id": "eb6818d4-dce5-456e-8598-7d4550a442e1",
   "metadata": {},
   "source": [
    "### TensorDataset으로 매핑"
   ]
  },
  {
   "cell_type": "code",
   "execution_count": 13,
   "id": "4be44abf-4559-4015-af96-275404a7d051",
   "metadata": {},
   "outputs": [],
   "source": [
    "X_train_tensor = torch.tensor(x_train, dtype=torch.float32)\n",
    "y_train_tensor = torch.tensor(y_train.values, dtype=torch.float32).view(-1, 1)\n",
    "X_test_tensor = torch.tensor(x_test, dtype=torch.float32)\n",
    "y_test_tensor = torch.tensor(y_test.values, dtype=torch.float32).view(-1, 1)\n",
    "\n",
    "train_dataset = TensorDataset(X_train_tensor, y_train_tensor)\n",
    "test_dataset = TensorDataset(X_test_tensor, y_test_tensor)\n",
    "\n",
    "train_loader = DataLoader(train_dataset, batch_size=32, shuffle=True)\n",
    "test_loader = DataLoader(test_dataset, batch_size=32)"
   ]
  },
  {
   "cell_type": "markdown",
   "id": "f5ef088a-743a-4d3d-ae0e-9a6d307cc8dc",
   "metadata": {},
   "source": [
    "### 회귀 모델 정의"
   ]
  },
  {
   "cell_type": "code",
   "execution_count": 14,
   "id": "bc4ce21a-7b48-4933-820c-6d3a46631ece",
   "metadata": {},
   "outputs": [],
   "source": [
    "class RegressionModel(nn.Module):\n",
    "    def __init__(self):\n",
    "        super(RegressionModel, self).__init__()\n",
    "        self.model = nn.Sequential(\n",
    "            nn.Linear(8, 64),\n",
    "            nn.ReLU(),\n",
    "            nn.Linear(64, 32),\n",
    "            nn.ReLU(),\n",
    "            nn.Linear(32, 1)\n",
    "        )\n",
    "\n",
    "    def forward(self, x):\n",
    "        return self.model(x)\n",
    "\n",
    "device = torch.device(\"cuda\" if torch.cuda.is_available() else \"cpu\")\n",
    "model = RegressionModel().to(device)\n",
    "criterion = nn.MSELoss()\n",
    "optimizer = optim.Adam(model.parameters(), lr=0.001)\n"
   ]
  },
  {
   "cell_type": "markdown",
   "id": "8b2e376b-fb5a-46ca-964c-d0b3bac47061",
   "metadata": {},
   "source": [
    "### 반복 학습"
   ]
  },
  {
   "cell_type": "code",
   "execution_count": 28,
   "id": "505605fa-9438-4748-9647-2df8d96ee432",
   "metadata": {},
   "outputs": [
    {
     "name": "stdout",
     "output_type": "stream",
     "text": [
      "Epoch 1, Loss: 40.9207\n",
      "Epoch 2, Loss: 40.7877\n",
      "Epoch 3, Loss: 40.5049\n",
      "Epoch 4, Loss: 40.2533\n",
      "Epoch 5, Loss: 39.9228\n",
      "Epoch 6, Loss: 39.7730\n",
      "Epoch 7, Loss: 39.4960\n",
      "Epoch 8, Loss: 39.2114\n",
      "Epoch 9, Loss: 39.1051\n",
      "Epoch 10, Loss: 38.8172\n",
      "Epoch 11, Loss: 38.7508\n",
      "Epoch 12, Loss: 38.5465\n",
      "Epoch 13, Loss: 38.2715\n",
      "Epoch 14, Loss: 38.1016\n",
      "Epoch 15, Loss: 37.9451\n",
      "Epoch 16, Loss: 37.7266\n",
      "Epoch 17, Loss: 37.5425\n",
      "Epoch 18, Loss: 37.3533\n",
      "Epoch 19, Loss: 37.2486\n",
      "Epoch 20, Loss: 37.0883\n"
     ]
    }
   ],
   "source": [
    "model.train()\n",
    "for epoch in range(20):\n",
    "    total_loss = 0\n",
    "    for X_batch, y_batch in train_loader:\n",
    "        X_batch, y_batch = X_batch.to(device), y_batch.to(device)\n",
    "        optimizer.zero_grad()\n",
    "        output = model(X_batch)\n",
    "        loss = criterion(output, y_batch)\n",
    "        loss.backward()\n",
    "        optimizer.step()\n",
    "        total_loss += loss.item()\n",
    "    print(f\"Epoch {epoch+1}, Loss: {total_loss / len(train_loader):.4f}\")\n"
   ]
  },
  {
   "cell_type": "markdown",
   "id": "12a3ab9d-f586-48a3-889d-476d40227e6d",
   "metadata": {},
   "source": [
    "### 모델 평가"
   ]
  },
  {
   "cell_type": "code",
   "execution_count": 29,
   "id": "8410dbcc-4860-41a5-a33c-87ba16fba42e",
   "metadata": {},
   "outputs": [
    {
     "name": "stdout",
     "output_type": "stream",
     "text": [
      "Test MSE: 43.7410\n"
     ]
    }
   ],
   "source": [
    "model.eval()\n",
    "preds, actuals = [], []\n",
    "with torch.no_grad():\n",
    "    for X_batch, y_batch in test_loader:\n",
    "        X_batch = X_batch.to(device)\n",
    "        outputs = model(X_batch).cpu().numpy()\n",
    "        preds.extend(outputs)\n",
    "        actuals.extend(y_batch.numpy())\n",
    "\n",
    "mse = mean_squared_error(actuals, preds)\n",
    "print(f\"Test MSE: {mse:.4f}\")"
   ]
  },
  {
   "cell_type": "code",
   "execution_count": 24,
   "id": "0f7c6b20-4bb2-4232-9057-5bac3ac9c7b0",
   "metadata": {},
   "outputs": [
    {
     "ename": "NameError",
     "evalue": "name 'N_EPOCHS' is not defined",
     "output_type": "error",
     "traceback": [
      "\u001b[1;31m-----------------------------------------\u001b[0m",
      "\u001b[1;31mNameError\u001b[0mTraceback (most recent call last)",
      "Cell \u001b[1;32mIn[24], line 2\u001b[0m\n\u001b[0;32m      1\u001b[0m plt\u001b[38;5;241m.\u001b[39mfigure(figsize\u001b[38;5;241m=\u001b[39m(\u001b[38;5;241m10\u001b[39m,\u001b[38;5;241m7\u001b[39m))\n\u001b[1;32m----> 2\u001b[0m plt\u001b[38;5;241m.\u001b[39mplot(\u001b[38;5;28mrange\u001b[39m(\u001b[43mN_EPOCHS\u001b[49m), model_history\u001b[38;5;241m.\u001b[39mhistory[\u001b[38;5;124m'\u001b[39m\u001b[38;5;124mloss\u001b[39m\u001b[38;5;124m'\u001b[39m], label\u001b[38;5;241m=\u001b[39m\u001b[38;5;124m'\u001b[39m\u001b[38;5;124mtrain loss\u001b[39m\u001b[38;5;124m'\u001b[39m)\n\u001b[0;32m      3\u001b[0m plt\u001b[38;5;241m.\u001b[39mplot(\u001b[38;5;28mrange\u001b[39m(N_EPOCHS), model_history\u001b[38;5;241m.\u001b[39mhistory[\u001b[38;5;124m'\u001b[39m\u001b[38;5;124mval_loss\u001b[39m\u001b[38;5;124m'\u001b[39m], label\u001b[38;5;241m=\u001b[39m\u001b[38;5;124m'\u001b[39m\u001b[38;5;124mtest loss\u001b[39m\u001b[38;5;124m'\u001b[39m)\n\u001b[0;32m      4\u001b[0m plt\u001b[38;5;241m.\u001b[39mxlabel(\u001b[38;5;124m'\u001b[39m\u001b[38;5;124mEpoch\u001b[39m\u001b[38;5;124m'\u001b[39m)\n",
      "\u001b[1;31mNameError\u001b[0m: name 'N_EPOCHS' is not defined"
     ]
    },
    {
     "data": {
      "text/plain": [
       "<Figure size 1000x700 with 0 Axes>"
      ]
     },
     "metadata": {},
     "output_type": "display_data"
    }
   ],
   "source": [
    "plt.figure(figsize=(10,7))\n",
    "plt.plot(range(N_EPOCHS), model_history.history['loss'], label='train loss')\n",
    "plt.plot(range(N_EPOCHS), model_history.history['val_loss'], label='test loss')\n",
    "plt.xlabel('Epoch')\n",
    "plt.ylabel('Loss')\n",
    "plt.legend()\n",
    "plt.show()"
   ]
  },
  {
   "cell_type": "code",
   "execution_count": 22,
   "id": "164d44c6-08dd-4f82-adc0-a12376343d50",
   "metadata": {},
   "outputs": [
    {
     "name": "stdout",
     "output_type": "stream",
     "text": [
      "\u001b[1m6/6\u001b[0m \u001b[32m━━━━━━━━━━━━━━━━━━━━\u001b[0m\u001b[37m\u001b[0m \u001b[1m0s\u001b[0m 9ms/step - loss: 0.0040 - mse: 0.0040 \n"
     ]
    },
    {
     "data": {
      "text/plain": [
       "[0.00404388178139925, 0.00404388178139925]"
      ]
     },
     "execution_count": 22,
     "metadata": {},
     "output_type": "execute_result"
    }
   ],
   "source": [
    "model.evaluate(x_test, y_test)"
   ]
  },
  {
   "cell_type": "code",
   "execution_count": 27,
   "id": "64116f31-98e4-4e41-a2d9-427340d914f7",
   "metadata": {},
   "outputs": [
    {
     "name": "stdout",
     "output_type": "stream",
     "text": [
      "Baseline MSE: 57.98\n"
     ]
    }
   ],
   "source": [
    "# 기준 모델: 평균값만 예측\n",
    "baseline = np.mean(y_test)\n",
    "mse_baseline = mean_squared_error(y_test, [baseline] * len(y_test))\n",
    "\n",
    "print(f\"Baseline MSE: {mse_baseline:.2f}\")\n"
   ]
  },
  {
   "cell_type": "code",
   "execution_count": null,
   "id": "d1261efe-028d-45bb-a999-e5674fa0da83",
   "metadata": {},
   "outputs": [],
   "source": []
  }
 ],
 "metadata": {
  "kernelspec": {
   "display_name": "Python 3 (ipykernel)",
   "language": "python",
   "name": "python3"
  },
  "language_info": {
   "codemirror_mode": {
    "name": "ipython",
    "version": 3
   },
   "file_extension": ".py",
   "mimetype": "text/x-python",
   "name": "python",
   "nbconvert_exporter": "python",
   "pygments_lexer": "ipython3",
   "version": "3.12.3"
  }
 },
 "nbformat": 4,
 "nbformat_minor": 5
}
