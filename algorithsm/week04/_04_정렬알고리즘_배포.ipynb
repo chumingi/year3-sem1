{
 "cells": [
  {
   "cell_type": "markdown",
   "id": "f44bcd12",
   "metadata": {
    "id": "f44bcd12"
   },
   "source": [
    "# 정렬 알고리즘"
   ]
  },
  {
   "cell_type": "markdown",
   "id": "d9719ece",
   "metadata": {
    "id": "d9719ece"
   },
   "source": [
    "------------------------------"
   ]
  },
  {
   "cell_type": "markdown",
   "id": "1115afc2-413b-4752-9b80-2154cf472e61",
   "metadata": {
    "id": "e6e94c54"
   },
   "source": [
    "## 1.정렬 알고리즘 개요\n",
    "- 원소들을 순서대로 배열하는 것"
   ]
  },
  {
   "cell_type": "markdown",
   "id": "4beb72f6-ac6e-485d-b287-784668d387e6",
   "metadata": {
    "id": "4beb72f6-ac6e-485d-b287-784668d387e6"
   },
   "source": [
    "### [Quiz] 임의의 정수 20개를 오름 차순으로 정렬"
   ]
  },
  {
   "cell_type": "code",
   "execution_count": 8,
   "id": "af2d39b5-f899-4fdc-9a5e-343ea430beb6",
   "metadata": {
    "id": "af2d39b5-f899-4fdc-9a5e-343ea430beb6"
   },
   "outputs": [
    {
     "name": "stdout",
     "output_type": "stream",
     "text": [
      "[1, 4, 7, 18, 19, 24, 25, 28, 28, 55, 56, 59, 61, 71, 77, 89, 94, 95, 96, 100]\n"
     ]
    }
   ],
   "source": [
    "import random\n",
    "\n",
    "max = 20\n",
    "numbers = []\n",
    "for i in range(max):\n",
    "    numbers.append(random.randint(1, 100))\n",
    "print(\"전: \", numbers)\n",
    "for n in range(0, max-1):\n",
    "    for m in range(n, max):\n",
    "        if (numbers[n] > numbers[m]):\n",
    "            numbers[n], numbers[m] = numbers[m], numbers[n]\n",
    "print(\"후: \", numbers)"
   ]
  },
  {
   "cell_type": "markdown",
   "id": "c9ab2bd6-dfcc-4397-a5b2-eed08fb6fcdc",
   "metadata": {
    "id": "c9ab2bd6-dfcc-4397-a5b2-eed08fb6fcdc"
   },
   "source": [
    "### [Quiz] 임의의 문자열 10개 만들어 정렬하기(알파벳)"
   ]
  },
  {
   "cell_type": "code",
   "execution_count": 25,
   "id": "WTB-_4qMEyRn",
   "metadata": {
    "colab": {
     "base_uri": "https://localhost:8080/"
    },
    "id": "WTB-_4qMEyRn",
    "outputId": "0abc2f93-c100-4b8d-d7c2-b37243569681"
   },
   "outputs": [
    {
     "name": "stdout",
     "output_type": "stream",
     "text": [
      "소문자 :        abcdefghijklmnopqrstuvwxyz\n",
      "대문자 :        ABCDEFGHIJKLMNOPQRSTUVWXYZ\n",
      "소문자+대문자 : abcdefghijklmnopqrstuvwxyzABCDEFGHIJKLMNOPQRSTUVWXYZ\n",
      "임의의 문자열 10개 : ['ugcfoa', 'xkcxqb', 'lixeq', 'izqg', 'qep', 'uikjllscw', 'bghmu', 'mavxknktt', 'tpyuix', 'qohn']\n",
      "['bghmu', 'izqg', 'lixeq', 'mavxknktt', 'qep', 'qohn', 'tpyuix', 'ugcfoa', 'uikjllscw', 'xkcxqb']\n"
     ]
    }
   ],
   "source": [
    "# 알파벳으로 구성된 임의의 문자열 생성\n",
    "import string\n",
    "import random\n",
    "\n",
    "print(f'소문자 :        {string.ascii_lowercase}')\n",
    "print(f'대문자 :        {string.ascii_uppercase}')\n",
    "print(f'소문자+대문자 : {string.ascii_letters}')\n",
    "\n",
    "n = 10\n",
    "strings = []\n",
    "for _ in range(n):\n",
    "    _len = random.randint(2, 10)\n",
    "    result = random.choices(string.ascii_lowercase, k=_len) # 임의로 2개 선택\n",
    "    strings.append(''.join(result))\n",
    "print(f'임의의 문자열 {n}개 : {strings}')\n",
    "\n",
    "for i in range(0, len(strings)-1):\n",
    "    for j in range(i+1, len(strings)):\n",
    "        if strings[i] > strings[j]:\n",
    "            strings[i], strings[j] = strings[j], strings[i]\n",
    "print(strings)"
   ]
  },
  {
   "cell_type": "markdown",
   "id": "688ae725-db74-41b9-aa86-7750058bf76a",
   "metadata": {},
   "source": [
    "### 정렬 알고리즘 분류 기준\n",
    "1. **시간 복잡도에 따른 분류**\n",
    "- O(n^2) 복잡도 : Bubble Sort, Selection Sort, Insertion Sort\n",
    "- O(nlogn) 복잡도 : Quick Sort, Merge Sort, Heap Sort 등\n",
    "- O(n) 복잡도 : Counting Sort, Radix Sort 등\n",
    "\n",
    "2. **정렬 방식에 따른 분류**\n",
    "- 비교정렬(Bubble, Quick, Merge) : 데이터 간 비교를 통해 정렬\n",
    "- 분포정렬(Counting, Radix) : 데이터 값의 분포를 이용하여 정렬\n",
    "\n",
    "3. **안정성에 따른 분류**\n",
    "- 안정정렬(Merge, Insertion) : 동일한 값을 가진 원소의 상대적 위치가 바뀌지 않음\n",
    "- 불안정정렬(Quick, Shell) : 동일한 값을 가진 원소의 상대적 위치가 바뀔 수 있음\n",
    "- 성적 순으로 정렬 후 이름순으로 정렬할 때 안정 정렬이 유용하다.\n",
    "\n",
    "4. **메모리 사용량에 따른 분류**\n",
    "- 제자리 정렬(Quick, Shell) : 추가적인 메모리 사용 없이 입력 배열 내에서 정렬\n",
    "- 보조메모리정렬(Merge) : 추가 메모리를 사용하여 정렬\n",
    "\n",
    "5. **정렬 과정에 따른 분류**\n",
    "- 내부정렬 : 정렬할 데이터가 메모리 내에 모두 존재\n",
    "- 외부정렬 : 정렬할 데이터가 너무 커서 외부 저장 장치를 사용"
   ]
  },
  {
   "cell_type": "markdown",
   "id": "b27363f1-95f4-4fca-bc4c-bd6e3f54489d",
   "metadata": {
    "id": "b27363f1-95f4-4fca-bc4c-bd6e3f54489d"
   },
   "source": [
    "------------------------------------"
   ]
  },
  {
   "cell_type": "markdown",
   "id": "6bc78521-40dd-4bae-8140-21412c78ede4",
   "metadata": {
    "id": "6bc78521-40dd-4bae-8140-21412c78ede4"
   },
   "source": [
    "-----"
   ]
  },
  {
   "cell_type": "markdown",
   "id": "32e7fbfb-8a69-40e7-9946-92ab9e9f6d1d",
   "metadata": {
    "id": "017d9435-2e3e-49b1-a506-1fcb088206dd"
   },
   "source": [
    "## 2.기초 정렬 알고리즘\n",
    "-  평균적으로 O(n^2)의 시간이 소요되는 정렬 알고리즘들\n",
    "-  데이터의 양이 많아질수록 성능이 급격히 저하됨\n",
    "    * 버블 정렬(Bubble Sort)\n",
    "    * 선택 정렬(Selection Sort)\n",
    "    * 삽입 정렬(Insertion Sort)"
   ]
  },
  {
   "cell_type": "markdown",
   "id": "f7a96a71-e98a-4427-92b6-8c75085fb441",
   "metadata": {},
   "source": [
    "## 버블 정렬\n",
    "- 배열을 반복적으로 순회하면서 **인접한 두 요소를 비교**하고, 제일 큰 원소를 배열의 맨 뒤(또는 앞)으로 옮기는 방식으로 동작하는 정렬 알고리즘\n",
    "- 구현이 간단하고 이해하기 쉽지만, 정렬할 배열의 길이가 길어질수록 비효율적인 알고리즘\n",
    "- 데이터가 거의 정렬되어 있는 경우, 조기 종료종료를 통해 O(n)으로 개선 가능"
   ]
  },
  {
   "cell_type": "markdown",
   "id": "cb55eb5d-b4df-46ec-b788-425722ebfa58",
   "metadata": {},
   "source": [
    "### 버블 정렬 동작 방식\n",
    "1. 왼쪽부터 시작하여 이웃하는 원소와 비교\n",
    "2. 순서대로 되어 있지 않으면 자리바꿈\n",
    "3. 오른쪽으로 한 칸씩 이동하면서 이웃한 두 수를 비교하여 자리 교체\n",
    "4. 맨 오른쪽 수를 대상에서 제외\n",
    "5. 모든 원소가 순서대로 될 때까지 1~4 반복"
   ]
  },
  {
   "cell_type": "markdown",
   "id": "1467f4ce-2018-4dfb-b93a-9b887fe882e1",
   "metadata": {},
   "source": [
    "### 버블 정렬 알고리즘\n",
    "```python\n",
    "bubbleSort(A[], n):\n",
    "    for last <- n-1 downto 1\n",
    "        for i <- 0 to last-1\n",
    "            if (A[i] > A[i+1])\n",
    "                A[i] <-> A[i+1]\n",
    "```"
   ]
  },
  {
   "cell_type": "markdown",
   "id": "b304ac06-8dbf-44d3-bf5b-1d315f30e5b9",
   "metadata": {
    "id": "b304ac06-8dbf-44d3-bf5b-1d315f30e5b9"
   },
   "source": [
    "### [실습] 버블 정렬(Bubble Sort)        "
   ]
  },
  {
   "cell_type": "code",
   "execution_count": 38,
   "id": "dff013a1-1423-43fb-8d56-02de0a85399c",
   "metadata": {
    "id": "dff013a1-1423-43fb-8d56-02de0a85399c"
   },
   "outputs": [
    {
     "name": "stdout",
     "output_type": "stream",
     "text": [
      "[13, 32, 10, 26, 35]\n",
      "[13, 10, 26, 32, 35]\n",
      "[10, 13, 26, 32, 35]\n",
      "[10, 13, 26, 32, 35]\n",
      "[10, 13, 26, 32, 35]\n",
      "정렬된 배열: [10, 13, 26, 32, 35]\n"
     ]
    }
   ],
   "source": [
    "def bubble_sort(arr):\n",
    "    n = len(arr)\n",
    "    for last in range(n-1, 0, -1):\n",
    "        for i in range(0, last):\n",
    "            if (arr[i] > arr[i+1]):\n",
    "                arr[i], arr[i+1] = arr[i+1], arr[i]\n",
    "        print(arr)\n",
    "    return(arr)\n",
    "\n",
    "arr = [13, 32, 10, 26, 35]\n",
    "print(arr)\n",
    "print(\"정렬된 배열:\", bubble_sort(arr))"
   ]
  },
  {
   "cell_type": "code",
   "execution_count": 37,
   "id": "4e23dee1-0d0c-4704-89af-cf0f31b0e468",
   "metadata": {},
   "outputs": [
    {
     "name": "stdout",
     "output_type": "stream",
     "text": [
      "[13, 32, 10, 26, 35]\n",
      "[13, 10, 26, 32, 35]\n",
      "[10, 13, 26, 32, 35]\n",
      "정렬된 배열: [10, 13, 26, 32, 35]\n"
     ]
    }
   ],
   "source": [
    "def bubble_sort_optimized(arr):\n",
    "    n = len(arr)\n",
    "    while n > 1:\n",
    "        last_swap = 0 # 마지막으로 스왑된 위치 기억\n",
    "        for i in range(1, n):\n",
    "            if (arr[i-1] > arr[i]):\n",
    "                arr[i - 1], arr[i] = arr[i], arr[i - 1]\n",
    "                last_swap = i # 스왑된 위치 업데이트\n",
    "        n = last_swap # 다음 루프는 이 위치까지만 보면 됨\n",
    "        print(arr)\n",
    "    return arr\n",
    "\n",
    "arr = [13, 32, 10, 26, 35]\n",
    "print(arr)\n",
    "print(\"정렬된 배열:\", bubble_sort_optimized(arr))"
   ]
  },
  {
   "cell_type": "markdown",
   "id": "a0df570b-b658-405d-a418-270d7b74102f",
   "metadata": {},
   "source": [
    "## 선택 정렬\n",
    "- 배열을 반복하여 가장 큰(또는 가장 작은) 원소를 선택하여 해당 원소를 배열의 맨 뒤(또는 앞)으로 옮기는 방식으로 동작하는 정렬 알고리즘\n",
    "- 데이터가 거의 정렬되어 있더라도 시간 복잡도가 변하지 않음\n",
    "- 교환 횟수가 최소화되지만 비교 회수는 많음 O(n^2)\n",
    "- 구현은 간단하지만, 다른 정렬 알고리즘에 비해 비효율적\n",
    "- 정렬할 배열의 크기가 커질수록 성능이 저하"
   ]
  },
  {
   "cell_type": "markdown",
   "id": "0e3df1fb-3054-4503-9719-b481f5219d25",
   "metadata": {},
   "source": [
    "### 선택 정렬 동작 방식\n",
    "1. 최대 원소를 찾음\n",
    "2. 최대 원소와 맨 오른쪽 원소 교환\n",
    "3. 맨 오른쪽 원소를 제외\n",
    "4. 하나의 원소만 남을 때까지 1~3을 반복"
   ]
  },
  {
   "cell_type": "markdown",
   "id": "305ef07c-12d1-463f-90cf-db8af8cbab5b",
   "metadata": {},
   "source": [
    "### 선택정렬 알고리즘\n",
    "```python\n",
    "SelectionSort(A[], n):\n",
    "    for last <- n-1 down to 1\n",
    "        A[0..last] 중 가장 큰 수 A[k]를 찾는다.\n",
    "        A[k] <-> A[last]\n",
    "```"
   ]
  },
  {
   "cell_type": "markdown",
   "id": "ca382cb0-50a9-41a8-869a-5b74258284a3",
   "metadata": {
    "id": "ca382cb0-50a9-41a8-869a-5b74258284a3"
   },
   "source": [
    "### [실습] 선택 정렬(Selection Sort)"
   ]
  },
  {
   "cell_type": "code",
   "execution_count": 19,
   "id": "VAZ_2X0CVMlP",
   "metadata": {
    "id": "VAZ_2X0CVMlP"
   },
   "outputs": [
    {
     "name": "stdout",
     "output_type": "stream",
     "text": [
      "[29, 10, 14, 13, 37]\n",
      "[13, 10, 14, 29, 37]\n",
      "[13, 10, 14, 29, 37]\n",
      "[10, 13, 14, 29, 37]\n",
      "정렬된 배열: [10, 13, 14, 29, 37]\n"
     ]
    }
   ],
   "source": [
    "# 최대값 찾기 방식\n",
    "def selection_sort(arr):\n",
    "    last = len(arr) - 1\n",
    "    for i in range(last, 0, -1):\n",
    "        big = 0\n",
    "        for j in range(0, i):\n",
    "            if arr[big] < arr[j]:\n",
    "                big = j\n",
    "        if arr[big] > arr[i]:\n",
    "            arr[big], arr[i] = arr[i], arr[big]\n",
    "        print(arr)\n",
    "    return arr\n",
    "\n",
    "\n",
    "\n",
    "# 예시 사용\n",
    "arr = [29, 10, 14, 37, 13]\n",
    "print(\"정렬된 배열:\", selection_sort(arr))"
   ]
  },
  {
   "cell_type": "code",
   "execution_count": 47,
   "id": "a037aca7-ef41-4ae0-8d7f-4edd51c90c42",
   "metadata": {},
   "outputs": [
    {
     "name": "stdout",
     "output_type": "stream",
     "text": [
      "[29, 10, 14, 37, 13]\n",
      "[10, 29, 14, 13, 37]\n",
      "[10, 13, 14, 29, 37]\n",
      "정렬된 배열: [10, 13, 14, 29, 37]\n"
     ]
    }
   ],
   "source": [
    "# 최적의 SelectionSort 알고리즘\n",
    "def selection_sort_optimized(arr):\n",
    "    left = 0\n",
    "    right = len(arr) - 1\n",
    "    while (left < right):\n",
    "        min_idx = left\n",
    "        max_idx = left\n",
    "        for i in range(left, right+1):\n",
    "            if arr[i] < arr[min_idx]:\n",
    "                min_idx = i\n",
    "            elif arr[i] > arr[max_idx]:\n",
    "                max_idx = i\n",
    "\n",
    "        # 최솟값을 왼쪽으로\n",
    "        if min_idx != left:\n",
    "            arr[left], arr[min_idx] = arr[min_idx], arr[left]\n",
    "\n",
    "            # max_idx가 min_idx였으면 교환에 의해 위치가 바뀜\n",
    "            if max_idx == left:\n",
    "                max_idx = min_idx\n",
    "\n",
    "        # 최댓값을 오른쪽으로\n",
    "        if max_idx != right:\n",
    "            arr[right], arr[max_idx] = arr[max_idx], arr[right]\n",
    "\n",
    "        left += 1\n",
    "        right -= 1\n",
    "        print(arr)\n",
    "    return arr\n",
    "\n",
    "# 예시 사용\n",
    "arr = [29, 10, 14, 37, 13]\n",
    "print(arr)\n",
    "print(\"정렬된 배열:\", selection_sort_optimized(arr))"
   ]
  },
  {
   "cell_type": "markdown",
   "id": "147d6e79-5745-4467-b9fd-79258939e50b",
   "metadata": {},
   "source": [
    "## 삽입 정렬\n",
    "- 배열을 정렬된 부분과 정렬되지 않은 부분으로 나누고, 정렬되지 않은 부분의 원소를 정렬된 부분으로 삽입하는 방식으로 동작하는 정렬 알고리즘\n",
    "- 간단하면서도 효율적인 알고리즘 중 하나\n",
    "- 배열이 이미 거의 정렬되어 있는 경우 효율적\n",
    "- 데이터셋의 크기가 작을 때에도 성능이 좋음\n",
    "- 최선 시간 복잡도 : O(n)\n",
    "- 최악 시간 복잡도 : O(n^2)"
   ]
  },
  {
   "cell_type": "markdown",
   "id": "146fda70-2053-49bf-9161-8d81bbdd497f",
   "metadata": {},
   "source": [
    "### 삽입 정렬 동작 방식\n",
    "1. 현재 요소(정렬되지 않은 부분의 첫번째 요소)를 정렬된 부분의 원소와 차례로 비교하여 삽입할 적절한 위치를 찾음\n",
    "2. 위치를 찾으면 정렬된 부분에서 이 위치 이후의 원소를 한 칸씩 이동시킴\n",
    "3. 위치에 현재 원소를 삽입\n",
    "4. 모든 원소가 순서대로 될 때까지 1~3를 반복한다."
   ]
  },
  {
   "cell_type": "markdown",
   "id": "b78603e7-099f-4115-8fdf-5cbbd1f30123",
   "metadata": {},
   "source": [
    "### 삽입 정렬 알고리즘\n",
    "```python\n",
    "# 기본\n",
    "insertionSort(A[], n):\n",
    "    for i <- 1 to n-1\n",
    "        A[0..i]의 적합한 자리에 A[i]를 삽입한다.\n",
    "\n",
    "# 반복\n",
    "insertionSort(A[], n):\n",
    "    for i <- 1 to n-1\n",
    "        newItem <- A[i]\n",
    "\n",
    "        for j <- i-1 downto 0 while newItem < [A[j]\n",
    "            A[j+1] <- A[j]\n",
    "        A[j+1] <- newItem\n",
    "\n",
    "# 재귀\n",
    "insertionSort(A[], n):\n",
    "    if (n>=1)\n",
    "        insertionSort(A[], n-1)\n",
    "        A[0..n-1]의 적합한 자리에 A[n-1]을 삽입한다.\n",
    "```"
   ]
  },
  {
   "cell_type": "markdown",
   "id": "b7e6a45d-3a89-4077-a2f8-00005d0dc47b",
   "metadata": {
    "id": "b7e6a45d-3a89-4077-a2f8-00005d0dc47b"
   },
   "source": [
    "### [실습] 삽입 정렬(Insertion Sort)"
   ]
  },
  {
   "cell_type": "code",
   "execution_count": 50,
   "id": "fq_PnXS_pBc7",
   "metadata": {
    "id": "fq_PnXS_pBc7"
   },
   "outputs": [
    {
     "name": "stdout",
     "output_type": "stream",
     "text": [
      "[8, 11, 3, 5, 4, 20, 1, 15]\n",
      "[8, 11, 3, 5, 4, 20, 1, 15]\n",
      "[3, 8, 11, 5, 4, 20, 1, 15]\n",
      "[3, 5, 8, 11, 4, 20, 1, 15]\n",
      "[3, 4, 5, 8, 11, 20, 1, 15]\n",
      "[3, 4, 5, 8, 11, 20, 1, 15]\n",
      "[1, 3, 4, 5, 8, 11, 20, 15]\n",
      "[1, 3, 4, 5, 8, 11, 15, 20]\n",
      "정렬된 배열: [1, 3, 4, 5, 8, 11, 15, 20]\n"
     ]
    }
   ],
   "source": [
    "def insertion_sort(arr, n=len(arr)):\n",
    "    n = len(arr)\n",
    "    for i in range(1, n):\n",
    "        newItem = arr[i]\n",
    "\n",
    "        for j in range(i-1, -1, -1):\n",
    "            if newItem < arr[j]:\n",
    "                arr[j+1] = arr[j]\n",
    "                arr[j] = newItem\n",
    "        print(arr)\n",
    "    return arr\n",
    "\n",
    "# 예시 사용\n",
    "arr = [8, 11, 3, 5, 4, 20, 1, 15]\n",
    "print(arr)\n",
    "print(\"정렬된 배열:\", insertion_sort(arr))"
   ]
  },
  {
   "cell_type": "markdown",
   "id": "u9yzaxJPwcED",
   "metadata": {
    "id": "u9yzaxJPwcED"
   },
   "source": [
    "- 재귀 방법 사용"
   ]
  },
  {
   "cell_type": "code",
   "execution_count": 54,
   "id": "sKJGuXGCt318",
   "metadata": {
    "id": "sKJGuXGCt318"
   },
   "outputs": [
    {
     "name": "stdout",
     "output_type": "stream",
     "text": [
      "[8, 11, 3, 5, 4, 20, 1, 15]\n",
      "[8, 11, 3, 5, 4, 20, 1, 15]\n",
      "[3, 8, 11, 5, 4, 20, 1, 15]\n",
      "[3, 5, 8, 11, 4, 20, 1, 15]\n",
      "[3, 4, 5, 8, 11, 20, 1, 15]\n",
      "[3, 4, 5, 8, 11, 20, 1, 15]\n",
      "[1, 3, 4, 5, 8, 11, 20, 15]\n",
      "[1, 3, 4, 5, 8, 11, 15, 20]\n",
      "정렬된 배열: None\n"
     ]
    }
   ],
   "source": [
    "# 재귀방법 사용\n",
    "def insertion_sort_recursive(arr, n=None):\n",
    "    if n is None:\n",
    "        n = len(arr)\n",
    "    \n",
    "    if (n <= 1):\n",
    "        return\n",
    "\n",
    "    # 앞부분 정렬\n",
    "    insertion_sort_recursive(arr, n-1)\n",
    "\n",
    "    # arr[n-1]을 정렬된 부분에 삽입\n",
    "    last = arr[n-1]\n",
    "    j = n - 2\n",
    "\n",
    "    # 뒤에서부터 하나씩 비교하며 자리를 찾음\n",
    "    while (j >= 0 and arr[j] > last):\n",
    "        arr[j+1] = arr[j]\n",
    "        j -= 1\n",
    "    arr[j+1] = last\n",
    "    print(arr)\n",
    "\n",
    "# 예시\n",
    "arr = [8, 11, 3, 5, 4, 20, 1, 15]\n",
    "print(arr)\n",
    "print(\"정렬된 배열:\", insertion_sort_recursive(arr))"
   ]
  },
  {
   "cell_type": "markdown",
   "id": "9d64eef6-a0f6-4dca-8d86-3609054e71e4",
   "metadata": {
    "id": "9d64eef6-a0f6-4dca-8d86-3609054e71e4"
   },
   "source": [
    "------------------------"
   ]
  },
  {
   "cell_type": "markdown",
   "id": "c0bf4803-de1b-4da8-bcc1-081f3c8f39d0",
   "metadata": {
    "id": "c0bf4803-de1b-4da8-bcc1-081f3c8f39d0"
   },
   "source": [
    "## 3.고급 정렬 알고리즘\n",
    "- 평균적으로 O(nlog⁡n)의 시간이 소요되는 정렬 알고리즘들\n",
    "- 이 범주에 속하는 알고리즘들은 대규모 데이터셋에 대해 좋은 성능을 보이며, 실제 응용 프로그램에서 널리 사용됨\n",
    "    * 퀵 정렬(Quick Sort)\n",
    "    * 병합 정렬(Merge Sort)\n",
    "    * 힙 정렬(Heap Sort)\n",
    "    * 셸 정렬(Shell Sort)"
   ]
  },
  {
   "cell_type": "markdown",
   "id": "b6da21ee-1b7f-4a2e-90b3-d2d12d249a9a",
   "metadata": {
    "id": "2842fee0-1829-4d3f-b06e-ff6bb4332939"
   },
   "source": [
    "## 3-1. 병합 정렬(Merge Sort)\n",
    "- 주어진 배열을 반으로 나눈 후, 각 부분의 배열ㅇ르 재귀적으로 정렬하고, 정렬된 부분 배열을 다시 병합하여 정렬된 배열을 생성하는 정렬 알고리즘\n",
    "- 분할 정복의 대표적인 예\n",
    "- 시간 복잡도 O(nlogn)의 일관된 성능 보장\n",
    "- 같은 값을 가진 원소의 순서를 유지하는 안정적인 정렬 알고리즘\n",
    "- 일반적으로 정렬할 배열의 크기에 비례하여 정렬할 때 추가메모리가 필요"
   ]
  },
  {
   "cell_type": "markdown",
   "id": "b2add01e-147b-430e-8f8a-f6ef8635bf2c",
   "metadata": {},
   "source": [
    "### 병합 정렬 동작 방식\n",
    "1. 배열을 반으로 나눈다. (배열의 중간 지점을 찾아서 배열을 두 개의 부분 배열로 나눈다.)\n",
    "2. 각 부분 배열에 대해 재귀적으로 병합 정렬을 수행한다. (부분 배열의 크기가 1이 될 때까지 재귀 호출을 반복하여 부분 배열을 정렬)\n",
    "3. 정렬된 부분 배열을 병합(merge)하여 하나의 정렬된 배열을 생성 (이때, 두 부분 배열을 비교하면서 더 작은 값을 선택하여 새로운 배열에 추가)\n",
    "4. 모든 부분 배열이 병합될 때까지 1~3의 과정을 반복\n",
    "\n",
    "---\n",
    "### 📌 원래 배열\n",
    "```\n",
    "[12, 31, 25, 8, 32, 17, 40, 42]\n",
    "```\n",
    "\n",
    "---\n",
    "\n",
    "### 🔽 분할 과정 (Divide 단계)\n",
    "\n",
    "1단계\n",
    "```\n",
    "[12, 31, 25, 8]       [32, 17, 40, 42]\n",
    "```\n",
    "\n",
    "2단계\n",
    "```\n",
    "[12, 31]   [25, 8]     [32, 17]   [40, 42]\n",
    "```\n",
    "\n",
    "3단계\n",
    "```\n",
    "[12] [31]   [25] [8]     [32] [17]   [40] [42]\n",
    "```\n",
    "\n",
    "---\n",
    "\n",
    "### 🔁 병합 과정 (Merge 단계)\n",
    "\n",
    "1단계: 쌍끼리 정렬하며 병합\n",
    "```\n",
    "[12, 31]   [8, 25]     [17, 32]   [40, 42]\n",
    "```\n",
    "\n",
    "2단계: 다시 병합\n",
    "```\n",
    "[8, 12, 25, 31]     [17, 32, 40, 42]\n",
    "```\n",
    "\n",
    "3단계: 최종 병합\n",
    "```\n",
    "[8, 12, 17, 25, 31, 32, 40, 42]\n",
    "```\n",
    "\n",
    "---\n",
    "\n",
    "✅ 최종 정렬된 결과:\n",
    "```\n",
    "[8, 12, 17, 25, 31, 32, 40, 42]\n",
    "```"
   ]
  },
  {
   "cell_type": "markdown",
   "id": "ac041464-beb5-4d74-990f-fd17f14308d7",
   "metadata": {},
   "source": [
    "### 병합 정렬 알고리즘\n",
    "```python\n",
    "mergeSort(A[], left, right):\n",
    "    if left < right:\n",
    "        mid <- (left + right) / 2\n",
    "        mergeSort(A, left, mid)\n",
    "        mergeSort(A, mid+1, right)\n",
    "        merge(A, left, mid, right)\n",
    "\n",
    "merge(A[], left, mid, right):\n",
    "    정렬된 두 배열 A[left...mid]와 A[mid+1...right]를 합쳐 정렬된 하나의 배열 A[left...right]를 만든다.\n",
    "```"
   ]
  },
  {
   "cell_type": "code",
   "execution_count": null,
   "id": "6fccbd50-3c5c-4f5d-b1a5-064a21077f70",
   "metadata": {
    "id": "6fccbd50-3c5c-4f5d-b1a5-064a21077f70"
   },
   "outputs": [],
   "source": [
    "def merge(left, right):\n",
    "    print('->left:', list(left), 'right:', list(right))\n",
    "    merged = []\n",
    "    l_idx, r_idx = 0, 0\n",
    "\n",
    "    # 두 부분 배열을 비교하면서 작은 값을 선택하여 병합\n",
    "    while l_idx < len(left) and r_idx < len(right):\n",
    "        if left[l_idx] < right[r_idx]:\n",
    "            merged.append(left[l_idx])\n",
    "            l_idx += 1\n",
    "        else:\n",
    "            merged.append(right[r_idx])\n",
    "            r_idx += 1\n",
    "\n",
    "    # 남은 요소들을 추가\n",
    "    merged += left[l_idx:]\n",
    "    merged += right[r_idx:]\n",
    "    print('->merged:', merged),\n",
    "    return merged\n",
    "\n",
    "def merge_sort(arr):\n",
    "    if len(arr) <= 1:\n",
    "        return arr\n",
    "\n",
    "    # 배열을 반으로 나눔\n",
    "    mid = len(arr) // 2\n",
    "    left = arr[:mid]\n",
    "    right = arr[mid:]\n",
    "\n",
    "    # 각 부분 배열에 대해 재귀적으로 병합 정렬 수행\n",
    "    left = merge_sort(left)\n",
    "    right = merge_sort(right)\n",
    "\n",
    "    # 정렬된 부분 배열을 병합\n",
    "    return merge(left, right)\n",
    "\n",
    "# 예시 사용\n",
    "arr = [12,31,25,8,32,17,40,42]\n",
    "print(\"정렬된 배열:\", merge_sort(arr))"
   ]
  },
  {
   "cell_type": "markdown",
   "id": "0848cafa-4e1f-44b4-9ae3-888b87ee355a",
   "metadata": {
    "id": "bf1fee57-fe27-4673-9a8a-0d64fef7b5be"
   },
   "source": [
    "## 3-2. 퀵 정렬(Quick Sort)\n",
    "- 기준 원소(pivot)를 중심으로 좌우로 나눠 재귀적으로 정렬하는 분할 정복 알고리즘\n",
    "- 평균 시간 복잡도: O(n log n), 최악 시간 복잡도: O(n²)\n",
    "- 공간 복잡도: O(log n), 불안정 정렬"
   ]
  },
  {
   "cell_type": "markdown",
   "id": "0707bde8-97bf-4072-a87e-7cfe77e70683",
   "metadata": {},
   "source": [
    "### 퀵 정렬 동작 방식\n",
    "1. 배열에서 하나의 원소를 선택해 pivot으로 설정\n",
    "2. pivot 기준으로 두 개의 부분 배열로 분할\n",
    "    - 왼쪽: pivot보다 작은 원소\n",
    "    - 오른쪽: pivot보다 큰 원소\n",
    "3. 각 부분 배열에 대해 재귀적으로 퀵 정렬 수행\n",
    "4. 부분 배열이 더 이상 나뉘지 않으면 전체 정렬 완료\n",
    "\n",
    "---\n",
    "\n",
    "1. 초기 배열:\n",
    "```[24, 9, 29, 14, 19, 27]```\n",
    "\n",
    "2. Step 1: pivot = 24\n",
    "- Left: 9 (24보다 작음)  \n",
    "- Right: 27 (24보다 큼)  \n",
    "- 배열: [19, 9, 29, 14, 24, 27]\n",
    "\n",
    "3. Step 2: pivot = 24 기준 정리\n",
    "- 왼쪽: [19, 9, 14]  \n",
    "- 오른쪽: [29, 27]  \n",
    "- pivot은 제자리(인덱스 3)로 이동\n",
    "- 배열: [19, 9, 14, 24, 27, 29]\n",
    "\n",
    "4. Step 3: 각 부분 재귀적으로 퀵 정렬\n",
    "- 왼쪽 부분: [19, 9, 14] → [9, 14, 19]  \n",
    "- 오른쪽 부분: [27, 29] → [27, 29]\n",
    "\n",
    "5. 최종 결과:\n",
    "```[9, 14, 19, 24, 27, 29]```"
   ]
  },
  {
   "cell_type": "markdown",
   "id": "28053bee-ede0-499c-9bc8-0140bd955888",
   "metadata": {},
   "source": [
    "### 퀵 정렬 알고리즘\n",
    "```python\n",
    "quickSort(A[], p, r): \n",
    "    if p < r:\n",
    "        q ← partition(A, p, r)\n",
    "        quickSort(A, p, q - 1)   // 왼쪽 배열 정렬\n",
    "        quickSort(A, q + 1, r)   // 오른쪽 배열 정렬\n",
    "\n",
    "partition(A[], p, r):\n",
    "    A[r]을 기준 피벗으로 설정\n",
    "    피벗보다 작거나 같은 값을 앞쪽으로 이동\n",
    "    피벗의 최종 위치 반환\n",
    "```"
   ]
  },
  {
   "cell_type": "code",
   "execution_count": 58,
   "id": "c88d3a95-2074-4754-9414-e56c30aefd17",
   "metadata": {
    "id": "c88d3a95-2074-4754-9414-e56c30aefd17"
   },
   "outputs": [
    {
     "name": "stdout",
     "output_type": "stream",
     "text": [
      "[24, 9, 29, 14, 19, 27]\n",
      "[14, 19]\n",
      "[9, 14, 19]\n",
      "[27, 29]\n",
      "[9, 14, 19, 24, 27, 29]\n",
      "정렬된 배열: [9, 14, 19, 24, 27, 29]\n"
     ]
    }
   ],
   "source": [
    "def quick_sort(arr):\n",
    "    # 기본 조건: 배열이 길이 1 이하이면 이미 정렬된 상태\n",
    "    if len(arr) <= 1:\n",
    "        return arr\n",
    "\n",
    "    pivot = arr[0]\n",
    "    left = [x for x in arr[1:] if x < pivot] # 피벗보다 작은 값\n",
    "    right = [x for x in arr[1:] if x >= pivot] # 피벗보다 크거나 같은 값\n",
    "\n",
    "    # 재귀적으로 정렬한 결과를 결합\n",
    "    sum = quick_sort(left) + [pivot] + quick_sort(right)\n",
    "    print(sum)\n",
    "    return sum\n",
    "\n",
    "# 예시 사용\n",
    "arr = [24, 9, 29, 14, 19, 27]\n",
    "print(arr)\n",
    "print(\"정렬된 배열:\", quick_sort(arr))"
   ]
  },
  {
   "cell_type": "markdown",
   "id": "a8fb1fe7-88e2-46be-8f07-0e65ff8d21e5",
   "metadata": {
    "id": "1d39d977-401c-417d-845f-abb48cebbd59"
   },
   "source": [
    "## 3-3. 힙 정렬(Heap Sort)\n",
    "- 주어진 배열을 힙(heap) 자료구조로 만든 다음, 힙에서 원소를 하나씩 꺼내며 정렬하는 방식\n",
    "- 힙은 완전 이진 트리(Complete Binary Tree) 기반 구조로, Max Heap 또는 Min Heap으로 구현됨\n",
    "- 비교 기반 제자리 정렬(in-place sorting) 방식\n",
    "- 시간 복잡도: O(n log n) (최선, 평균, 최악 동일)"
   ]
  },
  {
   "cell_type": "markdown",
   "id": "8432f53b-19e9-436c-ab7f-fd97604f2489",
   "metadata": {},
   "source": [
    "### 힙 정렬 동작 방식\n",
    "1. 주어진 배열을 최대 힙(Max Heap) 또는 **최소 힙(Min Heap)**으로 만든다 (heapify 과정)\n",
    "2. 힙에서 루트 노드를 꺼내 배열의 뒤쪽에 배치한다 (가장 큰/작은 값)\n",
    "3. 힙의 크기를 줄이고 남은 요소로 다시 힙을 구성하며 위 과정을 반복한다\n",
    "\n",
    "---\n",
    "\n",
    "1. Heapify 과정 (Max Heap 구성)\n",
    "- 초기 배열: [81, 89, 9, 11, 14, 76, 54, 22]\n",
    "- 힙 구조로 재배치\n",
    "- Max Heap: [89, 81, 76, 22, 14, 9, 54, 11]\n",
    "\n",
    "2. 최댓값 89 추출 후 배열 끝에 배치\n",
    "- 배열: [89, ..., ..., ..., ..., ..., ..., 89]\n",
    "- 남은 힙: [81, 22, 76, 11, 14, 9, 54]\n",
    "\n",
    "3. 다시 heapify → 다음 최대값 81 추출\n",
    "- 반복적으로 가장 큰 값을 뒤로 보내며 정렬됨\n",
    "\n",
    "4. 최종 정렬 결과\n",
    "- [9, 11, 14, 22, 54, 76, 81, 89]\n"
   ]
  },
  {
   "cell_type": "code",
   "execution_count": 60,
   "id": "6a7eecfa-5d15-4d2e-818f-5dbf4ef7c98d",
   "metadata": {
    "id": "6a7eecfa-5d15-4d2e-818f-5dbf4ef7c98d"
   },
   "outputs": [
    {
     "name": "stdout",
     "output_type": "stream",
     "text": [
      "[81, 89, 9, 11, 14, 76, 54, 22]\n",
      "[89, 22, 76, 11, 14, 9, 54, 81]\n",
      "[76, 22, 54, 11, 14, 9, 89, 81]\n",
      "[54, 22, 9, 11, 14, 76, 89, 81]\n",
      "[22, 14, 9, 11, 54, 76, 89, 81]\n",
      "[14, 11, 9, 22, 54, 76, 89, 81]\n",
      "[11, 9, 14, 22, 54, 76, 89, 81]\n",
      "[9, 11, 14, 22, 54, 76, 89, 81]\n",
      "정렬된 배열: [9, 11, 14, 22, 54, 76, 89, 81]\n"
     ]
    }
   ],
   "source": [
    "def heapify(arr, n, i):\n",
    "    largest = i          # 루트 노드\n",
    "    left = 2 * i + 1     # 왼쪽 자식\n",
    "    right = 2 * i + 2    # 오른쪽 자식\n",
    "\n",
    "    # 왼쪽 자식이 루트보다 크면\n",
    "    if left < n and arr[left] > arr[largest]:\n",
    "        largest = left\n",
    "\n",
    "    # 오른쪽 자식이 현재까지 가장 큰 노드보다 크면\n",
    "    if right < n and arr[right] > arr[largest]:\n",
    "        largest = right\n",
    "\n",
    "    # largest가 루트가 아니라면, swap 후 재귀 호출\n",
    "    if largest != i:\n",
    "        arr[i], arr[largest] = arr[largest], arr[i]\n",
    "        heapify(arr, n, largest)\n",
    "\n",
    "\n",
    "def heap_sort(arr):\n",
    "    n = len(arr)\n",
    "\n",
    "    # 1. 최대 힙(Max Heap) 구성\n",
    "    for i in range(n // 2 - 1, 0, -1):  # 마지막 부모 노드부터 시작\n",
    "        heapify(arr, n, i)\n",
    "\n",
    "    # 2. 하나씩 루트(최댓값)를 꺼내서 정렬 위치로 이동\n",
    "    for i in range(n - 1, 0, -1):\n",
    "        arr[0], arr[i] = arr[i], arr[0]  # 루트와 마지막 원소 교환\n",
    "        heapify(arr, i, 0)               # 남은 요소로 다시 힙 구성\n",
    "        print(arr)\n",
    "    return arr\n",
    "\n",
    "\n",
    "# 예시 사용\n",
    "arr = [81, 89, 9, 11, 14, 76, 54, 22]\n",
    "print(arr)\n",
    "print(\"정렬된 배열:\", heap_sort(arr))"
   ]
  },
  {
   "cell_type": "markdown",
   "id": "b762cf98-579b-41d1-b8e8-e2fc034088ef",
   "metadata": {
    "id": "a7d9b1e1-c099-4bf6-b5de-9fff191b8d01"
   },
   "source": [
    "## 3-4. 셸 정렬(Shell Sort)\n",
    "- 삽입 정렬 개선 버전\n",
    "- 일정한 간격으로 나눠 삽입 정렬\n",
    "- 시간 복잡도: O(n log n) ~ O(n²)\n",
    "- 비안정 정렬"
   ]
  },
  {
   "cell_type": "code",
   "execution_count": null,
   "id": "982e5549-e9b5-49e6-8b47-964e609ecf0e",
   "metadata": {},
   "outputs": [],
   "source": [
    "### 셸 정렬 동작 방식\n",
    "1. 간격(h)를 정하고 부분 배열 정렬\n",
    "2. 간격을 점점 줄이면서 정렬\n",
    "3. 간격이 1이 되면 삽입 정렬 수행"
   ]
  },
  {
   "cell_type": "code",
   "execution_count": null,
   "id": "c506813c-7fd1-4730-88f7-301b5cef3dfb",
   "metadata": {
    "id": "c506813c-7fd1-4730-88f7-301b5cef3dfb"
   },
   "outputs": [],
   "source": [
    "def shell_sort(arr):\n",
    "    n = len(arr)\n",
    "    gap = n // 2  # 초기 간격 설정\n",
    "\n",
    "    # 간격을 줄여가면서 반복\n",
    "    while gap > 0:\n",
    "        # 삽입 정렬을 사용하여 각 부분 배열을 정렬\n",
    "        for i in range(gap, n):\n",
    "            temp = arr[i]\n",
    "            j = i\n",
    "            while j >= gap and arr[j - gap] > temp:\n",
    "                arr[j] = arr[j - gap]\n",
    "                j -= gap\n",
    "            arr[j] = temp\n",
    "            print(f\"gap: {gap} arr: {arr}\")\n",
    "        gap //= 2  # 간격을 줄임\n",
    "\n",
    "# 예시 사용\n",
    "arr = [33, 31, 40, 8, 12, 17, 25, 42]\n",
    "shell_sort(arr)\n",
    "print(\"정렬된 배열:\", arr)"
   ]
  },
  {
   "cell_type": "markdown",
   "id": "ca3733eb-856f-4ae7-a090-22a125268dfd",
   "metadata": {
    "id": "ca3733eb-856f-4ae7-a090-22a125268dfd"
   },
   "source": [
    "--------"
   ]
  },
  {
   "cell_type": "markdown",
   "id": "09eab8dd-3967-44d9-9d91-fdcaaaf0adde",
   "metadata": {
    "id": "09eab8dd-3967-44d9-9d91-fdcaaaf0adde"
   },
   "source": [
    "## 4.특수 정렬 알고리즘\n",
    "- 원소들이 특수한 성질을 만족(특정 조건에서)하면 Θ(n) 정렬도 가능하다\n",
    "- 이 알고리즘들은 비교 기반의 정렬 방법이 아니며, 특정 조건하에서 선형 시간에 가까운 성능을 보임\n",
    "    * ex:  계수 정렬과 기수 정렬은 정수나 작은 범위의 숫자를 정렬할 때 매우 효율적임\n",
    "    * 계수 정렬(Counting Sort)\n",
    "    * 기수 정렬(Radix Sort)\n",
    "    * 버킷 정렬(Bucket Sort)"
   ]
  },
  {
   "cell_type": "markdown",
   "id": "2add3e3a-a7c5-4bf7-8c8e-7b03ec1e3023",
   "metadata": {
    "id": "2add3e3a-a7c5-4bf7-8c8e-7b03ec1e3023"
   },
   "source": [
    "### 4-1. 계수 정렬(Counting Sort)"
   ]
  },
  {
   "cell_type": "code",
   "execution_count": null,
   "id": "7bb9cdbd-651b-4fc7-9b44-8994dd76cc6e",
   "metadata": {
    "id": "7bb9cdbd-651b-4fc7-9b44-8994dd76cc6e"
   },
   "outputs": [],
   "source": [
    "def counting_sort(arr):\n",
    "    # 배열의 최댓값을 찾아 카운트 배열을 생성합니다.\n",
    "    max_val = max(arr)\n",
    "    count = [0] * (max_val + 1)\n",
    "\n",
    "    # 각 원소의 개수를 카운트합니다.\n",
    "    for num in arr:\n",
    "        count[num] += 1\n",
    "\n",
    "    # 정렬된 배열을 저장할 리스트를 생성합니다.\n",
    "    sorted_arr = []\n",
    "\n",
    "    # 카운트 배열을 사용하여 정렬된 배열을 생성합니다.\n",
    "    for i in range(len(count)):\n",
    "        sorted_arr.extend([i] * count[i])\n",
    "\n",
    "    return sorted_arr\n",
    "\n",
    "# 예시 사용\n",
    "arr = [2, 9, 7, 4, 1, 8, 4]\n",
    "sorted_arr = counting_sort(arr)\n",
    "print(\"정렬된 배열:\", sorted_arr)"
   ]
  },
  {
   "cell_type": "markdown",
   "id": "fdce48d5-28b0-4a28-9681-58e55030e8e7",
   "metadata": {
    "id": "fdce48d5-28b0-4a28-9681-58e55030e8e7"
   },
   "source": [
    "### 4-2. 기수 정렬(Radix Sort)"
   ]
  },
  {
   "cell_type": "code",
   "execution_count": null,
   "id": "f0690286-b35e-495c-ba90-b88bcf18c9c8",
   "metadata": {
    "id": "f0690286-b35e-495c-ba90-b88bcf18c9c8"
   },
   "outputs": [],
   "source": [
    "def counting_sort(arr, exp):\n",
    "    n = len(arr)\n",
    "    output = [0] * n\n",
    "    count = [0] * 10\n",
    "\n",
    "    # 각 자릿수에 해당하는 값의 등장 횟수를 세기\n",
    "    for i in range(n):\n",
    "        index = arr[i] // exp\n",
    "        count[index % 10] += 1\n",
    "\n",
    "    # 등장 횟수를 누적 합으로 변경\n",
    "    for i in range(1, 10):\n",
    "        count[i] += count[i - 1]\n",
    "\n",
    "    # output 배열에 요소를 정렬하여 배치\n",
    "    i = n - 1\n",
    "    while i >= 0:\n",
    "        index = arr[i] // exp\n",
    "        output[count[index % 10] - 1] = arr[i]\n",
    "        count[index % 10] -= 1\n",
    "        i -= 1\n",
    "\n",
    "    # 원래 배열로 복사\n",
    "    for i in range(n):\n",
    "        arr[i] = output[i]\n",
    "\n",
    "def radix_sort(arr):\n",
    "    # 최대값 찾기\n",
    "    max_val = max(arr)\n",
    "\n",
    "    # 최대값을 기준으로 각 자릿수에 대해 counting sort 수행\n",
    "    exp = 1\n",
    "    while max_val // exp > 0:\n",
    "        counting_sort(arr, exp)\n",
    "        exp *= 10\n",
    "\n",
    "# 예시 사용\n",
    "arr = [181, 289, 390, 121, 145, 736, 514, 212]\n",
    "radix_sort(arr)\n",
    "print(\"정렬된 배열:\", arr)"
   ]
  },
  {
   "cell_type": "markdown",
   "id": "a6b2304f-93a0-41bd-8bcb-886603bd28ee",
   "metadata": {
    "id": "a6b2304f-93a0-41bd-8bcb-886603bd28ee"
   },
   "source": [
    "### 4-3. 버킷 정렬(Bucket Sort)"
   ]
  },
  {
   "cell_type": "code",
   "execution_count": null,
   "id": "f04c278c-0e39-4e7b-b075-35562f1198b5",
   "metadata": {
    "id": "f04c278c-0e39-4e7b-b075-35562f1198b5"
   },
   "outputs": [],
   "source": [
    "def insertion_sort(bucket):\n",
    "    for i in range(1, len(bucket)):\n",
    "        key = bucket[i]\n",
    "        j = i - 1\n",
    "        while j >= 0 and bucket[j] > key:\n",
    "            bucket[j + 1] = bucket[j]\n",
    "            j -= 1\n",
    "        bucket[j + 1] = key\n",
    "\n",
    "def bucket_sort(arr):\n",
    "    # 입력 배열의 최댓값 찾기\n",
    "    max_val = max(arr)\n",
    "    # 버킷 개수 결정\n",
    "    num_buckets = len(arr)\n",
    "    # 각 버킷 초기화\n",
    "    buckets = [[] for _ in range(num_buckets)]\n",
    "    # 각 요소를 적절한 버킷에 할당\n",
    "    for num in arr:\n",
    "        index = num * num_buckets // (max_val + 1)\n",
    "        buckets[index].append(num)\n",
    "    # 각 버킷 정렬\n",
    "    for bucket in buckets:\n",
    "        insertion_sort(bucket)\n",
    "    # 정렬된 버킷을 합쳐 최종 결과 생성\n",
    "    k = 0\n",
    "    for bucket in buckets:\n",
    "        for num in bucket:\n",
    "            arr[k] = num\n",
    "            k += 1\n",
    "\n",
    "# 예시 사용\n",
    "arr = [0.897, 0.565, 0.656, 0.1234, 0.665, 0.3434]\n",
    "bucket_sort(arr)\n",
    "print(\"정렬된 배열:\", arr)"
   ]
  },
  {
   "cell_type": "markdown",
   "id": "1f45a9a3",
   "metadata": {
    "id": "1f45a9a3",
    "jp-MarkdownHeadingCollapsed": true
   },
   "source": [
    "-----------------"
   ]
  }
 ],
 "metadata": {
  "colab": {
   "provenance": [],
   "toc_visible": true
  },
  "kernelspec": {
   "display_name": "Python 3 (ipykernel)",
   "language": "python",
   "name": "python3"
  },
  "language_info": {
   "codemirror_mode": {
    "name": "ipython",
    "version": 3
   },
   "file_extension": ".py",
   "mimetype": "text/x-python",
   "name": "python",
   "nbconvert_exporter": "python",
   "pygments_lexer": "ipython3",
   "version": "3.12.3"
  }
 },
 "nbformat": 4,
 "nbformat_minor": 5
}
