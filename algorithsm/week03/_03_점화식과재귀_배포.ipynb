{
 "cells": [
  {
   "cell_type": "markdown",
   "metadata": {
    "id": "n_gLhcoQe3pD"
   },
   "source": [
    "# 점화식과 재귀 알고리즘"
   ]
  },
  {
   "cell_type": "markdown",
   "metadata": {
    "id": "5eqH6EEoRjnt"
   },
   "source": [
    "\n",
    "\n",
    "---\n",
    "\n"
   ]
  },
  {
   "cell_type": "markdown",
   "metadata": {
    "id": "zbK7LsGRRkmv"
   },
   "source": [
    "# 1.알고리즘 분석을 위한 기초"
   ]
  },
  {
   "cell_type": "markdown",
   "metadata": {
    "id": "e_21YenYRqRr"
   },
   "source": [
    "\n",
    "\n",
    "---\n",
    "\n"
   ]
  },
  {
   "cell_type": "markdown",
   "metadata": {
    "id": "NAbiWsMhRwnZ"
   },
   "source": [
    "## 알고리즘 효율성 분석"
   ]
  },
  {
   "cell_type": "markdown",
   "metadata": {
    "id": "crledlvU2t7v"
   },
   "source": []
  },
  {
   "cell_type": "markdown",
   "metadata": {
    "id": "Nf_IthM7GSBf"
   },
   "source": [
    "### @알고리즘 효율성 측정 (시간 성능 분석)"
   ]
  },
  {
   "cell_type": "code",
   "execution_count": null,
   "metadata": {
    "id": "c1jCuwFXGcTB"
   },
   "outputs": [],
   "source": [
    "# time 모듈을 이용한 실행시간 측정\n",
    "def test(n):\n",
    "    l = []\n",
    "    for i in range(n):\n",
    "        l.append(i)\n",
    "\n",
    "import time\n",
    "start = time.time()\n",
    "test(1000)\n",
    "end = time.time()\n",
    "print(f\"실행시간 = {end-start}\")"
   ]
  },
  {
   "cell_type": "markdown",
   "metadata": {
    "id": "ntVHc2rpFVQF"
   },
   "source": [
    "### [실습] 성능 비교하기\n",
    "데이터를 리스트에 추가하는 다양한 방법의 성능을 측정하고 그래프로 비교해 보세요."
   ]
  },
  {
   "cell_type": "code",
   "execution_count": null,
   "metadata": {
    "id": "KkErHiTpG9M5"
   },
   "outputs": [],
   "source": [
    "# 1.append() 메서드\n",
    "def test1(n):\n",
    "    l = []\n",
    "    for i in range(n):\n",
    "        l.append(i)\n",
    "\n",
    "# 2.extend() 메서드\n",
    "def test2(n):\n",
    "    l = []\n",
    "    for i in range(n):\n",
    "        l.extend([i])\n",
    "\n",
    "# 3.리스트 연결 연산자\n",
    "def test3(n):\n",
    "    l = []\n",
    "    for i in range(n):\n",
    "        l = l + [i]\n",
    "\n",
    "# 4.리스트 조건제시법\n",
    "def test4(n):\n",
    "    l = [i for i in range(n)]\n",
    "\n",
    "# 5.range 객체 활용\n",
    "def test5(n):\n",
    "    l = list(range(n))"
   ]
  },
  {
   "cell_type": "code",
   "execution_count": null,
   "metadata": {
    "id": "Zq9UxntIGMWf"
   },
   "outputs": [],
   "source": [
    "# 코드 작성\n",
    "import time\n",
    "import random\n",
    "import matplotlib.pyplot as plt\n",
    "\n",
    "# 실행 시간 측정 함수\n",
    "def measure_time(sort_funcs, n):\n",
    "    times = []\n",
    "    for sort_func in sort_funcs:\n",
    "        start = time.time()\n",
    "        sort_func(n)\n",
    "        end = time.time()\n",
    "        times.append(end - start)\n",
    "    return times\n",
    "\n",
    "def benchmark():\n",
    "    sizes = [100, 500, 1000, 5000, 10000]\n",
    "    # sizes = [100, 500, 1000]\n",
    "    sort_funcs = [test1, test2, test3, test4, test5]\n",
    "    func_times = [[] for _ in sort_funcs]\n",
    "\n",
    "    # 실행 시간 측정\n",
    "    for size in sizes:\n",
    "        results = measure_time(sort_funcs, size)\n",
    "        for idx, val in enumerate(results):\n",
    "            func_times[idx].append(val)\n",
    "\n",
    "    # 그래프 그리기\n",
    "    plt.figure(figsize=(5, 4))\n",
    "    for idx, sort_func in enumerate(sort_funcs):\n",
    "        plt.plot(sizes, func_times[idx], label=f\"{sort_func.__name__}\", marker='o')\n",
    "\n",
    "    plt.xlabel(\"Input Size\")\n",
    "    plt.ylabel(\"Execution Time (seconds)\")\n",
    "    plt.title(\"Algorithm Time Complexity Analysis\")\n",
    "    plt.legend()\n",
    "    plt.grid(True)\n",
    "    plt.show()\n",
    "\n",
    "# 함수 호출\n",
    "benchmark()"
   ]
  },
  {
   "cell_type": "markdown",
   "metadata": {
    "id": "oJUdlh5FDJkT"
   },
   "source": [
    "\n",
    "\n",
    "---\n",
    "\n"
   ]
  },
  {
   "cell_type": "markdown",
   "metadata": {
    "id": "THzIHsgrDKbH"
   },
   "source": [
    "## 복잡도 분석"
   ]
  },
  {
   "cell_type": "markdown",
   "metadata": {
    "id": "XzwkiIR5DNkT"
   },
   "source": [
    "### @기본 연산(Basic Operation)"
   ]
  },
  {
   "cell_type": "markdown",
   "metadata": {
    "id": "Hl8oyZXkDSBm"
   },
   "source": [
    "- 다양한 연산의"
   ]
  },
  {
   "cell_type": "markdown",
   "metadata": {
    "id": "WpMv6phaUkeW"
   },
   "source": [
    "\n",
    "\n",
    "---\n",
    "\n"
   ]
  },
  {
   "cell_type": "markdown",
   "metadata": {
    "id": "_6piiG_IUj9q"
   },
   "source": [
    "## 점근적 표기법"
   ]
  },
  {
   "cell_type": "markdown",
   "metadata": {
    "id": "db5gPsH3UtMl"
   },
   "source": [
    "- 점근적 표기법(Asymptotic Notation)\n",
    "    - 여러 항을 갖는 복잡도 함수를 최고차항만을 계수 없이 취해 단순하게 표현하는 방법\n",
    "    - 증가속도를 표현"
   ]
  },
  {
   "cell_type": "markdown",
   "metadata": {
    "id": "MRlfiOonShMS"
   },
   "source": [
    "### [실습] 빅오 표기법 다양한 복잡도 함수 예"
   ]
  },
  {
   "cell_type": "code",
   "execution_count": null,
   "metadata": {
    "id": "pjWRyzA3SkXA"
   },
   "outputs": [],
   "source": [
    "import math\n",
    "import itertools\n",
    "\n",
    "# O(1) - 상수 시간\n",
    "def constant_time_example(arr):\n",
    "    return arr[0]  # 배열의 첫 번째 원소 접근 (항상 일정한 시간)\n",
    "\n",
    "# O(log n) - 로그 시간 (이진 탐색)\n",
    "def log_time_example(arr, target):\n",
    "    left, right = 0, len(arr) - 1\n",
    "    while left <= right:\n",
    "        mid = (left + right) // 2\n",
    "        if arr[mid] == target:\n",
    "            return mid\n",
    "        elif arr[mid] < target:\n",
    "            left = mid + 1\n",
    "        else:\n",
    "            right = mid - 1\n",
    "    return -1  # 요소를 찾을 수 없는 경우\n",
    "\n",
    "# O(n) - 선형 시간 (리스트에서 특정 값 찾기)\n",
    "def linear_time_example(arr, target):\n",
    "    for i in range(len(arr)):\n",
    "        if arr[i] == target:\n",
    "            return i\n",
    "    return -1\n",
    "\n",
    "# O(n log n) - 퀵정렬 또는 병합정렬\n",
    "def nlogn_time_example(arr):\n",
    "    return sorted(arr)  # Timsort (Python 내장 정렬 알고리즘)\n",
    "\n",
    "# O(n^2) - 버블 정렬\n",
    "def quadratic_time_example(arr):\n",
    "    n = len(arr)\n",
    "    for i in range(n):\n",
    "        for j in range(0, n - i - 1):\n",
    "            if arr[j] > arr[j + 1]:\n",
    "                arr[j], arr[j + 1] = arr[j + 1], arr[j]\n",
    "    return arr\n",
    "\n",
    "# O(n^3) - 3중 루프 (브루트포스 트리플렛 합 찾기)\n",
    "def cubic_time_example(arr):\n",
    "    n = len(arr)\n",
    "    count = 0\n",
    "    for i in range(n):\n",
    "        for j in range(n):\n",
    "            for k in range(n):\n",
    "                if arr[i] + arr[j] + arr[k] == 0:\n",
    "                    count += 1\n",
    "    return count\n",
    "\n",
    "# O(2^n) - 피보나치 수열 (재귀)\n",
    "def exponential_time_example(n):\n",
    "    if n <= 1:\n",
    "        return n\n",
    "    return exponential_time_example(n - 1) + exponential_time_example(n - 2)\n",
    "\n",
    "# O(3^n) - 3^n 성능을 가지는 재귀 함수 예제\n",
    "def triple_exponential_example(n):\n",
    "    if n == 0:\n",
    "        return 1\n",
    "    return triple_exponential_example(n - 1) + triple_exponential_example(n - 1) + triple_exponential_example(n - 1)\n",
    "\n",
    "# O(n!) - 순열 생성 (브루트포스 탐색)\n",
    "def factorial_time_example(n):\n",
    "    return list(itertools.permutations(range(n)))  # 모든 순열을 생성\n",
    "\n",
    "# 테스트 실행\n",
    "if __name__ == \"__main__\":\n",
    "    arr = [1, 2, 3, 4, 5]\n",
    "    print(\"O(1):\", constant_time_example(arr))\n",
    "    print(\"O(log n):\", log_time_example(arr, 3))\n",
    "    print(\"O(n):\", linear_time_example(arr, 4))\n",
    "    print(\"O(n log n):\", nlogn_time_example(arr))\n",
    "    print(\"O(n^2):\", quadratic_time_example(arr))\n",
    "    print(\"O(n^3):\", cubic_time_example(arr))\n",
    "    print(\"O(2^n):\", exponential_time_example(5))\n",
    "    print(\"O(3^n):\", triple_exponential_example(5))\n",
    "    print(\"O(n!):\", len(factorial_time_example(5)))  # 생성된 순열 개수 출력\n",
    "\n"
   ]
  },
  {
   "cell_type": "markdown",
   "metadata": {
    "id": "Y9K0F9oOCo-5"
   },
   "source": [
    "\n",
    "\n",
    "---\n",
    "\n"
   ]
  },
  {
   "cell_type": "markdown",
   "metadata": {
    "id": "yVCPrCuhRrPr"
   },
   "source": [
    "# 2.재귀 알고리즘"
   ]
  },
  {
   "cell_type": "markdown",
   "metadata": {
    "id": "iiOVPrQsCp7y"
   },
   "source": [
    "## 점화식"
   ]
  },
  {
   "cell_type": "markdown",
   "metadata": {
    "id": "YtDyyh_-CsmU"
   },
   "source": [
    "### @점화식 분석 방법"
   ]
  },
  {
   "cell_type": "code",
   "execution_count": null,
   "metadata": {
    "id": "Z2lS_Ikr25xH"
   },
   "outputs": [],
   "source": [
    "# 과제1-1\n"
   ]
  },
  {
   "cell_type": "markdown",
   "metadata": {
    "id": "33B16e18CsEQ"
   },
   "source": [
    "### @점화식에서 사용되는 연산(연산 유형별 점화식 예)\n"
   ]
  },
  {
   "cell_type": "code",
   "execution_count": null,
   "metadata": {
    "id": "NemdJRdl2_sO"
   },
   "outputs": [],
   "source": [
    "#과제1-2\n"
   ]
  },
  {
   "cell_type": "markdown",
   "metadata": {
    "id": "hEZrPFR7QUei"
   },
   "source": [
    "### [실습] 피보나치의 토끼 번식 문제\n",
    "- 1년이 지난 후(13월) 전체 토끼의 쌍의 수는?     \n",
    "- 점화식은?\n",
    "- 빅오 표기법은?\n",
    "- 파이썬으로 구현 하시오."
   ]
  },
  {
   "cell_type": "code",
   "execution_count": null,
   "metadata": {
    "id": "4xTKyzjChnBH"
   },
   "outputs": [],
   "source": [
    "# 반복문 이용\n",
    "\n"
   ]
  },
  {
   "cell_type": "code",
   "execution_count": null,
   "metadata": {
    "id": "VtqoY668RTVk"
   },
   "outputs": [],
   "source": [
    "# 재귀 호출 이용\n",
    "\n"
   ]
  },
  {
   "cell_type": "markdown",
   "metadata": {
    "id": "jV4i0i4MRvl_"
   },
   "source": [
    "\n",
    "\n",
    "---\n",
    "\n"
   ]
  },
  {
   "cell_type": "markdown",
   "metadata": {
    "id": "dAF1_D2qf6Y_"
   },
   "source": [
    "## 재귀 알고리즘"
   ]
  },
  {
   "cell_type": "markdown",
   "metadata": {},
   "source": [
    "## 순환\n",
    "- 어떤 함수가 자기 자신을 다시 호출하여 문제를 해결하는 프로그래밍 기법\n",
    "- 많은 효율적인 알고리즘에서 사용\n",
    "- 문제 자체가 순차적이거나 순환적으로 정의된 자료구조를 다루는 데 적합\n",
    "\n",
    "### 반복 vs 순환\n",
    "- 특정 재귀반복 알고리즘이 주어지고 재귀순환 알고리즘으로 변환하는 문제\n",
    "- 반복\n",
    "- 순환: 베이스케이스\n",
    "### 구성\n",
    "1. 기본사례: 가장 작은 문제에 대한 해답을 미리 정의해 놓음\n",
    "2. 재귀 단계: 현재 문제를 작은 인스턴스의 문제로 분할하고, 그 부분 문제에 대한 자기 자신을 호출\n",
    "3. 반환(return): 상태를 반환하고 기본 사례로 이동"
   ]
  },
  {
   "cell_type": "markdown",
   "metadata": {
    "id": "2MtkMY5xf-09"
   },
   "source": [
    "### @순환 호출\n",
    "- 팩토리얼(factorial)"
   ]
  },
  {
   "cell_type": "code",
   "execution_count": null,
   "metadata": {
    "id": "N1iTsKY7eqnI"
   },
   "outputs": [],
   "source": [
    "def factorial(n):\n",
    "    if n == 1: return 1\n",
    "    return n*factorial(n-1)\n",
    "\n",
    "factorial(3)"
   ]
  },
  {
   "cell_type": "markdown",
   "metadata": {},
   "source": [
    "### 재귀 알고리즘 동작"
   ]
  },
  {
   "cell_type": "markdown",
   "metadata": {},
   "source": [
    "### 재귀 알고리즘 특징\n",
    "1. 간결성: 반복문을 사용하지 않고도 복잡한 문제를 간결히 해결 가능\n",
    "2. 직관성: 문제의 구조를 직관적으로 반영하여 코드 작성 가능\n",
    "3. 유연성: 다양한 문제에 적용 가능. **분할 정복** 문제에 효과적\n",
    "---\n",
    "### 단점\n",
    "1. 효율성반복문을 사용하는 알고리즘보다 실행속도가 느릴 수 있음\n",
    "2. 메모리 사용량: 재귀 호출은 스택 메모리 사용으로 메모리 사용량이 많아짐\n",
    "3. 디버깅 어려움: 재귀 알고리즘은 디버깅하기 어려움"
   ]
  },
  {
   "cell_type": "markdown",
   "metadata": {
    "id": "2Oh83x6pgKEx"
   },
   "source": [
    "- 하노이의 탑\n",
    "    - 문제 자체가 순환적인 케이스\n",
    "    - 동일한 형태의 작은 문제로 반복적으로 축소해나가는 알고리즘"
   ]
  },
  {
   "cell_type": "code",
   "execution_count": null,
   "metadata": {
    "collapsed": true,
    "id": "M7N31U5AgLv1",
    "jupyter": {
     "outputs_hidden": true
    }
   },
   "outputs": [],
   "source": [
    "cnt = 0 #  원판 옮긴 횟수\n",
    "def moveHanoi_1(n, start, end):\n",
    "    global cnt\n",
    "    other = 6 - (start+end)  # 보조 기둥 번호,  계산식: 1+2+3 = 6\n",
    "    if n == 1:\n",
    "        print(f'{n} 번 디스크: {start} --> {end} 이동')\n",
    "        cnt += 1\n",
    "        return 0\n",
    "    else:\n",
    "        moveHanoi_1(n-1, start, other)\n",
    "        print(f'{n} 번 디스크: {start} --> {end} 이동')\n",
    "        cnt += 1\n",
    "        moveHanoi_1(n-1, other, end)\n",
    "\n",
    "num = int(input('원판 개수: '))\n",
    "moveHanoi_1(num, 1, 3)   # 원판개수, start기둥, end기둥\n",
    "print(f'원판 옮긴 횟수: {cnt}')"
   ]
  },
  {
   "cell_type": "markdown",
   "metadata": {
    "id": "IxheLKeqnSRH"
   },
   "source": [
    "### [실습] 재귀 알고리즘 적용하기"
   ]
  },
  {
   "cell_type": "markdown",
   "metadata": {
    "id": "FLpy__ALnXYA"
   },
   "source": [
    "- countdown(n) : 5->4->3->2->1->'발사' 순서로 출력하기"
   ]
  },
  {
   "cell_type": "code",
   "execution_count": 1,
   "metadata": {
    "id": "ENgTnlEznSwg"
   },
   "outputs": [
    {
     "name": "stdout",
     "output_type": "stream",
     "text": [
      "5->4->3->2->1->발사!\n"
     ]
    }
   ],
   "source": [
    "# Countdown : 5->4->3->2->1->'발사' 순서로 출력하기)\n",
    "def countdown(n):\n",
    "    if n == 0:\n",
    "        print(\"발사!\")\n",
    "    else:\n",
    "        print(n, end=\"->\")\n",
    "        countdown(n - 1)\n",
    "\n",
    "countdown(5)"
   ]
  },
  {
   "cell_type": "markdown",
   "metadata": {
    "id": "SfY7V754nhGq"
   },
   "source": [
    "- printStar(n) : 별 모양 출력하기"
   ]
  },
  {
   "cell_type": "code",
   "execution_count": null,
   "metadata": {
    "id": "kuljO-xJnt82"
   },
   "outputs": [],
   "source": [
    "'''\n",
    "*\n",
    "**\n",
    "***\n",
    "****\n",
    "*****\n",
    "'''\n",
    "star='⭐'\n",
    "\n"
   ]
  },
  {
   "cell_type": "markdown",
   "metadata": {
    "id": "9Le0SWPlnjwO"
   },
   "source": [
    "- addNumber(n) : 1~10까지 합계 구하기"
   ]
  },
  {
   "cell_type": "code",
   "execution_count": null,
   "metadata": {
    "id": "PFSKGv1cnuUn"
   },
   "outputs": [],
   "source": [
    "def addNumber(n):\n",
    "\n",
    "\n",
    "print( addNumber(10) )"
   ]
  },
  {
   "cell_type": "markdown",
   "metadata": {
    "id": "aOFeb0yrnpUP"
   },
   "source": [
    "- sum_range(start, end) : 임의의 두 수 사이의 정수 합계 구하기 (1~100 정수)"
   ]
  },
  {
   "cell_type": "code",
   "execution_count": null,
   "metadata": {
    "id": "L-p5L3QZnuyM"
   },
   "outputs": [],
   "source": [
    "def sum_range(a, b):\n",
    "\n",
    "\n",
    "\n",
    "\n",
    "print(f'{a} ~ {b} 사이의 숫자합 = {sum_range(a, b)}')"
   ]
  },
  {
   "cell_type": "markdown",
   "metadata": {
    "id": "S6GJDloRnrpE"
   },
   "source": [
    "- reverse(s) : 문자열 뒤집기  "
   ]
  },
  {
   "cell_type": "code",
   "execution_count": 7,
   "metadata": {
    "id": "udEHXKvMnvU_"
   },
   "outputs": [
    {
     "name": "stdin",
     "output_type": "stream",
     "text": [
      "문자열 입력:  level\n"
     ]
    },
    {
     "name": "stdout",
     "output_type": "stream",
     "text": [
      "True\n"
     ]
    }
   ],
   "source": [
    "def reverse_str(s):\n",
    "    length = len(s)\n",
    "    for i in range(length//2):\n",
    "        if (s[i] != s[length-1-i]):\n",
    "            return False\n",
    "    return True\n",
    "\n",
    "\n",
    "s = input('문자열 입력: ')\n",
    "print(reverse_str(s))"
   ]
  },
  {
   "cell_type": "markdown",
   "metadata": {
    "id": "gqfslcQrtjGq"
   },
   "source": [
    "\n",
    "\n",
    "---\n",
    "\n"
   ]
  },
  {
   "cell_type": "markdown",
   "metadata": {
    "id": "kv_ihLpWtkdv"
   },
   "source": [
    "## 재귀 응용"
   ]
  },
  {
   "cell_type": "markdown",
   "metadata": {
    "id": "4dca0469-b8d9-45fc-b581-d21258ccb817"
   },
   "source": [
    "### @회문(Palindrome)여부 판단하기\n",
    "- 회문(Palindrome): 앞에서부터 읽든, 뒤에서부터  읽든 동일한 단어나 문장을 의미"
   ]
  },
  {
   "cell_type": "code",
   "execution_count": null,
   "metadata": {
    "id": "bf6d7ab1-8ad1-455a-8350-612d78aa1937"
   },
   "outputs": [],
   "source": [
    "# 회문 테스트용 문자열\n",
    "strings = ['level','radar','kayak','I prefer pi',\n",
    "         '기러기','일요일','주유소의 소유주','야 너 이번 주 주번이 너야']\n",
    "strings = ['reaver', 'level','기러기','살금 살금']"
   ]
  },
  {
   "cell_type": "markdown",
   "metadata": {
    "id": "740cd599-43d9-41b8-ae2b-705a984eef07"
   },
   "source": [
    "### [실습문제] 문자열 회문 여부 판단하기"
   ]
  },
  {
   "cell_type": "code",
   "execution_count": null,
   "metadata": {
    "id": "6c572689-b315-4173-865b-86c47cbec6fe"
   },
   "outputs": [],
   "source": [
    "# 1.리스트 인덱스를 이용한 체크\n",
    "def is_palindrome(tStrings):  # 회문 여부 판별\n",
    "    for tStr in tStrings:\n",
    "        tStr = tStr.lower().replace(' ','')  # 소문자->공백제거\n",
    "        if  :               # 역순정렬\n",
    "            print(f\"{tStr}\\t--> True\")\n",
    "        else:\n",
    "            print(f\"{tStr}\\t--> False\")\n",
    "\n",
    "is_palindrome(['reaver', 'level','기러기','살금 살금'])"
   ]
  },
  {
   "cell_type": "markdown",
   "metadata": {
    "id": "332423bf-c847-4c2f-ab8b-74898e4933b5"
   },
   "source": [
    "### [실습문제] 문자열 회문여부 판단하기(재귀 알고리즘 사용)"
   ]
  },
  {
   "cell_type": "code",
   "execution_count": null,
   "metadata": {
    "id": "96811845-b175-43b6-af38-61e12ff848db"
   },
   "outputs": [],
   "source": [
    "# 2.재귀 알고리즘 사용\n",
    "def palindrome(tStr):         # 재귀방법으로 회문 여부 체크\n",
    "\n",
    "\n",
    "\n",
    "def is_palindrome(tStrings):  # 회문 여부 판별\n",
    "    for tStr in tStrings:                    # 문자열 하나씩 읽기\n",
    "        tStr = tStr.lower().replace(' ','')  # 소문자->공백제거\n",
    "        if palindrome(tStr):                 # 판별 함수 호출\n",
    "            print(f\"{tStr} --> True\")\n",
    "        else:\n",
    "            print(f\"{tStr} --> False\")\n",
    "\n",
    "is_palindrome(['reaver', 'level','기러기','살금 살금'])"
   ]
  },
  {
   "cell_type": "markdown",
   "metadata": {
    "id": "2f349b56-10e6-4dcd-afe5-e49a68ccc6c9"
   },
   "source": [
    "-----------------------"
   ]
  },
  {
   "cell_type": "markdown",
   "metadata": {
    "id": "1e3c4131-6314-4657-81f6-941971f5a9fe"
   },
   "source": [
    "### 2-2. 프랙탈 그리기"
   ]
  },
  {
   "cell_type": "markdown",
   "metadata": {
    "id": "3762320d-99f8-481a-930a-0a4b23b11924"
   },
   "source": [
    "### [실습문제] 코흐 곡선(Koch Curve) 그리기\n",
    "[주의!] turtle 모듈은 PC python IDLE 툴에서 안정적으로 작동한다."
   ]
  },
  {
   "cell_type": "code",
   "execution_count": 9,
   "metadata": {
    "id": "b002edad-fd9c-4ffc-9eb2-01a42f3e932a"
   },
   "outputs": [
    {
     "ename": "Terminator",
     "evalue": "",
     "output_type": "error",
     "traceback": [
      "\u001b[1;31m------------------------------------------------\u001b[0m",
      "\u001b[1;31mTerminator\u001b[0m     Traceback (most recent call last)",
      "Cell \u001b[1;32mIn[9], line 35\u001b[0m\n\u001b[0;32m     32\u001b[0m     koch_curve(t, order, size)   \u001b[38;5;66;03m# 그리기(터틀) 객체, 재귀호출 횟수, 변길이\u001b[39;00m\n\u001b[0;32m     34\u001b[0m \u001b[38;5;66;03m# 코흐 커브 생성\u001b[39;00m\n\u001b[1;32m---> 35\u001b[0m \u001b[43mdraw_koch_curve\u001b[49m\u001b[43m(\u001b[49m\u001b[43morder\u001b[49m\u001b[38;5;241;43m=\u001b[39;49m\u001b[38;5;241;43m4\u001b[39;49m\u001b[43m,\u001b[49m\u001b[43m \u001b[49m\u001b[43msize\u001b[49m\u001b[38;5;241;43m=\u001b[39;49m\u001b[38;5;241;43m400\u001b[39;49m\u001b[43m)\u001b[49m\n\u001b[0;32m     36\u001b[0m turtle\u001b[38;5;241m.\u001b[39mexitonclick()\n",
      "Cell \u001b[1;32mIn[9], line 26\u001b[0m, in \u001b[0;36mdraw_koch_curve\u001b[1;34m(order, size)\u001b[0m\n\u001b[0;32m     25\u001b[0m \u001b[38;5;28;01mdef\u001b[39;00m \u001b[38;5;21mdraw_koch_curve\u001b[39m(order, size):\n\u001b[1;32m---> 26\u001b[0m     t \u001b[38;5;241m=\u001b[39m \u001b[43mturtle\u001b[49m\u001b[38;5;241;43m.\u001b[39;49m\u001b[43mTurtle\u001b[49m\u001b[43m(\u001b[49m\u001b[43m)\u001b[49m\n\u001b[0;32m     27\u001b[0m     t\u001b[38;5;241m.\u001b[39mspeed(\u001b[38;5;241m0\u001b[39m)      \u001b[38;5;66;03m# 최대 속도로 그리기\u001b[39;00m\n\u001b[0;32m     28\u001b[0m     t\u001b[38;5;241m.\u001b[39mpenup()\n",
      "File \u001b[1;32m~\\AppData\\Local\\Programs\\Python\\Python312\\Lib\\turtle.py:3876\u001b[0m, in \u001b[0;36mTurtle.__init__\u001b[1;34m(self, shape, undobuffersize, visible)\u001b[0m\n\u001b[0;32m   3874\u001b[0m \u001b[38;5;28;01mif\u001b[39;00m Turtle\u001b[38;5;241m.\u001b[39m_screen \u001b[38;5;129;01mis\u001b[39;00m \u001b[38;5;28;01mNone\u001b[39;00m:\n\u001b[0;32m   3875\u001b[0m     Turtle\u001b[38;5;241m.\u001b[39m_screen \u001b[38;5;241m=\u001b[39m Screen()\n\u001b[1;32m-> 3876\u001b[0m \u001b[43mRawTurtle\u001b[49m\u001b[38;5;241;43m.\u001b[39;49m\u001b[38;5;21;43m__init__\u001b[39;49m\u001b[43m(\u001b[49m\u001b[38;5;28;43mself\u001b[39;49m\u001b[43m,\u001b[49m\u001b[43m \u001b[49m\u001b[43mTurtle\u001b[49m\u001b[38;5;241;43m.\u001b[39;49m\u001b[43m_screen\u001b[49m\u001b[43m,\u001b[49m\n\u001b[0;32m   3877\u001b[0m \u001b[43m                   \u001b[49m\u001b[43mshape\u001b[49m\u001b[38;5;241;43m=\u001b[39;49m\u001b[43mshape\u001b[49m\u001b[43m,\u001b[49m\n\u001b[0;32m   3878\u001b[0m \u001b[43m                   \u001b[49m\u001b[43mundobuffersize\u001b[49m\u001b[38;5;241;43m=\u001b[39;49m\u001b[43mundobuffersize\u001b[49m\u001b[43m,\u001b[49m\n\u001b[0;32m   3879\u001b[0m \u001b[43m                   \u001b[49m\u001b[43mvisible\u001b[49m\u001b[38;5;241;43m=\u001b[39;49m\u001b[43mvisible\u001b[49m\u001b[43m)\u001b[49m\n",
      "File \u001b[1;32m~\\AppData\\Local\\Programs\\Python\\Python312\\Lib\\turtle.py:2565\u001b[0m, in \u001b[0;36mRawTurtle.__init__\u001b[1;34m(self, canvas, shape, undobuffersize, visible)\u001b[0m\n\u001b[0;32m   2563\u001b[0m \u001b[38;5;28mself\u001b[39m\u001b[38;5;241m.\u001b[39m_undobuffersize \u001b[38;5;241m=\u001b[39m undobuffersize\n\u001b[0;32m   2564\u001b[0m \u001b[38;5;28mself\u001b[39m\u001b[38;5;241m.\u001b[39mundobuffer \u001b[38;5;241m=\u001b[39m Tbuffer(undobuffersize)\n\u001b[1;32m-> 2565\u001b[0m \u001b[38;5;28;43mself\u001b[39;49m\u001b[38;5;241;43m.\u001b[39;49m\u001b[43m_update\u001b[49m\u001b[43m(\u001b[49m\u001b[43m)\u001b[49m\n",
      "File \u001b[1;32m~\\AppData\\Local\\Programs\\Python\\Python312\\Lib\\turtle.py:2668\u001b[0m, in \u001b[0;36mRawTurtle._update\u001b[1;34m(self)\u001b[0m\n\u001b[0;32m   2666\u001b[0m     \u001b[38;5;28;01mreturn\u001b[39;00m\n\u001b[0;32m   2667\u001b[0m \u001b[38;5;28;01melif\u001b[39;00m screen\u001b[38;5;241m.\u001b[39m_tracing \u001b[38;5;241m==\u001b[39m \u001b[38;5;241m1\u001b[39m:\n\u001b[1;32m-> 2668\u001b[0m     \u001b[38;5;28;43mself\u001b[39;49m\u001b[38;5;241;43m.\u001b[39;49m\u001b[43m_update_data\u001b[49m\u001b[43m(\u001b[49m\u001b[43m)\u001b[49m\n\u001b[0;32m   2669\u001b[0m     \u001b[38;5;28mself\u001b[39m\u001b[38;5;241m.\u001b[39m_drawturtle()\n\u001b[0;32m   2670\u001b[0m     screen\u001b[38;5;241m.\u001b[39m_update()                  \u001b[38;5;66;03m# TurtleScreenBase\u001b[39;00m\n",
      "File \u001b[1;32m~\\AppData\\Local\\Programs\\Python\\Python312\\Lib\\turtle.py:2654\u001b[0m, in \u001b[0;36mRawTurtle._update_data\u001b[1;34m(self)\u001b[0m\n\u001b[0;32m   2653\u001b[0m \u001b[38;5;28;01mdef\u001b[39;00m \u001b[38;5;21m_update_data\u001b[39m(\u001b[38;5;28mself\u001b[39m):\n\u001b[1;32m-> 2654\u001b[0m     \u001b[38;5;28;43mself\u001b[39;49m\u001b[38;5;241;43m.\u001b[39;49m\u001b[43mscreen\u001b[49m\u001b[38;5;241;43m.\u001b[39;49m\u001b[43m_incrementudc\u001b[49m\u001b[43m(\u001b[49m\u001b[43m)\u001b[49m\n\u001b[0;32m   2655\u001b[0m     \u001b[38;5;28;01mif\u001b[39;00m \u001b[38;5;28mself\u001b[39m\u001b[38;5;241m.\u001b[39mscreen\u001b[38;5;241m.\u001b[39m_updatecounter \u001b[38;5;241m!=\u001b[39m \u001b[38;5;241m0\u001b[39m:\n\u001b[0;32m   2656\u001b[0m         \u001b[38;5;28;01mreturn\u001b[39;00m\n",
      "File \u001b[1;32m~\\AppData\\Local\\Programs\\Python\\Python312\\Lib\\turtle.py:1284\u001b[0m, in \u001b[0;36mTurtleScreen._incrementudc\u001b[1;34m(self)\u001b[0m\n\u001b[0;32m   1282\u001b[0m \u001b[38;5;28;01mif\u001b[39;00m \u001b[38;5;129;01mnot\u001b[39;00m TurtleScreen\u001b[38;5;241m.\u001b[39m_RUNNING:\n\u001b[0;32m   1283\u001b[0m     TurtleScreen\u001b[38;5;241m.\u001b[39m_RUNNING \u001b[38;5;241m=\u001b[39m \u001b[38;5;28;01mTrue\u001b[39;00m\n\u001b[1;32m-> 1284\u001b[0m     \u001b[38;5;28;01mraise\u001b[39;00m Terminator\n\u001b[0;32m   1285\u001b[0m \u001b[38;5;28;01mif\u001b[39;00m \u001b[38;5;28mself\u001b[39m\u001b[38;5;241m.\u001b[39m_tracing \u001b[38;5;241m>\u001b[39m \u001b[38;5;241m0\u001b[39m:\n\u001b[0;32m   1286\u001b[0m     \u001b[38;5;28mself\u001b[39m\u001b[38;5;241m.\u001b[39m_updatecounter \u001b[38;5;241m+\u001b[39m\u001b[38;5;241m=\u001b[39m \u001b[38;5;241m1\u001b[39m\n",
      "\u001b[1;31mTerminator\u001b[0m: "
     ]
    }
   ],
   "source": [
    "import turtle\n",
    "\n",
    "def koch_curve(t, order, size):\n",
    "    \"\"\"\n",
    "    t: 터틀 객체\n",
    "    order: 재귀 횟수\n",
    "    size: 선분 길이\n",
    "    \"\"\"\n",
    "    if order == 0:\n",
    "        t.forward(size)\n",
    "    else:\n",
    "        koch_curve(t, order-1, size/3)\n",
    "        t.left(60)\n",
    "        koch_curve(t, order-1, size/3)\n",
    "        t.right(120)\n",
    "        koch_curve(t, order-1, size/3)\n",
    "        t.left(60)\n",
    "        koch_curve(t, order-1, size/3)\n",
    "\n",
    "\n",
    "def draw_koch_curve(order, size):\n",
    "    t = turtle.Turtle()\n",
    "    t.speed(0)      # 최대 속도로 그리기\n",
    "    t.penup()\n",
    "    t.goto(-200,0)  # 좌표 이동\n",
    "    t.pendown()\n",
    "\n",
    "    koch_curve(t, order, size)   # 그리기(터틀) 객체, 재귀호출 횟수, 변길이\n",
    "\n",
    "# 코흐 커브 생성\n",
    "draw_koch_curve(order=4, size=400)\n",
    "turtle.exitonclick()"
   ]
  },
  {
   "cell_type": "markdown",
   "metadata": {
    "id": "4330b95b-9496-4969-a5a7-5e5e43db8142"
   },
   "source": [
    "### [실습문제] 시에르핀스키 삼각형\n",
    "- 둘레의 길이는 무한대로 늘어나지만 얿이는 유한하다."
   ]
  },
  {
   "cell_type": "code",
   "execution_count": 10,
   "metadata": {
    "id": "6c060dda-6dab-498c-8adb-d4143c22f1ac"
   },
   "outputs": [],
   "source": [
    "import turtle\n",
    "\n",
    "def sierpinski_triangle(t, order, size, p1, p2, p3):\n",
    "    if order == 0:\n",
    "        # 삼각형 그리기\n",
    "        t.up()\n",
    "        t.goto(p1)\n",
    "        t.down()\n",
    "        t.goto(p2)\n",
    "        t.goto(p3)\n",
    "        t.goto(p1)\n",
    "    else:\n",
    "        # 새로운 중간 점 계산\n",
    "        p12 = ((p1[0] + p2[0]) / 2, (p1[1] + p2[1]) / 2)\n",
    "        p23 = ((p2[0] + p3[0]) / 2, (p2[1] + p3[1]) / 2)\n",
    "        p31 = ((p3[0] + p1[0]) / 2, (p3[1] + p1[1]) / 2)\n",
    "\n",
    "        # 재귀 호출\n",
    "        sierpinski_triangle(t, order - 1, size / 2, p1, p12, p31)\n",
    "        sierpinski_triangle(t, order - 1, size / 2, p12, p2, p23)\n",
    "        sierpinski_triangle(t, order - 1, size / 2, p31, p23, p3)\n",
    "\n",
    "def draw_sierpinski_triangle(order, size):\n",
    "    t = turtle.Turtle()\n",
    "    t.speed(0)  # 최대 속도로 그림\n",
    "\n",
    "    # 정삼각형 꼭짓점 좌표\n",
    "    p1 = (-size/2, -size/(2 * (3**0.5)))\n",
    "    p2 = (size/2, -size/(2 * (3**0.5)))\n",
    "    p3 = (0, size/(3**0.5)/2)\n",
    "\n",
    "    sierpinski_triangle(t, order, size, p1, p2, p3)\n",
    "    turtle.done()\n",
    "\n",
    "# 호출 예시\n",
    "draw_sierpinski_triangle(order=4, size=400)"
   ]
  },
  {
   "cell_type": "markdown",
   "metadata": {
    "id": "jXyhU2fT2Xgo"
   },
   "source": [
    "\n",
    "\n",
    "---\n",
    "\n"
   ]
  }
 ],
 "metadata": {
  "colab": {
   "provenance": []
  },
  "kernelspec": {
   "display_name": "Python 3 (ipykernel)",
   "language": "python",
   "name": "python3"
  },
  "language_info": {
   "codemirror_mode": {
    "name": "ipython",
    "version": 3
   },
   "file_extension": ".py",
   "mimetype": "text/x-python",
   "name": "python",
   "nbconvert_exporter": "python",
   "pygments_lexer": "ipython3",
   "version": "3.12.3"
  }
 },
 "nbformat": 4,
 "nbformat_minor": 4
}
