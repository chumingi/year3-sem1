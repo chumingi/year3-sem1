{
 "cells": [
  {
   "cell_type": "markdown",
   "metadata": {
    "id": "-QI-sd4l0wig"
   },
   "source": [
    "# 자료구조 기초 - 2.기본 자료구조\n"
   ]
  },
  {
   "cell_type": "markdown",
   "metadata": {
    "id": "uBGG-GGq0wih"
   },
   "source": [
    "\n",
    "\n",
    "---\n",
    "\n"
   ]
  },
  {
   "cell_type": "markdown",
   "metadata": {
    "id": "FtOgObuT0wih"
   },
   "source": [
    "# 리스트(List)\n",
    "- 가장 자유로운 **선형 자료구조**(**연결 자료구조**)\n",
    "- 각 자료는 순서 또는 위치(position)를 가짐 - 다양한 항목들을 저장, 조회할 수 있음\n",
    "- **장점**은 동적 메모리 할당이 가능\n",
    "- **단점**은 배열에 비해 노드 접근 시간이 느리고, 추가 메모리 공간(링크 필드)이 필요함"
   ]
  },
  {
   "cell_type": "markdown",
   "metadata": {
    "id": "ZIbWtzmiWtCh"
   },
   "source": [
    "## 리스트 개요"
   ]
  },
  {
   "cell_type": "markdown",
   "metadata": {
    "id": "RvUtvyKe2o4J"
   },
   "source": [
    "### @파이썬의 리스트 자료구조\n",
    "- 파이썬의 리스트는 연속된 메모리를 사용하는 배열구조\n",
    "- 단, 용량이 제한되지 않도록 동적 배열로 구현됨"
   ]
  },
  {
   "cell_type": "code",
   "execution_count": null,
   "metadata": {
    "id": "AVRl0m3b0ifL"
   },
   "outputs": [],
   "source": [
    "import numpy as np\n",
    "\n",
    "a = [1, 2.2, (3,4), \"5\", np.array([6,7]), {\"key8\": 9}, 10]\n",
    "print(f'a = {a} ')\n",
    "\n",
    "# 리스트 안에 function, class도 담을 수 있다\n",
    "def print_number(num):\n",
    "    print(\"function number : \", num)\n",
    "\n",
    "class Text:\n",
    "    def __init__(self, num):\n",
    "        self.num = num\n",
    "    def print_number_method(self):\n",
    "        print(\"method number : \", self.num)\n",
    "\n",
    "\n",
    "a_list = [1, print_number, Text]\n",
    "print(f'\\na_list = {a_list}\\n')\n",
    "\n",
    "c = a_list[1](10)\n",
    "print()\n",
    "\n",
    "d = a_list[2](20)\n",
    "d.print_number_method()"
   ]
  },
  {
   "cell_type": "markdown",
   "metadata": {
    "id": "6LwRY4m3Wy5c"
   },
   "source": [
    "### @리스트의 주요 연산"
   ]
  },
  {
   "cell_type": "markdown",
   "metadata": {
    "id": "nwPdJWbXW3z4"
   },
   "source": [
    " 연산 | 설명 |\n",
    "----|-----|\n",
    " **insert(pos, e)** | pos 위치에 새로운 데이터(요소) 삽입 |\n",
    " **delete(pos)** | pos 위치에 있는 요소 꺼내서 반환 |\n",
    " **getEntry(pos)** |  pos 위치에 있는 요소를 삭제하지 않고 반환 |\n",
    " **isEmpty()** | 리스트가 비어 있는지 여부 반환, True/False 반환 |\n",
    " **isFull()** |  리스트가 가득 차 있는지 확인, True/False 반환 |\n",
    " **size()** |  리스트에 들어 있는 전체 요소의 수 반환 |"
   ]
  },
  {
   "cell_type": "markdown",
   "metadata": {
    "id": "SKWwk8RKW84d"
   },
   "source": [
    "### @리스트의 연산 동작"
   ]
  },
  {
   "cell_type": "code",
   "execution_count": null,
   "metadata": {
    "id": "6TnOsMqu17r5"
   },
   "outputs": [],
   "source": [
    "class Node:\n",
    "    def __init__(self, data):\n",
    "        self.data = data  # 데이터\n",
    "        self.link = None  # 연결 링크\n",
    "\n",
    "class LinkedList:\n",
    "    def __init__(self):\n",
    "        self.head = None  # 헤더 포인터\n",
    "\n",
    "    def insert(self, pos, e): # 삽입 연산\n",
    "        new_node = Node(e)                 # 신규 노드 추가\n",
    "        if pos == 0:                       # 위치가 처음이면\n",
    "            new_node.link = self.head      # 신규 노드 링크는 헤드 포인터(null)로 지정\n",
    "            self.head = new_node           # 헤드 포인터는 신규 노드를 가르키도록 지정\n",
    "            return                         # 반환\n",
    "        current = self.head                # 추가 위치 찾기 위해 처음 지정하여 순회\n",
    "        count = 1                          #\n",
    "        while current and count < pos:     #\n",
    "            current = current.link         # 다음 진행\n",
    "            count += 1                     #\n",
    "        if current is None:\n",
    "            raise IndexError(\"Index out of bounds\")\n",
    "        new_node.link = current.link    # 현재 포인터\n",
    "        current.link = new_node\n",
    "\n",
    "    def delete(self, pos):       # 삭제 연산\n",
    "        if self.head is None:\n",
    "            raise IndexError(\"List is empty\")\n",
    "        if pos == 0:\n",
    "            self.head = self.head.link\n",
    "            return\n",
    "        current = self.head                        # 삭제 위치 찾기 위해 처음 지정하여 순회\n",
    "        count = 1                                  #\n",
    "        while current.link and count < pos:        #\n",
    "            current = current.link                 # 다음 진행\n",
    "            count += 1                             #\n",
    "        if current.link is None:\n",
    "            raise IndexError(\"Index out of bounds\")\n",
    "        current.link = current.next.link\n"
   ]
  },
  {
   "cell_type": "code",
   "execution_count": null,
   "metadata": {
    "id": "yT-a2hq7XHm3"
   },
   "outputs": [],
   "source": [
    "myList = LinkedList()\n",
    "myList.insert(0, 'A')\n",
    "myList.insert(1, 'B')\n",
    "myList.insert(1, 'C')\n",
    "myList.delete(0)"
   ]
  },
  {
   "cell_type": "markdown",
   "metadata": {
    "id": "WRJaEikegEdd"
   },
   "source": [
    "\n",
    "\n",
    "---\n",
    "\n"
   ]
  },
  {
   "cell_type": "markdown",
   "metadata": {
    "id": "HxVoSDHggFA4"
   },
   "source": [
    "## 배열 구조 리스트 vs 연결된 구조 리스트"
   ]
  },
  {
   "cell_type": "markdown",
   "metadata": {
    "id": "iUkCl2AogFNY"
   },
   "source": [
    "* 배열 구조 리스트\n",
    "  - 모든 요소의 크기가 같다\n",
    "  - 연속된 메모리 공간에 있다\n",
    "* 연결된 구조 리스트\n",
    "  - 노드(node) : data + link"
   ]
  },
  {
   "cell_type": "markdown",
   "metadata": {
    "id": "KuV8_TL2glyh"
   },
   "source": [
    "### @리스트 요소들에 대한 접근\n",
    "- https://docs.python.org/ko/3/library/functions.html#id"
   ]
  },
  {
   "cell_type": "code",
   "execution_count": null,
   "metadata": {
    "id": "QR-aHbnsgpz_"
   },
   "outputs": [],
   "source": [
    "# 파이썬에서 메모리 위치 확인 :  리스트(name)와 리스트값(value)은 메모리 별도 관리됨\n",
    "myList = [10,20,30,40]\n",
    "print( id(myList) )\n",
    "print( id(myList[0]) )\n",
    "print( id(myList[1]) )"
   ]
  },
  {
   "cell_type": "markdown",
   "metadata": {
    "id": "PHfhFC8dinSN"
   },
   "source": [
    "### @리스트의 용량"
   ]
  },
  {
   "cell_type": "code",
   "execution_count": 1,
   "metadata": {
    "id": "lb3lJUswjcDk"
   },
   "outputs": [
    {
     "name": "stdout",
     "output_type": "stream",
     "text": [
      "Empty list size: 56 bytes\n",
      "After adding 0: Size = 88 bytes, Length = 1\n",
      "After adding 1: Size = 88 bytes, Length = 2\n",
      "After adding 2: Size = 88 bytes, Length = 3\n",
      "After adding 3: Size = 88 bytes, Length = 4\n",
      "After adding 4: Size = 120 bytes, Length = 5\n",
      "After adding 5: Size = 120 bytes, Length = 6\n"
     ]
    }
   ],
   "source": [
    "# 1.리스트의 용량\n",
    "import sys\n",
    "\n",
    "# 빈 리스트 생성\n",
    "lst = []\n",
    "\n",
    "# 초기 리스트 크기\n",
    "print(f\"Empty list size: {sys.getsizeof(lst)} bytes\")\n",
    "\n",
    "# 리스트에 원소 추가하면서 크기 변화 확인\n",
    "for i in range(6):\n",
    "    lst.append(i)\n",
    "    print(f\"After adding {i}: Size = {sys.getsizeof(lst)} bytes, Length = {len(lst)}\")\n"
   ]
  },
  {
   "cell_type": "code",
   "execution_count": 2,
   "metadata": {
    "id": "DBwllLmSirbQ"
   },
   "outputs": [
    {
     "name": "stdout",
     "output_type": "stream",
     "text": [
      "0 28 bytes 1\n",
      "1 28 bytes 6\n",
      "2 28 bytes 20\n",
      "3 28 bytes 50\n",
      "4 28 bytes 100\n",
      "5 28 bytes 1000\n"
     ]
    }
   ],
   "source": [
    "# 2. 각 데이터들의 크기\n",
    "a = [1,6,20,50,100,1000]\n",
    "\n",
    "for i in range(len(a)):\n",
    "    print(i, sys.getsizeof(a[i]), 'bytes', a[i])\n",
    "# value size : arr address(16) + address size(8) + int size(4)\n",
    "#  - metadata : arr address(16) + address size(8)\n",
    "#  - data valie : int size(4)"
   ]
  },
  {
   "cell_type": "code",
   "execution_count": 3,
   "metadata": {
    "id": "jN1-XEzmkhoj"
   },
   "outputs": [
    {
     "name": "stdout",
     "output_type": "stream",
     "text": [
      "List size (sys.getsizeof): 104 bytes\n",
      "List data size (__sizeof__): 88 bytes\n",
      "Overhead size: 16 bytes\n"
     ]
    }
   ],
   "source": [
    "'''\n",
    "sys.getsizeof(lst): 리스트 객체의 메타데이터 포함한 전체 크기 확인\n",
    "lst.__sizeof__(): 메타데이터 제외한 실제 리스트의 크기 확인\n",
    "sys.getsizeof(lst) - lst.__sizeof__(): 리스트의 관리 오버헤드 크기 계산\n",
    "'''\n",
    "lst = [1,6,20,50,100,1000]\n",
    "\n",
    "print(f\"List size (sys.getsizeof): {sys.getsizeof(lst)} bytes\")\n",
    "print(f\"List data size (__sizeof__): {lst.__sizeof__()} bytes\")\n",
    "print(f\"Overhead size: {sys.getsizeof(lst) - lst.__sizeof__()} bytes\")\n"
   ]
  },
  {
   "cell_type": "markdown",
   "metadata": {
    "id": "6_rALPHmlp2d"
   },
   "source": [
    "### @파이썬 리스트는 배열 구조 리스트\n",
    "- 파이썬 리스트는 배열 구조 리스트\n",
    "- 용량이 제한되지 않도록 **동적 배열로 구현**됨\n",
    "- 용량 확장은 내부적으로 처리되므로 사용자는 신경을 쓰지 않아도 됨\n",
    "- 파이썬 리스트의 append() 연산의 처리 시간은 항상 동일하지 않음\n",
    "- **파이썬 리스트 연산(함수)들**"
   ]
  },
  {
   "cell_type": "code",
   "execution_count": null,
   "metadata": {
    "collapsed": true,
    "id": "282jZTYWl1EH",
    "jupyter": {
     "outputs_hidden": true
    }
   },
   "outputs": [],
   "source": [
    "help(list)"
   ]
  },
  {
   "cell_type": "code",
   "execution_count": null,
   "metadata": {
    "id": "mGU6BNyUmkoO"
   },
   "outputs": [],
   "source": [
    "# 파이썬 리스트 연산(함수)들\n",
    "myList = [10, 20, 30, 40]\n",
    "\n",
    "print('myList               :', myList)\n",
    "myList.append(50)\n",
    "print('append(50)           :', myList)\n",
    "myList.extend([10, 30, 50])\n",
    "print('extend([10, 30, 50]) :', myList)\n",
    "myList.count(10)\n",
    "print('count(10)            :', myList)\n",
    "myList.index(30)\n",
    "print('index(30)            :', myList)\n",
    "myList.insert(1, 60)\n",
    "print('insert(1, 60)        :', myList)\n",
    "myList.pop(2)\n",
    "print('pop(2)               :', myList)\n",
    "myList.pop()\n",
    "print('pop()                :', myList)\n",
    "myList.remove(30)\n",
    "print('remove(30)           :', myList)\n",
    "myList.reverse()\n",
    "print('reverse()            :', myList)\n",
    "myList.sort()\n",
    "print('sort()               :', myList)"
   ]
  },
  {
   "cell_type": "markdown",
   "metadata": {
    "id": "5FlD592vmqBx"
   },
   "source": [
    "### @연결 리스트의 종류\n",
    "* 단순 연결 리스트(Singly Linked List)\n",
    "  - 꼬리 노드의 링크가 None\n",
    "* 이중 연결 리스트(Doubly Linked List)\n",
    "  - 이전 노드(previous), 다음 노드(next)를 가리킴\n",
    "* 원형 연결 리스트(Circular Linked List)\n",
    "  - 꼬리 노드의 링크가 머리 노드를 가리킴"
   ]
  },
  {
   "cell_type": "markdown",
   "metadata": {
    "id": "yqbqDMQOmsD3"
   },
   "source": [
    "\n",
    "\n",
    "---\n",
    "\n"
   ]
  },
  {
   "cell_type": "markdown",
   "metadata": {
    "id": "mnu2J2-cnuds"
   },
   "source": [
    "## 단순 연결 리스트(Singly Linked List)\n"
   ]
  },
  {
   "cell_type": "markdown",
   "metadata": {
    "id": "2Vr8ItDtpGcq"
   },
   "source": [
    "1.노드 클래스 정의하기"
   ]
  },
  {
   "cell_type": "code",
   "execution_count": null,
   "metadata": {
    "id": "OlddJwJwoVWw"
   },
   "outputs": [],
   "source": [
    "# 단순 연결 구조를 위한 Node 클래스\n",
    "class Node:                             # 단순 연결 구조를 위한 노드 클래스\n",
    "    def __init__ (self, e, next=None):\n",
    "        self.data = e\n",
    "        self.link = next\n",
    "\n",
    "    # append(node) 연산\n",
    "    def append (self, node):            # 현재 노드(self) 다음에 node를 넣는 연산\n",
    "        if node is not None :           # node가 None이 아니면\n",
    "            node.link = self.link       # node의 link에 self 다음 노드를 연결\n",
    "        self.link = node                # 이제 다음 노드는 node가 됨\n",
    "\n",
    "    # popNext() 연산\n",
    "    def popNext (self):                 # 현재 노드(self)의 다음 노드를 삭제하는 연산\n",
    "        next = self.link                # 현재 노드(self)의 다음 노드\n",
    "        if next is not None :           # next가 None이 아니면\n",
    "            self.link = next.link       # self의 다음 노드는 next.link\n",
    "        return next                     # 다음 노드를 반환"
   ]
  },
  {
   "cell_type": "markdown",
   "metadata": {
    "id": "PQkgfqZ7pQVt"
   },
   "source": [
    "2. 리스트 클래스 정의하기"
   ]
  },
  {
   "cell_type": "code",
   "execution_count": null,
   "metadata": {
    "id": "ZW3J8dQ7pQjD"
   },
   "outputs": [],
   "source": [
    "class SinglyLinkedList:                       # 단순연결리스트 클래스\n",
    "    def __init__( self ):               # 생성자\n",
    "        self.head = None                # head 선언 및 None으로 초기화\n",
    "\n",
    "    # 연산: 포화, 공백 상태 검사\n",
    "    def isEmpty( self ):                # 공백상태 검사\n",
    "        return self.head == None         # head가 None이면 공백\n",
    "\n",
    "    def isFull( self ):                 # 포화상태 검사\n",
    "        return False                     # 연결된 구조에서는 포화상태 없음\n",
    "\n",
    "    def clear( self ) : self.head = None\n",
    "\n",
    "    # 연산: getNode(pos)\n",
    "    def getNode(self, pos) :\n",
    "        if pos < 0 : return None        # 잘못된 위치 -> None 반환\n",
    "        ptr = self.head                 # 시작 위치 -> head\n",
    "        for i in range(pos):            # pos-1번 링크를 따라 이동\n",
    "            if ptr == None :            # pos가 리스트 크기보다 큰 경우\n",
    "               return None              # None 반환\n",
    "            ptr = ptr.link              # ptr을 진행시킴\n",
    "        return ptr                      # 최종 노드를 반환\n",
    "\n",
    "    # 연산: getEntry(pos)\n",
    "    def getEntry(self, pos) :\n",
    "        node = self.getNode(pos)        # pos번째 노드를 구함\n",
    "        if node == None : return None   # 해당 노드가 없는 경우\n",
    "        else : return node.data         # 있는 경우 데이터 필드 반환\n",
    "\n",
    "    def replace(self, pos, elem) :\n",
    "        node = self.getNode(pos)\n",
    "        if node != None : node.data = elem\n",
    "\n",
    "    def find(self, val) :\n",
    "        node = self.head;\n",
    "        while node is not None:\n",
    "            if node.data == val : return node\n",
    "            node = node.link\n",
    "        return node\n",
    "\n",
    "    # 연산: 삽입 연산 insert(pos, e)\n",
    "    def insert(self, pos, elem) :\n",
    "        node = Node(elem, None)         # 삽입할 새로운 노드를 만듦\n",
    "        before = self.getNode(pos-1)    # 삽입할 위치 이전 노드 탐색\n",
    "        if before == None :             # 머리 노드로 삽입하는 경우\n",
    "            node.link = self.head       # node의 링크가 머리노드를 가리킴\n",
    "            self.head = node            # 이제 node가 머리노드가 됨\n",
    "        else : before.append(node)      # 아닌 경우: before 다음에 추가\n",
    "\n",
    "    # 연산: 삭제 연산 delete(pos)\n",
    "    def delete(self, pos) :\n",
    "        before = self.getNode(pos-1)        # 삭제할 위치 이전 노드 탐색\n",
    "        if before == None :                 # 머리노드 삭제 경우\n",
    "            if self.head is not None :      # 공백 상태가 아니면\n",
    "                self.head = self.head.link  # 머리노드를 갱신\n",
    "        else: before.popNext()              # before의 다음노드 삭제\n",
    "\n",
    "    # 연산: 전체 요소의 수 size()\n",
    "    def size( self ) :\n",
    "        ptr = self.head                 # ptr은 머리노드에서 시작함\n",
    "        count = 0;                      # 맨 처음에 count는 0\n",
    "        while ptr is not None :         # ptr이 None이 아닌 동안\n",
    "            ptr = ptr.link              # 링크를 따라 ptr 이동\n",
    "            count += 1                  # 이동할 때 마다 count 증가\n",
    "        return count                    # count 반환\n",
    "\n",
    "    # 화면 출력 display( )\n",
    "    def display(self, msg='SinglyLinkedList:' ):\n",
    "        print(msg, end='')\n",
    "        ptr = self.head\n",
    "        while ptr is not None :\n",
    "            print(ptr.data, end='->')\n",
    "            ptr = ptr.link\n",
    "        print('None')"
   ]
  },
  {
   "cell_type": "markdown",
   "metadata": {
    "id": "Ot--Z_8LpzJO"
   },
   "source": [
    "### [실습] 단순 연결 리스트 vs 파이썬 리스트 비교"
   ]
  },
  {
   "cell_type": "code",
   "execution_count": null,
   "metadata": {
    "id": "KB3xBKwwp54P"
   },
   "outputs": [],
   "source": [
    "# 1.단순연결리스트(SinglyLinkedList) 사용\n",
    "s = SinglyLinkedList()\n",
    "s.display('연결리스트( 초기 ): ')\n",
    "s.insert(0, 10)\n",
    "s.insert(0, 20)\n",
    "s.insert(1, 30)\n",
    "s.insert(s.size(), 40)\n",
    "s.insert(2, 50)\n",
    "s.display(\"연결리스트(삽입x5): \")\n",
    "s.replace(2, 90)\n",
    "s.display(\"연결리스트(교체x1): \")\n",
    "s.delete(2)\n",
    "s.delete(3)\n",
    "s.delete(0)\n",
    "s.display(\"연결리스트(삭제x3): \")"
   ]
  },
  {
   "cell_type": "code",
   "execution_count": null,
   "metadata": {
    "id": "tC7NZwHSqsFq"
   },
   "outputs": [],
   "source": [
    "# 2.파이썬의 리스트 사용\n",
    "l = [] # list()\n",
    "print('파이썬list( 초기 ):', l)\n",
    "l.insert(0, 10)\n",
    "l.insert(0, 20)\n",
    "l.insert(1, 30)\n",
    "l.insert(len(l), 40)\n",
    "l.insert(2, 50)\n",
    "print('파이썬list(삽입x5):', l)\n",
    "l[2] = 90\n",
    "print('파이썬list(교체x1):', l)\n",
    "l.pop(2)\n",
    "l.pop(3)\n",
    "l.pop(0)\n",
    "print('파이썬list(삭제x3):', l)"
   ]
  },
  {
   "cell_type": "markdown",
   "metadata": {
    "id": "m32tzTCXoNt0"
   },
   "source": [
    "\n",
    "\n",
    "---\n",
    "\n"
   ]
  },
  {
   "cell_type": "markdown",
   "metadata": {
    "id": "7wRtm-J0n7Fs"
   },
   "source": [
    "## 이중 연결 리스트(Doubly Linked List)\n"
   ]
  },
  {
   "cell_type": "markdown",
   "metadata": {
    "id": "1lnhBEZErUat"
   },
   "source": [
    "1. 노드 클래스 정의하기"
   ]
  },
  {
   "cell_type": "code",
   "execution_count": null,
   "metadata": {
    "id": "vRiKtnBdrcCy"
   },
   "outputs": [],
   "source": [
    "#이중 연결 구조를 위한 DNode 클래스 정의\n",
    "class DNode:                            # 이중 연결 노드 클래스\n",
    "    def __init__ (self, elem, prev=None, next=None):\n",
    "        self.data = elem                # 노드의 데이터 필드(요소)\n",
    "        self.next = next                # 다음노드를 위한 링크\n",
    "        self.prev = prev                # 이전노드를 위한 링크(추가됨)\n",
    "\n",
    "    # 코드 3.4b: DNode의 append(node) 연산\n",
    "    def append (self, node):            # self 다음에 node를 넣는 연산\n",
    "        if node is not None :           # node가 None이 아니면\n",
    "            node.next = self.next       # 1)\n",
    "            node.prev = self            # 2)\n",
    "            if node.next is not None:   # 3) self의 다음노드가 있으면\n",
    "                node.next.prev = node   #    그 노드의 이전노드는 node\n",
    "        self.next = node                # 4)\n",
    "\n",
    "    # 코드 3.4 c: DNode의 popNext( ) 연산\n",
    "    def popNext (self):                 # self 다음노드 삭제 연산\n",
    "        node = self.next                # 삭제할 노드\n",
    "        if node is not None :           # next가 None이 아니면\n",
    "            self.next = node.next       # 1)\n",
    "            if self.next is not None:   # 2) 다음 노드가 있으면\n",
    "                self.next.prev = self   # 그 노드의 이전노드는 self\n",
    "        return node                     # 다음 노드를 반환"
   ]
  },
  {
   "cell_type": "markdown",
   "metadata": {
    "id": "LTI5b1VRrVD_"
   },
   "source": [
    "2. 리스트 클래스 정의하기"
   ]
  },
  {
   "cell_type": "code",
   "execution_count": null,
   "metadata": {
    "id": "Wj-9lf4Jrcb6"
   },
   "outputs": [],
   "source": [
    "#이중 연결 리스트 클래스 정의와 생성자\n",
    "class DblLinkedList:                    # 이중연결리스트 클래스\n",
    "    def __init__( self ):               # 생성자\n",
    "        self.head = None                # head 선언 및 None으로 초기화\n",
    "\n",
    "    def isEmpty( self ):                # 공백상태 검사\n",
    "       return self.head == None         # head가 None이면 공백\n",
    "\n",
    "    def isFull( self ):                 # 포화상태 검사\n",
    "       return False                     # 연결된 구조에서는 포화상태 없음\n",
    "\n",
    "    def clear( self ) : self.head = None\n",
    "    def size( self ) :\n",
    "        ptr = self.head                 # ptr은 머리노드에서 시작함\n",
    "        count = 0;                      # 맨 처음에 count는 0\n",
    "        while ptr is not None :         # ptr이 None이 아닌 동안\n",
    "            ptr = ptr.next              # 링크를 따라 ptr 이동\n",
    "            count += 1                  # 이동할 때 마다 count 증가\n",
    "        return count                    # count 반환\n",
    "\n",
    "    # 코드 3.5b: DblLinkedList 연산: 화면 출력 display( )\n",
    "    def display(self, msg='DblLinkedList:' ):  # 기본 msg 내용을 수정\n",
    "        print(msg, end='')\n",
    "        ptr = self.head\n",
    "        while ptr is not None :\n",
    "            print(ptr.data, end='<=>')         # 이중연결은 <=>로 표시\n",
    "            ptr = ptr.next                     # 다음노드로 이동. next\n",
    "        print('None')\n",
    "\n",
    "\n",
    "    def getNode(self, pos) :\n",
    "        if pos < 0 : return None        # 잘못된 위치 -> None 반환\n",
    "        ptr = self.head                 # 시작 위치 -> head\n",
    "        for i in range(pos):          # pos-1번 링크를 따라 이동\n",
    "            if ptr == None :            # pos가 리스트 크기보다 큰 경우\n",
    "               return None              # None 반환\n",
    "            ptr = ptr.next              # ptr을 진행시킴\n",
    "        return ptr                      # 최종 노드를 반환\n",
    "\n",
    "    def getEntry(self, pos) :\n",
    "        node = self.getNode(pos)        # pos번째 노드를 구함\n",
    "        if node == None : return None   # 해당 노드가 없는 경우\n",
    "        else : return node.data         # 있는 경우 데이터 필드 반환\n",
    "\n",
    "    def replace(self, pos, elem) :\n",
    "        node = self.getNode(pos)\n",
    "        if node != None : node.data = elem\n",
    "\n",
    "    def find(self, val) :\n",
    "        node = self.head;\n",
    "        while node is not None:\n",
    "            if node.data == val : return node\n",
    "            node = node.next\n",
    "        return node\n",
    "\n",
    "    # 코드 3.5c: DblLinkedList 연산: 삽입 연산\n",
    "    def insert(self, pos, elem) :\n",
    "        node = DNode(elem)            # DNode를 만들어야 함\n",
    "        before = self.getNode(pos-1)  # 삽입할 위치 이전 노드 탐색\n",
    "        if before == None :           # 머리 노드로 삽입하는 경우\n",
    "            node.next = self.head     # node의 링크가 머리노드를 가리킴\n",
    "            if node.next is not None: # node 다음 노드가 있으면\n",
    "                node.next.prev = node # 그 노드의 이전노드는 node\n",
    "            self.head = node          # 이제 node가 머리노드가 됨\n",
    "        else : before.append(node)    # 아닌 경우: before 다음에 추가\n",
    "\n",
    "\n",
    "    # 코드 3.5d: DblLinkedList 연산: 삭제 연산\n",
    "    def delete(self, pos) :\n",
    "        before = self.getNode(pos-1)       # 삭제할 위치 이전 노드 탐색\n",
    "        if before == None :                 # 머리노드 삭제 경우\n",
    "            if self.head is not None :      # 공백 상태가 아니면\n",
    "                self.head = self.head.next  # 머리노드를 갱신\n",
    "                self.head.prev = None       # 머리노드는 이전노드 없음\n",
    "        else: before.popNext()              # before의 다음노드 삭제"
   ]
  },
  {
   "cell_type": "markdown",
   "metadata": {
    "id": "E9IZAJ9Zrz33"
   },
   "source": [
    "### [실습] 이중 연결 리스트 vs 파이썬 리스트 비교"
   ]
  },
  {
   "cell_type": "code",
   "execution_count": null,
   "metadata": {
    "id": "nFKEUQBKr3mJ"
   },
   "outputs": [],
   "source": [
    "# 1.이중연결리스트(DblLinkedList) 사용\n",
    "d = DblLinkedList()\n",
    "d.display('연결리스트( 초기 ): ')\n",
    "d.insert(0, 10)\n",
    "d.insert(0, 20)\n",
    "d.insert(1, 30)\n",
    "d.insert(s.size(), 40)\n",
    "d.insert(2, 50)\n",
    "d.display(\"연결리스트(삽입x5): \")\n",
    "d.replace(2, 90)\n",
    "d.display(\"연결리스트(교체x1): \")\n",
    "d.delete(2)\n",
    "d.delete(3)\n",
    "d.delete(0)\n",
    "d.display(\"연결리스트(삭제x3): \")"
   ]
  },
  {
   "cell_type": "code",
   "execution_count": null,
   "metadata": {
    "id": "MCIBJZ-3r5gO"
   },
   "outputs": [],
   "source": [
    "# 2.파이썬의 리스트 사용\n",
    "dl = []\n",
    "print('파이썬list( 초기 ):', dl)\n",
    "dl.insert(0, 10)\n",
    "dl.insert(0, 20)\n",
    "dl.insert(1, 30)\n",
    "dl.insert(len(dl), 40)\n",
    "dl.insert(2, 50)\n",
    "print('파이썬list(삽입x5):', dl)\n",
    "dl[2] = 90\n",
    "print('파이썬list(교체x1):', dl)\n",
    "dl.pop(2)\n",
    "dl.pop(3)\n",
    "dl.pop(0)\n",
    "print('파이썬list(삭제x3):', dl)"
   ]
  },
  {
   "cell_type": "markdown",
   "metadata": {
    "id": "3pUpUAJdoOxG"
   },
   "source": [
    "\n",
    "\n",
    "---\n",
    "\n"
   ]
  },
  {
   "cell_type": "markdown",
   "metadata": {
    "id": "aiXcW8a8xjuT"
   },
   "source": [
    "### [실습] 음악 목록 관리 프로그램\n",
    "* 이중 연결 구조 리스트 사용하여 음악 재생 목록 관리 프로그램을 만들기\n",
    "* 클래스명 : **MusicPlaylist**\n",
    "* 필요한 연산\n",
    "  - 곡 추가 : add_song(song)\n",
    "  - 곡 삭제 : remove_song(song)\n",
    "  - 곡 목록 출력 : show_playlist()"
   ]
  },
  {
   "cell_type": "code",
   "execution_count": null,
   "metadata": {
    "id": "7OgRMkmlxg1n"
   },
   "outputs": [],
   "source": [
    "class Node:\n",
    "    def __init__(self, data):\n",
    "        self.data = data  # 노드의 데이터(곡 정보)\n",
    "        self.prev = None\n",
    "        self.next = None\n",
    "\n",
    "class MusicPlaylist:\n",
    "    def __init__(self):\n",
    "        self.head = None\n",
    "        self.tail = None\n",
    "        self.size = 0\n",
    "\n",
    "    def add_song(self, song):\n",
    "        new_node = Node(song)\n",
    "        if not self.head:\n",
    "            self.head = new_node\n",
    "            self.tail = new_node\n",
    "        else:\n",
    "            new_node.prev = self.tail\n",
    "            self.tail.next = new_node\n",
    "            self.tail = new_node\n",
    "        self.size += 1\n",
    "        print(f\"곡 '{song}'이(가) 재생 목록에 추가되었습니다.\")\n",
    "\n",
    "    def remove_song(self, song):\n",
    "        current = self.head\n",
    "        while current:\n",
    "            if current.data == song:\n",
    "                if current == self.head:\n",
    "                    self.head = current.next\n",
    "                    if self.head:\n",
    "                        self.head.prev = None\n",
    "                elif current == self.tail:\n",
    "                    self.tail = current.prev\n",
    "                    self.tail.next = None\n",
    "                else:\n",
    "                    current.prev.next = current.next\n",
    "                    current.next.prev = current.prev\n",
    "                self.size -= 1\n",
    "                print(f\"곡 '{song}'이(가) 재생 목록에서 제거되었습니다.\")\n",
    "                return\n",
    "            current = current.next\n",
    "        print(f\"곡 '{song}'이(가) 재생 목록에 없습니다.\")\n",
    "\n",
    "    def show_playlist(self):\n",
    "        print(\"\\n--재생 목록--\")\n",
    "        current = self.head\n",
    "        while current:\n",
    "            print(current.data)\n",
    "            current = current.next\n",
    "        print()"
   ]
  },
  {
   "cell_type": "code",
   "execution_count": null,
   "metadata": {
    "id": "_GrdnVlHyLyD"
   },
   "outputs": [],
   "source": [
    "# 사용 예시\n",
    "playlist = MusicPlaylist()\n",
    "\n",
    "playlist.add_song(\"Butter\")\n",
    "playlist.add_song(\"Permission to Dance\")\n",
    "playlist.add_song(\"Life Goes On\")\n",
    "playlist.show_playlist()\n",
    "playlist.remove_song(\"Permission to Dance\")\n",
    "playlist.show_playlist()\n",
    "playlist.remove_song(\"Dynamite\")"
   ]
  },
  {
   "cell_type": "markdown",
   "metadata": {
    "id": "CksjYs6_oP3o"
   },
   "source": [
    "\n",
    "\n",
    "---\n",
    "\n"
   ]
  }
 ],
 "metadata": {
  "colab": {
   "provenance": [],
   "toc_visible": true
  },
  "kernelspec": {
   "display_name": "Python 3 (ipykernel)",
   "language": "python",
   "name": "python3"
  },
  "language_info": {
   "codemirror_mode": {
    "name": "ipython",
    "version": 3
   },
   "file_extension": ".py",
   "mimetype": "text/x-python",
   "name": "python",
   "nbconvert_exporter": "python",
   "pygments_lexer": "ipython3",
   "version": "3.12.3"
  }
 },
 "nbformat": 4,
 "nbformat_minor": 4
}
