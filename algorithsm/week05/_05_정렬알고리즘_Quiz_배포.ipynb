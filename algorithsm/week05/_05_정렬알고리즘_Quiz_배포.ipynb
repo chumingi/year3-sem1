{
 "cells": [
  {
   "cell_type": "markdown",
   "metadata": {
    "id": "GdO0MJ8f2y49"
   },
   "source": [
    "# 정렬 알고리즘 *Quiz*"
   ]
  },
  {
   "cell_type": "markdown",
   "metadata": {
    "id": "9M9TjfkP22Nx"
   },
   "source": [
    "\n",
    "\n",
    "---\n",
    "\n"
   ]
  },
  {
   "cell_type": "markdown",
   "metadata": {
    "id": "ZvduXshFMMsd"
   },
   "source": [
    "### ✅ Q1. Insertion_sort와 Merge_sort 수행 시간 조건에 맞는 적절한 n값은?\n",
    "동일한 기계에서 삽입정렬과 병합 정렬의 구현 결과를 비교한다고 가정하자. n개의 입력에 대해 삽입 정렬은 $8n^2$번을, 병합 정렬은 $64nlogn$번을 계산하고 각각 종료한다. n값이 얼마일 때까지 삽입 정렬이 병합 정렬보다 빠를까? <br> (단, 파이썬 코드로 확인시 $logn$은 $log_2$로 계산 가능)\n"
   ]
  },
  {
   "cell_type": "markdown",
   "metadata": {
    "id": "CkWEWep9MkT4"
   },
   "source": [
    "**[Solution]** :\n",
    "- $\\textit{솔루션을 작성하세요.}$"
   ]
  },
  {
   "cell_type": "code",
   "execution_count": null,
   "metadata": {
    "id": "V3ckfuT2CxTY"
   },
   "outputs": [],
   "source": [
    "import math\n",
    "\n",
    "def find_max_n():\n",
    "\n",
    "    # 코드를 작성하세요.\n",
    "\n",
    "\n",
    "max_n = find_max_n()\n",
    "print(f\"삽입 정렬이 병합 정렬보다 빠른 최대 n 값은: {max_n}\")\n"
   ]
  },
  {
   "cell_type": "markdown",
   "metadata": {
    "id": "dUDMJShYPMrT"
   },
   "source": [
    "**결론**\n",
    "- $\\textit{결론을 작성하세요.}$"
   ]
  },
  {
   "cell_type": "markdown",
   "metadata": {
    "id": "SAJ40CvkJcCz"
   },
   "source": [
    "\n",
    "\n",
    "---\n",
    "\n"
   ]
  },
  {
   "cell_type": "markdown",
   "metadata": {
    "id": "fE3URhxGJdwd"
   },
   "source": [
    "### ✅ Q2. 수행시간 조건에 맞는 n의 최솟값은?\n",
    "동일한 기계에서 수행 시간이 $100n^2$인 알고리즘이 수행 시간이 $2^n$인 알고리즘보다 빨라지는 n의 최솟값은 얼마인가?"
   ]
  },
  {
   "cell_type": "markdown",
   "metadata": {
    "id": "S0Jk5hjJKBsk"
   },
   "source": [
    "**[Solution]** :\n",
    "- $\\textit{솔루션을 작성하세요.}$\n"
   ]
  },
  {
   "cell_type": "code",
   "execution_count": null,
   "metadata": {
    "id": "4uK7ob5uJ90P"
   },
   "outputs": [],
   "source": [
    "def find_min_n_for_faster_exponential():\n",
    "\n",
    "    # 코드를 작성하세요.\n",
    "\n",
    "\n",
    "min_n = find_min_n_for_faster_exponential()\n",
    "print(f\"100n² < 2ⁿ이 처음 성립하는 최소 n 값은: {min_n}\")\n"
   ]
  },
  {
   "cell_type": "markdown",
   "metadata": {
    "id": "JN4bKvvUmIMK"
   },
   "source": [
    "**결론**\n",
    "- $\\textit{결론을 작성하세요.}$"
   ]
  },
  {
   "cell_type": "markdown",
   "metadata": {
    "id": "AQHZDlRkRoDE"
   },
   "source": [
    "\n",
    "\n",
    "---\n",
    "\n"
   ]
  },
  {
   "cell_type": "markdown",
   "metadata": {
    "id": "3zlsEaUZRqOX"
   },
   "source": [
    "### ✅ Q3. 배열의 최대힙(Max-heap) 판단?\n",
    "배열 [33,19,20,15,13,10,2,13,16,12]는 최대힙인가?"
   ]
  },
  {
   "cell_type": "markdown",
   "metadata": {
    "id": "clDRPLRTSMz3"
   },
   "source": [
    "**[Solution]** :\n",
    "- 최대 힙(Max Heap) 조건은?\n",
    "$\\textit{솔루션을 작성하세요.}$"
   ]
  },
  {
   "cell_type": "code",
   "execution_count": null,
   "metadata": {
    "id": "FnwVQS2aTEhi"
   },
   "outputs": [],
   "source": [
    "def is_max_heap(arr):\n",
    "\n",
    "    # 코드를 작성하세요.\n",
    "\n",
    "\n",
    "    return True\n",
    "\n",
    "# 테스트 배열\n",
    "A = [33, 19, 20, 15, 13, 10, 2, 13, 16, 12]\n",
    "\n",
    "if is_max_heap(A):\n",
    "    print(\"이 배열은 최대 힙입니다. ⭕\")\n",
    "else:\n",
    "    print(\"이 배열은 최대 힙이 아닙니다. ❌\")\n"
   ]
  },
  {
   "cell_type": "markdown",
   "metadata": {
    "id": "AKUTWbWFmNYd"
   },
   "source": [
    "**결론**\n",
    "- $\\textit{결론을 작성하세요.}$"
   ]
  },
  {
   "cell_type": "markdown",
   "metadata": {
    "id": "vhMiLVeZWVrE"
   },
   "source": [
    "\n",
    "\n",
    "---\n",
    "\n"
   ]
  },
  {
   "cell_type": "markdown",
   "metadata": {
    "id": "R-TTyy5NWWkI"
   },
   "source": [
    "### ✅ Q4. Insertion sort vs Quick sort 비교하기\n",
    "은행은 주로 계좌의 거래 내역을 거래 시간 순으로 기록하지만 많은 사람이 수표가 번호순으로 되어 있는 고객 내역서를 받고 싶어한다. 사람들은 보통 수표를 수표 번호순으로 사용하고 상인들은 비교적 신속하게 이를 현금화한다. 따라서 거래 시간 순서를 수표 번호 순서로 바꾸는 문제는 거의 정렬된 입력을 정렬하는 문제다. Insertion sort가 Quick sort보다 이 문제를 잘 풀지를 논하라."
   ]
  },
  {
   "cell_type": "markdown",
   "metadata": {
    "id": "vDygrNPyYl-r"
   },
   "source": [
    "**[Solution]** :\n",
    "- $\\textit{솔루션을 작성하세요.}$"
   ]
  },
  {
   "cell_type": "markdown",
   "metadata": {
    "id": "_Bmc00qNYnlN"
   },
   "source": [
    "|상황|Insertion Sort|Quick Sort|\n",
    "|--|--|--|\n",
    "|거의 정렬된 입력 (수표 번호 등) : |    |   |\n",
    "|랜덤한/뒤죽박죽 입력 : | | |\n",
    "|추가 최적화 없이 단순 구현 : | | |\n",
    "|공간 복잡도 : | | |\n",
    "\n"
   ]
  },
  {
   "cell_type": "markdown",
   "metadata": {
    "id": "bigGujzwZ2X1"
   },
   "source": [
    "**결론**\n",
    "- $\\textit{결론을 작성하세요.}$"
   ]
  },
  {
   "cell_type": "markdown",
   "metadata": {
    "id": "DMt-BuCgbaWm"
   },
   "source": [
    "\n",
    "\n",
    "---\n",
    "\n"
   ]
  },
  {
   "cell_type": "markdown",
   "metadata": {
    "id": "SkesiuqwbbBZ"
   },
   "source": [
    "### ✅ Q5. 단어 목록 Radix-sort 정렬하기\n",
    "다음 영어 단어 목록을 Radix-sort 정렬 알고리즘으로 정렬하여라.\n",
    "<br> 단어 목록 : [COW, DOG, SEA, RUG, ROW, MOB, BOX, TAB, BAR, EAR, TAR, DIG, BIG, TEA, NOW, FOX]"
   ]
  },
  {
   "cell_type": "code",
   "execution_count": null,
   "metadata": {
    "id": "UpZtAm8Ybozo"
   },
   "outputs": [],
   "source": [
    "def radix_sort_strings(A, n):\n",
    "\n",
    "    # 코드를 작성하세요.\n",
    "\n",
    "\n",
    "\n",
    "# 테스트\n",
    "data = [\"COW\", \"DOG\", \"SEA\", \"RUG\", \"ROW\", \"MOB\", \"BOX\", \"TAB\",\n",
    "        \"BAR\", \"EAR\", \"TAR\", \"DIG\", \"BIG\", \"TEA\", \"NOW\", \"FOX\"]\n",
    "\n",
    "\n",
    "print(sorted_data)"
   ]
  },
  {
   "cell_type": "markdown",
   "metadata": {
    "id": "H4GQJXHUmmZk"
   },
   "source": [
    "**결론**\n",
    "- Radix-sort 정렬 결과:   $\\textit{결론을 작성하세요.}$"
   ]
  },
  {
   "cell_type": "markdown",
   "metadata": {
    "id": "y-o_9Zphmwy-"
   },
   "source": [
    "\n",
    "\n",
    "---\n",
    "\n"
   ]
  }
 ],
 "metadata": {
  "colab": {
   "provenance": []
  },
  "kernelspec": {
   "display_name": "Python 3 (ipykernel)",
   "language": "python",
   "name": "python3"
  },
  "language_info": {
   "codemirror_mode": {
    "name": "ipython",
    "version": 3
   },
   "file_extension": ".py",
   "mimetype": "text/x-python",
   "name": "python",
   "nbconvert_exporter": "python",
   "pygments_lexer": "ipython3",
   "version": "3.12.3"
  }
 },
 "nbformat": 4,
 "nbformat_minor": 4
}
