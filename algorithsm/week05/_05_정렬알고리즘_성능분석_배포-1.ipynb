{
 "cells": [
  {
   "cell_type": "markdown",
   "metadata": {
    "id": "W1Wvt3K7q-dg"
   },
   "source": [
    "# 정렬 알고리즘"
   ]
  },
  {
   "cell_type": "markdown",
   "metadata": {
    "id": "Uzqyux7fJbNn"
   },
   "source": [
    "**(코랩에서)한글 폰트 지정하는 방법**"
   ]
  },
  {
   "cell_type": "code",
   "execution_count": 1,
   "metadata": {
    "id": "A_oQRimiJPhf"
   },
   "outputs": [
    {
     "name": "stderr",
     "output_type": "stream",
     "text": [
      "Sudo가 이 컴퓨터에서 사용하지 않도록 설정되어 있습니다. 사용하도록 설정하려면 으로 이동하세요. \u001b]8;;ms-settings:developers\u001b\\Developer Settings page\u001b]8;;\u001b\\ 설정 앱의\n",
      "Sudo가 이 컴퓨터에서 사용하지 않도록 설정되어 있습니다. 사용하도록 설정하려면 으로 이동하세요. \u001b]8;;ms-settings:developers\u001b\\Developer Settings page\u001b]8;;\u001b\\ 설정 앱의\n",
      "'rm' is not recognized as an internal or external command,\n",
      "operable program or batch file.\n"
     ]
    }
   ],
   "source": [
    "!sudo apt-get install -y fonts-nanum\n",
    "!sudo fc-cache -fv\n",
    "!rm ~/.cache/matplotlib -rf\n",
    "\n",
    "# 코랩에서 위 코드를 실행시킨 후  반드시 코랩 메뉴: \"런타임>세션 다시 시작\" 합니다."
   ]
  },
  {
   "cell_type": "code",
   "execution_count": 2,
   "metadata": {
    "id": "xTBXzrFAJ8Hs"
   },
   "outputs": [],
   "source": [
    "import matplotlib.pyplot as plt\n",
    "plt.rc('font', family='NanumGothic')       # (코랩)한글 폰트"
   ]
  },
  {
   "cell_type": "markdown",
   "metadata": {
    "id": "syv67br4rFfR"
   },
   "source": [
    "\n",
    "\n",
    "---\n",
    "\n"
   ]
  },
  {
   "cell_type": "markdown",
   "metadata": {
    "id": "HAXUGc0BrC7y"
   },
   "source": [
    "# 1.정렬 알고리즘 성능분석"
   ]
  },
  {
   "cell_type": "markdown",
   "metadata": {
    "id": "KiupI2zMrOE4"
   },
   "source": [
    "## 1-1.알고리즘 테스트\n",
    "여러 경우(condition)에 대해 정렬이 잘 되는지 확인하기\n",
    "1. 정수 데이터 정렬 : 내부 정렬함수와 데이터 비교(내부함수 vs 정렬함수)\n",
    "2. [] 빈 데이터 정렬\n",
    "3. 음수 데이터 정렬\n",
    "4. np.array 데이터 정렬 (여러 데이터타입 혼재 가능)\n",
    "5. 이미 정렬이 된 데이터 정렬\n",
    "6. 역순 정렬이 된 데이터 정렬\n",
    "7. 큰 데이터 정렬 (numpy.random)"
   ]
  },
  {
   "cell_type": "markdown",
   "metadata": {
    "id": "5b4maBOM_uNH"
   },
   "source": [
    "### 1) Bubble Sort"
   ]
  },
  {
   "cell_type": "code",
   "execution_count": 3,
   "metadata": {
    "id": "iYbTAM3lrOYO"
   },
   "outputs": [],
   "source": [
    "def bubble_sort(A, n):  # swap 방식\n",
    "    for i in range(n, 0, -1): # 배열길이(n)~0까지 하나씩 감소\n",
    "        for j in range(i-1):\n",
    "            if A[j] > A[j+1]:\n",
    "                A[j], A[j+1] = A[j+1], A[j]\n",
    "    return A\n"
   ]
  },
  {
   "cell_type": "markdown",
   "metadata": {
    "id": "zZmT1WsZbMYg"
   },
   "source": [
    "1. 정수 데이터 정렬 : 내부 정렬함수와 데이터 비교(내부함수 vs 정렬함수)"
   ]
  },
  {
   "cell_type": "code",
   "execution_count": 4,
   "metadata": {
    "id": "ulpQ7PfyEdNN"
   },
   "outputs": [
    {
     "name": "stdout",
     "output_type": "stream",
     "text": [
      "[11, 1, 51, 1, 5, 3]\n",
      "[1, 1, 3, 5, 11, 51]\n",
      "True\n"
     ]
    }
   ],
   "source": [
    "# 내부 정렬함수와 데이터 비교(내부함수 vs 정렬함수)\n",
    "list1 = [11, 1, 51, 1, 5, 3]\n",
    "print(list1)\n",
    "list1test = list(list1)     # 원본과 비교를 위해 deep copy\n",
    "bubble_sort(list1, len(list1))\n",
    "print(list1)\n",
    "print(list1 == sorted(list1test))"
   ]
  },
  {
   "cell_type": "markdown",
   "metadata": {
    "id": "-u2rTNlHbQJT"
   },
   "source": [
    "2. [] 빈 데이터 정렬"
   ]
  },
  {
   "cell_type": "code",
   "execution_count": 5,
   "metadata": {
    "id": "_-_HQAqV_toF"
   },
   "outputs": [
    {
     "name": "stdout",
     "output_type": "stream",
     "text": [
      "[]\n",
      "True\n"
     ]
    }
   ],
   "source": [
    "# Empty list should return empty list.\n",
    "list2 = []\n",
    "bubble_sort(list2, len(list2))\n",
    "print(list2)\n",
    "print(list2 == [])"
   ]
  },
  {
   "cell_type": "markdown",
   "metadata": {
    "id": "9NwzoxIdbib8"
   },
   "source": [
    "3. 음수 데이터 정렬"
   ]
  },
  {
   "cell_type": "code",
   "execution_count": 6,
   "metadata": {
    "id": "hfequKhHFCdE"
   },
   "outputs": [
    {
     "name": "stdout",
     "output_type": "stream",
     "text": [
      "[-5, 1, 1, 6]\n",
      "True\n"
     ]
    }
   ],
   "source": [
    "# Negative number.\n",
    "list3 = [1, 1, -5, 6]\n",
    "list3test = list(list3)\n",
    "bubble_sort(list3, len(list3))\n",
    "print(list3)\n",
    "print(list3 == sorted(list3test))"
   ]
  },
  {
   "cell_type": "markdown",
   "metadata": {
    "id": "wNMZyYx_oLDA"
   },
   "source": [
    "4. np.array 데이터 정렬\n",
    "- n차원 array 타입\n",
    "- array, copy, array_qual 등 함수 사용"
   ]
  },
  {
   "cell_type": "code",
   "execution_count": 7,
   "metadata": {
    "id": "v5QMekfzFFm3"
   },
   "outputs": [
    {
     "name": "stdout",
     "output_type": "stream",
     "text": [
      "[-20.   -4.   11.   13.5  15.   20. ]\n",
      "True\n"
     ]
    }
   ],
   "source": [
    "# Float and int, testing numpy array.\n",
    "import numpy as np\n",
    "\n",
    "array1 = np.array([11, -4, 20, 15, 13.5, -20])\n",
    "array1test = np.copy(array1)        # 원본과 비교를 위해 deep copy\n",
    "bubble_sort(array1, len(array1))\n",
    "print(array1)\n",
    "print(np.array_equal(array1, np.sort(array1test)))"
   ]
  },
  {
   "cell_type": "markdown",
   "metadata": {
    "id": "fqmb3_k-oQxj"
   },
   "source": [
    "5. 이미 정렬이 된 데이터 정렬"
   ]
  },
  {
   "cell_type": "code",
   "execution_count": 8,
   "metadata": {
    "id": "NAC-Qy1xFKPF"
   },
   "outputs": [
    {
     "name": "stdout",
     "output_type": "stream",
     "text": [
      "[ 0  1  2  3  4  5  6  7  8  9 10 11 12 13 14 15 16 17 18 19 20 21 22 23\n",
      " 24 25 26 27 28 29 30 31 32 33 34 35 36 37 38 39 40 41 42 43 44 45 46 47\n",
      " 48 49]\n",
      "True\n"
     ]
    }
   ],
   "source": [
    "# Already sorted array.\n",
    "array2 = np.array(range(50))\n",
    "array2test = np.copy(array2)\n",
    "bubble_sort(array2, len(array2))\n",
    "print(array2)\n",
    "print(np.array_equal(array2, np.sort(array2test)))"
   ]
  },
  {
   "cell_type": "markdown",
   "metadata": {
    "id": "vrpWiTfdokRP"
   },
   "source": [
    "6. 역순 정렬이 된 데이터 정렬"
   ]
  },
  {
   "cell_type": "code",
   "execution_count": 9,
   "metadata": {
    "id": "sacOSKTLFClK"
   },
   "outputs": [
    {
     "name": "stdout",
     "output_type": "stream",
     "text": [
      "Before sorting: [50 45 40 35 30 25 20 15 10  5]\n",
      "After sorting: [ 5 10 15 20 25 30 35 40 45 50]\n",
      "True\n"
     ]
    }
   ],
   "source": [
    "# Array in reversed sorted order.\n",
    "array3 = np.arange(50, 0, -5)\n",
    "array3test = np.copy(array3)\n",
    "print(\"Before sorting: \", end = '')\n",
    "print(array3)\n",
    "bubble_sort(array3, len(array3))\n",
    "print(\"After sorting: \", end = '')\n",
    "print(array3)\n",
    "print(np.array_equal(array3, np.sort(array3test)))"
   ]
  },
  {
   "cell_type": "markdown",
   "metadata": {
    "id": "yHkVCtutoqJG"
   },
   "source": [
    "7. 큰 데이터 정렬 : size"
   ]
  },
  {
   "cell_type": "code",
   "execution_count": 13,
   "metadata": {
    "id": "pytZFxXSFQsx"
   },
   "outputs": [
    {
     "name": "stdout",
     "output_type": "stream",
     "text": [
      "After sorting: [-4989 -4986 -4979 -4972 -4960 -4957 -4947 -4944 -4929 -4925 -4913 -4912\n",
      " -4910 -4908 -4891 -4884 -4884 -4879 -4877 -4865 -4864 -4863 -4858 -4837\n",
      " -4826 -4806 -4768 -4764 -4730 -4722 -4711 -4711 -4698 -4698 -4684 -4668\n",
      " -4638 -4634 -4628 -4592 -4591 -4579 -4574 -4567 -4564 -4547 -4543 -4535\n",
      " -4531 -4510 -4499 -4466 -4436 -4434 -4411 -4389 -4386 -4383 -4376 -4361\n",
      " -4359 -4353 -4335 -4309 -4308 -4306 -4301 -4300 -4296 -4276 -4267 -4227\n",
      " -4210 -4206 -4198 -4192 -4182 -4179 -4172 -4162 -4141 -4125 -4123 -4087\n",
      " -4086 -4082 -4065 -4044 -4042 -4034 -4016 -3991 -3983 -3974 -3965 -3943\n",
      " -3907 -3904 -3898 -3816 -3816 -3787 -3768 -3765 -3736 -3735 -3725 -3695\n",
      " -3684 -3679 -3674 -3662 -3655 -3605 -3592 -3591 -3581 -3581 -3564 -3541\n",
      " -3531 -3524 -3514 -3509 -3506 -3487 -3485 -3480 -3473 -3470 -3454 -3450\n",
      " -3450 -3448 -3435 -3427 -3416 -3411 -3406 -3406 -3405 -3397 -3393 -3382\n",
      " -3357 -3336 -3320 -3314 -3314 -3311 -3301 -3294 -3285 -3283 -3279 -3269\n",
      " -3260 -3259 -3257 -3251 -3249 -3241 -3234 -3224 -3213 -3202 -3196 -3193\n",
      " -3176 -3162 -3157 -3119 -3100 -3069 -3064 -3063 -3054 -3033 -3027 -3018\n",
      " -3001 -2969 -2951 -2934 -2911 -2908 -2892 -2886 -2869 -2846 -2837 -2827\n",
      " -2817 -2794 -2784 -2770 -2770 -2769 -2768 -2762 -2760 -2753 -2745 -2743\n",
      " -2739 -2736 -2720 -2718 -2710 -2704 -2700 -2686 -2678 -2667 -2654 -2651\n",
      " -2648 -2642 -2638 -2634 -2633 -2633 -2628 -2613 -2610 -2609 -2590 -2579\n",
      " -2579 -2573 -2567 -2561 -2557 -2550 -2549 -2540 -2519 -2513 -2505 -2500\n",
      " -2499 -2489 -2475 -2474 -2469 -2462 -2454 -2450 -2449 -2440 -2429 -2429\n",
      " -2414 -2413 -2404 -2399 -2391 -2381 -2379 -2378 -2369 -2353 -2350 -2334\n",
      " -2329 -2325 -2302 -2297 -2278 -2275 -2267 -2266 -2265 -2264 -2247 -2242\n",
      " -2238 -2237 -2182 -2173 -2169 -2162 -2159 -2123 -2095 -2077 -2052 -2039\n",
      " -2032 -2028 -2019 -2018 -2016 -2004 -1990 -1990 -1984 -1984 -1955 -1939\n",
      " -1922 -1921 -1910 -1882 -1882 -1859 -1858 -1856 -1848 -1848 -1806 -1805\n",
      " -1782 -1750 -1740 -1732 -1729 -1725 -1722 -1721 -1714 -1701 -1689 -1666\n",
      " -1664 -1640 -1638 -1636 -1625 -1621 -1616 -1609 -1594 -1579 -1552 -1551\n",
      " -1551 -1520 -1516 -1512 -1506 -1496 -1489 -1476 -1474 -1461 -1455 -1428\n",
      " -1417 -1416 -1416 -1406 -1396 -1393 -1387 -1383 -1360 -1356 -1346 -1341\n",
      " -1338 -1324 -1314 -1302 -1290 -1284 -1279 -1277 -1248 -1245 -1238 -1232\n",
      " -1228 -1219 -1206 -1198 -1181 -1177 -1166 -1163 -1148 -1144 -1142 -1127\n",
      " -1122 -1115 -1102 -1101 -1100 -1094 -1092 -1092 -1068 -1068 -1063 -1048\n",
      " -1017 -1017 -1014 -1013 -1013 -1010 -1006  -989  -984  -976  -975  -962\n",
      "  -954  -950  -948  -909  -900  -869  -862  -822  -817  -811  -797  -795\n",
      "  -793  -780  -780  -740  -737  -735  -722  -720  -718  -697  -671  -669\n",
      "  -656  -654  -647  -635  -624  -621  -614  -612  -590  -537  -526  -519\n",
      "  -468  -464  -453  -428  -426  -422  -405  -400  -375  -374  -367  -359\n",
      "  -339  -338  -328  -328  -304  -296  -259  -246  -244  -235  -234  -233\n",
      "  -222  -217  -216  -194  -185  -176  -169  -151  -151  -149  -146  -114\n",
      "  -113   -93   -73   -57   -53   -52   -37   -22   -22   -16     0     7\n",
      "    28    32    47    48    65    71    75    81    93    99    99   114\n",
      "   118   121   132   139   140   164   168   199   202   206   208   213\n",
      "   217   221   229   237   239   242   256   258   267   277   282   289\n",
      "   310   312   315   320   320   335   337   390   396   398   411   420\n",
      "   432   439   440   456   465   493   494   506   509   520   523   528\n",
      "   547   549   550   559   578   589   596   608   626   631   633   634\n",
      "   637   638   646   648   660   668   674   678   683   689   695   711\n",
      "   720   721   729   734   736   743   746   748   761   764   769   771\n",
      "   777   780   805   805   807   808   817   852   856   863   870   870\n",
      "   877   901   905   912   938   955   966   975   979  1025  1025  1036\n",
      "  1059  1073  1094  1100  1103  1106  1107  1114  1122  1142  1171  1194\n",
      "  1198  1216  1217  1221  1240  1246  1253  1260  1278  1294  1306  1308\n",
      "  1309  1315  1320  1321  1329  1330  1334  1334  1356  1358  1362  1382\n",
      "  1391  1407  1414  1423  1441  1444  1449  1456  1460  1461  1467  1490\n",
      "  1495  1508  1518  1520  1524  1527  1542  1572  1583  1586  1603  1605\n",
      "  1605  1610  1612  1614  1656  1673  1678  1680  1682  1690  1693  1722\n",
      "  1728  1732  1736  1736  1739  1745  1757  1761  1769  1771  1778  1790\n",
      "  1816  1821  1837  1844  1845  1880  1936  1943  1947  1967  1985  1993\n",
      "  2020  2036  2043  2063  2080  2080  2083  2093  2112  2126  2129  2130\n",
      "  2131  2132  2135  2142  2148  2172  2176  2206  2230  2241  2247  2253\n",
      "  2256  2269  2276  2280  2292  2306  2322  2336  2341  2362  2385  2395\n",
      "  2406  2408  2412  2417  2428  2437  2443  2458  2477  2477  2478  2494\n",
      "  2509  2510  2516  2521  2522  2528  2547  2568  2573  2574  2587  2601\n",
      "  2610  2620  2624  2647  2668  2669  2671  2681  2682  2686  2721  2731\n",
      "  2732  2740  2756  2757  2765  2770  2771  2777  2781  2786  2796  2798\n",
      "  2803  2817  2821  2821  2832  2840  2858  2863  2877  2877  2877  2892\n",
      "  2906  2909  2914  2919  2920  2950  2951  2951  2963  2967  2999  3012\n",
      "  3021  3046  3051  3054  3069  3074  3082  3085  3093  3093  3096  3114\n",
      "  3162  3173  3174  3176  3179  3179  3185  3193  3205  3214  3232  3248\n",
      "  3261  3290  3292  3305  3306  3314  3334  3341  3341  3344  3344  3367\n",
      "  3378  3386  3394  3397  3402  3410  3416  3437  3443  3449  3451  3465\n",
      "  3485  3511  3536  3540  3553  3560  3561  3563  3578  3595  3599  3600\n",
      "  3604  3611  3621  3652  3653  3689  3690  3721  3737  3755  3781  3782\n",
      "  3803  3810  3822  3875  3886  3891  3897  3913  3938  3951  3985  3992\n",
      "  4007  4020  4023  4026  4051  4080  4094  4101  4116  4123  4173  4211\n",
      "  4218  4235  4242  4243  4248  4258  4275  4276  4286  4301  4303  4308\n",
      "  4308  4315  4316  4318  4323  4323  4325  4349  4354  4373  4375  4383\n",
      "  4388  4396  4404  4419  4445  4449  4451  4458  4476  4480  4499  4543\n",
      "  4548  4548  4566  4574  4578  4579  4600  4610  4614  4632  4644  4646\n",
      "  4649  4654  4663  4673  4680  4694  4717  4720  4721  4723  4757  4759\n",
      "  4784  4789  4790  4794  4802  4802  4804  4806  4807  4828  4849  4869\n",
      "  4884  4885  4886  4887  4889  4895  4897  4903  4917  4919  4924  4928\n",
      "  4928  4974  4979  4999]\n",
      "True\n"
     ]
    }
   ],
   "source": [
    "# Large array.\n",
    "array4 = np.random.randint(-5000, 5000, size=1000)\n",
    "array4test = np.copy(array4)\n",
    "# print(\"Before sorting: \", end = '')\n",
    "# print(array4)\n",
    "bubble_sort(array4, len(array4))\n",
    "print(\"After sorting: \", end = '')\n",
    "print(array4)\n",
    "print(np.array_equal(array4, np.sort(array4test)))"
   ]
  },
  {
   "cell_type": "markdown",
   "metadata": {
    "id": "DNHUzCNwHd1L"
   },
   "source": [
    "\n",
    "\n",
    "---\n",
    "\n"
   ]
  },
  {
   "cell_type": "markdown",
   "metadata": {
    "id": "fzsTVBRrKxtf"
   },
   "source": [
    "###  @테스트용 함수 만들기: test_sort()\n",
    "- 앞의 각각의 테스트 항목을 함수로 만들어 호출해서 사용하시오.\n",
    "- 함수명: test_sort(정렬함수명, 정렬할 데이터, 데이터 설명)"
   ]
  },
  {
   "cell_type": "code",
   "execution_count": 14,
   "metadata": {
    "id": "SdA7iyaD_0g1"
   },
   "outputs": [
    {
     "name": "stdout",
     "output_type": "stream",
     "text": [
      "[bubble_sort] List with duplicates: ✅ PASS\n",
      " Before sorting: [11, 1, 51, 1, 5, 3]\n",
      " After sorting : [1, 1, 3, 5, 11, 51]\n",
      "[bubble_sort] Empty list: ✅ PASS\n",
      "[bubble_sort] List with negative numbers: ✅ PASS\n",
      "[bubble_sort] Numpy array with floats: ✅ PASS\n",
      "[bubble_sort] Already sorted array: ✅ PASS\n",
      "[bubble_sort] Reversed array: ✅ PASS\n",
      "[bubble_sort] Large random array: ✅ PASS\n"
     ]
    }
   ],
   "source": [
    "import numpy as np\n",
    "\n",
    "# -------------------------------\n",
    "# 테스트 함수\n",
    "# -------------------------------\n",
    "\n",
    "def test_sort(sort_func, data, label=\"\", sort_show=False):\n",
    "    '''\n",
    "    sort_func : 정렬함수명,\n",
    "    data : 정렬할 데이터,\n",
    "    label : 데이터 설명\n",
    "    '''\n",
    "    # 원본 데이터 복사\n",
    "    original = np.copy(data) if isinstance(data, np.ndarray) else list(data)\n",
    "    test_data = np.copy(data) if isinstance(data, np.ndarray) else list(data)\n",
    "\n",
    "    # 정렬 수행\n",
    "    test_data = sort_func(test_data, len(test_data))\n",
    "\n",
    "    # 기대 결과 계산\n",
    "    # isinstance() : 데이터 타입이 list인지 np 배열인지 확인\n",
    "    expected = np.sort(original) if isinstance(data, np.ndarray) else sorted(original)\n",
    "\n",
    "    # 비교 결과 출력\n",
    "    passed = np.array_equal(test_data, expected) if isinstance(data, np.ndarray) else test_data == expected\n",
    "    print(f\"[{sort_func.__name__}] {label}: {'✅ PASS' if passed else '❌ FAIL'}\")\n",
    "    if not passed:\n",
    "        print(\"Expected:\", expected)\n",
    "        print(\"Got     :\", test_data)\n",
    "\n",
    "    # 정렬 전, 후 출력\n",
    "    if sort_show:\n",
    "        print(\" Before sorting: \", end = '')\n",
    "        print(data)\n",
    "        print(\" After sorting : \", end = '')\n",
    "        print(test_data)\n",
    "\n",
    "\n",
    "test_sort(bubble_sort, [11, 1, 51, 1, 5, 3], \"List with duplicates\", True)\n",
    "test_sort(bubble_sort, [], \"Empty list\")\n",
    "test_sort(bubble_sort, [1, 1, -5, 6], \"List with negative numbers\")\n",
    "test_sort(bubble_sort, np.array([11, -4, 20, 15, 13.5, -20]), \"Numpy array with floats\")\n",
    "test_sort(bubble_sort, np.array(range(50)), \"Already sorted array\")\n",
    "test_sort(bubble_sort, np.arange(50, 0, -5), \"Reversed array\")\n",
    "test_sort(bubble_sort, np.random.randint(-5000, 5000, size=1000), \"Large random array\")"
   ]
  },
  {
   "cell_type": "markdown",
   "metadata": {
    "id": "eBEJNhrNOVBg"
   },
   "source": [
    "\n",
    "\n",
    "---\n",
    "\n"
   ]
  },
  {
   "cell_type": "markdown",
   "metadata": {
    "id": "sp01aJR3K8oh"
   },
   "source": [
    "### 2) Selection Sort"
   ]
  },
  {
   "cell_type": "markdown",
   "metadata": {
    "id": "fWZATfnyoCKX"
   },
   "source": [
    "### ✅ [실습] Selection Sort 정의하기"
   ]
  },
  {
   "cell_type": "code",
   "execution_count": 25,
   "metadata": {
    "id": "84tA1UyFK9gj"
   },
   "outputs": [],
   "source": [
    "# selection_sort 함수\n",
    "def selection_sort(A, n):    # 최대값 찾기 방식\n",
    "    last = n - 1\n",
    "    for i in range(last, 0, -1):\n",
    "        max_idx = 0\n",
    "        for j in range(0, i):\n",
    "            if A[max_idx] < A[j]:\n",
    "                max_idx = j\n",
    "        if A[max_idx] > A[i]:\n",
    "            A[max_idx], A[i] = A[i], A[max_idx]\n",
    "    return A"
   ]
  },
  {
   "cell_type": "code",
   "execution_count": 26,
   "metadata": {
    "id": "tZllpPxhMSYk"
   },
   "outputs": [
    {
     "name": "stdout",
     "output_type": "stream",
     "text": [
      "[selection_sort] List with duplicates: ✅ PASS\n",
      "[selection_sort] Empty list: ✅ PASS\n",
      "[selection_sort] List with negative numbers: ✅ PASS\n",
      "[selection_sort] Numpy array with floats: ✅ PASS\n",
      "[selection_sort] Already sorted array: ✅ PASS\n",
      "[selection_sort] Reversed array: ✅ PASS\n",
      "[selection_sort] Large random array: ✅ PASS\n"
     ]
    }
   ],
   "source": [
    "# selection_sort 테스트\n",
    "test_sort(selection_sort, [11, 1, 51, 1, 5, 3], \"List with duplicates\")\n",
    "test_sort(selection_sort, [], \"Empty list\")\n",
    "test_sort(selection_sort, [1, 1, -5, 6], \"List with negative numbers\")\n",
    "test_sort(selection_sort, np.array([11, -4, 20, 15, 13.5, -20]), \"Numpy array with floats\")\n",
    "test_sort(selection_sort, np.array(range(50)), \"Already sorted array\")\n",
    "test_sort(selection_sort, np.arange(50, 0, -5), \"Reversed array\")\n",
    "test_sort(selection_sort, np.random.randint(-5000, 5000, size=1000), \"Large random array\")\n"
   ]
  },
  {
   "cell_type": "markdown",
   "metadata": {
    "id": "troBFmfYOWYV"
   },
   "source": [
    "\n",
    "\n",
    "---\n",
    "\n"
   ]
  },
  {
   "cell_type": "markdown",
   "metadata": {
    "id": "m4Wz-7lz_1Lg"
   },
   "source": [
    "### 3) Insertion Sort"
   ]
  },
  {
   "cell_type": "markdown",
   "metadata": {
    "id": "aF4DMbEpoQCU"
   },
   "source": [
    "### ✅ [실습] Insertion Sor 정의하기"
   ]
  },
  {
   "cell_type": "code",
   "execution_count": 21,
   "metadata": {
    "id": "YMY5uGNPNTQT"
   },
   "outputs": [],
   "source": [
    "# insertion_sort 함수\n",
    "def insertion_sort(A, n):\n",
    "    return A"
   ]
  },
  {
   "cell_type": "code",
   "execution_count": 22,
   "metadata": {
    "id": "MdOpAe5aLGMs"
   },
   "outputs": [
    {
     "name": "stdout",
     "output_type": "stream",
     "text": [
      "[insertion_sort] List with duplicates: ✅ PASS\n",
      "[insertion_sort] Empty list: ✅ PASS\n",
      "[insertion_sort] List with negative numbers: ✅ PASS\n",
      "[insertion_sort] Numpy array with floats: ✅ PASS\n",
      "[insertion_sort] Already sorted array: ✅ PASS\n",
      "[insertion_sort] Reversed array: ✅ PASS\n",
      "[insertion_sort] Large random array: ✅ PASS\n"
     ]
    }
   ],
   "source": [
    "# insertion_sort 테스트\n",
    "test_sort(insertion_sort, [11, 1, 51, 1, 5, 3], \"List with duplicates\")\n",
    "test_sort(insertion_sort, [], \"Empty list\")\n",
    "test_sort(insertion_sort, [1, 1, -5, 6], \"List with negative numbers\")\n",
    "test_sort(insertion_sort, np.array([11, -4, 20, 15, 13.5, -20]), \"Numpy array with floats\")\n",
    "test_sort(insertion_sort, np.array(range(50)), \"Already sorted array\")\n",
    "test_sort(insertion_sort, np.arange(50, 0, -5), \"Reversed array\")\n",
    "test_sort(insertion_sort, np.random.randint(-5000, 5000, size=1000), \"Large random array\")"
   ]
  },
  {
   "cell_type": "markdown",
   "metadata": {
    "id": "5T6UBixpRDlS"
   },
   "source": [
    "\n",
    "\n",
    "---\n",
    "\n"
   ]
  },
  {
   "cell_type": "markdown",
   "metadata": {
    "id": "EqwOlkiDQXDD"
   },
   "source": [
    "###  @테스트 함수 최적화\n",
    "- 리스트와 반복문을 이용하여 여러 개의 정렬함수를 반복해서 호출하여 테스트할 수 있도록 코드를 구현하시오.\n",
    "- 정렬함수 목록 **sort_algorithms = [bubble_sort, selection_sort, insertion_sort]**"
   ]
  },
  {
   "cell_type": "code",
   "execution_count": null,
   "metadata": {
    "id": "0RSf3jJLRLGI"
   },
   "outputs": [],
   "source": [
    "import numpy as np\n",
    "\n",
    "# -------------------------------\n",
    "# 테스트 케이스 리스트\n",
    "# -------------------------------\n",
    "test_cases = [\n",
    "    ([11, 1, 51, 1, 5, 3], \"List with duplicates\"),\n",
    "    ([], \"Empty list\"),\n",
    "    ([1, 1, -5, 6], \"List with negative numbers\"),\n",
    "    (np.array([11, -4, 20, 15, 13.5, -20]), \"Numpy array with floats\"),\n",
    "    (np.array(range(50)), \"Already sorted array\"),\n",
    "    (np.arange(50, 0, -5), \"Reversed array\"),\n",
    "    (np.random.randint(-5000, 5000, size=1000), \"Large random array\"),\n",
    "]\n",
    "\n",
    "# -------------------------------\n",
    "# 알고리즘 반복 테스트\n",
    "# -------------------------------\n",
    "sort_algorithms = [bubble_sort, selection_sort, insertion_sort]\n",
    "\n",
    "for sort_func in sort_algorithms:\n",
    "    print(f\"\\n🔎 Testing: {sort_func.__name__}\")\n",
    "    for data, label in test_cases:\n",
    "        test_sort(sort_func, data, label)\n"
   ]
  },
  {
   "cell_type": "markdown",
   "metadata": {
    "id": "K-pPDPh2NQqH"
   },
   "source": [
    "\n",
    "\n",
    "---\n",
    "\n"
   ]
  },
  {
   "cell_type": "markdown",
   "metadata": {
    "id": "QeJLPwgvPpg0"
   },
   "source": [
    "### 4)  Merge Sort"
   ]
  },
  {
   "cell_type": "markdown",
   "metadata": {
    "id": "kdwTOpVio0fC"
   },
   "source": [
    "### ✅ [실습] Merge Sort 정의하기\n",
    "- [주의] 입력이 np.array면 list로 변환할 필요가 있습니다."
   ]
  },
  {
   "cell_type": "code",
   "execution_count": null,
   "metadata": {
    "id": "l39WcSEvPtn4"
   },
   "outputs": [],
   "source": [
    "def merge(left, right):\n",
    "    # print('->left:', list(left), 'right:', list(right))\n",
    "    merged = []\n",
    "    l_idx, r_idx = 0, 0\n",
    "\n",
    "    while l_idx < len(left) and r_idx < len(right):\n",
    "        if left[l_idx] < right[r_idx]:\n",
    "            merged.append(left[l_idx])\n",
    "            l_idx += 1\n",
    "        else:\n",
    "            merged.append(right[r_idx])\n",
    "            r_idx += 1\n",
    "\n",
    "    merged += left[l_idx:]\n",
    "    merged += right[r_idx:]\n",
    "    return merged\n",
    "\n",
    "def merge_sort(A, n):\n",
    "\n",
    "\n",
    "\n",
    "    return merge(left, right)\n",
    "\n",
    "# 테스트\n",
    "arr = np.array([11, -4, 20, 15, 13.5, -20])\n",
    "sorted_arr = merge_sort(arr, len(arr))\n",
    "print(\"정렬 결과:\", sorted_arr)"
   ]
  },
  {
   "cell_type": "markdown",
   "metadata": {
    "id": "AOP8kGzet6rw"
   },
   "source": [
    "\n",
    "\n",
    "---\n",
    "\n"
   ]
  },
  {
   "cell_type": "markdown",
   "metadata": {
    "id": "szRnQte6P8C2"
   },
   "source": [
    "### 5)  Quick Sort"
   ]
  },
  {
   "cell_type": "markdown",
   "metadata": {
    "id": "XUr77ysgpGFr"
   },
   "source": [
    "### ✅ [실습] Quick Sort 정의하기"
   ]
  },
  {
   "cell_type": "code",
   "execution_count": null,
   "metadata": {
    "id": "S1ODqFBDQAHJ"
   },
   "outputs": [],
   "source": [
    "#  quick_sort 함수\n",
    "def quick_sort(A, n):\n",
    "\n",
    "\n",
    "\n",
    "    return quick_sort(left, len(left)) + [pivot] + quick_sort(right, len(right))\n",
    "\n",
    "\n",
    "# 예시 사용\n",
    "arr = [24, 9, 29, 14, 19, 27]\n",
    "print(\"정렬된 배열:\", quick_sort(arr, len(arr)))"
   ]
  },
  {
   "cell_type": "markdown",
   "metadata": {
    "id": "6XW2nBmWt4zo"
   },
   "source": [
    "\n",
    "\n",
    "---\n",
    "\n"
   ]
  },
  {
   "cell_type": "markdown",
   "metadata": {
    "id": "Vl9qQuC4QJSg"
   },
   "source": [
    "### 6)  Heap Sort"
   ]
  },
  {
   "cell_type": "markdown",
   "metadata": {
    "id": "7mIz8LOUpJT3"
   },
   "source": [
    "### ✅ [실습] Heap Sort 정의하기"
   ]
  },
  {
   "cell_type": "code",
   "execution_count": null,
   "metadata": {
    "collapsed": true,
    "id": "mepT4Sc1WnEG",
    "jupyter": {
     "outputs_hidden": true
    }
   },
   "outputs": [],
   "source": [
    "#  heap_sort 함수\n",
    "def heapify(arr, n, i):\n",
    "    largest = i          # 루트 노드\n",
    "    left = 2 * i + 1     # 왼쪽 자식\n",
    "    right = 2 * i + 2    # 오른쪽 자식\n",
    "\n",
    "    # 왼쪽 자식이 루트보다 크면\n",
    "    if left < n and arr[left] > arr[largest]:\n",
    "        largest = left\n",
    "\n",
    "    # 오른쪽 자식이 현재까지 가장 큰 노드보다 크면\n",
    "    if right < n and arr[right] > arr[largest]:\n",
    "        largest = right\n",
    "\n",
    "    # largest가 루트가 아니라면, swap 후 재귀 호출\n",
    "    if largest != i:\n",
    "        arr[i], arr[largest] = arr[largest], arr[i]\n",
    "        # print_tree(arr, n, largest    # 트리 시각화: 방법1\n",
    "        # visualize_heap(arr, largest)    # 트리 시각화: 방법2\n",
    "        heapify(arr, n, largest)\n",
    "\n",
    "    # print(arr)\n",
    "\n",
    "\n",
    "def heap_sort(A, n):\n",
    "\n",
    "\n",
    "\n",
    "    return A\n",
    "\n",
    "# 예시 사용\n",
    "arr = [81, 89, 9, 11, 14, 76, 54, 22]\n",
    "print(\"정렬된 배열:\", heap_sort(arr, len(arr)))"
   ]
  },
  {
   "cell_type": "markdown",
   "metadata": {
    "id": "wtxKuPePve4D"
   },
   "source": [
    "- 트리 시각화"
   ]
  },
  {
   "cell_type": "code",
   "execution_count": null,
   "metadata": {
    "id": "lE1rV0orB4RK"
   },
   "outputs": [],
   "source": [
    "# 방법1 : 들여쓰기로 트리 시각화\n",
    "def print_tree(arr, n, current_node=-1):\n",
    "    \"\"\"배열을 들여쓰기를 사용하여 트리 형태로 시각화합니다.\"\"\"\n",
    "    if n == 0:\n",
    "        print(\"(빈 힙)\")\n",
    "        return\n",
    "\n",
    "    def print_level(arr, n, index, level, indent, current):\n",
    "        if index < n:\n",
    "            print(f\"{indent}{'[' if index == current else ''}{arr[index]}{']' if index == current else ''}\")\n",
    "            left_child = 2 * index + 1\n",
    "            right_child = 2 * index + 2\n",
    "            next_indent = indent + \"--\"\n",
    "            print_level(arr, n, left_child, level + 1, next_indent, current)\n",
    "            print_level(arr, n, right_child, level + 1, next_indent, current)\n",
    "\n",
    "    print(\"힙 구조:\")\n",
    "    print_level(arr, n, 0, 0, \"\", current_node)\n",
    "    print(\"-\" * 20)\n"
   ]
  },
  {
   "cell_type": "code",
   "execution_count": null,
   "metadata": {
    "id": "ccMJQEXXwKRG"
   },
   "outputs": [],
   "source": [
    "# 방법2 : networks 라이브러리로 트리 시각화\n",
    "import networkx as nx\n",
    "import matplotlib.pyplot as plt\n",
    "\n",
    "def visualize_heap(arr, current_node=-1):\n",
    "    \"\"\"networkx를 이용하여 힙(트리) 구조를 시각화합니다.\"\"\"\n",
    "    n = len(arr)\n",
    "\n",
    "    if n == 0:\n",
    "        print(\"(빈 힙)\")\n",
    "        return\n",
    "\n",
    "    G = nx.DiGraph()\n",
    "\n",
    "    # 노드 추가 (값은 label로, 인덱스를 node id로)\n",
    "    for i in range(n):\n",
    "        label = f\"[{arr[i]}]\" if i == current_node else str(arr[i])\n",
    "        G.add_node(i, label=label)\n",
    "\n",
    "    # 간선 추가 (이진 트리 구조)\n",
    "    for i in range(n):\n",
    "        left = 2 * i + 1\n",
    "        right = 2 * i + 2\n",
    "        if left < n:\n",
    "            G.add_edge(i, left)\n",
    "        if right < n:\n",
    "            G.add_edge(i, right)\n",
    "\n",
    "    # 레이아웃 정의 (tree layout처럼 보이게)\n",
    "    def hierarchy_pos(G, root=0, width=1., vert_gap=0.2, vert_loc=0, xcenter=0.5, pos=None, parent=None):\n",
    "        \"\"\"트리 구조의 계층적 위치 계산 함수\"\"\"\n",
    "        if pos is None:\n",
    "            pos = {root: (xcenter, vert_loc)}\n",
    "        else:\n",
    "            pos[root] = (xcenter, vert_loc)\n",
    "        children = list(G.successors(root))\n",
    "        if len(children) != 0:\n",
    "            dx = width / 2\n",
    "            nextx = xcenter - width/2 - dx/2\n",
    "            for child in children:\n",
    "                nextx += dx\n",
    "                pos = hierarchy_pos(G, child, width=dx, vert_gap=vert_gap,\n",
    "                                    vert_loc=vert_loc - vert_gap, xcenter=nextx, pos=pos, parent=root)\n",
    "        return pos\n",
    "\n",
    "    pos = hierarchy_pos(G)\n",
    "\n",
    "    labels = nx.get_node_attributes(G, 'label')\n",
    "    plt.figure(figsize=(4, 3))\n",
    "    nx.draw(G, pos, with_labels=False, arrows=False, node_size=1000, node_color='skyblue')\n",
    "    nx.draw_networkx_labels(G, pos, labels, font_size=10, font_weight='bold')\n",
    "    plt.title(\"Heap Tree Visualization\")\n",
    "    plt.axis('off')\n",
    "    plt.show()\n"
   ]
  },
  {
   "cell_type": "markdown",
   "metadata": {
    "id": "jyd5qkn_t1MM"
   },
   "source": [
    "\n",
    "\n",
    "---\n",
    "\n"
   ]
  },
  {
   "cell_type": "markdown",
   "metadata": {
    "id": "elwz8gE6WsLZ"
   },
   "source": [
    "### 7)  Shell Sort"
   ]
  },
  {
   "cell_type": "markdown",
   "metadata": {
    "id": "I240TzM_pUy8"
   },
   "source": [
    "✅ [실습] Shell Sort 정의하기"
   ]
  },
  {
   "cell_type": "code",
   "execution_count": null,
   "metadata": {
    "id": "aZJgdL0tWskt"
   },
   "outputs": [],
   "source": [
    "# shell_sort 함수\n",
    "def shell_sort(A, n):\n",
    "\n",
    "\n",
    "\n",
    "    return A\n"
   ]
  },
  {
   "cell_type": "markdown",
   "metadata": {
    "id": "tUOsbmMDt2rm"
   },
   "source": [
    "\n",
    "\n",
    "---\n",
    "\n"
   ]
  },
  {
   "cell_type": "markdown",
   "metadata": {
    "id": "V5KZOtTNxbsr"
   },
   "source": [
    "### ✅ [실습]  정렬 알고리즘 테스트 하기\n",
    "- 앞에서 작성한 테스트 함수를 이용하여 sort_algorithms 리스트, test_sort함수를 이용하여\n",
    "- merge_sort, quick_sort, heap_sort, shell_sort 정렬 함수를 테스트 해보세요."
   ]
  },
  {
   "cell_type": "code",
   "execution_count": null,
   "metadata": {
    "id": "CbUl9KU-XL-X"
   },
   "outputs": [],
   "source": [
    "# -------------------------------\n",
    "# 알고리즘 반복 테스트\n",
    "# -------------------------------\n",
    "sort_algorithms = [merge_sort, quick_sort, heap_sort, shell_sort]\n",
    "\n",
    "\n"
   ]
  },
  {
   "cell_type": "markdown",
   "metadata": {
    "id": "UQUABtndL5yf"
   },
   "source": [
    "\n",
    "\n",
    "---\n",
    "\n"
   ]
  },
  {
   "cell_type": "markdown",
   "metadata": {
    "id": "nxvGPVQBODiJ"
   },
   "source": [
    "## 1-2.정렬 알고리즘 성능비교(시간 측정)"
   ]
  },
  {
   "cell_type": "markdown",
   "metadata": {
    "id": "UpGd6JO1L-FE"
   },
   "source": [
    "### 1) 한 개의 알고리즘 성능 측정 (숫자 데이터)"
   ]
  },
  {
   "cell_type": "markdown",
   "metadata": {
    "id": "uD6s9Wp1MajR"
   },
   "source": [
    "- **데이터 크기(Size)별 정렬 시간 측정**(➡️1차시 실습코드 참고) <br>\n",
    "- **데이터** : random.randint(0, 10000)\n",
    "- **시간측정 함수** : measure_time(정렬 알고리즘, 데이터 크기)\n",
    "- **데이터 크기**   : sizes = [100, 500, 1000, 5000]\n",
    "- **정렬 알고리즘** : sort_funcs = bubble_sort\n",
    "- **알고리즘별 측정 시간 저장** :  bubble_times = []"
   ]
  },
  {
   "cell_type": "code",
   "execution_count": null,
   "metadata": {
    "id": "1trXc4SzL1dQ"
   },
   "outputs": [],
   "source": [
    "# 정렬 알고리즘의 시간 복잡도 비교\n",
    "import time\n",
    "import random\n",
    "\n",
    "def measure_time(sort_func, size):\n",
    "    arr = [random.randint(0, 10000) for _ in range(size)]\n",
    "    start = time.time()  # 시간 측정 시작\n",
    "    sort_func(arr, len(arr))\n",
    "    end = time.time()    # 시간 측정 종료\n",
    "    return end - start\n",
    "\n",
    "# 데이터 크기\n",
    "sizes = [100, 500, 1000, 5000]\n",
    "for size in sizes:\n",
    "    print(f\"Size {size}: Bubble Sort = {measure_time(bubble_sort, size):.6f} sec\")"
   ]
  },
  {
   "cell_type": "markdown",
   "metadata": {
    "id": "AyGuGaw6MYUB"
   },
   "source": [
    "- 그래프로 시각화"
   ]
  },
  {
   "cell_type": "code",
   "execution_count": null,
   "metadata": {
    "id": "DD00c_vqMTeF"
   },
   "outputs": [],
   "source": [
    "# 그래프로 표현\n",
    "import time\n",
    "import random\n",
    "import matplotlib.pyplot as plt\n",
    "\n",
    "def measure_time(sort_func, sizes):\n",
    "    times = []\n",
    "    for size in sizes:\n",
    "        arr = [random.randint(0, 10000) for _ in range(size)]\n",
    "        start = time.time()             # 시작 시간 측정\n",
    "        sort_func(arr, len(arr))\n",
    "        end = time.time()               # 종료 시간 측정\n",
    "        times.append(end - start)\n",
    "    return times\n",
    "\n",
    "# 데이터 크기\n",
    "sizes = [100, 500, 1000, 5000]\n",
    "\n",
    "# 시간 측정하여 리스트로 담기\n",
    "bubble_times = measure_time(bubble_sort, sizes)\n",
    "\n",
    "# 그래프 그리기\n",
    "plt.figure(figsize=(4, 3))\n",
    "plt.plot(sizes, bubble_times, label=\"Bubble Sort\", marker='o')\n",
    "plt.xlabel(\"Input Size\")\n",
    "plt.ylabel(\"Execution Time (seconds)\")\n",
    "plt.legend()\n",
    "plt.title(\"Algorithm Complexity Analysis\")\n",
    "plt.show()"
   ]
  },
  {
   "cell_type": "markdown",
   "metadata": {
    "id": "Dq0dTJVGA8gi"
   },
   "source": [
    "\n",
    "\n",
    "---\n",
    "\n"
   ]
  },
  {
   "cell_type": "markdown",
   "metadata": {
    "id": "QjeUTZpdLZYx"
   },
   "source": [
    "### 2) 여러 개 알고리즘 비교\n",
    "- 데이터 크기   : sizes = [100, 500, 1000, 5000]\n",
    "- 정렬 알고리즘 : sort_funcs = [bubble_sort, selection_sort, insertion_sort, merge_sort, quick_sort]\n",
    "- 알고리즘별 측정 시간 저장: func_times = [[] for _ in sort_funcs]  # 동적 리스트 생성\n"
   ]
  },
  {
   "cell_type": "code",
   "execution_count": null,
   "metadata": {
    "id": "em-JlDUrSuNE"
   },
   "outputs": [],
   "source": [
    "# 코드 작성\n",
    "import time\n",
    "import random\n",
    "import matplotlib.pyplot as plt\n",
    "\n",
    "# 실행 시간 측정 함수\n",
    "def measure_time(sort_funcs, arr):\n",
    "    times = []\n",
    "    for sort_func in sort_funcs:\n",
    "        arr_copy = arr[:]  # 원본 배열 보호 (정렬 후 배열이 바뀌므로 복사)\n",
    "        start = time.time()\n",
    "        sort_func(arr_copy, len(arr_copy))\n",
    "        end = time.time()\n",
    "        times.append(end - start)\n",
    "    return times\n",
    "\n",
    "\n",
    "# 벤치마크 함수\n",
    "def benchmark():\n",
    "    sizes = [100, 500, 1000, 5000, 10000]\n",
    "    sort_funcs = [bubble_sort, selection_sort, insertion_sort, merge_sort, quick_sort]\n",
    "    func_times = [[] for _ in sort_funcs]  # 동적 리스트 생성\n",
    "\n",
    "    # 실행 시간 측정\n",
    "    for size in sizes:\n",
    "        arr = [random.randint(0, 10000) for _ in range(size)]   # 정수(양의 정수)\n",
    "        results = measure_time(sort_funcs, arr)\n",
    "        for idx, val in enumerate(results):\n",
    "            func_times[idx].append(val)\n",
    "\n",
    "    # 그래프 그리기\n",
    "    plt.figure(figsize=(6, 4))\n",
    "    for idx, sort_func in enumerate(sort_funcs):\n",
    "        plt.plot(sizes, func_times[idx], label=f\"{sort_func.__name__}\", marker='o')\n",
    "        print(f\"{sort_func.__name__}\\t\",func_times[idx] )\n",
    "\n",
    "    plt.xlabel(\"Input Size\")\n",
    "    plt.ylabel(\"Execution Time (seconds)\")\n",
    "    plt.title(\"Algorithm Time Complexity Analysis\")\n",
    "    plt.legend()\n",
    "    plt.grid(True)\n",
    "    plt.show()\n",
    "\n",
    "\n",
    "# 함수 호출\n",
    "benchmark()"
   ]
  },
  {
   "cell_type": "markdown",
   "metadata": {
    "id": "X_c9YfOntxYG"
   },
   "source": [
    "\n",
    "\n",
    "---\n",
    "\n"
   ]
  },
  {
   "cell_type": "markdown",
   "metadata": {
    "id": "qK9Im5RpcWE1"
   },
   "source": [
    "### ✅ [실습] 다양한 종류 데이터를 사용한 정렬 알고리즘 시간 측정하기\n",
    "- 다양한 정렬 알고리즘의 시간 성능을 측정하여 그래프로 시각화하기\n",
    "- sort_funcs = [bubble_sort, selection_sort, insertion_sort, merge_sort, quick_sort]\n",
    "    1. 정수(양의 정수) : 이미 앞에서 테스트 함\n",
    "    2. 정수(음수포함)\n",
    "    3. np.array 정수"
   ]
  },
  {
   "cell_type": "code",
   "execution_count": null,
   "metadata": {
    "id": "o3ANPUrhLdLT"
   },
   "outputs": [],
   "source": [
    "# 벤치마크 함수\n",
    "def benchmark():\n",
    "    sizes = [100, 500, 1000, 5000, 10000]\n",
    "    sort_funcs = [bubble_sort, selection_sort, insertion_sort, merge_sort, quick_sort]\n",
    "    func_times = [[] for _ in sort_funcs]  # 동적 리스트 생성\n",
    "\n",
    "    # 실행 시간 측정\n",
    "    for size in sizes:\n",
    "\n",
    "\n",
    "\n",
    "\n",
    "\n",
    "    # 그래프 그리기\n",
    "    plt.figure(figsize=(6, 4))\n",
    "    for idx, sort_func in enumerate(sort_funcs):\n",
    "        plt.plot(sizes, func_times[idx], label=f\"{sort_func.__name__}\", marker='o')\n",
    "        # print(f\"{sort_func.__name__}\\t\",func_times[idx] )\n",
    "\n",
    "    plt.xlabel(\"Input Size\")\n",
    "    plt.ylabel(\"Execution Time (seconds)\")\n",
    "    plt.title(\"Algorithm Time Complexity Analysis\")\n",
    "    plt.legend()\n",
    "    plt.grid(True)\n",
    "    plt.show()\n",
    "\n",
    "\n",
    "# 함수 호출\n",
    "benchmark()"
   ]
  },
  {
   "cell_type": "markdown",
   "metadata": {
    "id": "qphUUKIsNMvB"
   },
   "source": [
    "\n",
    "\n",
    "---\n",
    "\n"
   ]
  },
  {
   "cell_type": "markdown",
   "metadata": {
    "id": "CCX8QjC0BbUl"
   },
   "source": [
    "## 1-3.문자열 데이터 정렬"
   ]
  },
  {
   "cell_type": "markdown",
   "metadata": {
    "id": "HMpgfdRW5aCw"
   },
   "source": [
    "### 1) 문자열 데이터 생성하기"
   ]
  },
  {
   "cell_type": "markdown",
   "metadata": {
    "id": "X8v5j1BCDTFm"
   },
   "source": [
    "- 임의의 (알파벳 단어) 문자열 생성 : nltk corpus 라이브러리 생성(Natural Language Toolkit)"
   ]
  },
  {
   "cell_type": "code",
   "execution_count": null,
   "metadata": {
    "id": "riWBSBFj5aO8"
   },
   "outputs": [],
   "source": [
    "# 임의의 문자열 생성\n",
    "import random\n",
    "import nltk             # NLTK :: Natural Language Toolkit\n",
    "\n",
    "# 단어 리스트 다운로드 (처음 실행 시에만 필요)\n",
    "nltk.download('words')\n",
    "from nltk.corpus import words\n",
    "\n",
    "def generate_random_words(n=10000):\n",
    "    word_list = words.words()\n",
    "    # 너무 긴 단어를 제외하고 짧고 일반적인 단어 위주로 선택 (예: 3~8자)\n",
    "    filtered_words = [w for w in word_list if 3 <= len(w) <= 8 and w.isalpha()]\n",
    "    return random.sample(filtered_words, n)\n",
    "\n",
    "# 실행\n",
    "alphabet_words = generate_random_words()\n",
    "print(alphabet_words)\n",
    "# alphabet_words = ['braiding', 'bervie', 'uptable', 'awane', 'Cradock']\n"
   ]
  },
  {
   "cell_type": "markdown",
   "metadata": {
    "id": "g7npb7GqEmG-"
   },
   "source": [
    "- **임의의 한글 단어 생성**\n",
    "    - 완성형 한글 음절(U+AC00 ~ U+D7A3)은 초성 × 중성 × 종성의 조합으로 만들어진다.\n",
    "    - 유니코드 최대 4bytes로 구성\n",
    "    - 유니코드는 저장/전송 시 UTF-8, UTF-16, UTF-32 같은 인코딩 방식 사용"
   ]
  },
  {
   "cell_type": "code",
   "execution_count": null,
   "metadata": {
    "id": "l-IMw8Q8Gwib"
   },
   "outputs": [],
   "source": [
    "import random\n",
    "\n",
    "# 초성, 중성, 종성 리스트\n",
    "CHOSUNG = ['ㄱ','ㄲ','ㄴ','ㄷ','ㄸ','ㄹ','ㅁ','ㅂ','ㅃ','ㅅ','ㅆ','ㅇ','ㅈ','ㅉ','ㅊ','ㅋ','ㅌ','ㅍ','ㅎ']\n",
    "JUNGSUNG = ['ㅏ','ㅐ','ㅑ','ㅒ','ㅓ','ㅔ','ㅕ','ㅖ','ㅗ','ㅘ','ㅙ','ㅚ','ㅛ','ㅜ','ㅝ','ㅞ','ㅟ','ㅠ','ㅡ','ㅢ','ㅣ']\n",
    "JONGSUNG = ['','ㄱ','ㄲ','ㄳ','ㄴ','ㄵ','ㄶ','ㄷ','ㄹ','ㄺ','ㄻ','ㄼ','ㄽ','ㄾ','ㄿ','ㅀ','ㅁ','ㅂ','ㅄ','ㅅ','ㅆ','ㅇ','ㅈ','ㅊ','ㅋ','ㅌ','ㅍ','ㅎ']\n",
    "\n",
    "def make_random_syllable():\n",
    "    # 초성, 중성, 종성 선택\n",
    "    cho = random.choice(CHOSUNG)\n",
    "    jung = random.choice(JUNGSUNG)\n",
    "    jong = random.choice(JONGSUNG)\n",
    "\n",
    "    # 유니코드 계산\n",
    "    cho_index = CHOSUNG.index(cho)\n",
    "    jung_index = JUNGSUNG.index(jung)\n",
    "    jong_index = JONGSUNG.index(jong)\n",
    "\n",
    "    '''\n",
    "    유니코드 : 시작위치(0xAC00:가), 초성(19개),중성(21개),종성(28개)\n",
    "    ex: 강'의 구성: ㄱ(초성) + ㅏ(중성) + ㅇ(종성)\n",
    "        인덱스: 초성 'ㄱ' = 0,\n",
    "                중성 'ㅏ' = 0,\n",
    "                중성 'ㅏ' = 0\n",
    "        code = 0xAC00 + (0 * 21 * 28) + (0 * 28) + 21\n",
    "             = 0xAC00 + 21\n",
    "             = 0xAC15  → chr(0xAC15) == '강'\n",
    "    '''\n",
    "    code = 0xAC00 + (cho_index * 21 * 28) + (jung_index * 28) + jong_index\n",
    "\n",
    "    return chr(code)\n",
    "\n",
    "def generate_random_korean_word(length=2):\n",
    "    return ''.join(make_random_syllable() for _ in range(length))\n",
    "\n",
    "# 실행 예\n",
    "print(generate_random_korean_word())       # 예: 눠강\n",
    "print(generate_random_korean_word(3))      # 예: 쳔쿔흗\n"
   ]
  },
  {
   "cell_type": "markdown",
   "metadata": {
    "id": "hTIxxuq4IXa2"
   },
   "source": [
    "- 의미 있는 한글 단어 사용\n",
    "    - 자주 쓰이는 한국어 낱말: https://ko.wiktionary.org/wiki/%EB%B6%80%EB%A1%9D:%EC%9E%90%EC%A3%BC_%EC%93%B0%EC%9D%B4%EB%8A%94_%ED%95%9C%EA%B5%AD%EC%96%B4_%EB%82%B1%EB%A7%90_5800"
   ]
  },
  {
   "cell_type": "code",
   "execution_count": null,
   "metadata": {
    "id": "BmRuteF6IYCF"
   },
   "outputs": [],
   "source": [
    "import random\n",
    "\n",
    "# 샘플 한글 단어 리스트\n",
    "korean_words = [\n",
    "    \"사과\", \"바나나\", \"고양이\", \"강아지\", \"학교\", \"우산\", \"바람\", \"하늘\", \"바다\",\n",
    "    \"산책\", \"음악\", \"여행\", \"친구\", \"사랑\", \"가족\", \"문화\", \"언어\", \"기술\", \"자연\", \"계절\"\n",
    "]\n",
    "\n",
    "def generate_random_korean_word(n):\n",
    "    return random.choices(korean_words, k=n)\n",
    "\n",
    "# 실행\n",
    "print(generate_random_korean_word(5))\n"
   ]
  },
  {
   "cell_type": "markdown",
   "metadata": {
    "id": "TczX62_ZtvDU"
   },
   "source": [
    "\n",
    "\n",
    "---\n",
    "\n"
   ]
  },
  {
   "cell_type": "markdown",
   "metadata": {
    "id": "eY0MZ6bvRAod"
   },
   "source": [
    "### ✅ [실습] (국어원) 한글 단어 리스트 만들기  \n",
    "- 앞에서 사용한 \"자주 쓰이는 한국어 낱말 5800\" 사이트에서 데이터 가져와 단어 5000개를 리스트에 지정하기.\n",
    "    1. 사이트에서 한글 단어 복사하기\n",
    "    2. 메모장을 열어 복사하고 korean_words.txt로 저장\n",
    "    3. 코드에서 txt 파일 읽어오기\n",
    "    4. 임의의 1000개 리스트 korean_words 변수에 지정하기"
   ]
  },
  {
   "cell_type": "code",
   "execution_count": null,
   "metadata": {
    "id": "ZnnKw07dRM1-"
   },
   "outputs": [],
   "source": [
    "\n",
    "\n"
   ]
  },
  {
   "cell_type": "markdown",
   "metadata": {
    "id": "3k44m_yGLHrk"
   },
   "source": [
    "\n",
    "\n",
    "---\n",
    "\n"
   ]
  },
  {
   "cell_type": "markdown",
   "metadata": {
    "id": "LwQGl0EfLE44"
   },
   "source": [
    "### 2) 문자열 데이터 정렬하기"
   ]
  },
  {
   "cell_type": "markdown",
   "metadata": {
    "id": "0edRytfT8WYk"
   },
   "source": [
    "- 정렬순서\n",
    "    - **알파벳 정렬** : 대문자->소문자 알파벳 순서로 정렬\n",
    "    - **한글 정렬**: 가나다 순서로 정렬(유니코드 기준으로 정렬)\n",
    "    - **알파벳 + 한글 정렬** : 알파벳이 먼저 나오고 한글이 나중에 나옵니다. (한글이 유니코드상 더 뒤에 나옴)"
   ]
  },
  {
   "cell_type": "code",
   "execution_count": null,
   "metadata": {
    "id": "JujH2tlaORQx"
   },
   "outputs": [],
   "source": [
    "# -------------------------------\n",
    "# 테스트 케이스 리스트\n",
    "# -------------------------------\n",
    "test_cases = [\n",
    "    (['braiding', 'bervie', 'uptable', 'awane', 'Cradock'], \"Alphabet only\"),\n",
    "    (['피자', '자전거', '깃발', '달걀', '게임'], \"Korean only\"),\n",
    "    ([\"banana\", \"사과\", \"apple\", \"토끼\", 'Cradock', \"고양이\"], \"Alphabet + Korean\"),\n",
    "]\n",
    "\n",
    "# -------------------------------\n",
    "# 알고리즘 반복 테스트\n",
    "# -------------------------------\n",
    "sort_algorithms = [bubble_sort, selection_sort, insertion_sort]\n",
    "sort_algorithms = [bubble_sort]\n",
    "for sort_func in sort_algorithms:\n",
    "    print(f\"\\n🔎 Testing: {sort_func.__name__}\")\n",
    "    for data, label in test_cases:\n",
    "        test_sort(sort_func, data, label, True)"
   ]
  },
  {
   "cell_type": "markdown",
   "metadata": {
    "id": "1EqXNVvHtsYT"
   },
   "source": [
    "\n",
    "\n",
    "---\n",
    "\n"
   ]
  },
  {
   "cell_type": "markdown",
   "metadata": {
    "id": "CMwkXa-vaDOm"
   },
   "source": [
    "### ✅ [실습] 다량의 문자열 정렬 테스트하기\n",
    "- 앞에서 실행해서 값이 저장된 변수를 사용하세요.\n",
    "    - alphabet_words\n",
    "    - korean_words,\n",
    "    - alphabet_words+korean_words\n",
    "- test_cases로 만들어 test_sort 함수를 호출하여 정렬을 진행시켜 보세요."
   ]
  },
  {
   "cell_type": "code",
   "execution_count": null,
   "metadata": {
    "id": "i_j5d-K0aMAj"
   },
   "outputs": [],
   "source": [
    "test_cases = [  ]\n",
    "\n",
    "sort_algorithms = [bubble_sort, selection_sort, insertion_sort]\n",
    "sort_algorithms = [bubble_sort]\n",
    "for sort_func in sort_algorithms:\n",
    "    print(f\"\\n🔎 Testing: {sort_func.__name__}\")\n",
    "    for data, label in test_cases:\n",
    "        test_sort(sort_func, data, label)"
   ]
  },
  {
   "cell_type": "markdown",
   "metadata": {
    "id": "gvVJBVCutpHH"
   },
   "source": [
    "\n",
    "\n",
    "---\n",
    "\n"
   ]
  },
  {
   "cell_type": "markdown",
   "metadata": {
    "id": "92rRjg1pfogs"
   },
   "source": [
    "### ✅ [실습] 다량의 문자열 데이터 성능 시각화하기\n",
    "앞에서 사용한 데이터를 이용하여 아래 조건에 맞게 성능을 측정하고 시각화하시오.\n",
    "- 데이터 크기   : sizes = [100, 500, 1000, 5000]\n",
    "- 정렬 알고리즘 : sort_funcs = [bubble_sort, selection_sort, insertion_sort, merge_sort, quick_sort]\n",
    "- 알고리즘별 측정 시간 저장: func_times = [[] for _ in sort_funcs]  # 동적 리스트 생성\n",
    "- 정렬 데이터:\n",
    "    1. arr = alphabet_words (영어 단어)\n",
    "    2. arr = korean_words(한글 단어)\n",
    "    3. arr = mixed_words(혼합)"
   ]
  },
  {
   "cell_type": "code",
   "execution_count": null,
   "metadata": {
    "id": "3M7njrvxf6AP"
   },
   "outputs": [],
   "source": [
    "# 벤치마크 함수\n",
    "def benchmark():\n",
    "    sizes = [100, 500, 1000, 5000]\n",
    "    sort_funcs = [bubble_sort, selection_sort, insertion_sort, merge_sort, quick_sort]\n",
    "    func_times = [[] for _ in sort_funcs]  # 동적 리스트 생성\n",
    "\n",
    "    # 실행 시간 측정\n",
    "    for size in sizes:\n",
    "        arr = alphabet_words    # alphabet_words\n",
    "        # arr = korean_words      # korean_words\n",
    "        # arr = mixed_words       # mixed_words\n",
    "        results = measure_time(sort_funcs, arr)\n",
    "        for idx, val in enumerate(results):\n",
    "            func_times[idx].append(val)\n",
    "\n",
    "    # 그래프 그리기\n",
    "    plt.figure(figsize=(6, 4))\n",
    "    for idx, sort_func in enumerate(sort_funcs):\n",
    "        plt.plot(sizes, func_times[idx], label=f\"{sort_func.__name__}\", marker='o')\n",
    "        # print(f\"{sort_func.__name__}\\t\",func_times[idx] )\n",
    "\n",
    "    plt.xlabel(\"Input Size\")\n",
    "    plt.ylabel(\"Execution Time (seconds)\")\n",
    "    plt.title(\"Algorithm Time Complexity Analysis\")\n",
    "    plt.legend()\n",
    "    plt.grid(True)\n",
    "    plt.show()\n",
    "\n",
    "\n",
    "# 함수 호출\n",
    "benchmark()"
   ]
  },
  {
   "cell_type": "markdown",
   "metadata": {
    "id": "gVtzrM-HuB2N"
   },
   "source": [
    "\n",
    "\n",
    "---\n",
    "\n"
   ]
  },
  {
   "cell_type": "markdown",
   "metadata": {
    "id": "XQlKSjRGPIpA"
   },
   "source": [
    "### 3) (숫자 + 영문 + 한글) 혼합 데이터 정렬하기"
   ]
  },
  {
   "cell_type": "code",
   "execution_count": null,
   "metadata": {
    "id": "VrDpu2IvnZKe"
   },
   "outputs": [],
   "source": [
    "mixed_list = ['123', 'abc', '가나', 'ABC', '456', '다라', 'Abc', '789', '나다', 'def']\n"
   ]
  },
  {
   "cell_type": "markdown",
   "metadata": {
    "id": "B7KoORzjnfSq"
   },
   "source": [
    "1. 기본 정렬(유니코드 기반)\n",
    "<br> 숫자 > 알파벳(대문자 > 소문자) > 한글(유니코드 순서: 가,나,다)"
   ]
  },
  {
   "cell_type": "code",
   "execution_count": null,
   "metadata": {
    "id": "E5M67_tgnlU9"
   },
   "outputs": [],
   "source": [
    "sorted_list = sorted(mixed_list)\n",
    "sorted_list\n",
    "# 숫자 > 알파벳(대문자 > 소문자) > 한글(유니코드 순서: 가,나,다)"
   ]
  },
  {
   "cell_type": "markdown",
   "metadata": {
    "id": "l5y-wZwIn3mV"
   },
   "source": [
    "2. 커스텀 정렬 기준 만들기\n",
    "<br> # 숫자 > 알파벳 > 한글 순서"
   ]
  },
  {
   "cell_type": "code",
   "execution_count": null,
   "metadata": {
    "id": "iUF5EMuVn9jh"
   },
   "outputs": [],
   "source": [
    "# 종류별 그룹 나눈 후 정렬\n",
    "\n",
    "import re\n",
    "\n",
    "def get_type_priority(s):\n",
    "    if s.isdigit():\n",
    "        return (0, s)  # 숫자 그룹\n",
    "    elif re.match(r'^[a-zA-Z]+$', s):\n",
    "        return (1, s.lower())  # 알파벳 그룹 (대소문자 구분 X)\n",
    "    elif re.match(r'^[가-힣]+$', s):\n",
    "        return (2, s)  # 한글 그룹\n",
    "    else:\n",
    "        return (3, s)  # 기타\n",
    "\n",
    "sorted_list = sorted(mixed_list, key=get_type_priority)\n",
    "sorted_list\n",
    "# 숫자 > 알파벳 > 한글(유니코드 순서: 가,나,다)"
   ]
  },
  {
   "cell_type": "markdown",
   "metadata": {
    "id": "Ak1PH0ezobml"
   },
   "source": [
    "3.로케일을 고려한 정렬 (한글 가나다 순 등)\n",
    "<br> 숫자 > 알파벳(대문자 > 소문자) > 한글(유니코드 순서: 가,나,다)"
   ]
  },
  {
   "cell_type": "code",
   "execution_count": null,
   "metadata": {
    "id": "A3pWu-p_ofRE"
   },
   "outputs": [],
   "source": [
    "import locale\n",
    "from functools import cmp_to_key\n",
    "\n",
    "# 사용 가능한 로케일 출력\n",
    "print(locale.locale_alias['ko_kr'])  # Windows일 경우 'kor'로 출력될 수도 있음\n",
    "\n",
    "# 로케일 설정 시도 (운영체제에 따라 달라질 수 있음)\n",
    "try:\n",
    "    locale.setlocale(locale.LC_ALL, 'ko_KR.UTF-8')  # Linux/macOS\n",
    "except locale.Error:\n",
    "    try:\n",
    "        locale.setlocale(locale.LC_ALL, 'korean')   # Windows 용\n",
    "    except locale.Error:\n",
    "        print(\"한국어 로케일을 설정할 수 없습니다. 시스템에서 지원되지 않을 수 있습니다.\")\n",
    "\n",
    "\n",
    "# locale.strcoll를 key로 사용\n",
    "sorted_list = sorted(mixed_list, key=cmp_to_key(locale.strcoll))\n",
    "sorted_list\n",
    "#"
   ]
  },
  {
   "cell_type": "markdown",
   "metadata": {
    "id": "96KZxucEKvKw"
   },
   "source": [
    "\n",
    "\n",
    "---\n",
    "\n"
   ]
  },
  {
   "cell_type": "markdown",
   "metadata": {
    "id": "g6ASuk25_yDs"
   },
   "source": [
    "## 1-4.이미지 데이터 정렬"
   ]
  },
  {
   "cell_type": "markdown",
   "metadata": {
    "id": "F5etzkXjeaOV"
   },
   "source": [
    "### 1) 이미지 개요\n",
    "- 픽셀(pixel)이란?\n",
    "    - 이미지를 구성하는 가장 작은 단위 (화소)\n",
    "    - 하나의 픽셀은 색상 정보를 담고 있는 데이터 단위\n",
    "    - 픽셀의 크기는 **컬러 표현 방식(비트 뎁스, 비트 깊이)**에 따라 달라진다."
   ]
  },
  {
   "cell_type": "markdown",
   "metadata": {
    "id": "jSU3s7QmerMs"
   },
   "source": [
    "- 컬러 모드별 픽셀 크기\n"
   ]
  },
  {
   "cell_type": "markdown",
   "metadata": {
    "id": "ItSz_9Fue-i0"
   },
   "source": [
    "|컬러 모드 |설명 | 비트 수|바이트 수 |\n",
    "|--- |--- | ---|--- |\n",
    "|1-bit (흑백)|0 or 1 (흑/백만)|1비트|1/8 바이트|\n",
    "|L (Grayscale)|밝기만 표현 (0~255)|8비트|1 바이트|\n",
    "|RGB|\"R, G, B 각 채널이 8비트\"|24비트|3 바이트|\n",
    "|RGBA|RGB + Alpha(투명도)|32비트|4 바이트|\n",
    "|CMYK|\"인쇄용 색상(Cyan, Magenta, Yellow, Black)\"|32비트|4 바이트|\n",
    "|16-bit grayscale|고해상도 흑백 (0~65535)|16비트|2 바이트|\n",
    "|HDR 이미지 (예: float32 RGB)|고정밀 이미지 표현|96비트|12 바이트|\n",
    "\n"
   ]
  },
  {
   "cell_type": "code",
   "execution_count": null,
   "metadata": {
    "id": "iP3NBXhyfvFd"
   },
   "outputs": [],
   "source": [
    "from PIL import Image\n",
    "import numpy as np\n",
    "\n",
    "img = Image.open(\"cat.jpg\")\n",
    "print(\"모드:\", img.mode)  # 예: 'RGB'\n",
    "print(\"해상도:\", img.size)  # (width, height)\n",
    "\n",
    "# 픽셀 수\n",
    "width, height = img.size\n",
    "pixels = width * height\n",
    "\n",
    "# 총 바이트 수 (RGB 기준)\n",
    "total_bytes = pixels * 3  # RGB는 픽셀당 3바이트\n",
    "print(f\"총 바이트 수 (추정): {total_bytes:,} Bytes\")\n"
   ]
  },
  {
   "cell_type": "markdown",
   "metadata": {
    "id": "TnmYd9M3uFj-"
   },
   "source": [
    "\n",
    "\n",
    "---\n",
    "\n"
   ]
  },
  {
   "cell_type": "markdown",
   "metadata": {
    "id": "y8PbNWy7EPEz"
   },
   "source": [
    "### 2) 이미지 데이터 준비하기"
   ]
  },
  {
   "cell_type": "markdown",
   "metadata": {
    "id": "lUbG_ahL7KWd"
   },
   "source": [
    "### ✅ [실습] 이미지 데이터 다운로드\n",
    "1.  https://www.pexels.com/api/ 회원가입\n",
    "2. \"Get Started\" 클릭 후 API Key 복사\n",
    "3. SEARCH_QUERY : cats(jpg), dogs(jpg), cars(gif), flowers(png)"
   ]
  },
  {
   "cell_type": "code",
   "execution_count": null,
   "metadata": {
    "collapsed": true,
    "id": "hsP1Axk87TN8",
    "jupyter": {
     "outputs_hidden": true
    }
   },
   "outputs": [],
   "source": [
    "import os\n",
    "import requests\n",
    "from tqdm import tqdm\n",
    "\n",
    "# ➡️ Pexels API Key 입력\n",
    "PEXELS_API_KEY = 'PEXELS_API_KEY'  # 여기에 본인의 키를 입력하세요\n",
    "\n",
    "# ➡️ 검색 키워드 및 저장 폴더\n",
    "SEARCH_QUERY = 'flowers'\n",
    "SAVE_FOLDER = 'images'\n",
    "IMAGES_TO_DOWNLOAD = 100  # 총 몇 장 다운로드할 것인지\n",
    "\n",
    "# ➡️ API 요청 함수\n",
    "def search_images(query, per_page=30, page=1):\n",
    "    headers = {\n",
    "        \"Authorization\": PEXELS_API_KEY\n",
    "    }\n",
    "    url = f\"https://api.pexels.com/v1/search?query={query}&per_page={per_page}&page={page}\"\n",
    "    response = requests.get(url, headers=headers)\n",
    "    return response.json()\n",
    "\n",
    "# ➡️ 이미지 다운로드 함수\n",
    "def download_image(url, save_path):\n",
    "    r = requests.get(url, stream=True)\n",
    "    if r.status_code == 200:\n",
    "        with open(save_path, 'wb') as f:\n",
    "            for chunk in r.iter_content(1024):  # 1024바이트 크기의 덩어리(chunk)로 나누어 순회 저장\n",
    "                f.write(chunk)\n",
    "\n",
    "# ➡️ 이미지 검색 & 다운로드 실행\n",
    "os.makedirs(SAVE_FOLDER, exist_ok=True)\n",
    "\n",
    "downloaded = 0\n",
    "page = 1\n",
    "while downloaded < IMAGES_TO_DOWNLOAD:\n",
    "    data = search_images(SEARCH_QUERY, per_page=30, page=page)\n",
    "    photos = data.get('photos', [])\n",
    "\n",
    "    if not photos:\n",
    "        print(\"이미지를 더 이상 찾을 수 없습니다.\")\n",
    "        break\n",
    "\n",
    "    for photo in photos:\n",
    "        image_url = photo['src']['large']\n",
    "        filename = f\"{SEARCH_QUERY}_{downloaded+1}.png\"\n",
    "        save_path = os.path.join(SAVE_FOLDER, filename)\n",
    "        download_image(image_url, save_path)\n",
    "        downloaded += 1\n",
    "        tqdm.write(f\"다운로드 완료: {filename}\")\n",
    "\n",
    "        if downloaded >= IMAGES_TO_DOWNLOAD:\n",
    "            break\n",
    "    page += 1\n",
    "\n",
    "print(f\"\\n총 {downloaded}장의 이미지를 '{SAVE_FOLDER}' 폴더에 저장했습니다.\")\n"
   ]
  },
  {
   "cell_type": "markdown",
   "metadata": {
    "id": "Q8WBapFDuU2J"
   },
   "source": [
    "\n",
    "\n",
    "---\n",
    "\n"
   ]
  },
  {
   "cell_type": "markdown",
   "metadata": {
    "id": "NgzqAlIs34_H"
   },
   "source": [
    "### 3) 이미지 데이터 속성"
   ]
  },
  {
   "cell_type": "markdown",
   "metadata": {
    "id": "vA7f1rnV39lj"
   },
   "source": [
    "- 이미지 파일 : JPG, PNG 등 확장자를 갖는 파일\n",
    "- **이미지 속성**:\n",
    "    - 파일명(파일명/날짜/이름)\n",
    "    - 파일 용량 (bytes)\n",
    "    - 해상도 (Width x Height)\n",
    "    - 이미지 모드 (RGB, L 등) : '1' (Binary image), 'L' (Grayscale image), 'RGB' (Red, Green, Blue)\n",
    "    - 밝기 (Grayscale 평균값)\n",
    "    - 색상 (평균 RGB, 색상 히스토그램 등)\n"
   ]
  },
  {
   "cell_type": "markdown",
   "metadata": {
    "id": "EVZoGmb45beb"
   },
   "source": [
    "### ✅ [실습] 이미지 데이터 속성 추출하기"
   ]
  },
  {
   "cell_type": "code",
   "execution_count": null,
   "metadata": {
    "id": "bgFY341q6e7l"
   },
   "outputs": [],
   "source": [
    "pip install pillow numpy pandas"
   ]
  },
  {
   "cell_type": "code",
   "execution_count": null,
   "metadata": {
    "id": "00mg3zIm5tgZ"
   },
   "outputs": [],
   "source": [
    "import os\n",
    "from PIL import Image\n",
    "import numpy as np\n",
    "import pandas as pd\n",
    "\n",
    "def extract_image_features(image_path):\n",
    "    try:\n",
    "        img = Image.open(image_path)\n",
    "        img_array = np.array(img)\n",
    "\n",
    "        # ➡️ 기본 속성\n",
    "        filename = os.path.basename(image_path)\n",
    "        file_size = os.path.getsize(image_path)  # bytes\n",
    "        width, height = img.size\n",
    "        mode = img.mode\n",
    "\n",
    "        # ➡️ 밝기 (Grayscale 변환 후 평균)\n",
    "        grayscale = img.convert('L')\n",
    "        brightness = np.array(grayscale).mean()\n",
    "\n",
    "        # ➡️ RGB 평균\n",
    "        if img.mode in ['RGB', 'RGBA']:\n",
    "            rgb_array = np.array(img.convert('RGB'))\n",
    "            avg_color = rgb_array.mean(axis=(0, 1))  # R, G, B 평균값\n",
    "        else:\n",
    "            avg_color = [None, None, None]\n",
    "\n",
    "        return {\n",
    "            '파일명': filename,\n",
    "            '파일크기(Bytes)': file_size,\n",
    "            '해상도': f\"{width}x{height}\",\n",
    "            '모드': mode,\n",
    "            '평균밝기': round(brightness, 2),\n",
    "            'R평균': round(avg_color[0], 2) if avg_color[0] else None,\n",
    "            'G평균': round(avg_color[1], 2) if avg_color[1] else None,\n",
    "            'B평균': round(avg_color[2], 2) if avg_color[2] else None\n",
    "        }\n",
    "\n",
    "    except Exception as e:\n",
    "        print(f\"Error processing {image_path}: {e}\")\n",
    "        return None\n",
    "\n",
    "# 이미지 폴더 경로\n",
    "image_folder = 'images'  # 여기에 실제 경로 입력\n",
    "image_files = [os.path.join(image_folder, f)\n",
    "               for f in os.listdir(image_folder)\n",
    "               if f.lower().endswith(('.jpg', '.jpeg', '.png','gif'))]\n",
    "\n",
    "# 속성 추출\n",
    "image_data = [extract_image_features(img_path) for img_path in image_files]\n",
    "image_data = [d for d in image_data if d is not None]\n",
    "\n",
    "# 데이터프레임 보기 좋게 출력\n",
    "df = pd.DataFrame(image_data)\n",
    "display(df)\n"
   ]
  },
  {
   "cell_type": "markdown",
   "metadata": {
    "id": "B-PvIj0fuZ51"
   },
   "source": [
    "\n",
    "\n",
    "---\n",
    "\n"
   ]
  },
  {
   "cell_type": "markdown",
   "metadata": {
    "id": "ooZB0hYPGLsY"
   },
   "source": [
    "### ✅ [실습] 이미지 속성 데이터 정렬"
   ]
  },
  {
   "cell_type": "markdown",
   "metadata": {
    "id": "mDrx8aEcHBDx"
   },
   "source": [
    "1. **Pandas DataFrame 컬럼기준 정렬하기**"
   ]
  },
  {
   "cell_type": "code",
   "execution_count": null,
   "metadata": {
    "id": "oUbB0w_cErWl"
   },
   "outputs": [],
   "source": [
    "# 평균밝기 컬럼을 내림차순으로 정렬하기\n",
    "\n"
   ]
  },
  {
   "cell_type": "code",
   "execution_count": null,
   "metadata": {
    "id": "H9sN_t4vFok4"
   },
   "outputs": [],
   "source": [
    "# ['해상도','파일크기(Bytes)'] 컬럼순으로 내림차순으로 정렬하기\n",
    "\n"
   ]
  },
  {
   "cell_type": "markdown",
   "metadata": {
    "id": "PBRcRjOr4XUF"
   },
   "source": [
    "2. **밝기 기반 정렬하기**\n",
    "<br>이미지를 그레이스케일로 변환한 후, 평균 밝기를 구해서 정렬합니다."
   ]
  },
  {
   "cell_type": "code",
   "execution_count": null,
   "metadata": {
    "id": "uPRZ5ypqBa2X"
   },
   "outputs": [],
   "source": [
    "# 밝기 기반 정렬\n",
    "from PIL import Image\n",
    "import os\n",
    "import numpy as np\n",
    "\n",
    "\n",
    "# ➡️ 이미지를 밝기 값으로 정렬하기\n",
    "def get_avg_brightness(image_path):\n",
    "    image = Image.open(image_path).convert('L')  # L = grayscale\n",
    "    arr = np.array(image)\n",
    "    return arr.mean()\n",
    "\n",
    "\n",
    "\n",
    "image_folder = 'images'     # 이미지 폴더\n",
    "# image_files = [f for f in os.listdir(image_folder) if f.endswith('.jpg')]\n",
    "image_files = [f for f in os.listdir(image_folder)]\n",
    "\n",
    "# 내장 정렬 함수 사용하여 정렬\n",
    "sorted_images = sorted(\n",
    "    image_files,\n",
    "    key=lambda x: get_avg_brightness(os.path.join(image_folder, x))\n",
    ")\n",
    "\n",
    "print(sorted_images[:3])    # 밝기값 내림차순\n",
    "print(sorted_images[::50])\n"
   ]
  },
  {
   "cell_type": "markdown",
   "metadata": {
    "id": "TZr346DtNmG_"
   },
   "source": [
    "- 이미지 그래프에 시각화하기"
   ]
  },
  {
   "cell_type": "code",
   "execution_count": null,
   "metadata": {
    "id": "FBjxVT3HJPJe"
   },
   "outputs": [],
   "source": [
    "from PIL import Image\n",
    "import matplotlib.pyplot as plt\n",
    "import numpy as np\n",
    "\n",
    "# ➡️ 이미지를 나란히 그래프로 시각화하기\n",
    "def visualize_resized_images(image_paths):\n",
    "    \"\"\"\n",
    "    1.주어진 이미지 리스트의 이미지들을 동일한 크기로 조정(200x200)\n",
    "    2.2행 3열 (또는 이미지 개수에 따른 열) 그래프에 시각화\n",
    "    3.1행에는 원본 이미지, 2행에는 grayscale 이미지 나타냄\n",
    "    \"\"\"\n",
    "    target_size = (200, 200)  # 목표로 하는 이미지 크기 (원하는 가로, 세로 크기로 변경 가능)\n",
    "    original_images = []\n",
    "    grayscale_images = []\n",
    "\n",
    "    for path in image_paths:\n",
    "        try:\n",
    "            img = Image.open(path)\n",
    "            resized_img = img.resize(target_size)       # 크기 변환\n",
    "            original_images.append(resized_img)\n",
    "            grayscale_img = resized_img.convert(\"L\")    # Grayscale로 변환\n",
    "            grayscale_images.append(grayscale_img)\n",
    "        except FileNotFoundError:\n",
    "            print(f\"경로 '{path}'에 파일이 없습니다.\")\n",
    "            continue\n",
    "\n",
    "\n",
    "    if len(original_images) > 0:\n",
    "        num_images = len(original_images)\n",
    "        fig, axes = plt.subplots(2, num_images, figsize=(2 * num_images, 4)) # 2행으로 변경, 전체 그래프 높이 조절\n",
    "\n",
    "        if num_images == 1:\n",
    "            axes = [[axes[0]], [axes[1]]] # 이미지가 하나일 경우 axes를 2D 리스트 형태로 처리\n",
    "\n",
    "        for i in range(num_images):\n",
    "            # 원본 이미지 시각화 (1행)\n",
    "            original_img_array = np.array(original_images[i])\n",
    "            axes[0][i].imshow(original_img_array)\n",
    "            axes[0][i].set_title(f\"Original {i+1}\")\n",
    "            axes[0][i].axis('off')\n",
    "\n",
    "            # grayscale 이미지 시각화 (2행)\n",
    "            grayscale_img_array = np.array(grayscale_images[i])\n",
    "            grayscale_img_array.mean()\n",
    "            axes[1][i].imshow(grayscale_img_array, cmap='gray') # grayscale 이미지는 cmap='gray' 설정\n",
    "            axes[1][i].set_title(f\"Grayscale {grayscale_img_array.mean():.1f}\")  # grayscale 평균값\n",
    "            axes[1][i].axis('off')\n",
    "\n",
    "        plt.tight_layout()\n",
    "        plt.show()\n",
    "    else:\n",
    "        print(\"이미지 리스트가 비어 있습니다.\")\n",
    "\n",
    "\n",
    "# 사용할 이미지 파일 경로 리스트\n",
    "image_list = ['cars_7.gif', 'flowers_75.png', 'cars_70.gif']\n",
    "# image_list = [image_folder + '/' + filename for filename in image_list]\n",
    "image_list = [os.path.join(image_folder, filename) for filename in image_list]\n",
    "\n",
    "# 함수 호출\n",
    "visualize_resized_images(image_list)\n"
   ]
  },
  {
   "cell_type": "markdown",
   "metadata": {
    "id": "iqVTmt9q4ex7"
   },
   "source": [
    "2. **색상(RGB) 평균값 기반 정렬**\n",
    "<br> 파란색 평균값 기반 정렬"
   ]
  },
  {
   "cell_type": "code",
   "execution_count": null,
   "metadata": {
    "id": "GZ1Yy0GC440b"
   },
   "outputs": [],
   "source": [
    "def get_avg_color(image_path):\n",
    "    image = Image.open(image_path).resize((50, 50))  # 계산 속도 개선\n",
    "    arr = np.array(image)\n",
    "    return arr[:, :, :3].mean(axis=(0, 1))  # RGB 평균  arr[:, :, :3]=[행.열,면]\n",
    "\n",
    "# # R값 기준 정렬\n",
    "# sorted_images_by_r = sorted(image_files, key=lambda x: get_avg_color(os.path.join(image_folder, x))[0])\n",
    "# # G값 기준 정렬\n",
    "# sorted_images_by_r = sorted(image_files, key=lambda x: get_avg_color(os.path.join(image_folder, x))[1])\n",
    "# B값 기준 정렬\n",
    "sorted_images_by_r = sorted(image_files,\n",
    "                            key=lambda x: get_avg_color(os.path.join(image_folder, x))[2],\n",
    "                            reverse=True)\n",
    "\n",
    "print(sorted_images_by_r[:3])\n",
    "print(sorted_images[::50])\n",
    "\n",
    "# 사용할 이미지 파일 경로 리스트\n",
    "image_list = sorted_images[::50][:3]    # 50개씩 건너띄어 3개 이미지\n",
    "image_list = [image_folder + '/' + filename for filename in image_list]\n",
    "# image_list = [os.path.join(image_folder, filename) for filename in image_list]\n",
    "\n",
    "# 함수 호출\n",
    "visualize_resized_images(image_list)"
   ]
  },
  {
   "cell_type": "markdown",
   "metadata": {
    "id": "VVoZ2wRIUu89"
   },
   "source": [
    "- **파란색 평균 값에 가중치 부여**"
   ]
  },
  {
   "cell_type": "code",
   "execution_count": null,
   "metadata": {
    "id": "Z3vId6m_OPDt"
   },
   "outputs": [],
   "source": [
    "def get_blue_distribution_score_weighted_avg(image_path):\n",
    "    image = Image.open(image_path).resize((50, 50))\n",
    "    arr = np.array(image)\n",
    "    rgb_avg = arr[:, :, :3].mean(axis=(0, 1))\n",
    "    r_avg, g_avg, b_avg = rgb_avg\n",
    "    # 간단하게 파란색 평균에서 다른 색상 평균을 빼서 가중치를 부여\n",
    "    score = b_avg - (r_avg + g_avg) / 2\n",
    "    return score\n",
    "\n",
    "# 파란색 분포 점수를 기준으로 내림차순 정렬\n",
    "sorted_images_by_blue_distribution = sorted(image_files,\n",
    "                                             key=lambda x: get_blue_distribution_score_weighted_avg(os.path.join(image_folder, x)),\n",
    "                                             reverse=True)\n",
    "\n",
    "print(sorted_images_by_blue_distribution[::50])\n",
    "\n",
    "# 사용할 이미지 파일 경로 리스트\n",
    "image_list = sorted_images_by_blue_distribution[::50][:3]    # 50개씩 건너띄어 3개 이미지\n",
    "image_list = [os.path.join(image_folder, filename) for filename in image_list]\n",
    "\n",
    "# 함수 호출\n",
    "visualize_resized_images(image_list)"
   ]
  },
  {
   "cell_type": "markdown",
   "metadata": {
    "id": "kOxP68-EVV6i"
   },
   "source": [
    "- **특정 임계값 이상의 파란색 픽셀 비율 활용**"
   ]
  },
  {
   "cell_type": "code",
   "execution_count": null,
   "metadata": {
    "id": "DCCaCy4pVWEH"
   },
   "outputs": [],
   "source": [
    "def get_blue_distribution_score_threshold(image_path):\n",
    "    image = Image.open(image_path).resize((50, 50))\n",
    "    arr = np.array(image)\n",
    "    blue_channel = arr[:, :, 2]  # 파란색 채널 추출\n",
    "    threshold = 200  # 파란색으로 간주할 임계값 (조정 가능)\n",
    "    blue_pixels_count = np.sum(blue_channel > threshold)\n",
    "    total_pixels = arr.shape[0] * arr.shape[1]\n",
    "    blue_ratio = blue_pixels_count / total_pixels\n",
    "    return blue_ratio\n",
    "\n",
    "\n",
    "# 파란색 분포 점수를 기준으로 내림차순 정렬\n",
    "sorted_images_by_blue_distribution_threshold = sorted(image_files,\n",
    "                                             key=lambda x: get_blue_distribution_score_threshold(os.path.join(image_folder, x)),\n",
    "                                             reverse=True)\n",
    "print(sorted_images_by_blue_distribution_threshold[::50])\n",
    "\n",
    "# 사용할 이미지 파일 경로 리스트\n",
    "image_list = sorted_images_by_blue_distribution_threshold[::50][:3]    # 50개씩 건너띄어 3개 이미지\n",
    "image_list = [os.path.join(image_folder, filename) for filename in image_list]\n",
    "\n",
    "# 함수 호출\n",
    "visualize_resized_images(image_list)"
   ]
  },
  {
   "cell_type": "markdown",
   "metadata": {
    "id": "-hpa9WWR5F99"
   },
   "source": [
    "\n",
    "\n",
    "---\n",
    "\n"
   ]
  },
  {
   "cell_type": "markdown",
   "metadata": {
    "id": "A-hkJcHK4fLG"
   },
   "source": [
    "### 3) 정렬 알고리즘 실습"
   ]
  },
  {
   "cell_type": "markdown",
   "metadata": {
    "id": "v6C508w1dBmL"
   },
   "source": [
    "-  **버블 정렬** 이미지 밝기값 정렬"
   ]
  },
  {
   "cell_type": "code",
   "execution_count": null,
   "metadata": {
    "id": "p0w6KseZikWP"
   },
   "outputs": [],
   "source": [
    "# ➡️ 이미지를 밝기 값으로 정렬하기\n",
    "def get_avg_brightness(image_path):\n",
    "    image = Image.open(image_path).convert('L')  # L = grayscale\n",
    "    arr = np.array(image)\n",
    "    return arr.mean()"
   ]
  },
  {
   "cell_type": "code",
   "execution_count": null,
   "metadata": {
    "collapsed": true,
    "id": "1Iv4p8hnq0z-",
    "jupyter": {
     "outputs_hidden": true
    }
   },
   "outputs": [],
   "source": [
    "# ➡️ 버블 정렬 알고리즘 구현\n",
    "def bubble_sort_images(image_path, n):\n",
    "    for i in range(n):\n",
    "        for j in range(0, n - i - 1):\n",
    "            brightness_j = get_avg_brightness(image_path[j])\n",
    "            brightness_next = get_avg_brightness(image_path[j + 1])\n",
    "            if brightness_j > brightness_next:\n",
    "                image_path[j], image_path[j + 1] = image_path[j + 1], image_path[j]\n",
    "    return image_path\n"
   ]
  },
  {
   "cell_type": "code",
   "execution_count": null,
   "metadata": {
    "id": "U4E1iReMm8W0"
   },
   "outputs": [],
   "source": [
    "# 이미지 폴더 지정\n",
    "image_folder = 'images'  # 다운로드한 이미지 폴더\n",
    "image_files = [f for f in os.listdir(image_folder) if f.lower().endswith(('jpg'))]\n",
    "image_files = image_files[:10]\n",
    "image_path = [os.path.join(image_folder, f) for f in image_files]\n",
    "\n",
    "# 정렬 실행\n",
    "sorted_images_bubble = bubble_sort_images(image_path, len(image_path) )\n",
    "\n",
    "# 결과 출력\n",
    "print(\"\\n📸 밝기 순으로 정렬된 이미지 목록:\")\n",
    "for img in sorted_images:\n",
    "    print(f\"{os.path.basename(img)} → 밝기: {round(get_avg_brightness(img), 2)}\")"
   ]
  },
  {
   "cell_type": "markdown",
   "metadata": {
    "id": "1bUEU3nGnFD8"
   },
   "source": [
    "### ✅ [실습] 퀵 정렬 알고리즘을 이용하여 이미지 밝기값 정렬"
   ]
  },
  {
   "cell_type": "code",
   "execution_count": null,
   "metadata": {
    "id": "_915qe95iVwS"
   },
   "outputs": [],
   "source": [
    "# ➡️ 퀵 정렬 함수\n",
    "def quick_sort_images(image_path, n):\n",
    "\n",
    "\n",
    "\n",
    "    return quick_sort_images(less, len(less)) + [pivot] + quick_sort_images(greater, len(greater))"
   ]
  },
  {
   "cell_type": "code",
   "execution_count": null,
   "metadata": {
    "id": "YzJq9sLvu73Z"
   },
   "outputs": [],
   "source": [
    "# 퀵 정렬 테스트하기\n",
    "\n"
   ]
  },
  {
   "cell_type": "markdown",
   "metadata": {
    "id": "d0-sIrWa5H1A"
   },
   "source": [
    "\n",
    "\n",
    "---\n",
    "\n"
   ]
  }
 ],
 "metadata": {
  "colab": {
   "provenance": [],
   "toc_visible": true
  },
  "kernelspec": {
   "display_name": "Python 3 (ipykernel)",
   "language": "python",
   "name": "python3"
  },
  "language_info": {
   "codemirror_mode": {
    "name": "ipython",
    "version": 3
   },
   "file_extension": ".py",
   "mimetype": "text/x-python",
   "name": "python",
   "nbconvert_exporter": "python",
   "pygments_lexer": "ipython3",
   "version": "3.12.3"
  }
 },
 "nbformat": 4,
 "nbformat_minor": 4
}
