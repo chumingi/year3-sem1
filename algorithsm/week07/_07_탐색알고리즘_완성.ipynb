{
 "cells": [
  {
   "cell_type": "markdown",
   "id": "f44bcd12",
   "metadata": {
    "id": "f44bcd12"
   },
   "source": [
    "#  탐색 알고리즘"
   ]
  },
  {
   "cell_type": "markdown",
   "id": "d9719ece",
   "metadata": {
    "id": "d9719ece"
   },
   "source": [
    "------------------------------"
   ]
  },
  {
   "cell_type": "markdown",
   "id": "Uzqyux7fJbNn",
   "metadata": {
    "id": "Uzqyux7fJbNn"
   },
   "source": [
    "**(코랩에서)한글 폰트 지정하는 방법**"
   ]
  },
  {
   "cell_type": "code",
   "execution_count": null,
   "id": "A_oQRimiJPhf",
   "metadata": {
    "collapsed": true,
    "id": "A_oQRimiJPhf",
    "jupyter": {
     "outputs_hidden": true
    }
   },
   "outputs": [],
   "source": [
    "!sudo apt-get install -y fonts-nanum\n",
    "!sudo fc-cache -fv\n",
    "!rm ~/.cache/matplotlib -rf\n",
    "\n",
    "# 코랩에서 위 코드를 실행시킨 후  반드시 코랩 메뉴: \"런타임>세션 다시 시작\" 합니다."
   ]
  },
  {
   "cell_type": "code",
   "execution_count": null,
   "id": "xTBXzrFAJ8Hs",
   "metadata": {
    "id": "xTBXzrFAJ8Hs"
   },
   "outputs": [],
   "source": [
    "import matplotlib.pyplot as plt\n",
    "plt.rc('font', family='NanumGothic')       # (코랩)한글 폰트"
   ]
  },
  {
   "cell_type": "markdown",
   "id": "bzsfMju5e8v1",
   "metadata": {
    "id": "bzsfMju5e8v1"
   },
   "source": [
    "- **(코랩에서)그래프 시각화를 위한 라이브러리 설치**--"
   ]
  },
  {
   "cell_type": "code",
   "execution_count": null,
   "id": "UMLIw9GNV8y_",
   "metadata": {
    "collapsed": true,
    "id": "UMLIw9GNV8y_",
    "jupyter": {
     "outputs_hidden": true
    }
   },
   "outputs": [],
   "source": [
    "!pip install networkx  matplotlib pydot"
   ]
  },
  {
   "cell_type": "code",
   "execution_count": null,
   "id": "BW3Pv6L0cX1G",
   "metadata": {
    "collapsed": true,
    "id": "BW3Pv6L0cX1G",
    "jupyter": {
     "outputs_hidden": true
    }
   },
   "outputs": [],
   "source": [
    "# (코랩에서 graphviz 사용 중 오류가 발생하여 pip 방법대신 직접 설치함)\n",
    "!apt-get install -y graphviz graphviz-dev\n",
    "!git clone https://github.com/pygraphviz/pygraphviz.git\n",
    "%cd pygraphviz\n",
    "!pip install .\n",
    "%cd .."
   ]
  },
  {
   "cell_type": "markdown",
   "id": "UV6k1t9OtXXj",
   "metadata": {
    "id": "UV6k1t9OtXXj"
   },
   "source": [
    "\n",
    "\n",
    "---\n",
    "\n"
   ]
  },
  {
   "cell_type": "markdown",
   "id": "1d10bdc6",
   "metadata": {
    "id": "1d10bdc6"
   },
   "source": [
    "# 1. 탐색 알고리즘_2"
   ]
  },
  {
   "cell_type": "markdown",
   "id": "7242d158-b047-4b18-ae35-c333ba225214",
   "metadata": {},
   "source": [
    "### 트리\n",
    "- 계층적 구조\n",
    "- 단방향 관계, 순환 없어야 함.\n",
    "- 예) 파일시스템, HTML의 태그 구조\n",
    "- 메모리 상에서는 배열, 연결리스트 등의 구조로 저장되지만, 추상적으로 트리의 ㄱ조\n",
    "- 각 노드가 간선으로 연결됨\n",
    "- 일반트리: 자식의 개수가 3개 이상\n",
    "- 파이썬에서는 클래스(class) 형태로 많이 구현\n",
    "- 이진트리:\n",
    "- 포화이진트리:\n",
    "- 완전이진트리:\n",
    "- 균형이진트리:\n",
    "- 이진탐색트리(BST)\n",
    "- AVL 트리\n",
    "- 레드-블랙 트리\n",
    "- 트라이\n",
    "- 세그먼트트리"
   ]
  },
  {
   "cell_type": "markdown",
   "id": "3bbbc810-ae9b-4942-8be0-ddcd3a081ac6",
   "metadata": {},
   "source": [
    "### 트리의 기본 구조\n",
    "1. 루트: 최상위 노드\n",
    "2. 노드: 데이터 단위, 자식 노드 가질 수 있음\n",
    "3. "
   ]
  },
  {
   "cell_type": "markdown",
   "id": "09eab8dd-3967-44d9-9d91-fdcaaaf0adde",
   "metadata": {
    "id": "09eab8dd-3967-44d9-9d91-fdcaaaf0adde"
   },
   "source": [
    "# 1.트리 기반 탐색 트리"
   ]
  },
  {
   "cell_type": "markdown",
   "id": "gFPTnzXVU1CN",
   "metadata": {
    "id": "gFPTnzXVU1CN"
   },
   "source": [
    "## 1-1. 트리 탐색 개요\n",
    " - 일반 트리(General Tree) 구현하기"
   ]
  },
  {
   "cell_type": "markdown",
   "id": "9pa0_OHjYDT2",
   "metadata": {
    "id": "9pa0_OHjYDT2"
   },
   "source": [
    "### 1) 방법1 : N-링크 표현\n",
    "- 자식의 개수만큼 링크를 가짐\n",
    "- 링크를 표현하는 필드가 가변적"
   ]
  },
  {
   "cell_type": "code",
   "execution_count": null,
   "id": "DfYDsN2PWAYT",
   "metadata": {
    "id": "DfYDsN2PWAYT"
   },
   "outputs": [],
   "source": [
    "class TreeNode:\n",
    "    def __init__(self, data):\n",
    "        self.data = data\n",
    "        self.children = []\n",
    "\n",
    "    def add_child(self, child_node):\n",
    "        self.children.append(child_node)\n",
    "\n",
    "    def __repr__(self):\n",
    "        return f\"TreeNode({self.data})\"\n",
    "\n",
    "# --- 트리 구성 ---\n",
    "# 노드 생성\n",
    "A = TreeNode('A')\n",
    "B = TreeNode('B')\n",
    "C = TreeNode('C')\n",
    "D = TreeNode('D')\n",
    "E = TreeNode('E')\n",
    "F = TreeNode('F')\n",
    "G = TreeNode('G')\n",
    "\n",
    "# 트리 연결 (N-링크 방식)\n",
    "A.add_child(B)\n",
    "A.add_child(C)\n",
    "A.add_child(D)\n",
    "\n",
    "B.add_child(E)\n",
    "D.add_child(F)\n",
    "D.add_child(G)\n"
   ]
  },
  {
   "cell_type": "code",
   "execution_count": null,
   "id": "aoO35vKEeOxI",
   "metadata": {
    "id": "aoO35vKEeOxI"
   },
   "outputs": [],
   "source": [
    "# 일반 트리 순회(DFS 기반)\n",
    "def dfs_traversal(node, depth=0):\n",
    "    print(\"  \" * depth + f\"- {node.data}\")\n",
    "    for child in node.children:\n",
    "        dfs_traversal(child, depth + 1)\n",
    "\n",
    "# 트리 출력\n",
    "dfs_traversal(A)"
   ]
  },
  {
   "cell_type": "code",
   "execution_count": null,
   "id": "7Vh9Sq_0VoPz",
   "metadata": {
    "id": "7Vh9Sq_0VoPz"
   },
   "outputs": [],
   "source": [
    "# networks 라이브러리로 그래프 시각화하는 방법\n",
    "import networkx as nx\n",
    "\n",
    "V = ['A', 'B', 'C', 'D', 'E', 'F', 'G']   # node\n",
    "E = [('A','B'),('A','C'),('A','D'),('B','E'),('D','F'),('D','G')] # edges\n",
    "\n",
    "G = nx.DiGraph()\n",
    "G.add_nodes_from(V) # (없어도 무방: edge만 있어도 가능함\n",
    "G.add_edges_from(E)\n",
    "\n",
    "# 노드 위치 시스템 자동 표현 방식\n",
    "pos = nx.spring_layout(G)\n",
    "nx.draw(G, pos)\n",
    "plt.title(\"Simple Networkx Graph\")\n",
    "plt.show()\n",
    "\n",
    "# 트리형 시각화 방식\n",
    "# pos = graphviz_layout(G, prog='dot')\n",
    "# nx.draw(G, pos, with_labels=True, node_size=1000, node_color='skyblue', font_size=10)\n",
    "# plt.title(\"Simple Networkx Graph\")\n",
    "# plt.show()"
   ]
  },
  {
   "cell_type": "code",
   "execution_count": null,
   "id": "wSPc4Sw7Zliu",
   "metadata": {
    "id": "wSPc4Sw7Zliu"
   },
   "outputs": [],
   "source": [
    "# 시각화\n",
    "import networkx as nx\n",
    "import matplotlib.pyplot as plt\n",
    "from networkx.drawing.nx_agraph import graphviz_layout\n",
    "\n",
    "def build_graph(node, G):\n",
    "    for child in node.children:\n",
    "        G.add_edge(node.data, child.data)\n",
    "        build_graph(child, G)\n",
    "\n",
    "G = nx.DiGraph()\n",
    "build_graph(A, G)\n",
    "\n",
    "try:\n",
    "    from networkx.drawing.nx_agraph import graphviz_layout\n",
    "    pos = graphviz_layout(G, prog='dot')  # dot = 트리형\n",
    "except:\n",
    "    pos = nx.spring_layout(G)\n",
    "\n",
    "# 시각화 출력\n",
    "plt.figure(figsize=(5, 3))\n",
    "nx.draw(G, pos, with_labels=True, node_size=1000, node_color='skyblue', font_size=10)\n",
    "plt.title(\"일반 트리 N-링크 시각화\")\n",
    "plt.show()\n"
   ]
  },
  {
   "cell_type": "markdown",
   "id": "sVIYv3_mdegJ",
   "metadata": {
    "id": "sVIYv3_mdegJ"
   },
   "source": [
    "### 2) 방법2 : 왼쪽 자식-오른쪽 형제(LCRS)\n",
    "- 자식들 중,\n",
    "-  첫번째 자식만 자식, 나머지는 형제로\n",
    "- "
   ]
  },
  {
   "cell_type": "code",
   "execution_count": 1,
   "id": "b_SUzQF7dm8h",
   "metadata": {
    "id": "b_SUzQF7dm8h"
   },
   "outputs": [],
   "source": [
    "class LCRSNode:\n",
    "    def __init__(self, data):\n",
    "        self.data = data\n",
    "        self.left = None   # 왼쪽 자식 (첫 번째 자식)\n",
    "        self.right = None  # 오른쪽 형제 (다음 형제)\n",
    "\n",
    "    def __repr__(self):\n",
    "        return f\"LCRSNode({self.data})\"\n",
    "\n",
    "# --- 트리 구성 ---\n",
    "# 노드 생성\n",
    "A = LCRSNode('A')\n",
    "B = LCRSNode('B')\n",
    "C = LCRSNode('C')\n",
    "D = LCRSNode('D')\n",
    "E = LCRSNode('E')\n",
    "F = LCRSNode('F')\n",
    "G = LCRSNode('G')\n",
    "\n",
    "# LCRS 연결\n",
    "A.left = B      # A의 첫 자식 → B\n",
    "B.right= C      # B의 형제 → C\n",
    "C.right= D      # C의 형제 → D\n",
    "B.left = E      # B의 첫 자식 → E\n",
    "D.left = F      # D의 첫 자식 → F\n",
    "F.right= G      # F의 형제 → G\n"
   ]
  },
  {
   "cell_type": "code",
   "execution_count": 2,
   "id": "xKEDh1THd6zT",
   "metadata": {
    "id": "xKEDh1THd6zT"
   },
   "outputs": [
    {
     "name": "stdout",
     "output_type": "stream",
     "text": [
      "- A\n",
      "  - B\n",
      "    - E\n",
      "  - C\n",
      "  - D\n",
      "    - F\n",
      "    - G\n"
     ]
    }
   ],
   "source": [
    "# 일반 트리 순회(DFS 기반)\n",
    "def lcrs_preorder(node, depth=0):\n",
    "    if node is None:\n",
    "        return\n",
    "    print(\"  \" * depth + f\"- {node.data}\")\n",
    "    lcrs_preorder(node.left, depth + 1)   # 왼쪽 자식으로 내려감\n",
    "    lcrs_preorder(node.right, depth)      # 같은 깊이의 형제로 이동\n",
    "\n",
    "# 출력\n",
    "lcrs_preorder(A)"
   ]
  },
  {
   "cell_type": "code",
   "execution_count": 3,
   "id": "aVIP4Zfmd6b9",
   "metadata": {
    "id": "aVIP4Zfmd6b9"
   },
   "outputs": [
    {
     "name": "stderr",
     "output_type": "stream",
     "text": [
      "C:\\Users\\MinGi\\AppData\\Roaming\\Python\\Python312\\site-packages\\IPython\\core\\pylabtools.py:170: UserWarning: Glyph 50812 (\\N{HANGUL SYLLABLE OEN}) missing from font(s) DejaVu Sans.\n",
      "  fig.canvas.print_figure(bytes_io, **kw)\n",
      "C:\\Users\\MinGi\\AppData\\Roaming\\Python\\Python312\\site-packages\\IPython\\core\\pylabtools.py:170: UserWarning: Glyph 51901 (\\N{HANGUL SYLLABLE JJOG}) missing from font(s) DejaVu Sans.\n",
      "  fig.canvas.print_figure(bytes_io, **kw)\n",
      "C:\\Users\\MinGi\\AppData\\Roaming\\Python\\Python312\\site-packages\\IPython\\core\\pylabtools.py:170: UserWarning: Glyph 51088 (\\N{HANGUL SYLLABLE JA}) missing from font(s) DejaVu Sans.\n",
      "  fig.canvas.print_figure(bytes_io, **kw)\n",
      "C:\\Users\\MinGi\\AppData\\Roaming\\Python\\Python312\\site-packages\\IPython\\core\\pylabtools.py:170: UserWarning: Glyph 49885 (\\N{HANGUL SYLLABLE SIG}) missing from font(s) DejaVu Sans.\n",
      "  fig.canvas.print_figure(bytes_io, **kw)\n",
      "C:\\Users\\MinGi\\AppData\\Roaming\\Python\\Python312\\site-packages\\IPython\\core\\pylabtools.py:170: UserWarning: Glyph 50724 (\\N{HANGUL SYLLABLE O}) missing from font(s) DejaVu Sans.\n",
      "  fig.canvas.print_figure(bytes_io, **kw)\n",
      "C:\\Users\\MinGi\\AppData\\Roaming\\Python\\Python312\\site-packages\\IPython\\core\\pylabtools.py:170: UserWarning: Glyph 47480 (\\N{HANGUL SYLLABLE REUN}) missing from font(s) DejaVu Sans.\n",
      "  fig.canvas.print_figure(bytes_io, **kw)\n",
      "C:\\Users\\MinGi\\AppData\\Roaming\\Python\\Python312\\site-packages\\IPython\\core\\pylabtools.py:170: UserWarning: Glyph 54805 (\\N{HANGUL SYLLABLE HYEONG}) missing from font(s) DejaVu Sans.\n",
      "  fig.canvas.print_figure(bytes_io, **kw)\n",
      "C:\\Users\\MinGi\\AppData\\Roaming\\Python\\Python312\\site-packages\\IPython\\core\\pylabtools.py:170: UserWarning: Glyph 51228 (\\N{HANGUL SYLLABLE JE}) missing from font(s) DejaVu Sans.\n",
      "  fig.canvas.print_figure(bytes_io, **kw)\n",
      "C:\\Users\\MinGi\\AppData\\Roaming\\Python\\Python312\\site-packages\\IPython\\core\\pylabtools.py:170: UserWarning: Glyph 49884 (\\N{HANGUL SYLLABLE SI}) missing from font(s) DejaVu Sans.\n",
      "  fig.canvas.print_figure(bytes_io, **kw)\n",
      "C:\\Users\\MinGi\\AppData\\Roaming\\Python\\Python312\\site-packages\\IPython\\core\\pylabtools.py:170: UserWarning: Glyph 44033 (\\N{HANGUL SYLLABLE GAG}) missing from font(s) DejaVu Sans.\n",
      "  fig.canvas.print_figure(bytes_io, **kw)\n",
      "C:\\Users\\MinGi\\AppData\\Roaming\\Python\\Python312\\site-packages\\IPython\\core\\pylabtools.py:170: UserWarning: Glyph 54868 (\\N{HANGUL SYLLABLE HWA}) missing from font(s) DejaVu Sans.\n",
      "  fig.canvas.print_figure(bytes_io, **kw)\n"
     ]
    },
    {
     "data": {
      "image/png": "[encoded data removed]",
      "text/plain": [
       "<Figure size 500x300 with 1 Axes>"
      ]
     },
     "metadata": {},
     "output_type": "display_data"
    }
   ],
   "source": [
    "# LCRS(시각화)\n",
    "import networkx as nx\n",
    "import matplotlib.pyplot as plt\n",
    "\n",
    "# 올바른 트리 시각화를 위한 간선 생성 함수\n",
    "def build_graph_lcrs(parent, G):\n",
    "    if parent is None:\n",
    "        return\n",
    "\n",
    "    child = parent.left\n",
    "    while child:\n",
    "        # 부모 → 자식 간선만 추가\n",
    "        G.add_edge(parent.data, child.data)\n",
    "        build_graph_lcrs(child, G)  # 자식의 자식 탐색\n",
    "        child = child.right  # 다음 형제 탐색\n",
    "\n",
    "# 트리 구조 시각화\n",
    "G = nx.DiGraph()\n",
    "build_graph_lcrs(A, G)\n",
    "\n",
    "try:\n",
    "    from networkx.drawing.nx_agraph import graphviz_layout\n",
    "    pos = graphviz_layout(G, prog='dot')  # dot = 트리형\n",
    "except:\n",
    "    pos = nx.spring_layout(G)\n",
    "\n",
    "# 시각화 출력\n",
    "plt.figure(figsize=(5, 3))\n",
    "nx.draw(G, pos, with_labels=True, node_size=1000, node_color='skyblue', font_size=10)\n",
    "plt.title(\"왼쪽-자식 오른쪽-형제(LCRS) 시각화\")\n",
    "plt.show()\n"
   ]
  },
  {
   "cell_type": "markdown",
   "id": "8h9d1MMoyz4b",
   "metadata": {
    "id": "8h9d1MMoyz4b"
   },
   "source": [
    "\n",
    "\n",
    "---\n",
    "\n"
   ]
  },
  {
   "cell_type": "markdown",
   "id": "0sHAUq82Vkgz",
   "metadata": {
    "id": "0sHAUq82Vkgz"
   },
   "source": [
    "### [실습] 트리 구현하기\n",
    "- 트리를 클래스로 구현하기(N-링크 표현 방법)\n",
    "- 전체 노드의 수 출력\n",
    "- 트리의 높이(노드 기준) 출력\n",
    "- 트리의 높이(간선 기준) 출력\n",
    "- 트리의 차수\n",
    "- 루트 노드 노드 출력\n",
    "- J의 부모 노드 출력\n",
    "- G의 형제 노드 출력\n",
    "- C의 차수"
   ]
  },
  {
   "cell_type": "code",
   "execution_count": null,
   "id": "H-scAHBPVjdZ",
   "metadata": {
    "collapsed": true,
    "id": "H-scAHBPVjdZ",
    "jupyter": {
     "outputs_hidden": true
    }
   },
   "outputs": [],
   "source": [
    "import networkx as nx\n",
    "import matplotlib.pyplot as plt\n",
    "\n",
    "# N-링크 방식 트리 노드 정의\n",
    "class TreeNode:\n",
    "    def __init__(self, data):\n",
    "        self.data = data\n",
    "        self.children = []\n",
    "\n",
    "    def add_child(self, child_node):\n",
    "        self.children.append(child_node)\n",
    "\n",
    "    def __repr__(self):\n",
    "        return f\"TreeNode({self.data})\"\n",
    "\n",
    "\n",
    "# --- 트리 구성 ---\n",
    "# 노드 생성\n",
    "nodes = {ch: TreeNode(ch) for ch in \"ABCDEFGHIJKL\"}\n",
    "\n",
    "# 트리 구조 구성\n",
    "nodes['A'].add_child(nodes['B'])\n",
    "nodes['A'].add_child(nodes['C'])\n",
    "nodes['A'].add_child(nodes['D'])\n",
    "\n",
    "nodes['B'].add_child(nodes['E'])\n",
    "nodes['B'].add_child(nodes['F'])\n",
    "nodes['B'].add_child(nodes['G'])\n",
    "\n",
    "nodes['C'].add_child(nodes['H'])\n",
    "nodes['C'].add_child(nodes['I'])\n",
    "\n",
    "nodes['D'].add_child(nodes['J'])\n",
    "\n",
    "nodes['J'].add_child(nodes['K'])\n",
    "nodes['J'].add_child(nodes['L'])\n",
    "\n",
    "root = nodes['A']\n"
   ]
  },
  {
   "cell_type": "code",
   "execution_count": null,
   "id": "CdS3mEWQ8MR1",
   "metadata": {
    "id": "CdS3mEWQ8MR1"
   },
   "outputs": [],
   "source": [
    "# 전체 노드 수\n",
    "def count_nodes(node):\n",
    "    if not node:\n",
    "        return 0\n",
    "    return 1 + sum(count_nodes(child) for child in node.children)\n",
    "\n",
    "print(\"2) 전체 노드 수:\", count_nodes(root))"
   ]
  },
  {
   "cell_type": "code",
   "execution_count": null,
   "id": "S4orjM88KNTT",
   "metadata": {
    "id": "S4orjM88KNTT"
   },
   "outputs": [],
   "source": [
    "def count_nodes_iter(node):\n",
    "    if not node:\n",
    "        return 0\n",
    "\n",
    "    count = 0\n",
    "    stack = [node]\n",
    "    while stack:\n",
    "        current = stack.pop()\n",
    "        count += 1\n",
    "        # 자식들을 스택에 추가\n",
    "        for child in current.children:\n",
    "            stack.append(child)\n",
    "\n",
    "    return count\n",
    "\n",
    "print(\"2) 전체 노드 수:\", count_nodes_iter(root))"
   ]
  },
  {
   "cell_type": "code",
   "execution_count": null,
   "id": "QBmgMkxK6nBG",
   "metadata": {
    "id": "QBmgMkxK6nBG"
   },
   "outputs": [],
   "source": [
    "# 트리 높이 (노드 기준)\n",
    "def get_height(node):\n",
    "    if not node.children:\n",
    "        return 1\n",
    "    return 1 + max(get_height(child) for child in node.children)\n",
    "\n",
    "# 트리 높이 (간선 기준)\n",
    "def get_height_edges(node):\n",
    "    if not node.children:\n",
    "        return 0\n",
    "    return 1 + max(get_height_edges(child) for child in node.children)\n",
    "\n",
    "print(\"3) 트리 높이 (노드 기준):\", get_height(root))\n",
    "print(\"3) 트리 높이 (간선 기준):\", get_height_edges(root))"
   ]
  },
  {
   "cell_type": "code",
   "execution_count": null,
   "id": "mSUjWi6T6nJz",
   "metadata": {
    "id": "mSUjWi6T6nJz"
   },
   "outputs": [],
   "source": [
    "# 루트 노드\n",
    "print(\"4) 루트 노드:\", root.data)"
   ]
  },
  {
   "cell_type": "code",
   "execution_count": null,
   "id": "IHSFg1Hi6nN6",
   "metadata": {
    "id": "IHSFg1Hi6nN6"
   },
   "outputs": [],
   "source": [
    "# 부모 노드 찾기\n",
    "def find_parent(current, target):\n",
    "    for child in current.children:\n",
    "        if child == target:\n",
    "            return current\n",
    "        result = find_parent(child, target)\n",
    "        if result:\n",
    "            return result\n",
    "    return None\n",
    "\n",
    "print(\"5) J의 부모 노드:\", find_parent(root, nodes['J']).data)"
   ]
  },
  {
   "cell_type": "code",
   "execution_count": null,
   "id": "gehKIj9V6nSd",
   "metadata": {
    "id": "gehKIj9V6nSd"
   },
   "outputs": [],
   "source": [
    "# 형제 노드 찾기\n",
    "def find_siblings(root, target):\n",
    "    parent = find_parent(root, target)\n",
    "    if parent:\n",
    "        return [child.data for child in parent.children if child != target]\n",
    "    return []\n",
    "\n",
    "print(\"6) G의 형제 노드:\", find_siblings(root, nodes['G']))"
   ]
  },
  {
   "cell_type": "code",
   "execution_count": null,
   "id": "-Y1uc0HJ6ndv",
   "metadata": {
    "id": "-Y1uc0HJ6ndv"
   },
   "outputs": [],
   "source": [
    "# 트리 차수 (최대 자식 수)\n",
    "def get_max_degree(node):\n",
    "    if not node:\n",
    "        return 0\n",
    "    child_degrees = [get_max_degree(child) for child in node.children]\n",
    "    # print(f\"node[{node}], child_degrees={child_degrees}\")\n",
    "    return max([len(node.children)] + child_degrees)\n",
    "\n",
    "# 노드 차수\n",
    "def get_degree(node):\n",
    "    return len(node.children)\n",
    "\n",
    "print(\"7) 트리의 차수 (최대 자식 수):\", get_max_degree(root))\n",
    "print(\"8) C의 차수:\", get_degree(nodes['C']))"
   ]
  },
  {
   "cell_type": "code",
   "execution_count": null,
   "id": "82Rb2IoI6iIu",
   "metadata": {
    "id": "82Rb2IoI6iIu"
   },
   "outputs": [],
   "source": [
    "# 트리 시각화\n",
    "def build_graph(node, G):\n",
    "    for child in node.children:\n",
    "        G.add_edge(node.data, child.data)\n",
    "        build_graph(child, G)\n",
    "\n",
    "G = nx.DiGraph()\n",
    "build_graph(root, G)\n",
    "\n",
    "try:\n",
    "    from networkx.drawing.nx_agraph import graphviz_layout\n",
    "    pos = graphviz_layout(G, prog='dot')\n",
    "except:\n",
    "    pos = nx.spring_layout(G)\n",
    "\n",
    "plt.figure(figsize=(10, 6))\n",
    "nx.draw(G, pos, with_labels=True, node_color='lightblue', node_size=2000, font_size=12)\n",
    "plt.title(\"N-링크 트리 구조 시각화\")\n",
    "plt.show()"
   ]
  },
  {
   "cell_type": "markdown",
   "id": "YAnimuS39c2d",
   "metadata": {
    "id": "YAnimuS39c2d"
   },
   "source": [
    "\n",
    "\n",
    "---\n",
    "\n"
   ]
  },
  {
   "cell_type": "markdown",
   "id": "x1C6xphm-A4k",
   "metadata": {
    "id": "x1C6xphm-A4k"
   },
   "source": [
    "## 1-2. 이진 트리(Binary Tree)\n",
    "- 레벨이나 노드의 개수를 바탕으로 종류 구분\n",
    "- 트리를 구성할 때 left, right 설정.\n",
    "- 경사이진트리: 한 쪽으로만 치우쳐진 트리\n",
    "- 포화이진트리: 각 레벨에 모든 노드가 이진형태로 꽉 차있는 트리\n",
    "- 완전이진트리: 마지막 레벨을 제오한 모든 레벨에서 모든 노드가 꽉 차 있음.\n",
    "- 균형이진트리: 서브트리, 높이 차이 이용"
   ]
  },
  {
   "cell_type": "markdown",
   "id": "pNALeHfrNa46",
   "metadata": {
    "id": "pNALeHfrNa46"
   },
   "source": [
    "### 1) 이진 트리 표현 : 링크 표현법\n",
    "- 일반적으로 가장 많이 사용\n",
    "- left와 right"
   ]
  },
  {
   "cell_type": "code",
   "execution_count": null,
   "id": "flsZUudVNbC4",
   "metadata": {
    "id": "flsZUudVNbC4"
   },
   "outputs": [],
   "source": [
    "# 이진트리를 위한 노드 클래스\n",
    "class BinaryTreeNode:\n",
    "    def __init__ (self, data, left=None, right=None):   #(노드명, 왼쪽 노드명, 오른쪽 노드명)\n",
    "        self.data = data\n",
    "        self.left = left        # 왼쪽 자식을 위한 링크\n",
    "        self.right = right      # 오른쪽 자식을 위한 링크\n",
    "\n",
    "    def isLeaf(self):\n",
    "        return self.left is None and self.right is None\n",
    "\n",
    "# --- 트리 구성 ---\n",
    "# 노드 생성\n",
    "A = BinaryTreeNode(\"A\")\n",
    "B = BinaryTreeNode(\"B\")\n",
    "C = BinaryTreeNode(\"C\")\n",
    "D = BinaryTreeNode(\"D\")\n",
    "E = BinaryTreeNode(\"E\")\n",
    "F = BinaryTreeNode(\"F\")\n",
    "\n",
    "# 트리 연결 (완전 이진 트리 구조)\n",
    "A.left = B\n",
    "A.right= C\n",
    "B.left = D\n",
    "B.right= E\n",
    "C.left = F"
   ]
  },
  {
   "cell_type": "markdown",
   "id": "d1sC-7q6-HHR",
   "metadata": {
    "id": "d1sC-7q6-HHR"
   },
   "source": [
    "### [실습] 이진 트리 구현하기"
   ]
  },
  {
   "cell_type": "code",
   "execution_count": null,
   "id": "BF1wJo4w-HSu",
   "metadata": {
    "id": "BF1wJo4w-HSu"
   },
   "outputs": [],
   "source": [
    "# 이진트리를 위한 노드 클래스\n",
    "class BinaryTreeNode:\n",
    "    def __init__ (self, data, left=None, right=None):   #(노드명, 왼쪽 노드명, 오른쪽 노드명)\n",
    "        self.data = data\n",
    "        self.left = left        # 왼쪽 자식을 위한 링크\n",
    "        self.right = right      # 오른쪽 자식을 위한 링크\n",
    "\n",
    "    def isLeaf(self):\n",
    "        return self.left is None and self.right is None\n",
    "\n",
    "# 노드 생성\n",
    "A = BinaryTreeNode(\"A\")\n",
    "B = BinaryTreeNode(\"B\")\n",
    "C = BinaryTreeNode(\"C\")\n",
    "D = BinaryTreeNode(\"D\")\n",
    "E = BinaryTreeNode(\"E\")\n",
    "F = BinaryTreeNode(\"F\")\n",
    "G = BinaryTreeNode(\"G\")\n",
    "\n",
    "# 트리 연결 (완전 이진 트리 구조)\n",
    "A.left = B\n",
    "A.right= C\n",
    "B.left = D\n",
    "C.left = E\n",
    "D.left = F\n",
    "D.right= G"
   ]
  },
  {
   "cell_type": "code",
   "execution_count": null,
   "id": "nFZAi9IFawtc",
   "metadata": {
    "id": "nFZAi9IFawtc"
   },
   "outputs": [],
   "source": [
    "# 전체 노드 수\n",
    "def count_nodes(node):\n",
    "    if not node:\n",
    "        return 0\n",
    "    return 1 + count_nodes(node.left) + count_nodes(node.right)\n",
    "\n",
    "# 트리 높이 (노드 기준)\n",
    "def get_height(node):\n",
    "    if not node:\n",
    "        return 0\n",
    "    return 1 + max(get_height(node.left), get_height(node.right))\n",
    "\n",
    "# 트리 높이 (간선 기준)\n",
    "def get_height_edges(node):\n",
    "    if not node:\n",
    "        return -1  # 노드 없음 ⇒ 간선 없음\n",
    "    return 1 + max(get_height_edges(node.left), get_height_edges(node.right))\n",
    "\n",
    "# 부모 노드 찾기\n",
    "def find_parent(current, target):\n",
    "    if not current:\n",
    "        return None\n",
    "    if current.left == target or current.right == target:\n",
    "        return current\n",
    "    left_result = find_parent(current.left, target)\n",
    "    if left_result:\n",
    "        return left_result\n",
    "    return find_parent(current.right, target)\n",
    "\n",
    "# 형제 노드 찾기\n",
    "def find_siblings(root, target):\n",
    "    parent = find_parent(root, target)\n",
    "    if parent:\n",
    "        if parent.left == target and parent.right:\n",
    "            return [parent.right.data]\n",
    "        elif parent.right == target and parent.left:\n",
    "            return [parent.left.data]\n",
    "    return []\n",
    "\n",
    "# 트리의 차수 (최대 자식 수: 0, 1, 2 중 최댓값)\n",
    "def get_max_degree(node):\n",
    "    if not node:\n",
    "        return 0\n",
    "    degree = int(node.left is not None) + int(node.right is not None)\n",
    "    return max(degree, get_max_degree(node.left), get_max_degree(node.right))\n",
    "\n",
    "# 특정 노드의 차수\n",
    "def get_degree(node):\n",
    "    if not node:\n",
    "        return 0\n",
    "    return int(node.left is not None) + int(node.right is not None)\n",
    "\n",
    "\n",
    "\n",
    "print(\"1) 전체 노드 수:\", count_nodes(A))\n",
    "print(\"2) 트리 높이 (노드 기준):\", get_height(A))\n",
    "print(\"3) 트리 높이 (간선 기준):\", get_height_edges(A))\n",
    "print(\"4) 루트 노드:\", A.data)\n",
    "print(\"5) D의 부모 노드:\", find_parent(A, D).data)\n",
    "print(\"6) D의 형제 노드:\", find_siblings(A, D))\n",
    "print(\"7) 트리의 차수 (최대 자식 수):\", get_max_degree(A))\n",
    "print(\"8) C의 차수:\", get_degree(C))"
   ]
  },
  {
   "cell_type": "code",
   "execution_count": null,
   "id": "Q4Y7EdxlZrO-",
   "metadata": {
    "id": "Q4Y7EdxlZrO-"
   },
   "outputs": [],
   "source": [
    "# --- 트리 시각화 함수 ---\n",
    "def build_graph(graph, node):\n",
    "    if node is None:\n",
    "        return\n",
    "    if node.left:\n",
    "        graph.add_edge(node.data, node.left.data)\n",
    "        build_graph(graph, node.left)\n",
    "    if node.right:\n",
    "        graph.add_edge(node.data, node.right.data)\n",
    "        build_graph(graph, node.right)\n",
    "\n",
    "def visualize_binary_tree(root):\n",
    "    G = nx.DiGraph()\n",
    "    build_graph(G, root)\n",
    "\n",
    "    try:\n",
    "        from networkx.drawing.nx_agraph import graphviz_layout\n",
    "        pos = graphviz_layout(G, prog='dot')  # 트리 구조로 배치\n",
    "    except ImportError:\n",
    "        pos = nx.spring_layout(G)  # 대체 레이아웃\n",
    "\n",
    "    plt.figure(figsize=(5, 3))\n",
    "    nx.draw(G, pos, with_labels=True, node_size=1000, node_color='lightblue', font_size=10)\n",
    "    plt.title(\"이진 트리\", fontsize=12)\n",
    "    plt.show()\n",
    "\n",
    "\n",
    "# --- 실행 ---\n",
    "visualize_binary_tree(A)    # root 노드를 인자로 넘긴다."
   ]
  },
  {
   "cell_type": "markdown",
   "id": "3e21b8a1-c322-45fb-9023-e7d8abad6813",
   "metadata": {
    "id": "3e21b8a1-c322-45fb-9023-e7d8abad6813"
   },
   "source": [
    "----"
   ]
  },
  {
   "cell_type": "markdown",
   "id": "1-WWSGCk-J_O",
   "metadata": {
    "id": "1-WWSGCk-J_O"
   },
   "source": [
    "## 1-3. 트리 순회(Tree Traversal)"
   ]
  },
  {
   "cell_type": "markdown",
   "id": "6e993dcc-cb15-4b43-8bd4-353ee1df1c07",
   "metadata": {},
   "source": [
    "- 모든 노드를 한 번씩 탐색\n",
    "- insert와 search는 같은 방식 동일\n",
    "- 깊이우선탐색(전위, 중위, 후위) vs 넓이우선탐색(레벨)\n",
    "- **트리 남색 알고리즘 알기 !!중요!!**"
   ]
  },
  {
   "cell_type": "markdown",
   "id": "kWw8oBL5-KB4",
   "metadata": {
    "id": "kWw8oBL5-KB4"
   },
   "source": [
    "### 1) 전위, 중위, 후위 순회\n",
    "- 깊이우선탐색(DFS, Depth-First-Search)\n",
    "- 재귀나 스택 사용\n",
    "- 전위 순회 (Preorder)  : Root → Left → Right (VLR)\n",
    "- 중위 순회 (Inorder)     : Left → Root → Right (LVR)\n",
    "- 후위 순회 (Postorder): Left → Right → Root (LRV"
   ]
  },
  {
   "cell_type": "code",
   "execution_count": null,
   "id": "_9ZxS55PjoXJ",
   "metadata": {
    "id": "_9ZxS55PjoXJ"
   },
   "outputs": [],
   "source": [
    "# 이진트리의 전위순회\n",
    "def preorder(n) :\n",
    "    if n is not None :\n",
    "        # print('(', end=' ')     # 중첩된 괄호 표현을 위한 출력\n",
    "        print(n.data, end=' ')\n",
    "        preorder(n.left)\n",
    "        preorder(n.right)\n",
    "        # print(')', end=' ')     # 중첩된 괄호 표현을 위한 출력\n",
    "\n",
    "# 이진트리의 중위 순회\n",
    "def inorder(n) :\n",
    "    if n is not None :\n",
    "        inorder(n.left)\n",
    "        print(n.data, end=' ')\n",
    "        inorder(n.right)\n",
    "\n",
    "# 이진트리의 후위 순회\n",
    "def postorder(n) :\n",
    "    if n is not None :\n",
    "        postorder(n.left)\n",
    "        postorder(n.right)\n",
    "        print(n.data, end=' ')"
   ]
  },
  {
   "cell_type": "markdown",
   "id": "LqErrqUqhtUr",
   "metadata": {
    "id": "LqErrqUqhtUr"
   },
   "source": [
    "### 2) 레벨 순회\n",
    "- 너비우선탐색(BFS, Breadth-First-Search)\n",
    "- 레벨 순서대로 위에서 아래, 왼쪽에서 오른쪽(루트에서 가까운 노드부터 넓게 탐색)\n",
    "- 큐(Queue) 사용"
   ]
  },
  {
   "cell_type": "code",
   "execution_count": null,
   "id": "j5T56xXFhtpj",
   "metadata": {
    "id": "j5T56xXFhtpj"
   },
   "outputs": [],
   "source": [
    "# 1.(원형 큐) : 클래스 정의 와 생성자\n",
    "class ArrayQueue:\n",
    "    def __init__(self, capacity=10):\n",
    "        self.capacity = capacity\n",
    "        self.array = [None] * capacity\n",
    "        self.front = 0\n",
    "        self.rear = 0\n",
    "\n",
    "    # 2.(원형 큐) : 공백 상태와 포화 상태 검사\n",
    "    def isEmpty(self):\n",
    "        return self.front == self.rear\n",
    "\n",
    "    def isFull(self):\n",
    "        return self.front == (self.rear+1)%self.capacity\n",
    "\n",
    "    # 3.(원형 큐) : 삽입 연산\n",
    "    def enqueue(self, item):\n",
    "        if not self.isFull():\n",
    "            self.rear = (self.rear+1)%self.capacity # 후단 회전\n",
    "            self.array[self.rear] = item\n",
    "        else:\n",
    "            print('stack overflow!')\n",
    "            pass\n",
    "\n",
    "    # 4.(원형 큐) : 삭제 연산\n",
    "    def dequeue(self):\n",
    "        if not self.isEmpty():\n",
    "            self.front = (self.front+1)%self.capacity  # 전단 회전\n",
    "            return self.array[self.front]\n",
    "\n",
    "    # 5. (원형 큐) : 상단 참조 연산\n",
    "    def peek(self):\n",
    "        if not self.isEmpty():\n",
    "            return self.array[(self.front+1)%self.capacity]\n",
    "        else: pass\n",
    "\n",
    "    # 6. (원형 큐) : 전체 요소 수\n",
    "    def size(self):\n",
    "        return (self.rear - self.front + self.capacity) % self.capacity\n",
    "\n",
    "    # 7. (원형 큐) : 전체 요소 화면에 출력\n",
    "    def display(self, msg='Queue: '):\n",
    "        print(msg, end='=[')\n",
    "        count = self.size()\n",
    "        for i in range(count):\n",
    "            print(self.array[(self.front+1+i)%self.capacity], end=' ')\n",
    "        print(\"]\")"
   ]
  },
  {
   "cell_type": "code",
   "execution_count": null,
   "id": "5uspAsr-hufd",
   "metadata": {
    "id": "5uspAsr-hufd"
   },
   "outputs": [],
   "source": [
    "# 레벨 순회\n",
    "def levelorder(root):\n",
    "    if not root:\n",
    "        return\n",
    "    queue = ArrayQueue()\n",
    "    queue.enqueue(root)\n",
    "    while not queue.isEmpty() :\n",
    "        n = queue.dequeue()\n",
    "        if n is not None :\n",
    "            print(n.data, end=' ')\n",
    "            queue.enqueue(n.left)\n",
    "            queue.enqueue(n.right)\n"
   ]
  },
  {
   "cell_type": "markdown",
   "id": "SDBeWao6lEAk",
   "metadata": {
    "id": "SDBeWao6lEAk"
   },
   "source": [
    "### [실습] 이진 트리 순회하기\n",
    "- 전위 순회(preorder) 결과를 출력\n",
    "- 중위 순회(inorder) 결과를 출력\n",
    "- 후위 순회(postorder) 결과를 출력\n",
    "- 레벨 순회(level-order) 결과를 출력"
   ]
  },
  {
   "cell_type": "code",
   "execution_count": null,
   "id": "GNjnqZzvleVn",
   "metadata": {
    "id": "GNjnqZzvleVn"
   },
   "outputs": [],
   "source": [
    "# 이진트리를 위한 노드 클래스\n",
    "class BinaryTreeNode:\n",
    "    def __init__ (self, data, left=None, right=None):   #(노드명, 왼쪽 노드명, 오른쪽 노드명)\n",
    "        self.data = data\n",
    "        self.left = left        # 왼쪽 자식을 위한 링크\n",
    "        self.right = right      # 오른쪽 자식을 위한 링크\n",
    "\n",
    "    def isLeaf(self):\n",
    "        return self.left is None and self.right is None\n",
    "\n",
    "# 노드 생성\n",
    "A = BinaryTreeNode(\"A\")\n",
    "B = BinaryTreeNode(\"B\")\n",
    "C = BinaryTreeNode(\"C\")\n",
    "D = BinaryTreeNode(\"D\")\n",
    "E = BinaryTreeNode(\"E\")\n",
    "F = BinaryTreeNode(\"F\")\n",
    "G = BinaryTreeNode(\"G\")\n",
    "\n",
    "# 트리 연결 (완전 이진 트리 구조)\n",
    "A.left = B\n",
    "A.right= C\n",
    "B.left = D\n",
    "C.left = E\n",
    "D.left = F\n",
    "D.right= G\n",
    "\n",
    "\n",
    "# 1.전위 순회 결과를 출력하세요.\n",
    "print('1.  Pre-Order : ', end=''); preorder(A)\n",
    "print()\n",
    "# 2.중위 순회 결과를 출력하세요\n",
    "print('2.   In-Order : ', end=''); inorder(A)\n",
    "print()\n",
    "# 3.후위 순회 결과를 출력하세요\n",
    "print('3. Post-Order : ', end=''); postorder(A)\n",
    "print()\n",
    "# 4.레벨 순회 결과를 출력하세요.\n",
    "print('4.Level-Order : ', end=''); levelorder(A)\n",
    "print()"
   ]
  },
  {
   "cell_type": "markdown",
   "id": "_wJ6pY-7-KEf",
   "metadata": {
    "id": "_wJ6pY-7-KEf"
   },
   "source": [
    "\n",
    "\n",
    "---\n",
    "\n"
   ]
  },
  {
   "cell_type": "markdown",
   "id": "j_Qipx0J4e-z",
   "metadata": {
    "id": "j_Qipx0J4e-z"
   },
   "source": [
    "## 1-4. [트리 응용] 수식 트리"
   ]
  },
  {
   "cell_type": "markdown",
   "id": "53495ec0-ab58-4f74-8243-17b2679154cb",
   "metadata": {
    "id": "53495ec0-ab58-4f74-8243-17b2679154cb",
    "jp-MarkdownHeadingCollapsed": true
   },
   "source": [
    "- 수식 트리(Expression Tree)\n",
    "    - 산술식을 트리 형태로 표현한 이진 트리\n",
    "    - 수식 트리는 하나의 연산자가 두 개의 피연산자를 갖는다고 가정\n",
    "    - **!!중요!! 시험출제**\n",
    "\n",
    "- "
   ]
  },
  {
   "cell_type": "markdown",
   "id": "WqFjp2_vBKu8",
   "metadata": {
    "id": "WqFjp2_vBKu8"
   },
   "source": [
    "### [참고] Shunting Yard Algorithm\n",
    "- 중위 표현식(infix)을 후위 표현식(postfix)으로 변환\n",
    "- 스택에서 정렬하고 꺼내는 방식이 마치 철도 차량을 분기해서 정렬하는 작업과 비슷해서\n",
    "다익스트라가 ‘Shunting Yard’라고 이름 붙임\n",
    "- 계산 방식과 반대 순서로 트리 구조를 생성한다."
   ]
  },
  {
   "cell_type": "code",
   "execution_count": null,
   "id": "Aeq5n5yYBJUe",
   "metadata": {
    "id": "Aeq5n5yYBJUe"
   },
   "outputs": [],
   "source": [
    "import re\n",
    "\n",
    "def tokenize(expression):\n",
    "    # 정규식으로 숫자, 연산자, 괄호 분리\n",
    "    return re.findall(r'\\d+|[A-Za-z]+|[+\\-*/^()]', expression)\n",
    "\n",
    "\n",
    "def infix_to_postfix(expression):\n",
    "    precedence = {'+': 1,\n",
    "                  '-': 1,\n",
    "                  '*': 2,\n",
    "                  '/': 2}\n",
    "    output = []\n",
    "    stack = []\n",
    "\n",
    "    tokens = tokenize(expression)\n",
    "\n",
    "    for token in tokens:\n",
    "        if token.isalnum():  # 피연산자\n",
    "            output.append(token)\n",
    "        elif token == '(':\n",
    "            stack.append(token)\n",
    "        elif token == ')':\n",
    "            while stack and stack[-1] != '(':\n",
    "                output.append(stack.pop())\n",
    "            if stack and stack[-1] == '(':\n",
    "                stack.pop()\n",
    "        else:  # 연산자\n",
    "            while (stack and stack[-1] != '(' and\n",
    "                   precedence.get(token, 0) <= precedence.get(stack[-1], 0)):\n",
    "                output.append(stack.pop())\n",
    "            stack.append(token)\n",
    "\n",
    "    while stack:\n",
    "        output.append(stack.pop())\n",
    "\n",
    "    return ' '.join(output)\n",
    "\n"
   ]
  },
  {
   "cell_type": "code",
   "execution_count": null,
   "id": "WD7VtFIvBjv2",
   "metadata": {
    "id": "WD7VtFIvBjv2"
   },
   "outputs": [],
   "source": [
    "# 예제 1\n",
    "expr1 = \"A + B * C\"\n",
    "print(\"✅ 중위:\", expr1)\n",
    "print(\"🔁 후위:\", infix_to_postfix(expr1))  # A B C * +\n",
    "print()\n",
    "\n",
    "# 예제 2\n",
    "expr2 = \"( A + B ) * ( C - D )\"\n",
    "print(\"✅ 중위:\", expr2)\n",
    "print(\"🔁 후위:\", infix_to_postfix(expr2))  # A B + C D - *\n",
    "print()\n",
    "\n",
    "# 예제 3\n",
    "expr3 = \"A * ( B + C ) / D\"\n",
    "print(\"✅ 중위:\", expr3)\n",
    "print(\"🔁 후위:\", infix_to_postfix(expr3))  # A B C + * D /\n",
    "print()\n",
    "\n",
    "\n",
    "expr1 = \"(1 + 3) * ( 4 / 2)\"\n",
    "print(\"✅ 중위:\", expr1)\n",
    "print(\"🔁 후위:\", infix_to_postfix(expr1))  # A B C * +\n",
    "print()"
   ]
  },
  {
   "cell_type": "markdown",
   "id": "1bdbec6e-8132-470f-b1e8-5df37c3828c5",
   "metadata": {
    "id": "1bdbec6e-8132-470f-b1e8-5df37c3828c5"
   },
   "source": [
    "### 1) 수식 트리의 계산\n",
    "**앞에서 만든 이진 트리BinaryTreeNode 클래스와 연산 그대로 사용한다.**"
   ]
  },
  {
   "cell_type": "code",
   "execution_count": null,
   "id": "JdwDZul2-EBa",
   "metadata": {
    "id": "JdwDZul2-EBa"
   },
   "outputs": [],
   "source": [
    "# 이진트리를 위한 노드 클래스\n",
    "class BinaryTreeNode:\n",
    "    def __init__ (self, data, left=None, right=None):   #(노드명, 왼쪽 노드명, 오른쪽 노드명)\n",
    "        self.data = data\n",
    "        self.left = left        # 왼쪽 자식을 위한 링크\n",
    "        self.right = right      # 오른쪽 자식을 위한 링크\n",
    "\n",
    "    def isLeaf(self):\n",
    "        return self.left is None and self.right is None"
   ]
  },
  {
   "cell_type": "code",
   "execution_count": null,
   "id": "f81c1e65-d445-456f-b2a2-0b80ce0e44f9",
   "metadata": {
    "id": "f81c1e65-d445-456f-b2a2-0b80ce0e44f9"
   },
   "outputs": [],
   "source": [
    "# 수식트리 계산 함수\n",
    "def evaluate(node) :\n",
    "    if node is None :                 # 공백 트리면 0 반환\n",
    "       return 0\n",
    "    elif node.isLeaf() :              # 단말 노드이면 --> 피연산자\n",
    "       return node.data               # 그 노드의 값(데이터) 반환\n",
    "    else :                            # 루트나 가지노드라면 --> 연산자\n",
    "        op1 = evaluate(node.left)     # 왼쪽 서브트리 먼저 계산\n",
    "        op2 = evaluate(node.right)    # 오른쪽 서브트리 먼저 계산\n",
    "        if node.data == '+' : return op1 + op2\n",
    "        elif node.data == '-' : return op1 - op2\n",
    "        elif node.data == '*' : return op1 * op2\n",
    "        elif node.data == '/' : return op1 / op2\n"
   ]
  },
  {
   "cell_type": "markdown",
   "id": "a6c60176-6544-4108-9f4b-83f4b420f9c5",
   "metadata": {
    "id": "a6c60176-6544-4108-9f4b-83f4b420f9c5"
   },
   "source": [
    "### 2) 수식 트리 만들기"
   ]
  },
  {
   "cell_type": "code",
   "execution_count": null,
   "id": "9b98c22f-f8ab-4dbd-8215-9d9904273924",
   "metadata": {
    "id": "9b98c22f-f8ab-4dbd-8215-9d9904273924"
   },
   "outputs": [],
   "source": [
    "# 후위표기 수식을 이용한 수식트리 만들기\n",
    "def buildETree( expr ):\n",
    "    if len(expr) == 0 :\n",
    "        return None\n",
    "\n",
    "    token = expr.pop()\n",
    "    if token in \"+-*/\" :\n",
    "        node = BinaryTreeNode(token)\n",
    "        node.right= buildETree(expr)\n",
    "        node.left = buildETree(expr)\n",
    "        return node\n",
    "    else :\n",
    "        return BinaryTreeNode(float(token))\n"
   ]
  },
  {
   "cell_type": "code",
   "execution_count": null,
   "id": "48ef9926-816d-450e-a160-a5636083209d",
   "metadata": {
    "id": "48ef9926-816d-450e-a160-a5636083209d"
   },
   "outputs": [],
   "source": [
    "# 전위표기 수식을 이용해 수식트리를 만들고 루트를 반환함\n",
    "def buildETree2( expr ):\n",
    "    if len(expr) == 0 :\n",
    "        return None\n",
    "\n",
    "    token = expr.pop(0)\n",
    "    if token in \"+-*/\" :\n",
    "        node = BinaryTreeNode(token)\n",
    "        node.left = buildETree2(expr)\n",
    "        node.right= buildETree2(expr)\n",
    "        return node\n",
    "    else :\n",
    "        return BinaryTreeNode(float(token))\n"
   ]
  },
  {
   "cell_type": "markdown",
   "id": "9dfc9965-d2b5-4267-a8f4-f54fa9b0e34d",
   "metadata": {
    "id": "9dfc9965-d2b5-4267-a8f4-f54fa9b0e34d"
   },
   "source": [
    "### [실습] 수식 트리 테스트"
   ]
  },
  {
   "cell_type": "code",
   "execution_count": null,
   "id": "3f614d29-74ff-462f-96b7-5bfcda0f29f3",
   "metadata": {
    "id": "3f614d29-74ff-462f-96b7-5bfcda0f29f3"
   },
   "outputs": [],
   "source": [
    "#------ 테스트 프로그램----\n",
    "# ex:   (1 + 3) * ( 4 / 2)\n",
    "#       (100 - 50 * 2 / 4)\n",
    "\n",
    "expr_infix   = input(\"입력(중위표기 수식): \")    # 중위표기식 입력\n",
    "expr_postfix = infix_to_postfix(expr_infix)\n",
    "print(\"✅ 중위:\", expr_infix)\n",
    "print(\"🔁 후위:\", expr_postfix)\n",
    "\n",
    "\n",
    "# 토큰 분리\n",
    "expr = expr_postfix.split()\t\t\t        # 토큰 리스트로 변환\n",
    "print()\n",
    "\n",
    "# # 후위표기 --> 수식트리\n",
    "root = buildETree(expr)\t\t\t    # 후위표기 --> 수식트리\n",
    "print('\\n❌ 전위 순회: ', end=''); preorder(root)\n",
    "print('\\n🔁 중위 순회: ', end=''); inorder(root)\n",
    "print('\\n🔁 후위 순회: ', end=''); postorder(root)\n",
    "print('\\n✅ 계산 결과 : ', evaluate(root))\t# 수식트리 계산\n"
   ]
  },
  {
   "cell_type": "markdown",
   "id": "eY0n8bbo9Z45",
   "metadata": {
    "id": "eY0n8bbo9Z45"
   },
   "source": [
    "\n",
    "\n",
    "---\n",
    "\n"
   ]
  },
  {
   "cell_type": "markdown",
   "id": "g4Z6jKArey5z",
   "metadata": {
    "id": "g4Z6jKArey5z"
   },
   "source": [
    "## 1-5. 이진 탐색 트리(BST, Binary Search Tree)"
   ]
  },
  {
   "cell_type": "markdown",
   "id": "p6NeUAafnvGg",
   "metadata": {
    "id": "p6NeUAafnvGg"
   },
   "source": [
    "- BST는 \"탐색(search)\"에 특화된 이진 트리로, 각 노드가 다음 조건을 만족해야 함.\n",
    "    - **왼쪽** 서브트리: **현재 노드보다 작은 값들**\n",
    "    - **오른쪽** 서브트리: **현재 노드보다 큰 값들**\n",
    "    - 이 구조는 모든 서브트리에 도 동일하게 적용\n",
    "- 이 구조 덕분에 탐색, 삽입, 삭제 연산이 빠름\n",
    "- 중위 순회(Inorder)를 통해 트리의 모든 요소를 오름차순으로 출력할 수 있다.\n",
    "- 최선/최악 시간 복잡도: O(log⁡𝑛) / O(𝑛)\n"
   ]
  },
  {
   "cell_type": "markdown",
   "id": "7671548e-8b36-411d-ad88-c637e62344aa",
   "metadata": {
    "id": "7671548e-8b36-411d-ad88-c637e62344aa"
   },
   "source": [
    "### 1) BST 동작방식(연산)"
   ]
  },
  {
   "cell_type": "code",
   "execution_count": null,
   "id": "KFwSUmBdurb5",
   "metadata": {
    "id": "KFwSUmBdurb5"
   },
   "outputs": [],
   "source": [
    "class BSTNode:\n",
    "    def __init__(self, key):\n",
    "        self.key = key\n",
    "        self.left = None    # key보다 작은 값\n",
    "        self.right = None   # key보다 큰 값\n",
    "\n",
    "class BinarySearchTree:\n",
    "    def __init__(self):\n",
    "        self.root = None\n",
    "\n",
    "    # 1. insert\n",
    "    def insert(self, root, key):\n",
    "        if root is None:\n",
    "            return BSTNode(key)\n",
    "        if key < root.key:\n",
    "            root.left = self.insert(root.left, key)\n",
    "        elif key > root.key:\n",
    "            root.right = self.insert(root.right, key)\n",
    "        # 중복은 삽입하지 않음\n",
    "        return root\n",
    "\n",
    "    # 2. search\n",
    "    def search(self, root, key):\n",
    "        if root is None or root.key == key:\n",
    "            return root\n",
    "        if key < root.key:\n",
    "            return self.search(root.left, key)\n",
    "        else:\n",
    "            return self.search(root.right, key)\n",
    "\n",
    "    # 3. delete\n",
    "    def delete(self, root, key):\n",
    "        if root is None:\n",
    "            return None\n",
    "\n",
    "        if key < root.key:\n",
    "            root.left = self.delete(root.left, key)\n",
    "        elif key > root.key:\n",
    "            root.right = self.delete(root.right, key)\n",
    "        else:\n",
    "            # 삭제할 노드 발견\n",
    "            # (1) 자식 없음\n",
    "            if root.left is None and root.right is None:\n",
    "                return None\n",
    "            # (2) 왼쪽 없음\n",
    "            elif root.left is None:\n",
    "                return root.right\n",
    "            # (2) 오른쪽 없음\n",
    "            elif root.right is None:\n",
    "                return root.left\n",
    "            # (3) 두 자식 모두 있음\n",
    "            else:\n",
    "                # 오른쪽 서브트리에서 최소값 찾아 교체\n",
    "                min_node = self._find_min(root.right)\n",
    "                root.key = min_node.key\n",
    "                root.right = self.delete(root.right, min_node.key)\n",
    "        return root\n",
    "\n",
    "    def _find_min(self, node):\n",
    "        while node.left:\n",
    "            node = node.left\n",
    "        return node\n",
    "\n",
    "    # 4. display (중위 순회)\n",
    "    def display(self, root):\n",
    "        print(\"BST 중위 순회 출력:\")\n",
    "        self._inorder(root)\n",
    "        print()\n",
    "\n",
    "    def _inorder(self, node):\n",
    "        if node:\n",
    "            self._inorder(node.left)\n",
    "            print(node.key, end=\" \")\n",
    "            self._inorder(node.right)\n"
   ]
  },
  {
   "cell_type": "code",
   "execution_count": null,
   "id": "C3CxelXbyK5y",
   "metadata": {
    "id": "C3CxelXbyK5y"
   },
   "outputs": [],
   "source": [
    "# ------ 테스트 ---------\n",
    "bst = BinarySearchTree()\n",
    "root = None\n",
    "\n",
    "# 삽입\n",
    "for value in [50, 30, 70, 20, 40, 60, 80]:\n",
    "    root = bst.insert(root, value)\n",
    "\n",
    "# 출력\n",
    "bst.display(root)\n",
    "\n",
    "# 탐색\n",
    "target = 60\n",
    "node = bst.search(root, target)\n",
    "print(f\"{target} 찾음:\", node.key if node else f\"{target} 없음\")\n",
    "\n",
    "# 삭제\n",
    "root = bst.delete(root, 30)\n",
    "\n",
    "# 출력\n",
    "bst.display(root)"
   ]
  },
  {
   "cell_type": "markdown",
   "id": "7Q4dSFe6ihRt",
   "metadata": {
    "id": "7Q4dSFe6ihRt"
   },
   "source": [
    "### @테스트 데이터 정의"
   ]
  },
  {
   "cell_type": "code",
   "execution_count": null,
   "id": "SDtNdJ7Cii0A",
   "metadata": {
    "id": "SDtNdJ7Cii0A"
   },
   "outputs": [],
   "source": [
    "import numpy as np\n",
    "\n",
    "# 1.숫자 데이터: 균등 정렬\n",
    "arr = list(range(0, 1001, 10))  # 0, 10, ..., 1000\n",
    "target = 420\n",
    "\n",
    "# 2.NumPy 배열 데이터: 균등 정렬\n",
    "arr_np = np.arange(-100, 100, 10)  # array([-100, -90, ..., 90])\n",
    "target_np = -60\n",
    "\n",
    "# 3.영어 단어 데이터: 사전순 정렬\n",
    "english_words = sorted([\n",
    "    \"apple\", \"banana\", \"cherry\", \"date\", \"fig\", \"grape\",\n",
    "    \"kiwi\", \"lemon\", \"mango\", \"orange\", \"peach\", \"plum\", \"quince\"\n",
    "])\n",
    "target_english = \"lemon\"\n",
    "\n",
    "# 4.한글 단어 데이터: 초성순 정렬\n",
    "korean_words = sorted([\n",
    "    \"가방\", \"나무\", \"다리\", \"라디오\", \"마을\", \"바다\", \"사과\",\n",
    "    \"아침\", \"자전거\", \"차례\", \"카메라\", \"타자기\", \"파도\", \"하늘\"\n",
    "])\n",
    "target_korean = \"자전거\""
   ]
  },
  {
   "cell_type": "markdown",
   "id": "EotxN9ADqr4M",
   "metadata": {
    "id": "EotxN9ADqr4M"
   },
   "source": [
    "- [테스트용] 이름, 전화번호부 txt 읽어오기"
   ]
  },
  {
   "cell_type": "code",
   "execution_count": null,
   "id": "dWE6C_DgqsFv",
   "metadata": {
    "id": "dWE6C_DgqsFv"
   },
   "outputs": [],
   "source": [
    "# 5.이름, 전화번호부 데이터:\n",
    "class Contact:\n",
    "    def __init__(self, name, phone):\n",
    "        self.name = name\n",
    "        self.phone = phone\n",
    "\n",
    "    def __lt__(self, other):\n",
    "        return self.name < other.name\n",
    "\n",
    "    def __gt__(self, other):\n",
    "        return self.name > other.name\n",
    "\n",
    "    def __eq__(self, other):\n",
    "        return self.name == other.name\n",
    "\n",
    "    def __repr__(self):\n",
    "        return f\"{self.name}({self.phone})\"\n",
    "\n",
    "# 1.임의의 전화번호부 리스트 만들기\n",
    "# contacts = [\n",
    "#     Contact(\"김예림\", \"010-1234-5678\"),\n",
    "#     Contact(\"윤정우\", \"010-8015-7511\"),\n",
    "# ]\n",
    "\n",
    "# 2.임의로 생성한 전화번호부 파일 읽어와서 리스트 만들기\n",
    "file = './contacts_1000.txt'\n",
    "contacts = []\n",
    "with open(file, \"r\", encoding=\"utf-8\") as f:\n",
    "    for line in f:\n",
    "        name, phone = line.strip().split(\",\")\n",
    "        contacts.append(Contact(name, phone))\n",
    "\n",
    "# 예시 출력 (처음 3개)\n",
    "for c in contacts[:3]:\n",
    "    print(c)\n",
    "\n",
    "target_contact = Contact(\"윤정우\", \"010-8015-7511\")  # 전화번호는 비교에 필요 없음\n"
   ]
  },
  {
   "cell_type": "markdown",
   "id": "rmgPHGCegNxu",
   "metadata": {
    "id": "rmgPHGCegNxu"
   },
   "source": [
    "### @트리 탐색 테스트"
   ]
  },
  {
   "cell_type": "code",
   "execution_count": null,
   "id": "jj7jrOFficne",
   "metadata": {
    "id": "jj7jrOFficne"
   },
   "outputs": [],
   "source": [
    "import time\n",
    "\n",
    "def test_bst(TreeClass, data, target, label=\"데이터\", sort_show=False):\n",
    "    '''\n",
    "    TreeClass   : BinarySearchTree 클래스명\n",
    "    data        : 삽입할 데이터 (list or np.ndarray)\n",
    "    target      : 검색 대상\n",
    "    label       : 출력용 라벨\n",
    "    sort_show   : 데이터 출력 여부\n",
    "    '''\n",
    "    bst = TreeClass()           # 트리 객체 생성\n",
    "    root = None\n",
    "\n",
    "    # 데이터 복사 후 삽입\n",
    "    insert_data = np.copy(data) if isinstance(data, np.ndarray) else list(data)\n",
    "    for item in insert_data:\n",
    "        root = bst.insert(root, item)\n",
    "\n",
    "    # 탐색 실행 : 탐색 성능 측정\n",
    "    start = time.time()\n",
    "    result = bst.search(root, target)\n",
    "    end = time.time()\n",
    "\n",
    "    # 기대값 판단\n",
    "    if isinstance(data, np.ndarray):\n",
    "        expected = np.where(data == target)[0] if target in data else -1\n",
    "    else:\n",
    "        expected = data.index(target) if target in data else -1\n",
    "\n",
    "    # 결과 비교\n",
    "    found = result is not None\n",
    "    passed = found if expected != -1 else not found\n",
    "\n",
    "    print(f\"[{TreeClass.__name__}] {label}에서 🔍'{target}' 탐색: {'✅ PASS' if passed else '❌ FAIL'} ⏱️ {end - start:.6f} sec\")\n",
    "\n",
    "    if not passed:\n",
    "        print(\"Expected:\", 'Found' if expected != -1 else 'Not Found')\n",
    "        print(\"Got     :\", 'Found' if found else 'Not Found')\n",
    "\n",
    "    if sort_show:\n",
    "        print(f\" data = {list(data)}\")\n",
    "        print(f\"⏱️ Search Time: {end - start:.6f} sec\\n\")\n",
    "\n",
    "\n",
    "# 테스트 실행\n",
    "test_bst(BinarySearchTree, arr, target, \"① 숫자 데이터\")\n",
    "test_bst(BinarySearchTree, arr_np, target_np, \"② Numpy 음수 데이터\")\n",
    "test_bst(BinarySearchTree, english_words, target_english, \"③ 영어 단어 데이터\")\n",
    "test_bst(BinarySearchTree, korean_words, target_korean, \"④ 한글 단어 데이터\")\n",
    "test_bst(BinarySearchTree, contacts, target_contact, \"⑤ 전화번호부 데이터\")\n"
   ]
  },
  {
   "cell_type": "markdown",
   "id": "nXsLYv87mf-s",
   "metadata": {
    "id": "nXsLYv87mf-s"
   },
   "source": [
    "### @ 다른 이진 트리 알고리즘과 비교 테스트"
   ]
  },
  {
   "cell_type": "markdown",
   "id": "cOb_eIGLmF7d",
   "metadata": {
    "id": "cOb_eIGLmF7d"
   },
   "source": [
    "- **AVLTree 클래스** (자기균형 BST)\n",
    "    -  세계 최초의 균형 이진 탐색 트리로, 1962년 G.M. Adelson-Velsky와 E.M. Landis가 제안한 구조 (AVL은 이름에서 따온 것)\n",
    "    - 🔸 균형 조건 (Balance Factor)\n",
    "        - 각 노드의 왼쪽 서브트리 높이 - 오른쪽 서브트리 높이가 -1, 0, +1 중 하나여야 함\n",
    "        - 이 조건을 벗어나면, 회전(rotation) 연산을 통해 다시 균형을 맞춤"
   ]
  },
  {
   "cell_type": "code",
   "execution_count": null,
   "id": "CNPHFhLPmNf9",
   "metadata": {
    "id": "CNPHFhLPmNf9"
   },
   "outputs": [],
   "source": [
    "class AVLNode:\n",
    "    def __init__(self, key):\n",
    "        self.key = key\n",
    "        self.left = None\n",
    "        self.right = None\n",
    "        self.height = 1\n",
    "\n",
    "class AVLTree:\n",
    "    def insert(self, root, key):\n",
    "        if not root:\n",
    "            return AVLNode(key)\n",
    "        if key < root.key:\n",
    "            root.left = self.insert(root.left, key)\n",
    "        elif key > root.key:\n",
    "            root.right = self.insert(root.right, key)\n",
    "        else:\n",
    "            return root  # 중복 키는 삽입 안 함\n",
    "\n",
    "        # 높이 업데이트\n",
    "        root.height = 1 + max(self._get_height(root.left), self._get_height(root.right))\n",
    "\n",
    "        # 균형 계수 계산\n",
    "        balance = self._get_balance(root)\n",
    "\n",
    "        # 회전 케이스\n",
    "        # LL\n",
    "        if balance > 1 and key < root.left.key:\n",
    "            return self._right_rotate(root)\n",
    "        # RR\n",
    "        if balance < -1 and key > root.right.key:\n",
    "            return self._left_rotate(root)\n",
    "        # LR\n",
    "        if balance > 1 and key > root.left.key:\n",
    "            root.left = self._left_rotate(root.left)\n",
    "            return self._right_rotate(root)\n",
    "        # RL\n",
    "        if balance < -1 and key < root.right.key:\n",
    "            root.right = self._right_rotate(root.right)\n",
    "            return self._left_rotate(root)\n",
    "\n",
    "        return root\n",
    "\n",
    "    def search(self, root, key):\n",
    "        if not root or root.key == key:\n",
    "            return root\n",
    "        if key < root.key:\n",
    "            return self.search(root.left, key)\n",
    "        else:\n",
    "            return self.search(root.right, key)\n",
    "\n",
    "    def _get_height(self, node):\n",
    "        return node.height if node else 0\n",
    "\n",
    "    def _get_balance(self, node):\n",
    "        return self._get_height(node.left) - self._get_height(node.right) if node else 0\n",
    "\n",
    "    def _left_rotate(self, z):\n",
    "        y = z.right\n",
    "        T2 = y.left\n",
    "        y.left = z\n",
    "        z.right = T2\n",
    "\n",
    "        z.height = 1 + max(self._get_height(z.left), self._get_height(z.right))\n",
    "        y.height = 1 + max(self._get_height(y.left), self._get_height(y.right))\n",
    "        return y\n",
    "\n",
    "    def _right_rotate(self, z):\n",
    "        y = z.left\n",
    "        T3 = y.right\n",
    "        y.right = z\n",
    "        z.left = T3\n",
    "\n",
    "        z.height = 1 + max(self._get_height(z.left), self._get_height(z.right))\n",
    "        y.height = 1 + max(self._get_height(y.left), self._get_height(y.right))\n",
    "        return y\n"
   ]
  },
  {
   "cell_type": "markdown",
   "id": "vnoRQoSMmN0e",
   "metadata": {
    "id": "vnoRQoSMmN0e"
   },
   "source": [
    "- **RedBlackTree** 클래스 (균형 BST – 색상 기반)\n",
    "    - 이진 탐색 트리의 일종, 노드에 색깔(Red 또는 Black)을 부여하고, 일정한 규칙을 통해 트리의 균형을 유지\n",
    "    - 삽입과 삭제 시에도 최대 트리 높이를 log n 이하로 유지\n",
    "    - 🔸 레드-블랙 트리의 성질 (불변 조건)\n",
    "        - 노드는 빨강 또는 검정이다.\n",
    "        - 루트는 항상 검정이다.\n",
    "        - 모든 리프 노드(NIL, NULL 노드)는 검정이다.\n",
    "        - 빨강 노드의 자식은 항상 검정 (빨강은 연속으로 올 수 없다)\n",
    "        - 어떤 노드에서 리프까지 가는 모든 경로에 있는 검정 노드의 수는 같다"
   ]
  },
  {
   "cell_type": "code",
   "execution_count": null,
   "id": "5c-iUMPlmaN8",
   "metadata": {
    "id": "5c-iUMPlmaN8"
   },
   "outputs": [],
   "source": [
    "class RBNode:\n",
    "    def __init__(self, key, color='RED'):\n",
    "        self.key = key\n",
    "        self.left = None\n",
    "        self.right = None\n",
    "        self.color = color\n",
    "\n",
    "class RedBlackTree:\n",
    "    def __init__(self):\n",
    "        self.RED = 'RED'\n",
    "        self.BLACK = 'BLACK'\n",
    "\n",
    "    def insert(self, root, key):\n",
    "        root = self._insert(root, key)\n",
    "        root.color = self.BLACK  # 루트는 항상 BLACK\n",
    "        return root\n",
    "\n",
    "    def _insert(self, node, key):\n",
    "        if node is None:\n",
    "            return RBNode(key)\n",
    "\n",
    "        if key < node.key:\n",
    "            node.left = self._insert(node.left, key)\n",
    "        elif key > node.key:\n",
    "            node.right = self._insert(node.right, key)\n",
    "        else:\n",
    "            return node  # 중복 X\n",
    "\n",
    "        # 좌-우 빨강 정렬/균형 조정 (simplified version)\n",
    "        if self._is_red(node.right) and not self._is_red(node.left):\n",
    "            node = self._rotate_left(node)\n",
    "        if self._is_red(node.left) and self._is_red(node.left.left):\n",
    "            node = self._rotate_right(node)\n",
    "        if self._is_red(node.left) and self._is_red(node.right):\n",
    "            self._flip_colors(node)\n",
    "\n",
    "        return node\n",
    "\n",
    "    def search(self, root, key):\n",
    "        current = root\n",
    "        while current:\n",
    "            if key == current.key:\n",
    "                return current\n",
    "            elif key < current.key:\n",
    "                current = current.left\n",
    "            else:\n",
    "                current = current.right\n",
    "        return None\n",
    "\n",
    "    def _is_red(self, node):\n",
    "        return node is not None and node.color == self.RED\n",
    "\n",
    "    def _rotate_left(self, h):\n",
    "        x = h.right\n",
    "        h.right = x.left\n",
    "        x.left = h\n",
    "        x.color = h.color\n",
    "        h.color = self.RED\n",
    "        return x\n",
    "\n",
    "    def _rotate_right(self, h):\n",
    "        x = h.left\n",
    "        h.left = x.right\n",
    "        x.right = h\n",
    "        x.color = h.color\n",
    "        h.color = self.RED\n",
    "        return x\n",
    "\n",
    "    def _flip_colors(self, node):\n",
    "        node.color = self.RED\n",
    "        node.left.color = self.BLACK\n",
    "        node.right.color = self.BLACK\n"
   ]
  },
  {
   "cell_type": "code",
   "execution_count": null,
   "id": "6vwA3A6imm9I",
   "metadata": {
    "id": "6vwA3A6imm9I"
   },
   "outputs": [],
   "source": [
    "# 테스트 실행\n",
    "test_bst(BinarySearchTree, arr, target, \"① 숫자 데이터\")\n",
    "test_bst(AVLTree, arr, target, \"① 숫자 데이터\")\n",
    "test_bst(RedBlackTree, arr, target, \"① 숫자 데이터\")\n",
    "print()\n",
    "test_bst(BinarySearchTree, arr_np, target_np, \"② Numpy 음수 데이터\")\n",
    "test_bst(AVLTree, arr_np, target_np, \"② Numpy 음수 데이터\")\n",
    "test_bst(RedBlackTree, arr_np, target_np, \"② Numpy 음수 데이터\")\n",
    "print()\n",
    "test_bst(BinarySearchTree, english_words, target_english, \"③ 영어 단어 데이터\")\n",
    "test_bst(AVLTree, english_words, target_english, \"③ 영어 단어 데이터\")\n",
    "test_bst(RedBlackTree, english_words, target_english, \"③ 영어 단어 데이터\")\n",
    "print()\n",
    "test_bst(BinarySearchTree, korean_words, target_korean, \"④ 한글 단어 데이터\")\n",
    "test_bst(AVLTree, korean_words, target_korean, \"④ 한글 단어 데이터\")\n",
    "test_bst(RedBlackTree, korean_words, target_korean, \"④ 한글 단어 데이터\")\n",
    "print()\n",
    "test_bst(BinarySearchTree, contacts, target_contact, \"⑤ 전화번호부 데이터\")\n",
    "test_bst(AVLTree, contacts, target_contact, \"⑤ 전화번호부 데이터\")\n",
    "test_bst(RedBlackTree, contacts, target_contact, \"⑤ 전화번호부 데이터\")"
   ]
  },
  {
   "cell_type": "markdown",
   "id": "UC2GIee24dgA",
   "metadata": {
    "id": "UC2GIee24dgA"
   },
   "source": [
    "\n",
    "\n",
    "---\n",
    "\n"
   ]
  },
  {
   "cell_type": "markdown",
   "id": "_BNYsJ7e98y5",
   "metadata": {
    "id": "_BNYsJ7e98y5"
   },
   "source": [
    "# 2.그래프 탐색"
   ]
  },
  {
   "cell_type": "markdown",
   "id": "ac347071-329f-4dd8-857a-9c0257e119a4",
   "metadata": {
    "id": "ac347071-329f-4dd8-857a-9c0257e119a4"
   },
   "source": [
    "## 2-1. 깊이 우선 탐색(DFS:Depth-First Search)\n",
    "- 가능한 모든 경로를 탐색하면서 미로의 출구까지 이동 (보통 우수법 알고리즘으로 사용)\n",
    "- 재귀 방법 or 스택을 이용한 방법"
   ]
  },
  {
   "cell_type": "code",
   "execution_count": null,
   "id": "eb0aa66b-dc58-4865-94ce-0c656a3464a6",
   "metadata": {
    "id": "eb0aa66b-dc58-4865-94ce-0c656a3464a6"
   },
   "outputs": [],
   "source": [
    "# 재귀 방법 사용\n",
    "def dfs(maze, start, end, path=[]):\n",
    "    # 현재 위치를 경로에 추가\n",
    "    path = path + [start]\n",
    "\n",
    "    # 현재 위치가 출구인지 확인\n",
    "    if start == end:\n",
    "        return path\n",
    "\n",
    "    # 현재 위치에서 이동할 수 있는 모든 방향을 탐색\n",
    "    row, col = start\n",
    "    directions = [(0, 1), (0, -1), (1, 0), (-1, 0)]  # 오른쪽, 왼쪽, 아래, 위\n",
    "    for drow, dcol in directions:\n",
    "        new_row, new_col = row + drow, col + dcol\n",
    "\n",
    "        # 미로의 경계를 벗어나는지 확인\n",
    "        if 0 <= new_row < len(maze) and 0 <= new_col < len(maze[0]) and maze[new_row][new_col] == 0:\n",
    "            # 새로운 위치에서 DFS 재귀 호출\n",
    "            if (new_row, new_col) not in path:  # 이미 방문한 위치인지 확인\n",
    "                new_path = dfs(maze, (new_row, new_col), end, path)\n",
    "                if new_path:\n",
    "                    return new_path\n",
    "\n",
    "    # 출구까지 도달하는 경로가 없는 경우\n",
    "    return None\n",
    "\n",
    "# 미로를 2D 리스트로 표현 (0은 통로, 1은 벽)\n",
    "maze = [\n",
    "    [0, 1, 0, 0, 0],\n",
    "    [0, 0, 0, 1, 0],\n",
    "    [1, 0, 1, 0, 0],\n",
    "    [0, 0, 1, 0, 1],\n",
    "    [0, 0, 0, 0, 0]\n",
    "]\n",
    "\n",
    "# 시작 위치와 끝 위치\n",
    "start = (0, 0)\n",
    "end = (4, 4)\n",
    "\n",
    "# DFS 알고리즘을 사용하여 미로 탈출 경로 찾기\n",
    "escape_path = dfs(maze, start, end)\n",
    "\n",
    "if escape_path:\n",
    "    print(\"미로 탈출 경로:\", escape_path)\n",
    "else:\n",
    "    print(\"미로를 탈출할 수 없습니다.\")"
   ]
  },
  {
   "cell_type": "markdown",
   "id": "d3b4faa7-d4d6-4479-b3a4-41b65ab9de57",
   "metadata": {
    "id": "d3b4faa7-d4d6-4479-b3a4-41b65ab9de57",
    "jp-MarkdownHeadingCollapsed": true
   },
   "source": [
    "- Stack 이용"
   ]
  },
  {
   "cell_type": "code",
   "execution_count": null,
   "id": "2901f3ab-a328-4d22-9ef6-18cc4bd2de4e",
   "metadata": {
    "id": "2901f3ab-a328-4d22-9ef6-18cc4bd2de4e"
   },
   "outputs": [],
   "source": [
    "# 스택 사용 방법\n",
    "def dfs(maze, start, end):\n",
    "    print('[bfs] 진행합니다.')\n",
    "    rows, cols = len(maze), len(maze[0])\n",
    "    stack = [start]\n",
    "    visited = [[False] * cols for _ in range(rows)]\n",
    "    visited[start[0]][start[1]] = True\n",
    "\n",
    "    # 방향 벡터 (상, 하, 좌, 우)\n",
    "    directions = [(-1, 0), (1, 0), (0, -1), (0, 1)]\n",
    "\n",
    "    while stack:\n",
    "        current = stack.pop()\n",
    "        print(f\"현재 위치: {current}\")\n",
    "\n",
    "        # 현재 위치가 도착점인지 확인\n",
    "        if current == end:\n",
    "            print(\"도착했습니다!\")\n",
    "            return True\n",
    "\n",
    "        # 가능한 모든 방향으로 이동\n",
    "        for direction in directions:\n",
    "            nr, nc = current[0] + direction[0], current[1] + direction[1]\n",
    "\n",
    "            # 미로 범위 내에 있고, 벽이 아니며, 방문하지 않았던 경우\n",
    "            if 0 <= nr < rows and 0 <= nc < cols and not maze[nr][nc] and not visited[nr][nc]:\n",
    "                visited[nr][nc] = True\n",
    "                stack.append((nr, nc))\n",
    "\n",
    "    print(\"도착할 수 없습니다.\")\n",
    "    return False"
   ]
  },
  {
   "cell_type": "markdown",
   "id": "8ef114a1-1a65-4f2d-acf5-a63b59d41504",
   "metadata": {
    "id": "8ef114a1-1a65-4f2d-acf5-a63b59d41504"
   },
   "source": [
    "## 2-2. 너비 우선 탐색(BFS:Breadth-First Search)\n",
    "- 일반적으로 Queue 이용 (재귀 사용 안함--> 비효율적)\n",
    "- BFS는 모든 가능한 경로를 동시에 탐색하면서 목표지점에 도달할 수 있는 최단 경로를 찾는데 효과적"
   ]
  },
  {
   "cell_type": "code",
   "execution_count": null,
   "id": "10a1d9bb-38bf-481e-b76c-091709b1e1d6",
   "metadata": {
    "id": "10a1d9bb-38bf-481e-b76c-091709b1e1d6"
   },
   "outputs": [],
   "source": [
    "from collections import deque\n",
    "\n",
    "def bfs(maze, start, end):\n",
    "    print('[bfs] 진행합니다.')\n",
    "    # 미로의 행과 열 크기\n",
    "    rows, cols = len(maze), len(maze[0])\n",
    "\n",
    "    # 방문 위치를 저장할 배열\n",
    "    visited = [[False] * cols for _ in range(rows)]\n",
    "\n",
    "    # 큐 초기화 및 시작점 추가\n",
    "    queue = deque([start])\n",
    "    visited[start[0]][start[1]] = True\n",
    "\n",
    "    # 방향 벡터 (상, 하, 좌, 우)\n",
    "    directions = [(-1, 0), (1, 0), (0, -1), (0, 1)]\n",
    "\n",
    "    while queue:\n",
    "        current = queue.popleft()\n",
    "        print(f\"현재 위치: {current}\")\n",
    "\n",
    "        # 현재 위치가 도착점인지 확인\n",
    "        if current == end:\n",
    "            print(\"도착했습니다!\")\n",
    "            return True\n",
    "\n",
    "        # 가능한 모든 방향으로 이동\n",
    "        for direction in directions:\n",
    "            nr, nc = current[0] + direction[0], current[1] + direction[1]\n",
    "\n",
    "            # 미로 범위 내에 있고, 벽이 아니며, 방문하지 않았던 경우\n",
    "            if 0 <= nr < rows and 0 <= nc < cols and not maze[nr][nc] and not visited[nr][nc]:\n",
    "                visited[nr][nc] = True\n",
    "                queue.append((nr, nc))\n",
    "\n",
    "    print(\"도착할 수 없습니다.\")\n",
    "    return False"
   ]
  },
  {
   "cell_type": "code",
   "execution_count": null,
   "id": "01b9d918-1210-4b7f-8c23-370837e28586",
   "metadata": {
    "id": "01b9d918-1210-4b7f-8c23-370837e28586",
    "scrolled": true
   },
   "outputs": [],
   "source": [
    "# 미로 예시 (0은 길, 1은 벽)\n",
    "maze = [\n",
    "    [0, 1, 1, 1, 1],\n",
    "    [0, 0, 0, 0, 1],\n",
    "    [1, 1, 0, 1, 1],\n",
    "    [1, 0, 0, 0, 0],\n",
    "    [1, 1, 1, 1, 0]\n",
    "]\n",
    "\n",
    "start = (0, 0)  # 시작점\n",
    "end = (4, 4)    # 도착점\n",
    "\n",
    "bfs(maze, start, end)  # 깊이 우선 탐색\n",
    "dfs(maze, start, end)  # 너비 우선 탐색"
   ]
  },
  {
   "cell_type": "markdown",
   "id": "fc2e5f19-761b-4f43-97ab-42a1cd871890",
   "metadata": {
    "id": "fc2e5f19-761b-4f43-97ab-42a1cd871890"
   },
   "source": [
    "### [참고] DFS 탐색 알고리즘 그래프로 시각화"
   ]
  },
  {
   "cell_type": "code",
   "execution_count": null,
   "id": "417067bf-f520-43c0-bb0a-0e429b9b292a",
   "metadata": {
    "id": "417067bf-f520-43c0-bb0a-0e429b9b292a"
   },
   "outputs": [],
   "source": [
    "import matplotlib.pyplot as plt\n",
    "import numpy as np\n",
    "\n",
    "plt.rcParams['figure.figsize'] = (3,2)\n",
    "\n",
    "def plot_maze(maze, visited, path=None):\n",
    "    r, c = maze.shape\n",
    "    image = np.zeros((r, c, 3))\n",
    "    for i in range(r):\n",
    "        for j in range(c):\n",
    "            if maze[i, j] == 1:\n",
    "                image[i, j] = [0, 0, 0]  # 벽은 검정색\n",
    "            elif visited[i, j]:\n",
    "                image[i, j] = [0, 1, 0]  # 방문한 곳은 녹색\n",
    "            else:\n",
    "                image[i, j] = [1, 1, 1]  # 길은 흰색\n",
    "\n",
    "    if path:\n",
    "        for (x, y) in path:\n",
    "            image[x, y] = [1, 0, 0]  # 경로는 빨간색\n",
    "\n",
    "    plt.imshow(image)\n",
    "    plt.show()\n",
    "\n",
    "def dfs(maze, start, end):\n",
    "    r, c = maze.shape\n",
    "    stack = [start]\n",
    "    visited = np.zeros_like(maze, dtype=bool)\n",
    "    visited[start] = True\n",
    "\n",
    "    while stack:\n",
    "        current = stack.pop()\n",
    "        plot_maze(maze, visited)  # 현재 미로 상태를 그립니다.\n",
    "\n",
    "        if current == end:\n",
    "            print(\"도착했습니다!\")\n",
    "            return True\n",
    "\n",
    "        for direction in [(-1, 0), (1, 0), (0, -1), (0, 1)]:\n",
    "            nr, nc = current[0] + direction[0], current[1] + direction[1]\n",
    "            if 0 <= nr < r and 0 <= nc < c and not maze[nr, nc] and not visited[nr, nc]:\n",
    "                visited[nr, nc] = True\n",
    "                stack.append((nr, nc))\n",
    "\n",
    "    print(\"도착할 수 없습니다.\")\n",
    "    return False\n",
    "\n",
    "# 미로 예시\n",
    "maze = np.array([\n",
    "    [0, 1, 1, 1, 1],\n",
    "    [0, 0, 0, 0, 1],\n",
    "    [1, 1, 0, 1, 1],\n",
    "    [1, 0, 0, 0, 0],\n",
    "    [1, 1, 1, 1, 0]\n",
    "])\n",
    "\n",
    "start = (0, 0)  # 시작점\n",
    "end = (4, 4)    # 도착점\n",
    "\n",
    "dfs(maze, start, end)"
   ]
  },
  {
   "cell_type": "markdown",
   "id": "b8c0f3bb-cf5e-4bca-a9e7-b6708bee5644",
   "metadata": {
    "id": "b8c0f3bb-cf5e-4bca-a9e7-b6708bee5644"
   },
   "source": [
    "### 3) A* 알고리즘"
   ]
  },
  {
   "cell_type": "code",
   "execution_count": null,
   "id": "e59352fa-572f-4d96-9d70-08b4eae8119e",
   "metadata": {
    "id": "e59352fa-572f-4d96-9d70-08b4eae8119e"
   },
   "outputs": [],
   "source": [
    "import heapq\n",
    "\n",
    "def heuristic(node, goal):\n",
    "    # 휴리스틱 함수: 현재 노드에서 목표 노드까지의 추정 거리를 반환\n",
    "    x1, y1 = node\n",
    "    x2, y2 = goal\n",
    "    return abs(x1 - x2) + abs(y1 - y2)  # 맨해튼 거리(Manhattan Distance) 사용\n",
    "\n",
    "def astar(maze, start, end):\n",
    "    # 시작 노드 생성\n",
    "    open_list = []\n",
    "    closed_list = set()\n",
    "    heapq.heappush(open_list, (0, start, []))  # 우선순위 큐에 시작 노드 추가: (거리, 위치, 경로)\n",
    "\n",
    "    while open_list:\n",
    "        _, current, path = heapq.heappop(open_list)  # 우선순위 큐에서 가장 짧은 거리의 노드 추출\n",
    "        if current == end:\n",
    "            return path + [current]  # 목표에 도달한 경우 경로 반환\n",
    "\n",
    "        closed_list.add(current)  # 현재 위치를 closed_list에 추가\n",
    "\n",
    "        # 현재 위치에서 이동 가능한 모든 방향 탐색\n",
    "        row, col = current\n",
    "        directions = [(0, 1), (0, -1), (1, 0), (-1, 0)]  # 오른쪽, 왼쪽, 아래, 위\n",
    "        for drow, dcol in directions:\n",
    "            new_row, new_col = row + drow, col + dcol\n",
    "\n",
    "            # 미로의 경계를 벗어나는지 확인\n",
    "            if 0 <= new_row < len(maze) and 0 <= new_col < len(maze[0]) and maze[new_row][new_col] == 0:\n",
    "                new_node = (new_row, new_col)\n",
    "                if new_node not in closed_list:\n",
    "                    new_path = path + [current]  # 새로운 경로 생성\n",
    "                    cost = len(new_path) + heuristic(new_node, end)  # 새로운 노드의 비용 계산\n",
    "                    heapq.heappush(open_list, (cost, new_node, new_path))  # 우선순위 큐에 추가\n",
    "\n",
    "    return None  # 목표에 도달할 수 없는 경우 None 반환\n",
    "\n",
    "# 미로를 2D 리스트로 표현 (0은 통로, 1은 벽)\n",
    "maze = [\n",
    "    [0, 1, 0, 0, 0],\n",
    "    [0, 0, 0, 1, 0],\n",
    "    [1, 0, 1, 0, 0],\n",
    "    [0, 0, 1, 0, 1],\n",
    "    [0, 0, 0, 0, 0]\n",
    "]\n",
    "\n",
    "# 시작 위치와 끝 위치\n",
    "start = (0, 0)\n",
    "end = (4, 4)\n",
    "\n",
    "# A* 알고리즘을 사용하여 미로 탈출 경로 찾기\n",
    "escape_path = astar(maze, start, end)\n",
    "\n",
    "if escape_path:\n",
    "    print(\"미로 탈출 경로:\", escape_path)\n",
    "else:\n",
    "    print(\"미로를 탈출할 수 없습니다.\")"
   ]
  }
 ],
 "metadata": {
  "colab": {
   "provenance": []
  },
  "kernelspec": {
   "display_name": "Python 3 (ipykernel)",
   "language": "python",
   "name": "python3"
  },
  "language_info": {
   "codemirror_mode": {
    "name": "ipython",
    "version": 3
   },
   "file_extension": ".py",
   "mimetype": "text/x-python",
   "name": "python",
   "nbconvert_exporter": "python",
   "pygments_lexer": "ipython3",
   "version": "3.12.3"
  }
 },
 "nbformat": 4,
 "nbformat_minor": 5
}
