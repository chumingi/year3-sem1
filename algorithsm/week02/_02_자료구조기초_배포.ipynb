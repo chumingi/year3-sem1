{
 "cells": [
  {
   "cell_type": "markdown",
   "metadata": {
    "id": "N6FNqj2c1yBL"
   },
   "source": [
    "# 자료구조 기초"
   ]
  },
  {
   "cell_type": "markdown",
   "metadata": {
    "id": "yWBiWaeyJ2bl"
   },
   "source": [
    "\n",
    "\n",
    "---\n",
    "\n"
   ]
  },
  {
   "cell_type": "markdown",
   "metadata": {
    "id": "AEaZBsprJ4ZL"
   },
   "source": [
    "# 1.자료구조의 이해"
   ]
  },
  {
   "cell_type": "markdown",
   "metadata": {
    "id": "Ux-hmKlNJ4el"
   },
   "source": [
    "## 다양한 자료구조"
   ]
  },
  {
   "cell_type": "markdown",
   "metadata": {
    "id": "a8_jtiHUK3Sh"
   },
   "source": [
    "### @파이썬 자료구조"
   ]
  },
  {
   "cell_type": "markdown",
   "metadata": {
    "id": "rV31NvBMNYkI"
   },
   "source": [
    "- 기본 자료구조(Built-in Data Structures)"
   ]
  },
  {
   "cell_type": "markdown",
   "metadata": {
    "id": "SeLP-TNtOFTo"
   },
   "source": [
    "|자료구조|특징|주요 메서드|시간 복잡도|\n",
    "|---|--- |--- |--- |\n",
    "|List|가변 길이, 순서 유지, 인덱싱 가능 |append(), insert(), remove(), pop(), sort(), reverse() |검색: O(1), 삽입/삭제: O(N) (중간 삽입/삭제 시), 끝 추가 O(1) |\n",
    "|Tuple |불변, 순서 유지, 인덱싱 가능 |count(), index() |검색: O(1), 수정 불가 |\n",
    "|Dictionary|키-값 쌍 저장, 해시 기반, 순서 유지 (3.7+) |get(), keys(), values(), items(), pop(), update() |검색/삽입/삭제: 평균 O(1), 최악 O(N) |\n",
    "|Set |중복 불가, 순서 없음 |add(), remove(), union(), intersection(), difference() |삽입/삭제/검색: 평균 O(1), 최악 O(N) |"
   ]
  },
  {
   "cell_type": "markdown",
   "metadata": {
    "id": "wa5iFzgDNYwN"
   },
   "source": [
    "- 추상 자료형(ADT, Abstract Data Type)"
   ]
  },
  {
   "cell_type": "markdown",
   "metadata": {
    "id": "BIW_LFwoODPl"
   },
   "source": [
    "|ADT|파이썬 구현|특징|주요 연산|시간 복잡도|\n",
    "|---|--- |--- |--- |--- |\n",
    "|Stack |list, collections.deque |후입선출(LIFO) |push(), pop(), peek() |O(1) |\n",
    "|Queue |collections.deque, queue.Queue |선입선출(FIFO) |enqueue(), dequeue() |O(1) |\n",
    "|Priority Queue |queue.PriorityQueue, heapq |우선순위 기반 |push(), pop() |O(log N) |\n",
    "|Deque |collections.deque |양방향 삽입/삭제 가능 |append(), appendleft(), pop(), popleft() |O(1) |\n",
    "|Linked List |class로 직접 구현 |연결된 노드 구조 |insert(), delete(), search() |O(N) |\n",
    "|Graph |dict + list, dict + set |노드와 엣지로 구성 |add_node(), add_edge(), remove_edge(), search() |O(V+E) |\n",
    "|Tree |class로 직접 구현 |계층 구조 |insert(), delete(), traverse() |O(log N) (이진 트리) |\n"
   ]
  },
  {
   "cell_type": "markdown",
   "metadata": {
    "id": "LhvO_-dc-D-4"
   },
   "source": [
    "\n",
    "\n",
    "---\n",
    "\n"
   ]
  },
  {
   "cell_type": "markdown",
   "metadata": {
    "id": "-wuIGjaL9LFb"
   },
   "source": [
    "# 2.기초 자료구조"
   ]
  },
  {
   "cell_type": "markdown",
   "metadata": {
    "id": "8soCOUQx9q-7"
   },
   "source": [
    "## 배열(Array)\n",
    "- 동일한 타입의 요소들이 연속적인 메모리 공간에 저장된 자료구조\n",
    "- 인덱스(Index)를 사용하여 요소에 빠르게 접근\n",
    "- 데이터 검색과 순차적인 데이터 처리를 위해 최적화된 자료구조"
   ]
  },
  {
   "cell_type": "markdown",
   "metadata": {
    "id": "o4iJLuE19yyK"
   },
   "source": [
    "### @배열의 특징"
   ]
  },
  {
   "cell_type": "markdown",
   "metadata": {
    "id": "R27ikXIRpRXo"
   },
   "source": [
    "|특징|설명|\n",
    "|----|----|\n",
    "|고정된 크기 (Static Size)  |배열은 일반적으로 선언 시 크기가 고정됨 (동적 배열은 예외)  |\n",
    "|연속적인 메모리 할당 (Contiguous Memory Allocation)  |모든 요소가 연속된 메모리 주소에 저장됨 → 빠른 접근 가능 (𝑂(1))  |\n",
    "|인덱스를 이용한 빠른 접근 (Index-Based Access)  |특정 요소에 𝑂(1) 의 시간 복잡도로 접근 가능.  |\n",
    "|데이터 추가/삭제가 비효율적  |배열 크기가 고정되어 있으며, 요소 삽입/삭제 시 비효율적(𝑂(𝑛))  |\n",
    "\n",
    "        "
   ]
  },
  {
   "cell_type": "markdown",
   "metadata": {
    "id": "D_c6r9oSvg2e"
   },
   "source": [
    "- 고정된 크기 (Static Size)"
   ]
  },
  {
   "cell_type": "code",
   "execution_count": 1,
   "metadata": {
    "id": "lJk4oEQ4usvs"
   },
   "outputs": [
    {
     "ename": "SyntaxError",
     "evalue": "invalid syntax (3299071130.py, line 1)",
     "output_type": "error",
     "traceback": [
      "\u001b[1;36m  Cell \u001b[1;32mIn[1], line 1\u001b[1;36m\u001b[0m\n\u001b[1;33m    // 고정된 크기 (Static Size) : C 언어\u001b[0m\n\u001b[1;37m    ^\u001b[0m\n\u001b[1;31mSyntaxError\u001b[0m\u001b[1;31m:\u001b[0m invalid syntax\n"
     ]
    }
   ],
   "source": [
    "// 고정된 크기 (Static Size) : C 언어\n",
    "#include <stdio.h>\n",
    "#define SIZE 5  // 배열 크기 정의\n",
    "\n",
    "int main() {\n",
    "    int fixed_array[SIZE] = {1, 2, 3, 4, 5}; // 크기가 5인 정수형 배열 선언\n",
    "\n",
    "    // 배열 요소 출력\n",
    "    printf(\"배열 요소: \");\n",
    "    for (int i = 0; i < SIZE; i++) {\n",
    "        printf(\"%d \", fixed_array[i]);\n",
    "    }\n",
    "\n",
    "    // 크기를 초과한 요소 추가 시 오류 (컴파일러에서 허용하지 않음)\n",
    "    fixed_array[5] = 6;\n",
    "\n",
    "    return 0;\n",
    "}"
   ]
  },
  {
   "cell_type": "code",
   "execution_count": 2,
   "metadata": {
    "id": "tdrm9Ub4s20V"
   },
   "outputs": [
    {
     "name": "stdout",
     "output_type": "stream",
     "text": [
      "array('i', [10, 20, 30, 40, 50])\n",
      "오류 발생: 배열 크기를 초과하여 삽입할 수 없습니다!\n"
     ]
    }
   ],
   "source": [
    "# 고정된 크기 (Static Size)\n",
    "'''\n",
    "파이썬의 기본 list는 동적 배열(dynamic array)이어서\n",
    "고정된 크기처럼 사용하기 위해 임의의 class를 만들어 테스트\n",
    "'''\n",
    "import array\n",
    "\n",
    "class FixedSizeArray:\n",
    "    def __init__(self, size):\n",
    "        self.array = array.array('i', [0] * size)  # 고정 크기 배열 초기화\n",
    "        self.size = size\n",
    "        self.count = 0  # 현재 저장된 요소 개수\n",
    "\n",
    "    def insert(self, value):\n",
    "        if self.count < self.size:\n",
    "            self.array[self.count] = value\n",
    "            self.count += 1\n",
    "        else:\n",
    "            raise ValueError(\"배열 크기를 초과하여 삽입할 수 없습니다!\")\n",
    "\n",
    "    def display(self):\n",
    "        print(self.array[:self.count])  # 실제 저장된 요소만 출력\n",
    "\n",
    "# 고정 크기 배열 생성 (크기 5)\n",
    "fixed_array = FixedSizeArray(5)\n",
    "fixed_array.insert(10)\n",
    "fixed_array.insert(20)\n",
    "fixed_array.insert(30)\n",
    "fixed_array.insert(40)\n",
    "fixed_array.insert(50)\n",
    "\n",
    "fixed_array.display()  # 출력: array('i', [10, 20, 30, 40, 50])\n",
    "\n",
    "# 크기 초과 시 오류 발생\n",
    "try:\n",
    "    fixed_array.insert(60)  # 오류 발생\n",
    "except Exception as e:\n",
    "    print(\"오류 발생:\", e)\n"
   ]
  },
  {
   "cell_type": "markdown",
   "metadata": {
    "id": "jZlNXfEFvtcs"
   },
   "source": [
    "- 연속적인 메모리 할당 (Contiguous Memory Allocation)"
   ]
  },
  {
   "cell_type": "code",
   "execution_count": 3,
   "metadata": {
    "id": "6EK7qAeuvszb",
    "scrolled": true
   },
   "outputs": [
    {
     "name": "stdout",
     "output_type": "stream",
     "text": [
      "배열 시작 주소: 1768411462080\n",
      "첫 번째 요소의 주소: 140707194411736\n",
      "두 번째 요소의 주소: 140707194412056\n"
     ]
    }
   ],
   "source": [
    "import array\n",
    "\n",
    "arr = array.array('i', [10, 20, 30, 40, 50])\n",
    "\n",
    "# 배열의 메모리 주소 확인\n",
    "print(f\"배열 시작 주소: {id(arr)}\")\n",
    "print(f\"첫 번째 요소의 주소: {id(arr[0])}\")\n",
    "print(f\"두 번째 요소의 주소: {id(arr[1])}\")  # 연속적인 메모리 주소 확인\n"
   ]
  },
  {
   "cell_type": "markdown",
   "metadata": {
    "id": "7DUNXQEOv6AK"
   },
   "source": [
    "- 인덱스를 이용한 빠른 접근 (Index-Based Access)"
   ]
  },
  {
   "cell_type": "code",
   "execution_count": 4,
   "metadata": {
    "id": "K0OBSFjQs3H5"
   },
   "outputs": [
    {
     "name": "stdout",
     "output_type": "stream",
     "text": [
      "100\n",
      "300\n",
      "500\n"
     ]
    }
   ],
   "source": [
    "arr = [100, 200, 300, 400, 500]\n",
    "\n",
    "# 인덱스를 이용한 O(1) 접근\n",
    "print(arr[0])  # 출력: 100\n",
    "print(arr[2])  # 출력: 300\n",
    "print(arr[4])  # 출력: 500"
   ]
  },
  {
   "cell_type": "markdown",
   "metadata": {
    "id": "hxzSSK5av_vV"
   },
   "source": [
    "- 데이터 추가/삭제가 비효율적 : 요소들이 이동해야 한다."
   ]
  },
  {
   "cell_type": "code",
   "execution_count": 5,
   "metadata": {
    "id": "AP9MdRdHs3Qt"
   },
   "outputs": [
    {
     "name": "stdout",
     "output_type": "stream",
     "text": [
      "[10, 20, 25, 30, 40, 50]\n",
      "[10, 20, 30, 40, 50]\n"
     ]
    }
   ],
   "source": [
    "arr = [10, 20, 30, 40, 50]\n",
    "\n",
    "# 인덱스 2 위치에 25 삽입 (30 앞에 추가됨)\n",
    "arr.insert(2, 25)\n",
    "print(arr)  # 출력: [10, 20, 25, 30, 40, 50]\n",
    "\n",
    "arr.pop(2)\n",
    "print(arr)  # 출력: [10, 20, 30, 40, 50]"
   ]
  },
  {
   "cell_type": "markdown",
   "metadata": {
    "id": "J7BiwHLyqNb6"
   },
   "source": [
    "### @배열의 주요 연산 및 시간 복잡도"
   ]
  },
  {
   "cell_type": "markdown",
   "metadata": {
    "id": "GErsC2A8qWo3"
   },
   "source": [
    "|연산|설명|시간 복잡도|\n",
    "|----|----|----|\n",
    "|접근 (Access)|특정 인덱스의 요소를 가져오기  | O(1) |\n",
    "|검색 (Search)  |특정 요소 찾기 (선형 검색)  | O(n) |\n",
    "|삽입 (Insert)  |특정 위치에 요소 삽입  |O(n)  |\n",
    "|삭제 (Delete)  |특정 위치 요소 삭제  |O(n)  |"
   ]
  },
  {
   "cell_type": "code",
   "execution_count": null,
   "metadata": {
    "id": "OCEh7EDsqPaT"
   },
   "outputs": [],
   "source": [
    "# 접근(Access) : O(1)\n",
    "arr = [10, 20, 30, 40, 50]\n",
    "\n",
    "# O(1) - 특정 인덱스의 요소 접근\n",
    "print(\"인덱스 2의 값:\", arr[2])  # 출력: 30\n",
    "print(\"인덱스 4의 값:\", arr[4])  # 출력: 50"
   ]
  },
  {
   "cell_type": "code",
   "execution_count": 6,
   "metadata": {
    "id": "gT4FIbP6rEPv"
   },
   "outputs": [
    {
     "name": "stdout",
     "output_type": "stream",
     "text": [
      "30의 위치: 2\n",
      "100의 위치: -1\n"
     ]
    }
   ],
   "source": [
    "# 검색(Search) : O(n)\n",
    "def linear_search(arr, target):\n",
    "    for i in range(len(arr)):\n",
    "        if arr[i] == target:\n",
    "            return i  # 인덱스 반환\n",
    "    return -1  # 요소가 없을 경우\n",
    "\n",
    "arr = [10, 20, 30, 40, 50]\n",
    "print(\"30의 위치:\", linear_search(arr, 30))  # 출력: 2\n",
    "print(\"100의 위치:\", linear_search(arr, 100))  # 출력: -1 (없음)\n"
   ]
  },
  {
   "cell_type": "code",
   "execution_count": 1,
   "metadata": {
    "id": "jkJdI-NbrEXZ"
   },
   "outputs": [
    {
     "name": "stdout",
     "output_type": "stream",
     "text": [
      "배열 끝에 60 추가: [10, 20, 30, 40, 50, 60]\n",
      "배열 중간에 25 삽입: [10, 20, 25, 30, 40, 50, 60]\n"
     ]
    }
   ],
   "source": [
    "# 삽입(Insert) : O(n)\n",
    "arr = [10, 20, 30, 40, 50]\n",
    "\n",
    "# O(1) - 배열의 끝에 요소 추가\n",
    "arr.append(60)\n",
    "print(\"배열 끝에 60 추가:\", arr)  # 출력: [10, 20, 30, 40, 50, 60]\n",
    "\n",
    "# O(n) - 배열 중간에 요소 삽입 (인덱스 2에 25 삽입)\n",
    "arr.insert(2, 25)\n",
    "print(\"배열 중간에 25 삽입:\", arr)  # 출력: [10, 20, 25, 30, 40, 50, 60]\n"
   ]
  },
  {
   "cell_type": "code",
   "execution_count": null,
   "metadata": {
    "id": "vlPDdWnBrEgU"
   },
   "outputs": [],
   "source": [
    "# 삭제(Delete) : O(n)\n",
    "arr = [10, 20, 30, 40, 50]\n",
    "\n",
    "# O(1) - 배열의 끝 요소 삭제\n",
    "arr.pop()\n",
    "print(\"배열 끝 요소 삭제:\", arr)  # 출력: [10, 20, 30, 40]\n",
    "\n",
    "# O(n) - 배열 중간 요소 삭제 (인덱스 2 요소 삭제)\n",
    "arr.pop(2)\n",
    "print(\"배열 중간 요소 삭제:\", arr)  # 출력: [10, 20, 40]\n"
   ]
  },
  {
   "cell_type": "markdown",
   "metadata": {
    "id": "Fh5Pa8__rxhb"
   },
   "source": [
    "### @배열의 종류"
   ]
  },
  {
   "cell_type": "markdown",
   "metadata": {
    "id": "2Uf-OFv4rxk0"
   },
   "source": [
    "- **1차원  배열(One-Dimensional Array)** :\n",
    "가장 기본적인 형태의 배열"
   ]
  },
  {
   "cell_type": "code",
   "execution_count": null,
   "metadata": {
    "id": "Ma-WPYAQ045F"
   },
   "outputs": [],
   "source": [
    "arr = [10, 20, 30, 40, 50]\n",
    "print(arr[2])  # 출력: 30"
   ]
  },
  {
   "cell_type": "markdown",
   "metadata": {
    "id": "p-TOih_grxnY"
   },
   "source": [
    "- **2차원  배열 (Two-Dimensional Array)** :  행(row)과 열(column)로 구성된 배열 (행렬)\n"
   ]
  },
  {
   "cell_type": "code",
   "execution_count": 7,
   "metadata": {
    "id": "UO3s2zXO05We"
   },
   "outputs": [
    {
     "name": "stdout",
     "output_type": "stream",
     "text": [
      "6\n"
     ]
    }
   ],
   "source": [
    "# 리스트 자료형으로 만든 2차원 배열 형태\n",
    "matrix = [[1, 2, 3],\n",
    "          [4, 5, 6],\n",
    "          [7, 8, 9]]\n",
    "\n",
    "print(matrix[1][2])  # 출력: 6"
   ]
  },
  {
   "cell_type": "code",
   "execution_count": 2,
   "metadata": {
    "id": "AqcVtHgp1Yzs"
   },
   "outputs": [
    {
     "name": "stdout",
     "output_type": "stream",
     "text": [
      "NumPy 2D 배열:\n",
      "[[1 2 3]\n",
      " [4 5 6]\n",
      " [7 8 9]]\n",
      "matrix[1, 2]: 6\n"
     ]
    }
   ],
   "source": [
    "# numpy 라이브러리 array 자료형으로 만든 2차원 배열 형태\n",
    "import numpy as np\n",
    "\n",
    "# 2D 배열 (NumPy 사용)\n",
    "matrix = np.array([[1, 2, 3], [4, 5, 6], [7, 8, 9]])\n",
    "\n",
    "print(\"NumPy 2D 배열:\")\n",
    "print(matrix)\n",
    "\n",
    "# 특정 요소 접근 (행: 1, 열: 2 -> 값: 6)\n",
    "print(\"matrix[1, 2]:\", matrix[1, 2])  # 출력: 6\n"
   ]
  },
  {
   "cell_type": "markdown",
   "metadata": {
    "id": "34k3Tmuzrxqs"
   },
   "source": [
    "- **다차원  배열 (Multi-Dimensional Array)** :  3차원 이상의 배열, 이미지 처리, 그래픽 연산, 머신러닝에서 활용  \n"
   ]
  },
  {
   "cell_type": "code",
   "execution_count": 3,
   "metadata": {
    "id": "7QI41gfR05vj"
   },
   "outputs": [
    {
     "name": "stdout",
     "output_type": "stream",
     "text": [
      "array_3d[0][1][1]: 4\n",
      "3차원 배열:\n",
      "[1, 2]\n",
      "[3, 4]\n",
      "[5, 6]\n",
      "[7, 8]\n"
     ]
    }
   ],
   "source": [
    "# 3D 배열 (2x2x2 배열)\n",
    "array_3d = [\n",
    "    [[1, 2], [3, 4]],\n",
    "    [[5, 6], [7, 8]]\n",
    "]\n",
    "\n",
    "# 특정 요소 접근 (첫 번째 블록, 두 번째 행, 두 번째 열 -> 값: 4)\n",
    "print(\"array_3d[0][1][1]:\", array_3d[0][1][1])  # 출력: 4\n",
    "\n",
    "# 3D 배열 출력\n",
    "print(\"3차원 배열:\")\n",
    "for matrix in array_3d:\n",
    "    for row in matrix:\n",
    "        print(row)\n"
   ]
  },
  {
   "cell_type": "code",
   "execution_count": null,
   "metadata": {
    "id": "fzAzgpdu2JqQ"
   },
   "outputs": [],
   "source": [
    "# 컬러 이미지 파일은 3차원 배열구조로 되어 있는 것 확인하기\n",
    "from PIL import Image\n",
    "import numpy as np\n",
    "import matplotlib.pyplot as plt\n",
    "\n",
    "# 이미지 파일 읽기\n",
    "image = Image.open(\"cat.jpg\")\n",
    "\n",
    "# NumPy 배열로 변환\n",
    "image_array = np.array(image)\n",
    "\n",
    "# 다차원 배열 확인\n",
    "print(\"이미지 배열 형태:\", image_array.shape)  # (높이, 너비, 채널)\n",
    "print(\"배열 차원 수:\", image_array.ndim)  # 3이면 컬러 이미지\n",
    "\n",
    "# Matplotlib을 이용하여 이미지 출력\n",
    "plt.imshow(image)\n",
    "plt.axis(\"off\")  # 축 제거\n",
    "plt.show()\n"
   ]
  },
  {
   "cell_type": "markdown",
   "metadata": {
    "id": "iET2Y3Jerxtm"
   },
   "source": [
    "- **동적 배열 (Dynamic Array)** : 가장 크기가 가변적으로 조정됨(Python list, C++ vector) 요소 추가 시 자동으로 메모리 재할당 및 확장-"
   ]
  },
  {
   "cell_type": "code",
   "execution_count": 4,
   "metadata": {
    "id": "mOEH50Qg06X_"
   },
   "outputs": [
    {
     "name": "stdout",
     "output_type": "stream",
     "text": [
      "초기 배열: [1, 2, 3, 4, 5]\n",
      "요소 추가 후: [1, 2, 3, 4, 5, 6]\n",
      "요소 삭제 후: [1, 2, 3, 4, 5]\n"
     ]
    }
   ],
   "source": [
    "arr = [1, 2, 3, 4, 5]\n",
    "print(\"초기 배열:\", arr)\n",
    "\n",
    "# 요소 추가 (동적 크기 증가)\n",
    "arr.append(6)\n",
    "print(\"요소 추가 후:\", arr)\n",
    "\n",
    "# 요소 삭제 (동적 크기 감소)\n",
    "arr.pop()\n",
    "print(\"요소 삭제 후:\", arr)\n"
   ]
  },
  {
   "cell_type": "code",
   "execution_count": 5,
   "metadata": {
    "id": "4lIIh76C130Y"
   },
   "outputs": [
    {
     "name": "stdout",
     "output_type": "stream",
     "text": [
      "초기 배열: [1 2 3 4 5]\n",
      "요소 추가 후: [1 2 3 4 5 6]\n",
      "요소 삭제 후: [1 2 3 4 5]\n"
     ]
    }
   ],
   "source": [
    "import numpy as np\n",
    "\n",
    "arr = np.array([1, 2, 3, 4, 5])\n",
    "print(\"초기 배열:\", arr)\n",
    "\n",
    "# 요소 추가 (새 배열 생성)\n",
    "arr = np.append(arr, 6)\n",
    "print(\"요소 추가 후:\", arr)\n",
    "\n",
    "# 요소 삭제 (새 배열 생성)\n",
    "arr = np.delete(arr, -1)  # 마지막 요소 삭제\n",
    "print(\"요소 삭제 후:\", arr)\n"
   ]
  },
  {
   "cell_type": "markdown",
   "metadata": {
    "id": "rsWf4HSa0xI_"
   },
   "source": [
    "### [실습] 배열 구조 출력하기\n",
    "임의의 정수 12개를 발생시켜 1차원, 2차원(3x4), 3차원(2x2x3) 배열 구조로 출력하기"
   ]
  },
  {
   "cell_type": "code",
   "execution_count": 8,
   "metadata": {
    "id": "4bfOTUQEa0xG"
   },
   "outputs": [
    {
     "name": "stdout",
     "output_type": "stream",
     "text": [
      "1차원 배열:\n",
      " [ 2 47 82 70 47 44 35 46 33 23 47 37]\n",
      "\n",
      "2차원 배열 (3x4):\n",
      " [[ 2 47 82 70]\n",
      " [47 44 35 46]\n",
      " [33 23 47 37]]\n",
      "\n",
      "3차원 배열 (2x2x3):\n",
      " [[[ 2 47 82]\n",
      "  [70 47 44]]\n",
      "\n",
      " [[35 46 33]\n",
      "  [23 47 37]]]\n"
     ]
    }
   ],
   "source": [
    "import numpy as np\n",
    "\n",
    "numbers = np.random.randint(1, 101, 12)\n",
    "numbers = np.array(numbers)\n",
    "\n",
    "# 1차원 배열\n",
    "print(\"1차원 배열:\\n\", numbers)\n",
    "\n",
    "# 2차원 배열 (3x4) 전환\n",
    "arr_2d = numbers.reshape(3, 4)\n",
    "print(\"\\n2차원 배열 (3x4):\\n\", arr_2d)\n",
    "\n",
    "# 3차원 배열 (2x2x3) 전환\n",
    "arr_3d = numbers.reshape(2, 2, 3)\n",
    "print(\"\\n3차원 배열 (2x2x3):\\n\", arr_3d)"
   ]
  },
  {
   "cell_type": "markdown",
   "metadata": {
    "id": "oGf2TI5Whil7"
   },
   "source": [
    "\n",
    "\n",
    "---\n",
    "\n"
   ]
  },
  {
   "cell_type": "markdown",
   "metadata": {
    "id": "F6Ewos3srxwq"
   },
   "source": [
    "## 스택(Stack)"
   ]
  },
  {
   "cell_type": "markdown",
   "metadata": {
    "id": "nhG09SxAh1wJ"
   },
   "source": [
    "- 다른 통로들은 모두 막고 한쪽만을 열어둔 구조\n",
    "- 후입선출(LIFO:Last-In First-Out)/선입후출(FILO)의 자료구조"
   ]
  },
  {
   "cell_type": "markdown",
   "metadata": {
    "id": "iIqB94Hxh168"
   },
   "source": [
    "### @스택의 연산\n",
    "|연산|설명|\n",
    "|---|---|\n",
    "|push(e) |스택의 맨 위에 데이터(요소) 삽입 |\n",
    "|pop() |스택의 맨 위에 있는 요소 제거 |\n",
    "|peek/top() |스택의 맨 위에 있는 항목을 삭제하지 않고 반환,  데이터 참조  |\n",
    "|isEmpty() |스택이 비어 있는지 확인, True/False 반환 |\n",
    "|isFull() |스택이 가득 차 있는지 확인, True/False 반환 |\n",
    "|size() |스택에 들어 있는 전체 요소의 수 반환 |\n"
   ]
  },
  {
   "cell_type": "markdown",
   "metadata": {
    "id": "PdHry-JVCXRA"
   },
   "source": [
    "### @배열로 스택 구현하기"
   ]
  },
  {
   "cell_type": "markdown",
   "metadata": {
    "id": "Yw4W7JNqKi3F"
   },
   "source": [
    "- 전역변수 지정하기"
   ]
  },
  {
   "cell_type": "code",
   "execution_count": null,
   "metadata": {
    "id": "jl8uGhP3KldI"
   },
   "outputs": [],
   "source": [
    "capacity = 10            # 스택 용량: 10으로 지정\n",
    "array = [None]*capacity  # 요소 배열: [None,..,None] 길이(capacity)\n",
    "top = -1                 # 스택 상단의 인덱스 : 공백 상태(-1)로 초기화"
   ]
  },
  {
   "cell_type": "markdown",
   "metadata": {
    "id": "d9fcTBWkKl6l"
   },
   "source": [
    "- 스택 연산 - 공백 상태 : isEmpty()"
   ]
  },
  {
   "cell_type": "code",
   "execution_count": null,
   "metadata": {
    "id": "GAeK533iKmQk"
   },
   "outputs": [],
   "source": [
    "def isEmpty():\n",
    "    if top == -1:\n",
    "        return True\n",
    "    else:\n",
    "        return False"
   ]
  },
  {
   "cell_type": "markdown",
   "metadata": {
    "id": "Er2XOVcaKmaf"
   },
   "source": [
    "- 스택 연산 - 포화 상태 : isEmpty()"
   ]
  },
  {
   "cell_type": "code",
   "execution_count": null,
   "metadata": {
    "id": "VR2oRf1gKmiT"
   },
   "outputs": [],
   "source": [
    "def isFull():\n",
    "    return top == capacity    # 비교 연산 결과를 바로 반환"
   ]
  },
  {
   "cell_type": "markdown",
   "metadata": {
    "id": "u3QnpAFxKmpJ"
   },
   "source": [
    "- 스택 연산 - 추가 : push(e)"
   ]
  },
  {
   "cell_type": "code",
   "execution_count": null,
   "metadata": {
    "id": "OUWuDzIgKmv5"
   },
   "outputs": [],
   "source": [
    "def push(e):\n",
    "    global top\n",
    "    if not isFull():             # 포화 상태가 아닌 경우\n",
    "        top += 1                 # top 증가()\n",
    "        array[top] = e           # top 위치에 e 복사\n",
    "    else:                        # 포화 상태 : overflow\n",
    "        print('stack overflow!')\n",
    "        exit()"
   ]
  },
  {
   "cell_type": "markdown",
   "metadata": {
    "id": "WXCvTJgMKm2M"
   },
   "source": [
    "- 스택 연산 - 삭제 : pop()"
   ]
  },
  {
   "cell_type": "code",
   "execution_count": null,
   "metadata": {
    "id": "d9fAalL7Km8g"
   },
   "outputs": [],
   "source": [
    "def pop():\n",
    "    global top\n",
    "    if not isEmpty():            # 공백 상태가 아닌 경우\n",
    "        top -= 1                 # top 감소\n",
    "        return array[top+1]      # 이전(top+1) 위치의 요소 반환\n",
    "    else:                        # 공백 상태 : underflow\n",
    "        print('stack underflow!')\n",
    "        exit()"
   ]
  },
  {
   "cell_type": "markdown",
   "metadata": {
    "id": "WNmfAcRsLA42"
   },
   "source": [
    "- 스택 연산 - 상단 요소 참조 : peek()"
   ]
  },
  {
   "cell_type": "code",
   "execution_count": null,
   "metadata": {
    "id": "bCfVBXyOLBBX"
   },
   "outputs": [],
   "source": [
    "def peek():\n",
    "    if not isEmpty():\n",
    "        return array[top]\n",
    "    else:\n",
    "        print(\"Stack is empty!\")\n",
    "        exit()"
   ]
  },
  {
   "cell_type": "markdown",
   "metadata": {
    "id": "cAHO55G8Lvrr"
   },
   "source": [
    "- 스택 연산 - 현재 스택 요소 수(크기) 반환 : size()"
   ]
  },
  {
   "cell_type": "code",
   "execution_count": null,
   "metadata": {
    "id": "CHNoUWxrLwvf"
   },
   "outputs": [],
   "source": [
    "def size():\n",
    "    return top+1     # 현재 요소의 수"
   ]
  },
  {
   "cell_type": "markdown",
   "metadata": {
    "id": "qFAWl1kah47Y"
   },
   "source": [
    "### [실습] 스택 클래스 구현하기"
   ]
  },
  {
   "cell_type": "code",
   "execution_count": null,
   "metadata": {
    "id": "RyxHJ_RF2c_9"
   },
   "outputs": [],
   "source": [
    "# 1. ArrayStack 이란 이름의 빈 스택 클래스 작성하기 (사이즈 제한 없는)\n",
    "class ArrayStack:\n",
    "    def __init__(self):\n",
    "        \"\"\" 스택 초기화 \"\"\"\n",
    "        self.stack = []"
   ]
  },
  {
   "cell_type": "code",
   "execution_count": 4,
   "metadata": {
    "id": "-CZfG3eP03bo"
   },
   "outputs": [],
   "source": [
    "# 2. ArrayStack에 push(), pop(), peek(), isEmpty(), size() 메서드 추가하기\n",
    "class ArrayStack:\n",
    "    def __init__(self):\n",
    "        \"\"\" 스택 초기화 \"\"\"\n",
    "        self.stack = []\n",
    "\n",
    "    def isEmpty(self):\n",
    "        \"\"\" 스택이 비어있는지 확인 \"\"\"\n",
    "        return len(self.stack) == 0\n",
    "\n",
    "    def push(self, item):\n",
    "        \"\"\" 스택에 요소 추가 \"\"\"\n",
    "        self.stack.append(item)\n",
    "\n",
    "    def pop(self):\n",
    "        \"\"\" 스택에서 요소 제거 \"\"\"\n",
    "        if self.isEmpty():\n",
    "            print(\"Stack underflow\")\n",
    "            return\n",
    "        else:\n",
    "            return self.stack.pop()\n",
    "\n",
    "    def peek(self):\n",
    "        \"\"\" 스택의 최상위 요소 반환 \"\"\"\n",
    "        if self.isEmpty():\n",
    "            print(\"Stack overflow\")\n",
    "            return\n",
    "        else:\n",
    "            return self.stack[-1]\n",
    "\n",
    "    def size(self):\n",
    "        \"\"\" 스택의 크기 반환 \"\"\"\n",
    "        return len(self.stack)"
   ]
  },
  {
   "cell_type": "code",
   "execution_count": 6,
   "metadata": {
    "id": "fOwwov1y8TTi"
   },
   "outputs": [
    {
     "name": "stdout",
     "output_type": "stream",
     "text": [
      "(a) []\n",
      "(b) ['A']\n",
      "(c) ['A', 'B']\n",
      "(d) ['A', 'B', 'C']\n",
      "Stack size: 3\n",
      "(e) C\n",
      "(f) B\n",
      "Stack peek: A\n",
      "Stack isEmpty: False\n"
     ]
    }
   ],
   "source": [
    "# 3. 스택 연산 실행하기\n",
    "# 스택 인스턴스 생성\n",
    "stack = ArrayStack()\n",
    "\n",
    "# 스택 연산\n",
    "print(f'(a) {stack.stack}')\n",
    "stack.push('A'); print(f\"(b) {stack.stack}\")\n",
    "stack.push('B'); print(f\"(c) {stack.stack}\")\n",
    "stack.push('C'); print(f\"(d) {stack.stack}\")\n",
    "print(f\"Stack size: {stack.size()}\")\n",
    "print(f\"(e) {stack.pop()}\")\n",
    "print(f\"(f) {stack.pop()}\")\n",
    "print(f\"Stack peek: {stack.peek()}\")\n",
    "print(f\"Stack isEmpty: {stack.isEmpty()}\")"
   ]
  },
  {
   "cell_type": "code",
   "execution_count": 10,
   "metadata": {
    "id": "BTfKdQfPzAsJ"
   },
   "outputs": [
    {
     "name": "stdout",
     "output_type": "stream",
     "text": [
      "(a) []\n",
      "(b) ['A']\n",
      "(c) ['A', 'B']\n",
      "(d) ['A', 'B', 'C']\n",
      "Stack size: 3\n",
      "(e) C\n",
      "(f) B\n",
      "Stack peek: A\n",
      "Stack isEmpty: False\n"
     ]
    }
   ],
   "source": [
    "# 4. Stack에 사이즈 제한 있도록 isFull() 매서드 추가하기\n",
    "\n",
    "class ArrayStack:\n",
    "    def __init__(self, capacity):\n",
    "        \"\"\" 스택 초기화 \"\"\"\n",
    "        self.stack = []\n",
    "        self.capacity = capacity\n",
    "        self.top = -1\n",
    "\n",
    "    def isEmpty(self):\n",
    "        \"\"\" 스택이 비어있는지 확인 \"\"\"\n",
    "        return len(self.stack) == 0\n",
    "\n",
    "    def isFull(self):\n",
    "        \"\"\" 스택이 차있는지 확인 \"\"\"\n",
    "        return len(self.stack) >= self.capacity\n",
    "\n",
    "    def push(self, item):\n",
    "        \"\"\" 스택에 요소 추가 \"\"\"\n",
    "        if self.isFull():\n",
    "            return\n",
    "        else:\n",
    "            self.stack.append(item)\n",
    "\n",
    "    def pop(self):\n",
    "        \"\"\" 스택에서 요소 제거 \"\"\"\n",
    "        if self.isEmpty():\n",
    "            print(\"Stack underflow\")\n",
    "            return\n",
    "        else:\n",
    "            return self.stack.pop()\n",
    "\n",
    "    def peek(self):\n",
    "        \"\"\" 스택의 최상위 요소 반환 \"\"\"\n",
    "        if self.isEmpty():\n",
    "            print(\"Stack overflow\")\n",
    "            return\n",
    "        else:\n",
    "            return self.stack[-1]\n",
    "\n",
    "    def size(self):\n",
    "        \"\"\" 스택의 크기 반환 \"\"\"\n",
    "        return len(self.stack)\n",
    "\n",
    "stack = ArrayStack(10)\n",
    "\n",
    "# 스택 연산\n",
    "print(f'(a) {stack.stack}')\n",
    "stack.push('A'); print(f\"(b) {stack.stack}\")\n",
    "stack.push('B'); print(f\"(c) {stack.stack}\")\n",
    "stack.push('C'); print(f\"(d) {stack.stack}\")\n",
    "print(f\"Stack size: {stack.size()}\")\n",
    "print(f\"(e) {stack.pop()}\")\n",
    "print(f\"(f) {stack.pop()}\")\n",
    "print(f\"Stack peek: {stack.peek()}\")\n",
    "print(f\"Stack isEmpty: {stack.isEmpty()}\")"
   ]
  },
  {
   "cell_type": "markdown",
   "metadata": {
    "id": "XMhUzr9QJkyp"
   },
   "source": [
    "### @스택의 응용 : 괄호 검사"
   ]
  },
  {
   "cell_type": "markdown",
   "metadata": {
    "id": "PSqcBm1cJ_X-"
   },
   "source": [
    "**괄호 검사 알고리즘 조건**\n",
    "- 조건1 :  왼쪽 괄호의 개수와 오른쪽 괄호의 개수가 같아야 한다.\n",
    "- 조건2 :  같은 종류인 경우 왼쪽 괄호가 오른쪽보다 먼저 나와야 한다.\n",
    "- 조건3 :  다른 종류의 괄호 쌍이 서로 교차하면 안 된다."
   ]
  },
  {
   "cell_type": "markdown",
   "metadata": {
    "id": "AWDPYI_gKUi4"
   },
   "source": [
    "### [실습] 괄호 검사 알고리즘 구현하기"
   ]
  },
  {
   "cell_type": "markdown",
   "metadata": {
    "id": "Wj1Z0R8TMX8A"
   },
   "source": [
    "- 빈 스택을 준비합니다.\n",
    "- 입력된 문자를 하나씩 읽어 왼쪽 괄호를 만나면 스택에 삽입합니다.\n",
    "- 오른쪽 괄호를 만나면 가장 최근에 삽입된 괄호를 스택에서 꺼냅니다. 이때 스택이 비었다면 오\n",
    "른쪽 괄호가 먼저 나온 상황이므로 조건 2에 위배됩니다.\n",
    "- 꺼낸 괄호가 오른쪽 괄호와 짝이 맞지 않으면 조건 3에 위배됩니다.\n",
    "- 입력 문자열을 끝까지 처리했는데 스택에 괄호가 남아 있으면 괄호의 개수가 같지 않으므로 조\n",
    "건 1에 위배됩니다. 모든 문자를 처리하고 스택이 공백 상태이면 검사 성공입니다."
   ]
  },
  {
   "cell_type": "markdown",
   "metadata": {
    "id": "N70gWj-NMmU5"
   },
   "source": [
    "1.괄호 검사 알고리즘 구현하기"
   ]
  },
  {
   "cell_type": "code",
   "execution_count": 11,
   "metadata": {
    "id": "UME5wwHWKYkx"
   },
   "outputs": [
    {
     "ename": "IndentationError",
     "evalue": "expected an indented block after 'if' statement on line 10 (1417841994.py, line 11)",
     "output_type": "error",
     "traceback": [
      "\u001b[1;36m  Cell \u001b[1;32mIn[11], line 11\u001b[1;36m\u001b[0m\n\u001b[1;33m    if stack[stack.peek()] == c:\u001b[0m\n\u001b[1;37m    ^\u001b[0m\n\u001b[1;31mIndentationError\u001b[0m\u001b[1;31m:\u001b[0m expected an indented block after 'if' statement on line 10\n"
     ]
    }
   ],
   "source": [
    "def checkBrackets(statement):\n",
    "    stack = ArrayStack(100)  # 빈 스택을 준비합니다.\n",
    "    lefts = ['(', '{', '[']\n",
    "    rights = [')', '}', ']']\n",
    "\n",
    "    for c in statement:\n",
    "        if c in lefts:\n",
    "            stack.push(c)\n",
    "        elif c in rights:\n",
    "            if stack.isEmpty():\n",
    "                return False\n",
    "            if stack[stack.peek()] == c:\n",
    "                stack.pop()\n",
    "\n",
    "\n",
    "\n",
    "\n",
    "    # 스택이 공백 상태면 검사 성공\n",
    "    return stack.isEmpty()"
   ]
  },
  {
   "cell_type": "raw",
   "metadata": {
    "id": "dRRTeQLpMtnx"
   },
   "source": [
    "2.예제를 이용하여 괄호 검사 알고리즘 검증하기"
   ]
  },
  {
   "cell_type": "code",
   "execution_count": null,
   "metadata": {
    "id": "tOs6yQeKMugl"
   },
   "outputs": [],
   "source": [
    "str1 = \"{ A[(i+1)]=0; }\"\n",
    "str2 = \"if ((x<0) && (y<3)\"\n",
    "str3 = \"while (n<8)) {n++;}\"\n",
    "str4 = \"arr[(i+1])=0;\"\n",
    "\n",
    "print(str1, \" ---> \\t\", checkBrackets(str1))\n",
    "print(str2, \" ---> \", checkBrackets(str2))\n",
    "print(str3, \" --->\", checkBrackets(str3))\n",
    "print(str4, \" ---> \\t\", checkBrackets(str4))"
   ]
  },
  {
   "cell_type": "markdown",
   "metadata": {
    "id": "ZnF3zYwKRzoU"
   },
   "source": [
    "### @파이썬에서 스택 사용하기\n",
    "- 예제: 문자열 역순으로 출력하기 사용"
   ]
  },
  {
   "cell_type": "markdown",
   "metadata": {
    "id": "O6ciFNdxSDdE"
   },
   "source": [
    "#### 방법 1) Stack 클래스 직접 구현해서 사용하기"
   ]
  },
  {
   "cell_type": "code",
   "execution_count": null,
   "metadata": {
    "id": "4y6RFIgJFXCL"
   },
   "outputs": [],
   "source": [
    "stack = ArrayStack(100) # 스택 생성\n",
    "\n",
    "# 1.키보드로 문자열 입력 받기\n",
    "msg = input('문자열 입력: ')\n",
    "print('-' * 30)\n",
    "\n",
    "# 2.문자열 스택에 추가하기\n",
    "for c in msg:\n",
    "    stack.push(c)\n",
    "\n",
    "# 3.스택에서 문자열 꺼내서 출력하기\n",
    "print('문자열 거꾸로 출력: ', end='')\n",
    "while not stack.isEmpty():\n",
    "    print(stack.pop(), end='')"
   ]
  },
  {
   "cell_type": "markdown",
   "metadata": {
    "id": "g-wTVOKKSDnC"
   },
   "source": [
    "#### 방법 2) 파이썬 리스트 함수 사용해서 스택으로 사용하기"
   ]
  },
  {
   "cell_type": "code",
   "execution_count": null,
   "metadata": {
    "id": "rR1w5lLDSKbc"
   },
   "outputs": [],
   "source": [
    "s = list()                      # 리스트를 객체를 생성해 스택으로 사용\n",
    "\n",
    "msg = input(\"문자열 입력: \")\n",
    "for c in msg :\n",
    "    s.append(c)                 # c를 스택에 삽입\n",
    "\n",
    "print(\"문자열 출력: \", end='')\n",
    "while len(s) > 0:               # 스택이 공백상태가 아니라면\n",
    "    print(s.pop(), end='')      # 하나의 요소를 꺼내서 출력\n",
    "print()"
   ]
  },
  {
   "cell_type": "markdown",
   "metadata": {
    "id": "OG6Dm6OgSDzE"
   },
   "source": [
    "#### 방법 3) 파이썬의 queue 모듈 LifoQueue 사용하기"
   ]
  },
  {
   "cell_type": "code",
   "execution_count": null,
   "metadata": {
    "id": "DEkgDMK0SM2f"
   },
   "outputs": [],
   "source": [
    "import queue                     # 파이썬의 큐 모듈 포함\n",
    "s = queue.LifoQueue(maxsize=100) # 스택 객체 생성(용량=100)\n",
    "\n",
    "msg = input(\"문자열 입력: \")\n",
    "for c in msg :\n",
    "    s.put(c)                     # c를 스택에 삽입\n",
    "\n",
    "print(\"문자열 출력: \", end='')\n",
    "while not s.empty():             # 스택이 공백상태가 아니라면\n",
    "    print(s.get(), end='')       # 하나의 요소를 꺼내서 출력\n",
    "print()"
   ]
  },
  {
   "cell_type": "markdown",
   "metadata": {
    "id": "6nX6oqJEh3BW"
   },
   "source": [
    "\n",
    "\n",
    "---\n",
    "\n"
   ]
  },
  {
   "cell_type": "markdown",
   "metadata": {
    "id": "6P4A1dNZh6YD"
   },
   "source": [
    "## 큐(Queue)"
   ]
  },
  {
   "cell_type": "markdown",
   "metadata": {
    "id": "F-G6nXmNh6a2"
   },
   "source": [
    "- 선입선출(FIFO:First-In First-Out)의 자료구조\n",
    "- 가장 먼저 들어온 데이터가 가장 먼저 나감"
   ]
  },
  {
   "cell_type": "markdown",
   "metadata": {
    "id": "g-I2zKRMh6eX"
   },
   "source": [
    "### @큐의 연산\n",
    "|연산|설명|\n",
    "|---|---|\n",
    "|enqueue(e) |새로운 요소 e를 큐의 맨 뒤에 추가 |\n",
    "|dequeue() |큐의 맨 앞에 있는 요소를 꺼내서 반환 |\n",
    "|peek |큐의 맨 위에 있는 요소를 삭제하지 않고 반환  |\n",
    "|isEmpty() |큐가 비어 있는지 확인, True/False 반환 |\n",
    "|isFull() |큐가 가득 차 있는지 확인, True/False 반환 |\n",
    "|size() |큐에 들어 있는 전체 요소의 수 반환 |\n"
   ]
  },
  {
   "cell_type": "markdown",
   "metadata": {
    "id": "KmCIT3vGWm3L"
   },
   "source": [
    "### [실습] 배열로 원형 큐 클래스 구현하기\n",
    "- 용량이 고정된 원형 큐 클래스"
   ]
  },
  {
   "cell_type": "markdown",
   "metadata": {
    "id": "0Ilgx85rbERq"
   },
   "source": [
    "- 1.큐 클래스(ArrayQueue) 생성하기"
   ]
  },
  {
   "cell_type": "code",
   "execution_count": null,
   "metadata": {
    "id": "0AfhPdFsX5Rr"
   },
   "outputs": [],
   "source": [
    "# 1.(원형 큐) : 클래스 정의 와 생성자\n",
    "class ArrayQueue:\n",
    "    def __init__(self, capacity=10):\n",
    "        self.capacity = capacity\n",
    "        self.array = [None] * capacity\n",
    "        self.front = 0\n",
    "        self.rear = 0\n",
    "\n",
    "    # 2.(원형 큐) : 공백 상태와 포화 상태 검사\n",
    "    def isEmpty(self):\n",
    "\n",
    "\n",
    "\n",
    "    def isFull(self):\n",
    "\n",
    "\n",
    "\n",
    "    # 3.(원형 큐) : 삽입 연산\n",
    "    def enqueue(self, item):\n",
    "\n",
    "\n",
    "\n",
    "\n",
    "    # 4.(원형 큐) : 삭제 연산\n",
    "    def dequeue(self):\n",
    "\n",
    "\n",
    "\n",
    "    # 5. (원형 큐) : 상단 참조 연산\n",
    "    def peek(self):\n",
    "\n",
    "\n",
    "\n",
    "    # 6. (원형 큐) : 전체 요소 수\n",
    "    def size(self):\n",
    "\n",
    "\n",
    "\n",
    "    # 7. (원형 큐) : 전체 요소 화면에 출력\n",
    "    def display(self, msg='Queue: '):\n",
    "        print(msg, end='=[')\n",
    "        count = self.size()\n",
    "        for i in range(count):\n",
    "            print(self.array[(self.front+1+i)%self.capacity], end=' ')\n",
    "        print(\"]\")"
   ]
  },
  {
   "cell_type": "markdown",
   "metadata": {
    "id": "28G3izzjbVYO"
   },
   "source": [
    "- 2.큐 테스트 프로그램 실행하기"
   ]
  },
  {
   "cell_type": "code",
   "execution_count": null,
   "metadata": {
    "id": "H6kyLWoVba6P"
   },
   "outputs": [],
   "source": [
    "import random\n",
    "q = ArrayQueue(8)                    # 큐 객체를 생성(capacity=8)\n",
    "\n",
    "q.display(\"초기 상태\")\n",
    "while not q.isFull() :               # 큐에 빈 칸인 남았으면\n",
    "    q.enqueue(random.randint(0,100)) # 0~99사이의 정수 발생->삽입\n",
    "q.display(\"포화 상태\")\n",
    "\n",
    "print(\"삭제 순서: \", end='')\n",
    "while not q.isEmpty() :             # 큐에 요소가 남아 있으면\n",
    "    print(q.dequeue(), end=' ')     # 꺼내서 화면에 출력\n",
    "print()"
   ]
  },
  {
   "cell_type": "markdown",
   "metadata": {
    "id": "0OAqRAW5c4ox"
   },
   "source": [
    "### [실습] 원형 큐를 링 버퍼로 구현하기"
   ]
  },
  {
   "cell_type": "markdown",
   "metadata": {
    "id": "dABV0hF6dIkL"
   },
   "source": [
    "- 1.링 버퍼 적용한 클래스"
   ]
  },
  {
   "cell_type": "code",
   "execution_count": null,
   "metadata": {
    "id": "xeNysivvc5WC"
   },
   "outputs": [],
   "source": [
    "# 1.(원형 큐) : 클래스 정의 와 생성자\n",
    "class ArrayQueue:\n",
    "    def __init__(self, capacity=10):\n",
    "        self.capacity = capacity\n",
    "        self.array = [None] * capacity\n",
    "        self.front = 0\n",
    "        self.rear = 0\n",
    "\n",
    "    # 2.(원형 큐) : 공백 상태와 포화 상태 검사\n",
    "    def isEmpty(self):\n",
    "        return self.front == self.rear\n",
    "\n",
    "    def isFull(self):\n",
    "        return self.front == (self.rear+1)%self.capacity\n",
    "\n",
    "    # 3.(원형 큐) : 삽입 연산\n",
    "    def enqueue(self, item):\n",
    "        if not self.isFull():\n",
    "            self.rear = (self.rear+1)%self.capacity # 후단 회전\n",
    "            self.array[self.rear] = item\n",
    "        else:\n",
    "            print('stack overflow!')\n",
    "            pass\n",
    "\n",
    "    # 4.(원형 큐) : 삭제 연산\n",
    "    def dequeue(self):\n",
    "        if not self.isEmpty():\n",
    "            self.front = (self.front+1)%self.capacity  # 전단 회전\n",
    "            return self.array[self.front]\n",
    "\n",
    "    # 5. (원형 큐) : 상단 참조 연산\n",
    "    def peek(self):\n",
    "        if not self.isEmpty():\n",
    "            return self.array[(self.front+1)%self.capacity]\n",
    "        else: pass\n",
    "\n",
    "    # 6. (원형 큐) : 전체 요소 수\n",
    "    def size(self):\n",
    "        return (self.rear - self.front + self.capacity) % self.capacity\n",
    "\n",
    "    # 7. (원형 큐) : 전체 요소 화면에 출력\n",
    "    def display(self, msg='Queue: '):\n",
    "        print(msg, end=' = [')\n",
    "        count = self.size()\n",
    "        for i in range(count):\n",
    "            print(self.array[(self.front+1+i)%self.capacity], end=' ')\n",
    "        print(\"]\")\n",
    "\n",
    "    # 8. (원형 큐) : 링 버퍼를 위한 삽입 연산\n",
    "    def enqueue2(self, item):             # 링 버퍼 삽입 연산\n",
    "\n",
    "\n",
    "\n"
   ]
  },
  {
   "cell_type": "markdown",
   "metadata": {
    "id": "Rql5U305dEfL"
   },
   "source": [
    "- 2. 링 버퍼 테스트 프로그램"
   ]
  },
  {
   "cell_type": "code",
   "execution_count": null,
   "metadata": {
    "id": "QiSG_8XIdMI7"
   },
   "outputs": [],
   "source": [
    "import random\n",
    "q = ArrayQueue(8)               # 큐 객체를 생성(capacity=8)\n",
    "\n",
    "q.display(\"초기 상태\")\n",
    "for i in range(6) :             # enqueue2(): 0, 1, 2, 3, 4, 5\n",
    "    q.enqueue2(i)\n",
    "q.display(\"삽입 0-5\")\n",
    "\n",
    "q.enqueue2(6); q.enqueue2(7)    # enqueue2(): 6, 7\n",
    "q.display(\"삽입 6,7\")           # 포화 발생\n",
    "\n",
    "q.enqueue2(8); q.enqueue2(9)    # enqueue2(): 8, 9\n",
    "q.display(\"삽입 8,9\")\n",
    "\n",
    "q.dequeue(); q.dequeue()        # dequeue() 2회\n",
    "q.display(\"삭제  x2\")"
   ]
  },
  {
   "cell_type": "markdown",
   "metadata": {
    "id": "suNVM4QrgYUh"
   },
   "source": [
    "### @덱(Deque)"
   ]
  },
  {
   "cell_type": "markdown",
   "metadata": {
    "id": "6xnevXVOgYaB"
   },
   "source": [
    "- 덱(deque) : double-ended queue\n",
    "- 전단과 후단에서 모두 삽입과 삭제가 가능한 큐"
   ]
  },
  {
   "cell_type": "markdown",
   "metadata": {
    "id": "66Dh68XJgYdl"
   },
   "source": [
    "### [실습] 원형 큐 상속을 이용한 덱 구현하기"
   ]
  },
  {
   "cell_type": "markdown",
   "metadata": {
    "id": "PCLmpa-xl8hF"
   },
   "source": [
    "- 1. 덱 클래스 생성"
   ]
  },
  {
   "cell_type": "code",
   "execution_count": null,
   "metadata": {
    "id": "yHKIFpk5mCxI"
   },
   "outputs": [],
   "source": [
    "# 원형 큐 클래스 상속받아 원형 덱 클래스 생성\n",
    "class CircularDeque(ArrayQueue) :\n",
    "    def __init__( self, capacity=10 ) :\n",
    "        super().__init__(capacity)\n",
    "\n",
    "    # 원형 덱: 동작이 동일한 연산들\n",
    "    def addRear( self, item ): self.enqueue(item )\n",
    "    def deleteFront( self ): return self.dequeue()\n",
    "    def getFront( self ): return self.peek()\n",
    "\n",
    "    # 원형 덱: 추가된 연산들\n",
    "    def addFront( self, item ):\n",
    "        if not self.isFull():\n",
    "            self.array[self.front] = item\n",
    "            self.front = (self.front - 1 + self.capacity) % self.capacity # 전단 회전\n",
    "        else: pass\n",
    "\n",
    "    def deleteRear( self ):\n",
    "        if not self.isEmpty():\n",
    "            item = self.array[self.rear];\n",
    "            self.rear = (self.rear - 1 + self.capacity) % self.capacity  # 후단 회전\n",
    "            return item\n",
    "        else: pass\n",
    "\n",
    "    def getRear( self ):\n",
    "        if not self.isEmpty():\n",
    "            return self.array[self.rear]\n",
    "        else: pass"
   ]
  },
  {
   "cell_type": "markdown",
   "metadata": {
    "id": "iRJgxNlAl-Za"
   },
   "source": [
    "- 2. 덱 테스트 프로그램"
   ]
  },
  {
   "cell_type": "code",
   "execution_count": null,
   "metadata": {
    "id": "j6R5NzREmDPu"
   },
   "outputs": [],
   "source": [
    "dq = CircularDeque()\n",
    "\n",
    "for i in range(9):\n",
    "    if i%2==0 : dq.addRear(i)\n",
    "    else : dq.addFront(i)\n",
    "dq.display(\"홀수는 전단, 짝수는 후단 삽입\")\n",
    "\n",
    "for i in range(2): dq.deleteFront()\n",
    "for i in range(3): dq.deleteRear()\n",
    "dq.display(\"전단 삭제 2번, 후단 삭제 3번\")\n",
    "\n",
    "for i in range(9,14): dq.addFront(i)\n",
    "dq.display(\"전단에 9 ~ 13 삽입\")"
   ]
  },
  {
   "cell_type": "markdown",
   "metadata": {
    "id": "5WwJ3Hf5nRn8"
   },
   "source": [
    "### @파이썬에서 큐와 덱 사용하기"
   ]
  },
  {
   "cell_type": "markdown",
   "metadata": {
    "id": "qxnYTDwAnWJm"
   },
   "source": [
    "#### 방법 1) queue 모듈의 Queue 사용하기"
   ]
  },
  {
   "cell_type": "code",
   "execution_count": null,
   "metadata": {
    "id": "_2OKi7W3nZOe"
   },
   "outputs": [],
   "source": [
    "import random                   # 난수 발생을 위해 random 모듈 포함\n",
    "import queue                    # 파이썬의 큐 모듈 포함\n",
    "q = queue.Queue(8)              # 큐 객체를 생성(capacity=8)\n",
    "\n",
    "print(\"삽입 순서: \", end='')\n",
    "while not q.full() :            # 큐에 빈 칸인 남았으면\n",
    "    v = random.randint(0,100)   # 0~99사이의 정수 발생\n",
    "    q.put(v)                    # 삽입\n",
    "    print(v, end=' ')\n",
    "print()\n",
    "\n",
    "print(\"삭제 순서: \", end='')\n",
    "while not q.empty() :         # 큐에 요소가 남아 있으면\n",
    "    print(q.get(), end=' ')   # 꺼내서 화면에 출력\n",
    "print()"
   ]
  },
  {
   "cell_type": "markdown",
   "metadata": {
    "id": "iZzUmcOSnYXM"
   },
   "source": [
    "#### 방법 2) collections모듈의 deque 클래스 사용하기"
   ]
  },
  {
   "cell_type": "code",
   "execution_count": null,
   "metadata": {
    "id": "hbF3NlImnZtb"
   },
   "outputs": [],
   "source": [
    "import collections              # 덱을 사용하기 위해 collections 모듈 포함\n",
    "dq = collections.deque()        # 덱 객체를 생성\n",
    "\n",
    "print(\"덱은 공백상태 아님\" if dq else \"덱은 공백상태\")\n",
    "for i in range(9):\n",
    "    if i%2==0 : dq.append(i)\n",
    "    else : dq.appendleft(i)\n",
    "print(\"홀수는 전단, 짝수는 후단 삽입\", dq)\n",
    "\n",
    "for i in range(2): dq.popleft()\n",
    "for i in range(3): dq.pop()\n",
    "print(\"전단 삭제 2번, 후단 삭제 3번\", dq)\n",
    "\n",
    "for i in range(9,14): dq.appendleft(i)\n",
    "print(\"전단에 9 ~ 13 삽입          \", dq)\n",
    "\n",
    "print(\"덱은 공백상태 아님\" if dq else \"덱은 공백상태\")"
   ]
  },
  {
   "cell_type": "markdown",
   "metadata": {
    "id": "SLwjajk4gXOF"
   },
   "source": [
    "\n",
    "\n",
    "---\n",
    "\n"
   ]
  },
  {
   "cell_type": "markdown",
   "metadata": {
    "id": "c2BDlm4Lh6lC"
   },
   "source": [
    "## 리스트(List)"
   ]
  },
  {
   "cell_type": "markdown",
   "metadata": {
    "id": "oley1bzyh6oH"
   },
   "source": [
    "\n",
    "\n",
    "---\n",
    "\n"
   ]
  }
 ],
 "metadata": {
  "colab": {
   "provenance": [],
   "toc_visible": true
  },
  "kernelspec": {
   "display_name": "Python 3 (ipykernel)",
   "language": "python",
   "name": "python3"
  },
  "language_info": {
   "codemirror_mode": {
    "name": "ipython",
    "version": 3
   },
   "file_extension": ".py",
   "mimetype": "text/x-python",
   "name": "python",
   "nbconvert_exporter": "python",
   "pygments_lexer": "ipython3",
   "version": "3.12.3"
  }
 },
 "nbformat": 4,
 "nbformat_minor": 4
}
