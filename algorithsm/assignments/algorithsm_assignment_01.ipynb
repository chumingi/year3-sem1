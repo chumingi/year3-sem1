{
 "cells": [
  {
   "cell_type": "markdown",
   "id": "287039b5-7154-4d6b-baef-4846644f173b",
   "metadata": {},
   "source": [
    "# 1. 다양한 점화식 분석 방법에 대해 조사하기 (종류, 설명, 예제코드)\n",
    "- 1-1. 반복 전개 (Iterative Expansion)\n",
    "- 1-2. 수학적 귀납법 (Mathematical Induction)\n",
    "- 1-3. 마스터 정리 (Master Theorem)\n",
    "- 1-4. 상한/하한 추정 (Asymptotic Estimation)\n",
    "- 1-5. 직접 해석 (Direct Solving via Patterns)\n",
    "- 1-6. 특성 방정식 (Characteristic Equation)\n",
    "- 1-7. 행렬 방법 (Matrix Method)"
   ]
  },
  {
   "cell_type": "markdown",
   "id": "e383071e-7a5d-4d3c-9671-7df8380b25ba",
   "metadata": {},
   "source": [
    "## 1-1. 반복 전개 (Iterative Expansion)\n",
    "- 점화식을 여러 번 반복해서 풀어보면서 규칙을 찾는 방식이다.\n",
    "- 계산 과정을 따라가며 직접 패턴을 찾을 수 있어 직관적이지만, 점화식이 복잡한 경우 일반적인 패턴을 찾기 어렵다."
   ]
  },
  {
   "cell_type": "code",
   "execution_count": 18,
   "id": "26299439-5f3b-4594-a72d-9d2c369b388e",
   "metadata": {},
   "outputs": [
    {
     "name": "stdout",
     "output_type": "stream",
     "text": [
      "T(1) = 2\n",
      "T(2) = T(1) + 3 = 5\n",
      "T(3) = T(2) + 3 = 8\n",
      "T(4) = T(3) + 3 = 11\n",
      "T(5) = T(4) + 3 = 14\n"
     ]
    }
   ],
   "source": [
    "# T(n) = T(n-1) + 3, T(1) = 2\n",
    "def Iterative_Expansion(n):\n",
    "    if (n == 1):\n",
    "        return 2\n",
    "    return Iterative_Expansion(n-1) + 3\n",
    "\n",
    "print(\"T(1) = 2\")\n",
    "for i in range(2, 6):\n",
    "    print(f\"T({i}) = T({i-1}) + 3 = {Iterative_Expansion(i)}\")"
   ]
  },
  {
   "cell_type": "markdown",
   "id": "b13acc8e-f871-478f-9d81-57322845bdc4",
   "metadata": {},
   "source": [
    "## 1-2. 수학적 귀납법 (Mathematical Induction)\n",
    "- 점화식을 여러 번 풀어서 T(n)을 추측한 다음, 모든 자연수 n에 대해서 성립함을 수학적으로 증명한다.\n",
    "- 반복 전개로 추측한 T(n)이 맞는지 검증할 때 사용한다."
   ]
  },
  {
   "cell_type": "code",
   "execution_count": 6,
   "id": "70ecfa34-d88b-4c65-bc4f-26a98fd4406a",
   "metadata": {},
   "outputs": [
    {
     "name": "stdout",
     "output_type": "stream",
     "text": [
      "T(5) = 15, 예상한 일반항 = 15.0\n"
     ]
    },
    {
     "data": {
      "text/plain": [
       "True"
      ]
     },
     "execution_count": 6,
     "metadata": {},
     "output_type": "execute_result"
    }
   ],
   "source": [
    "# T(n) = T(n-1) + n, T(1) = 1, 추정: T(n) = n(n+1)/2\n",
    "\n",
    "def T(n):\n",
    "    if (n == 1):\n",
    "        return 1 # T(1) = 1\n",
    "    return T(n-1) + n # T(n) = T(n-1) + n\n",
    "\n",
    "def Mathematical_Induction(n):\n",
    "    left = T(n)\n",
    "    right = n*(n+1)/2\n",
    "    print(f\"T({n}) = {left}, 예상한 일반항 = {right}\")\n",
    "    return left == right\n",
    "\n",
    "Mathematical_Induction(5) # True"
   ]
  },
  {
   "cell_type": "markdown",
   "id": "95d27bab-2efc-438c-8861-7081fb09b44b",
   "metadata": {},
   "source": [
    "## 1-3. 마스터 정리 (Master Theorem)\n",
    "- T(n) = aT(n/b) + f(n) 형태의 점화식에서 사용한다.\n",
    "- 시간 복잡도를 빠르게 판단할 수 있지만, f(n-1)와 같은 식에는 적용 불가능하다."
   ]
  },
  {
   "cell_type": "code",
   "execution_count": 10,
   "id": "571fe918-b4b1-4798-9b65-69b2397b8cbb",
   "metadata": {},
   "outputs": [
    {
     "name": "stdout",
     "output_type": "stream",
     "text": [
      "T(8) = 2*T(4) + 8\n",
      "  T(4) = 2*T(2) + 4\n",
      "    T(2) = 2*T(1) + 2\n",
      "      T(1) = 1\n"
     ]
    },
    {
     "data": {
      "text/plain": [
       "32"
      ]
     },
     "execution_count": 10,
     "metadata": {},
     "output_type": "execute_result"
    }
   ],
   "source": [
    "# T(n) = 2T(n/2) + n\n",
    "\n",
    "def Master_Theorem(n, depth=0):\n",
    "    if n == 1:\n",
    "        print(\"  \" * depth + \"T(1) = 1\") # T(1) = 1\n",
    "        return 1\n",
    "    print(\"  \" * depth + f\"T({n}) = 2*T({n//2}) + {n}\")\n",
    "    return 2 * Master_Theorem(n // 2, depth + 1) + n # n을 2로 나누고 depth를 1 증가시켜 반복\n",
    "\n",
    "Master_Theorem(8)"
   ]
  },
  {
   "cell_type": "markdown",
   "id": "1952d3d0-3faa-4949-a13b-75eb7a9dd7d2",
   "metadata": {},
   "source": [
    "# 1-4. 상한/하한 추정 (Asymptotic Estimation)\n",
    "- 점화식을 정확히 풀기 어려울 때, 대략적인 증가 속도를 비교해서 Big-O 분석에 사용한다.\n",
    "- 실제 코드가 얼마나 느린지 판단할 때 사용한다."
   ]
  },
  {
   "cell_type": "code",
   "execution_count": 12,
   "id": "f551f3f9-f3bc-4726-9cff-e54d314d672d",
   "metadata": {},
   "outputs": [
    {
     "name": "stdout",
     "output_type": "stream",
     "text": [
      "T(2) 증가량 = log2(2) = 1.0\n",
      "T(3) 증가량 = log2(3) = 1.58\n",
      "T(4) 증가량 = log2(4) = 2.0\n",
      "T(5) 증가량 = log2(5) = 2.32\n",
      "T(6) 증가량 = log2(6) = 2.58\n",
      "T(7) 증가량 = log2(7) = 2.81\n",
      "T(8) 증가량 = log2(8) = 3.0\n",
      "총 합 ≈ 15.3\n"
     ]
    }
   ],
   "source": [
    "# T(n) = T(n-1) + log n\n",
    "import math\n",
    "\n",
    "def Asymptotic_Estimation(n):\n",
    "    total = 0\n",
    "    for i in range(2, n + 1):\n",
    "        total += math.log2(i) # i 값을 증가시키며 증가량을 총합에 더한다\n",
    "        print(f\"T({i}) 증가량 = log2({i}) = {round(math.log2(i), 2)}\")\n",
    "    return total\n",
    "\n",
    "print(\"총 합 ≈\", round(Asymptotic_Estimation(8), 2))"
   ]
  },
  {
   "cell_type": "markdown",
   "id": "82dcb524-1817-4046-ab20-2addaa815f4a",
   "metadata": {},
   "source": [
    "## 1-5. 점화식 직접 해석 (Direct Solving via Patterns)\n",
    "- 점화식을 전개하지 않고 직접 식으로 바꾸는 방식이다.\n",
    "- 빠르고 정확하지만, 점화식이 규칙적일 때만 가능하다."
   ]
  },
  {
   "cell_type": "code",
   "execution_count": 13,
   "id": "bd3d18d8-9241-45fb-ae49-c6027827ba39",
   "metadata": {},
   "outputs": [
    {
     "name": "stdout",
     "output_type": "stream",
     "text": [
      "T(4) = 54\n"
     ]
    }
   ],
   "source": [
    "# T(n) = 3T(n-1), T(1) = 2 → 일반항: T(n) = 2 * 3^(n-1)\n",
    "\n",
    "def Direct_Solving_via_Patterns(n):\n",
    "    return 2 * (3 ** (n - 1)) # 공비 3, T(1) = 2\n",
    "\n",
    "print(f\"T(4) = {Direct_Solving_via_Patterns(4)}\")  # 54"
   ]
  },
  {
   "cell_type": "markdown",
   "id": "4630bb14-f370-429a-852d-247218f3f37a",
   "metadata": {},
   "source": [
    "## 1-6. 특성 방정식 (Characteristic Equation)\n",
    "- T(n) = aT(n-1) + bT(n-2) 같은 형태일 때, 방정식을 이용해서 T(n)을 수식으로 구한다.\n",
    "- 피보나치 수열, 복잡한 점화식도 풀 수 있다."
   ]
  },
  {
   "cell_type": "code",
   "execution_count": 14,
   "id": "96592e8c-b6d6-4f94-8f14-5efe401d865c",
   "metadata": {},
   "outputs": [
    {
     "name": "stdout",
     "output_type": "stream",
     "text": [
      "8\n"
     ]
    }
   ],
   "source": [
    "# T(n) = T(n-1) + T(n-2), T(0)=0, T(1)=1\n",
    "\n",
    "def Characteristic_Equation(n):\n",
    "    if n == 0:\n",
    "        return 0 # T(0) = 0\n",
    "    if n == 1:\n",
    "        return 1 # T(1) = 1\n",
    "    return Characteristic_Equation(n-1) + Characteristic_Equation(n-2) # T(n) = T(n-1) + T(n-2)\n",
    "\n",
    "print(Characteristic_Equation(6))  # 8"
   ]
  },
  {
   "cell_type": "markdown",
   "id": "6b2c405b-0975-438b-8925-44b5801d3b3b",
   "metadata": {},
   "source": [
    "# 1-7. 선형대수 방법 (Matrix Form)\n",
    "- 점화식을 행렬 형태로 바꿔서, 행렬 곱과 거듭제곱을 이용해 빠르게 계산하는 방법이다.\n",
    "- 재귀식보다 바르며, 정확한 계산이 가능하다."
   ]
  },
  {
   "cell_type": "code",
   "execution_count": 16,
   "id": "793eb6b2-7443-4f69-9783-919f0a4bba7d",
   "metadata": {},
   "outputs": [
    {
     "name": "stdout",
     "output_type": "stream",
     "text": [
      "8\n"
     ]
    }
   ],
   "source": [
    "# 피보치치\n",
    "\n",
    "def matrix_form(n):\n",
    "    # 행렬 곱 함수\n",
    "    def mat_mult(A, B):\n",
    "        return [[A[0][0]*B[0][0] + A[0][1]*B[1][0],\n",
    "                 A[0][0]*B[0][1] + A[0][1]*B[1][1]],\n",
    "                [A[1][0]*B[0][0] + A[1][1]*B[1][0],\n",
    "                 A[1][0]*B[0][1] + A[1][1]*B[1][1]]]\n",
    "\n",
    "    # 행렬 거듭제곱 함수\n",
    "    def mat_pow(mat, power):\n",
    "        result = [[1, 0], [0, 1]] # 단위행렬\n",
    "        while power:\n",
    "            if power % 2 == 1:\n",
    "                result = mat_mult(result, mat)\n",
    "            mat = mat_mult(mat, mat) # 제곱\n",
    "            power //= 2\n",
    "        return result\n",
    "\n",
    "    base = [[1, 1], [1, 0]]\n",
    "    res = mat_pow(base, n)\n",
    "    return res[0][1]\n",
    "\n",
    "print(matrix_form(6))  # 8"
   ]
  },
  {
   "cell_type": "markdown",
   "id": "f06c6018-78d0-4110-a540-b53759c8a2c9",
   "metadata": {},
   "source": [
    "---"
   ]
  },
  {
   "cell_type": "markdown",
   "id": "a9fabec4-2e6b-4cd7-8a26-498bee5a3a7c",
   "metadata": {},
   "source": [
    "# 2. 연산 유형별 점화식 분석 (유형, 점화식, 빅오표기법, 예제코드)\n",
    "- 2-1. 상수 연산\n",
    "- 2-2. 선형 반복\n",
    "- 2-3. 이중 반복\n",
    "- 2-4. 삼중 반복\n",
    "- 2-5. 로그 연산 (이진 탐색)\n",
    "- 2-6. 이진 분할 (분할 정복)\n",
    "- 2-7. k-분할 정복\n",
    "- 2-8. 지수 연산\n",
    "- 2-9. 팩토리얼\n",
    "- 2-10. 트리 재귀 (피보나치)"
   ]
  },
  {
   "cell_type": "markdown",
   "id": "94e22cc1-9688-40a6-b01e-f9147df8729a",
   "metadata": {},
   "source": [
    "## 2-1. 상수 연산\n",
    "- 점화식 형태: T(n) = c\n",
    "- 빅오 표기법: O(1)"
   ]
  },
  {
   "cell_type": "code",
   "execution_count": 1,
   "id": "ad21b7e2-c6d6-4a09-925a-d3d06d88aacd",
   "metadata": {},
   "outputs": [
    {
     "data": {
      "text/plain": [
       "3"
      ]
     },
     "execution_count": 1,
     "metadata": {},
     "output_type": "execute_result"
    }
   ],
   "source": [
    "def T(n):\n",
    "    return 3\n",
    "\n",
    "T(1)"
   ]
  },
  {
   "cell_type": "markdown",
   "id": "2aa2fbf9-9616-4337-a0cc-67180a2218e7",
   "metadata": {},
   "source": [
    "## 2-2. 선형 반복\n",
    "- 점화식 형태: T(n) = T(n−1) + c\n",
    "- 빅오 표기법: O(n)"
   ]
  },
  {
   "cell_type": "code",
   "execution_count": 19,
   "id": "ca94ad17-cfb6-4b5a-80bc-2d411edb6e18",
   "metadata": {},
   "outputs": [
    {
     "data": {
      "text/plain": [
       "5"
      ]
     },
     "execution_count": 19,
     "metadata": {},
     "output_type": "execute_result"
    }
   ],
   "source": [
    "def T(n):\n",
    "    if n == 0:\n",
    "        return 0\n",
    "    return T(n - 1) + 1\n",
    "\n",
    "T(5)"
   ]
  },
  {
   "cell_type": "markdown",
   "id": "10c82cbe-4b29-4616-b7a2-296c3e396b82",
   "metadata": {},
   "source": [
    "## 2-3. 이중 반복\n",
    "- 점화식 형태: T(n) = T(n−1) + n\n",
    "- 빅오 표기법: O(n**2)"
   ]
  },
  {
   "cell_type": "code",
   "execution_count": 20,
   "id": "79c749f5-d8a3-4de7-981a-cdf6f0bb7dbe",
   "metadata": {},
   "outputs": [
    {
     "data": {
      "text/plain": [
       "64"
      ]
     },
     "execution_count": 20,
     "metadata": {},
     "output_type": "execute_result"
    }
   ],
   "source": [
    "def T(n):\n",
    "    count = 0\n",
    "    for i in range(n):\n",
    "        for j in range(n):\n",
    "            count += 1\n",
    "    return count\n",
    "\n",
    "T(8)"
   ]
  },
  {
   "cell_type": "markdown",
   "id": "5d41c159-371a-46ea-8216-f92f7a3d0921",
   "metadata": {},
   "source": [
    "## 2-4. 삼중 반복\n",
    "- 점화식 형태: T(n) = T(n−1) + n**2\n",
    "- 빅오 표기법: O(n**3)"
   ]
  },
  {
   "cell_type": "code",
   "execution_count": 21,
   "id": "6594279f-9d03-41ae-a392-f1a8bfd061fd",
   "metadata": {},
   "outputs": [
    {
     "data": {
      "text/plain": [
       "125"
      ]
     },
     "execution_count": 21,
     "metadata": {},
     "output_type": "execute_result"
    }
   ],
   "source": [
    "def T(n):\n",
    "    count = 0\n",
    "    for i in range(n):\n",
    "        for j in range(n):\n",
    "            for k in range(n):\n",
    "                count += 1\n",
    "    return count\n",
    "\n",
    "T(5)"
   ]
  },
  {
   "cell_type": "code",
   "execution_count": 22,
   "id": "f4383571-f2f6-4c50-8e11-ccd0230c76dd",
   "metadata": {},
   "outputs": [
    {
     "data": {
      "text/plain": [
       "12"
      ]
     },
     "execution_count": 22,
     "metadata": {},
     "output_type": "execute_result"
    }
   ],
   "source": []
  },
  {
   "cell_type": "markdown",
   "id": "1c51c40b-324f-4c89-8b95-c73f0e895cfe",
   "metadata": {},
   "source": [
    "## 2-5. 로그 연산 (이진 탐색)\n",
    "- 점화식 형태: T(n) = T(n/2) + c\n",
    "- 빅오 표기법: O(log n)"
   ]
  },
  {
   "cell_type": "code",
   "execution_count": 25,
   "id": "9be60e26-8baa-460d-9100-ada96326d093",
   "metadata": {},
   "outputs": [
    {
     "data": {
      "text/plain": [
       "4"
      ]
     },
     "execution_count": 25,
     "metadata": {},
     "output_type": "execute_result"
    }
   ],
   "source": [
    "def T(n):\n",
    "    if n <= 1:\n",
    "        return 1\n",
    "    return T(n // 2) + 1\n",
    "\n",
    "T(8)"
   ]
  },
  {
   "cell_type": "markdown",
   "id": "9382cdca-a32c-4a4f-b495-b986f9559386",
   "metadata": {},
   "source": [
    "## 2-6. 이진 분할 (분할 정복)\n",
    "- 점화식 형태: T(n) = 2T(n/2) + n\n",
    "- 빅오 표기법: O(n log n)"
   ]
  },
  {
   "cell_type": "code",
   "execution_count": 2,
   "id": "74aec631-b657-43df-99c7-48eed966f7ab",
   "metadata": {},
   "outputs": [
    {
     "data": {
      "text/plain": [
       "12"
      ]
     },
     "execution_count": 2,
     "metadata": {},
     "output_type": "execute_result"
    }
   ],
   "source": [
    "def T(n):\n",
    "    if n <= 1:\n",
    "        return 1\n",
    "    return 2 * T(n // 2) + n\n",
    "\n",
    "T(4)"
   ]
  },
  {
   "cell_type": "code",
   "execution_count": 26,
   "id": "eae693b7-cd0a-4de7-a50f-ac02ee11a1fd",
   "metadata": {},
   "outputs": [
    {
     "data": {
      "text/plain": [
       "64"
      ]
     },
     "execution_count": 26,
     "metadata": {},
     "output_type": "execute_result"
    }
   ],
   "source": []
  },
  {
   "cell_type": "markdown",
   "id": "b624e9c3-6cd2-40bc-9296-78e00a4f9b2b",
   "metadata": {},
   "source": [
    "## 2-7. k-분할 정복\n",
    "- 점화식 형태: T(n) = T(k) + T(n−k−1) + n\n",
    "- 빅오 표기법: O(n**2)"
   ]
  },
  {
   "cell_type": "code",
   "execution_count": 27,
   "id": "2c64f8fd-b5e4-453d-ba00-8634d55460df",
   "metadata": {},
   "outputs": [
    {
     "data": {
      "text/plain": [
       "15"
      ]
     },
     "execution_count": 27,
     "metadata": {},
     "output_type": "execute_result"
    }
   ],
   "source": [
    "def T(n):\n",
    "    if n <= 1:\n",
    "        return 1\n",
    "    k = n // 2\n",
    "    return T(k) + T(n - k - 1) + n\n",
    "\n",
    "T(6)"
   ]
  },
  {
   "cell_type": "markdown",
   "id": "7f14134f-ee4b-4422-ac8e-7ee11dcc9e0e",
   "metadata": {},
   "source": [
    "## 2-8. 지수 연산\n",
    "- 점화식 형태: T(n) = 2T(n−1)\n",
    "- 빅오 표기법: O(2**n)"
   ]
  },
  {
   "cell_type": "code",
   "execution_count": 3,
   "id": "4cba5eec-2b99-42cb-95bc-3989a07b01e0",
   "metadata": {},
   "outputs": [
    {
     "data": {
      "text/plain": [
       "64"
      ]
     },
     "execution_count": 3,
     "metadata": {},
     "output_type": "execute_result"
    }
   ],
   "source": [
    "def T(n):\n",
    "    if n == 0:\n",
    "        return 1\n",
    "    return 2 * T(n - 1)\n",
    "\n",
    "T(6)"
   ]
  },
  {
   "cell_type": "markdown",
   "id": "49a89d40-223a-404d-bf2e-339deb145938",
   "metadata": {},
   "source": [
    "## 2-9. 팩토리얼\n",
    "- 점화식 형태: T(n) = T(n−1) * n\n",
    "- 빅오 표기법: O(n!)"
   ]
  },
  {
   "cell_type": "code",
   "execution_count": 28,
   "id": "77b58735-3730-4bf2-bae6-359d14ba88f4",
   "metadata": {},
   "outputs": [
    {
     "data": {
      "text/plain": [
       "720"
      ]
     },
     "execution_count": 28,
     "metadata": {},
     "output_type": "execute_result"
    }
   ],
   "source": [
    "def T(n):\n",
    "    if n == 1:\n",
    "        return 1\n",
    "    return T(n - 1) * n\n",
    "\n",
    "T(6)"
   ]
  },
  {
   "cell_type": "markdown",
   "id": "08562b46-7523-43c1-9f68-c223a1fe06e7",
   "metadata": {},
   "source": [
    "## 2-10. 트리 재귀 (피보나치)\n",
    "- 점화식 형태: T(n) = T(n−1) + T(n−2) + c\n",
    "- 빅오 표기법: O(2**n)"
   ]
  },
  {
   "cell_type": "code",
   "execution_count": 30,
   "id": "046960c6-5fe1-4e3f-bc47-5fcf258c6b4f",
   "metadata": {},
   "outputs": [
    {
     "data": {
      "text/plain": [
       "13"
      ]
     },
     "execution_count": 30,
     "metadata": {},
     "output_type": "execute_result"
    }
   ],
   "source": [
    "def T(n):\n",
    "    if n <= 1:\n",
    "        return n\n",
    "    return T(n - 1) + T(n - 2)\n",
    "\n",
    "T(7)"
   ]
  }
 ],
 "metadata": {
  "kernelspec": {
   "display_name": "Python 3 (ipykernel)",
   "language": "python",
   "name": "python3"
  },
  "language_info": {
   "codemirror_mode": {
    "name": "ipython",
    "version": 3
   },
   "file_extension": ".py",
   "mimetype": "text/x-python",
   "name": "python",
   "nbconvert_exporter": "python",
   "pygments_lexer": "ipython3",
   "version": "3.12.3"
  }
 },
 "nbformat": 4,
 "nbformat_minor": 5
}
