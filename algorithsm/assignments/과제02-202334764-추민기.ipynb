{
 "cells": [
  {
   "cell_type": "markdown",
   "id": "e372af36-1df0-43fd-969d-8d96b4c3e2f9",
   "metadata": {},
   "source": [
    "# 알고리즘 과제 2\n",
    "- 정렬 알고리즘 관련 5가지 Quiz의 solution을 자세히 제시하고, 관련된 파이썬 코드를 제출하기"
   ]
  },
  {
   "cell_type": "markdown",
   "id": "91d64ca1-4cf0-4f3a-8f2f-274bc52e6508",
   "metadata": {},
   "source": [
    "## [Quiz 1]\n",
    "- 동일한 기계에서 삽입정렬과 병합정렬의 구현 결과를 비교한다고 가정하자. $n$개의 입력에 대해 삽입 정렬은 $8n^2$번을, 병합 정렬은 $64nlongn$번을 계산하고 각각 종료한다. $n$값이 얼마일 때까지 삽입 정렬이 병합 정렬보다 빠를까? (단, 파이썬에서 $logn$은 $log_{2}n$으로 계산"
   ]
  },
  {
   "cell_type": "markdown",
   "id": "64255783-efdd-4bf2-bb14-dffec4ad5cc4",
   "metadata": {},
   "source": [
    "### 설명"
   ]
  },
  {
   "cell_type": "markdown",
   "id": "062cefba-79ff-4f3b-8c90-c90e1d8c7afa",
   "metadata": {},
   "source": [
    "- 특정 n값 전까지는 삽입정렬이 계산을 덜 해야 하므로 $8n^2 < 64nlogn$이어야 한다.\n",
    "- 양변을 정리하면 $n < 8logn$이 된다.\n",
    "- `math`의 `log2()` 함수를 이용하고 `n`값을 키워가며 반복 실행한다.\n",
    "- 조건을 `false`가 되면 반복을 멈추고 직전의 `n`값을 구한다."
   ]
  },
  {
   "cell_type": "markdown",
   "id": "a4efcce9-ebb6-4a45-b261-22fdc1f7865d",
   "metadata": {},
   "source": [
    "### 파이썬 코드"
   ]
  },
  {
   "cell_type": "code",
   "execution_count": 2,
   "id": "4ac0cc7e-ca7a-44f7-8baa-6efbac194475",
   "metadata": {},
   "outputs": [
    {
     "name": "stdout",
     "output_type": "stream",
     "text": [
      "삽입 정렬이 병합 정렬보다 빠른 최대 n값: 43\n"
     ]
    }
   ],
   "source": [
    "import math\n",
    "\n",
    "def quiz_1():\n",
    "    n = 2\n",
    "    while n < 8 * math.log2(n):\n",
    "        n += 1\n",
    "    return n - 1\n",
    "\n",
    "max_n = quiz_1()\n",
    "print(f\"삽입 정렬이 병합 정렬보다 빠른 최대 n값: {max_n}\")"
   ]
  },
  {
   "cell_type": "markdown",
   "id": "c5355b9c-7c55-4ea7-be6a-93d9d416090c",
   "metadata": {},
   "source": [
    "## [Quiz 2]\n",
    "- 동일한 기계에서 수행 시간이 $100n^2$인 알고리즘이 수행 시간이 $2^2$인 알고리즘보다 빨라지는 $n$의 최소값은 얼마인가?"
   ]
  },
  {
   "cell_type": "markdown",
   "id": "8b516a52-b00d-4ca7-928b-a63dd7924f62",
   "metadata": {},
   "source": [
    "### 설명"
   ]
  },
  {
   "cell_type": "markdown",
   "id": "17d96a2e-9178-4472-91f2-681459565b1b",
   "metadata": {},
   "source": [
    "- 특정 n에서 수행시간이 $100n^2$인 알고리즘이 더 빨라지므로 $100n^2 < 2^n$으로 놓는다.\n",
    "- 조건이 `true`가 될때까지 `n`을 늘려가며 반복한다."
   ]
  },
  {
   "cell_type": "markdown",
   "id": "6fc528b9-2381-4065-9c0e-0e40e6fc02dd",
   "metadata": {},
   "source": [
    "### 파이썬 코드"
   ]
  },
  {
   "cell_type": "code",
   "execution_count": 4,
   "id": "1e01e5f9-4dc2-46b6-832d-e2e4d82b01a5",
   "metadata": {},
   "outputs": [
    {
     "name": "stdout",
     "output_type": "stream",
     "text": [
      "100n**2 < 2**n를 만족하는 최소 n: 15\n"
     ]
    }
   ],
   "source": [
    "def quiz_2():\n",
    "    n = 1\n",
    "    while True:\n",
    "        if 100 * (n ** 2) < 2 ** n:\n",
    "            return n\n",
    "        n += 1\n",
    "\n",
    "min_n = quiz_2()\n",
    "print(f\"100n**2 < 2**n를 만족하는 최소 n: {min_n}\")"
   ]
  },
  {
   "cell_type": "markdown",
   "id": "90a43af4-6b79-4de6-9223-5188638c0bda",
   "metadata": {},
   "source": [
    "## [Quiz 3]\n",
    "- 배열 [33, 19, 20, 15, 13, 10, 2, 13, 16, 12]는 최대 힙(Max-Heap) 인가?"
   ]
  },
  {
   "cell_type": "markdown",
   "id": "01631a46-5376-4a35-8c40-329357b44de3",
   "metadata": {},
   "source": [
    "### 설명"
   ]
  },
  {
   "cell_type": "markdown",
   "id": "6fa4ad9b-69ed-4cee-b933-4a0550307f48",
   "metadata": {},
   "source": [
    "- Max-Heap 조건 정리\n",
    "    - 완전 이진 트리 구조를 갖는다.\n",
    "    - 각 부모 노드는 자식 노드보다 크거나 같아야 한다.\n",
    "    - 배열에서 인덱스 i의 왼쪽 자식은 $2i + 1$, 오른쪽 자식은 $2i + 2$이다.\n",
    "    - $A[i] >= A[2i + 1], A[i] >= A[2i + 2]$을 만족해야 한다."
   ]
  },
  {
   "cell_type": "markdown",
   "id": "0d7c22da-30c5-4084-be6a-a5e396aaa377",
   "metadata": {},
   "source": [
    "### 파이썬 코드"
   ]
  },
  {
   "cell_type": "code",
   "execution_count": 5,
   "id": "ccb3fbc6-d1e5-4aee-8a49-df116c42fe07",
   "metadata": {},
   "outputs": [
    {
     "name": "stdout",
     "output_type": "stream",
     "text": [
      "최대 힙이 아니다.\n"
     ]
    }
   ],
   "source": [
    "def quiz_3(arr):\n",
    "    n = len(arr)\n",
    "    for i in range(n):\n",
    "        left = 2 * i + 1\n",
    "        right = 2 * i + 2\n",
    "\n",
    "        if left < n and arr[i] < arr[left]:\n",
    "            return False\n",
    "        if right < n and arr[i] < arr[right]:\n",
    "            return False\n",
    "    return True\n",
    "\n",
    "A = [33, 19, 20, 15, 13, 10, 2, 13, 16, 12]\n",
    "result = quiz_3(A)\n",
    "print(\"최대 힙이다.\" if result else \"최대 힙이 아니다.\")"
   ]
  },
  {
   "cell_type": "markdown",
   "id": "ae8a1863-8a2c-4065-9c1b-404d6864d217",
   "metadata": {},
   "source": [
    "## [Quiz 4]\n",
    "- 거래 시간 순으로 정렬된 거래 내역을 수표 번호 순서로 바꾸는 문제는 대부분의 입력이 거의 정렬된 상태다.\n",
    "- 이 문제를 푸는 데에 있어 Insertion Sort와 Quick Sort 중 어떤 것이 더 적합한지 논하라."
   ]
  },
  {
   "cell_type": "markdown",
   "id": "61c0206e-20d1-49d2-8e2f-ed49ce843e05",
   "metadata": {},
   "source": [
    "### 설명"
   ]
  },
  {
   "cell_type": "markdown",
   "id": "efb219fd-4e5a-4267-a00e-30b93488ea75",
   "metadata": {},
   "source": [
    "1. 삽입 정렬\n",
    "    - 배열을 정렬된 부분과 정렬되지 않은 부분으로 나누고, 정렬되지 않은 부분의 원소를 왼쪽부터 하나씩 정렬된 부분에 삽입하는 방식이다.\n",
    "    - 평균과 최악의 시간 복잡도는 O($n^2$)이고, 배열이 거의 정렬된 경우에는 O(n)의 시간복잡도를 가진다.\n",
    "    - 특징:\n",
    "        - 구현이 단순하고 빠르다.\n",
    "        - 작은 데이터나 거의 정렬된 데이터에 매우 효율적이다.\n",
    "---\n",
    "2. 퀵 정렬\n",
    "    - 피벗(Pivot)을 기준으로 배열을 분할하고 재귀적으로 정렬한다.\n",
    "    - 평균 시간 복자도는 O(nlogn)이고, 최악의 시간복잡도는 O($n^2$)이다.\n",
    "    - 많은 양의 데이터가 섞여 있는 경우 최고의 알고리즘이다.\n",
    "---\n",
    "3. 적합한 알고리즘\n",
    "    - 삽입 정렬은 데이터의 크기가 작고 거의 정렬되어 잇을 때 효율적이다.\n",
    "    - 주어진 문제는 거래 시간 순으로 이미 정렬되어 있고, 데이터의 양도 많지 않으므로 삽입정렬이 적합하다."
   ]
  },
  {
   "cell_type": "markdown",
   "id": "26e4db50-d951-4f21-8036-9e32140ac2a7",
   "metadata": {},
   "source": [
    "## [Quiz 5]\n",
    "- 다음 영어 단어 목록을 Radix Sort 정렬 알고리즘으로 정렬하라.\n",
    "- 단어 목록: COW, DOG, SEA, RUG, ROW, MOB, BOX, TAB, BAR, EAR, TAR, DIG, BIG, TEA, NOW, FOX"
   ]
  },
  {
   "cell_type": "markdown",
   "id": "c1b95d72-7878-4d22-8cf0-17ef26c006fd",
   "metadata": {},
   "source": [
    "### 설명"
   ]
  },
  {
   "cell_type": "markdown",
   "id": "7f9f10ab-6776-4b61-8c53-4adf7832d748",
   "metadata": {},
   "source": [
    "- 가장 낮은 지수부터 안정 정렬을 반복하며 데이터를 정렬한다.\n",
    "- 모든 항목의 길이가 동일하거나 패딩이 가능한 경우에 효과적이다."
   ]
  },
  {
   "cell_type": "markdown",
   "id": "1ec201ff-5f14-4cd7-8ac2-f3fba3a041ec",
   "metadata": {},
   "source": [
    "### 파이썬 코드"
   ]
  },
  {
   "cell_type": "code",
   "execution_count": 8,
   "id": "eda3cc0b-ab30-4e96-9f9f-cfde0b227a3e",
   "metadata": {},
   "outputs": [
    {
     "name": "stdout",
     "output_type": "stream",
     "text": [
      "['BAR', 'BIG', 'BOX', 'COW', 'DIG', 'DOG', 'EAR', 'FOX', 'MOB', 'NOW', 'ROW', 'RUG', 'SEA', 'TAB', 'TAR', 'TEA']\n"
     ]
    }
   ],
   "source": [
    "from collections import defaultdict\n",
    "\n",
    "def counting_sort_by_char(arr, char_index):\n",
    "    buckets = defaultdict(list)\n",
    "    for word in arr:\n",
    "        key = word[char_index]\n",
    "        buckets[key].append(word)\n",
    "\n",
    "    # 알파벳 순서대로 병합\n",
    "    sorted_arr = []\n",
    "    for ch in sorted(buckets.keys()):\n",
    "        sorted_arr.extend(buckets[ch])\n",
    "    return sorted_arr\n",
    "\n",
    "def quiz_5(words):\n",
    "    \"\"\"모든 단어가 같은 길이일 때 Radix Sort\"\"\"\n",
    "    if not words:\n",
    "        return words\n",
    "\n",
    "    max_length = len(words[0])\n",
    "    for i in range(max_length - 1, -1, -1):  # 마지막 문자부터 정렬\n",
    "        words = counting_sort_by_char(words, i)\n",
    "    return words\n",
    "\n",
    "words = [\n",
    "    \"COW\", \"DOG\", \"SEA\", \"RUG\", \"ROW\", \"MOB\", \"BOX\", \"TAB\",\n",
    "    \"BAR\", \"EAR\", \"TAR\", \"DIG\", \"BIG\", \"TEA\", \"NOW\", \"FOX\"\n",
    "]\n",
    "\n",
    "sorted_words = quiz_5(words)\n",
    "print(sorted_words)"
   ]
  }
 ],
 "metadata": {
  "kernelspec": {
   "display_name": "Python 3 (ipykernel)",
   "language": "python",
   "name": "python3"
  },
  "language_info": {
   "codemirror_mode": {
    "name": "ipython",
    "version": 3
   },
   "file_extension": ".py",
   "mimetype": "text/x-python",
   "name": "python",
   "nbconvert_exporter": "python",
   "pygments_lexer": "ipython3",
   "version": "3.12.3"
  }
 },
 "nbformat": 4,
 "nbformat_minor": 5
}
