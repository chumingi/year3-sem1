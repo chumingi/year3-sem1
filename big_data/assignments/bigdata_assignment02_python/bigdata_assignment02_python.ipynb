{
 "cells": [
  {
   "cell_type": "markdown",
   "id": "d1616385-e614-4ff2-b382-95b4adbafb67",
   "metadata": {},
   "source": [
    "## 4장 파이썬 프로그래밍 기초 연습문제"
   ]
  },
  {
   "cell_type": "markdown",
   "id": "dd71ac48-e360-4a6d-bc57-a2605f46034f",
   "metadata": {},
   "source": [
    "### 01. 실행 결과를 참고하여 파이썬 코드의 빈칸을 채우시오.\n",
    "```python\n",
    ">>> str = '20201231Thursday'\n",
    ">>> year = ____\n",
    ">>> year\n",
    "'2020'\n",
    ">>> mmdd = ____\n",
    ">>> mmdd\n",
    "'1231'\n",
    ">>> day = ____\n",
    ">>> day\n",
    "'Thursday'\n",
    "```"
   ]
  },
  {
   "cell_type": "code",
   "execution_count": 38,
   "id": "28c296ae-de32-4d00-ae5d-a4bbdb537a0a",
   "metadata": {},
   "outputs": [
    {
     "data": {
      "text/plain": [
       "'2020'"
      ]
     },
     "execution_count": 38,
     "metadata": {},
     "output_type": "execute_result"
    }
   ],
   "source": [
    ">>> str1 = '20201231Thursday'\n",
    ">>> year = str1[0:4]\n",
    ">>> year"
   ]
  },
  {
   "cell_type": "code",
   "execution_count": 39,
   "id": "716d9834-ca3e-40d6-86cd-68fc95f3adee",
   "metadata": {},
   "outputs": [
    {
     "data": {
      "text/plain": [
       "'1231'"
      ]
     },
     "execution_count": 39,
     "metadata": {},
     "output_type": "execute_result"
    }
   ],
   "source": [
    ">>> mmdd = str1[4:8]\n",
    ">>> mmdd"
   ]
  },
  {
   "cell_type": "code",
   "execution_count": 40,
   "id": "38aabcf9-e0c0-43f4-bd63-eed63c29682f",
   "metadata": {},
   "outputs": [
    {
     "data": {
      "text/plain": [
       "'Thursday'"
      ]
     },
     "execution_count": 40,
     "metadata": {},
     "output_type": "execute_result"
    }
   ],
   "source": [
    ">>> day = str1[8:]\n",
    ">>> day"
   ]
  },
  {
   "cell_type": "markdown",
   "id": "176aa637-f76b-4055-a8c4-f50b57268447",
   "metadata": {},
   "source": [
    "### 02. 파이썬 코드의 실행 결과인 a를 예측하시오.\n",
    "```python\n",
    ">>> a = ['쓰', '레', '기', '통']\n",
    ">>> a.reverse()\n",
    ">>> a\n",
    "```"
   ]
  },
  {
   "cell_type": "code",
   "execution_count": 10,
   "id": "880f8940-c36b-4011-bba5-c0cf01e4e3d4",
   "metadata": {},
   "outputs": [
    {
     "data": {
      "text/plain": [
       "['통', '기', '레', '쓰']"
      ]
     },
     "execution_count": 10,
     "metadata": {},
     "output_type": "execute_result"
    }
   ],
   "source": [
    ">>> a = ['쓰', '레', '기', '통']\n",
    ">>> a.reverse()\n",
    ">>> a"
   ]
  },
  {
   "cell_type": "markdown",
   "id": "8e954912-2186-4eb8-9faf-e5fe27c8fb38",
   "metadata": {},
   "source": [
    "### 03. 실행결과를 참고하여 빈칸에 딕셔너리 객체를 선언하는 명령어를 작성하시오.\n",
    "```python\n",
    "\n",
    "\n",
    "\n",
    ">>> dic.keys()\n",
    "dict_keys(['year', 'mm', 'dd', 'day', 'weather'])\n",
    ">>> dic.values()\n",
    "dict_values([2020, 12, 31, 'Thursday', 'snow'])\n",
    "```"
   ]
  },
  {
   "cell_type": "code",
   "execution_count": 14,
   "id": "50326a34-e8cb-4df6-893d-12b902b7dcd9",
   "metadata": {},
   "outputs": [
    {
     "data": {
      "text/plain": [
       "dict_keys(['year', 'mm', 'dd', 'day', 'weather'])"
      ]
     },
     "execution_count": 14,
     "metadata": {},
     "output_type": "execute_result"
    }
   ],
   "source": [
    "dic = {'year':2020, 'mm':12, 'dd':31, 'day':'Thursday', 'weather':'snow'}\n",
    ">>> dic.keys()"
   ]
  },
  {
   "cell_type": "code",
   "execution_count": 15,
   "id": "616e7071-6f0e-4839-895d-f40ffcc02314",
   "metadata": {},
   "outputs": [
    {
     "data": {
      "text/plain": [
       "dict_values([2020, 12, 31, 'Thursday', 'snow'])"
      ]
     },
     "execution_count": 15,
     "metadata": {},
     "output_type": "execute_result"
    }
   ],
   "source": [
    ">>> dic.values()"
   ]
  },
  {
   "cell_type": "markdown",
   "id": "026695a6-b1c9-4702-a7ee-6c294f56d00a",
   "metadata": {},
   "source": [
    "### 04. 다음 중에서 틀린 내용은?\n",
    "1. 문자열은 원소를 변경할 수 없다.\n",
    "2. 딕셔너리는 인덱스를 이용해 슬라이싱을 할 수 있다.\n",
    "3. 튜플은 원소를 변경할 수 없다.\n",
    "4. 집합은 중복 원소를 가질 수 없다."
   ]
  },
  {
   "cell_type": "markdown",
   "id": "3788d669-a740-4931-b2ca-4315e72a56b2",
   "metadata": {},
   "source": [
    "- 정답: 2 딕셔너리는 인덱스를 이용해 슬라이싱을 할 수 있다."
   ]
  },
  {
   "cell_type": "markdown",
   "id": "4e3c7a40-4edd-497a-86ac-3159adc7b55b",
   "metadata": {},
   "source": [
    "### 05. 실행결과를 참고하여 빈칸에 이중 for문을 사용하는 명령어를 작성하시오.\n",
    "```python\n",
    "\n",
    "\n",
    "\n",
    "*\n",
    "**\n",
    "***\n",
    "****\n",
    "*****\n",
    "```"
   ]
  },
  {
   "cell_type": "code",
   "execution_count": 24,
   "id": "d8eab91d-82ab-4643-ad0b-a0b674e362f8",
   "metadata": {},
   "outputs": [
    {
     "name": "stdout",
     "output_type": "stream",
     "text": [
      "*\n",
      "\n",
      "**\n",
      "\n",
      "***\n",
      "\n",
      "****\n",
      "\n",
      "*****\n",
      "\n"
     ]
    }
   ],
   "source": [
    ">>> for i in range(1, 6):\n",
    "...    for j in range(1, i+1):\n",
    "...        print(\"*\", end=\"\")\n",
    "...    print(\"\\n\")"
   ]
  },
  {
   "cell_type": "markdown",
   "id": "a246594e-7aaa-485b-807c-34151469828a",
   "metadata": {},
   "source": [
    "### 06. 실행 결과를 참고하여 매개변수에 대한 평균을 구한 뒤 출력하는 avg() 함수를 파이썬 코드 편집기를 사용하여 작성하십시오.\n",
    "```python\n",
    ">>> avg(5, 3, 12, 9)\n",
    "7.25\n",
    ">>> avg(2.4, 3.2, 7.3)\n",
    "4.3\n",
    ">>> avg(10, 5)\n",
    "7.5\n",
    "```"
   ]
  },
  {
   "cell_type": "code",
   "execution_count": 32,
   "id": "75fe7d88-8530-430b-971d-0f3ad3acd70d",
   "metadata": {},
   "outputs": [
    {
     "name": "stdout",
     "output_type": "stream",
     "text": [
      "7.25\n",
      "4.3\n",
      "7.5\n"
     ]
    }
   ],
   "source": [
    ">>> def avg(*args):\n",
    "...    if len(args) == 0:\n",
    "...         return 0\n",
    "...    print(sum(args) / len(args))\n",
    "\n",
    ">>> avg(5, 3, 12, 9)\n",
    ">>> avg(2.4, 3.2, 7.3)\n",
    ">>> avg(10, 5)"
   ]
  },
  {
   "cell_type": "markdown",
   "id": "a67f2567-a146-49b2-a7be-cd02e852e056",
   "metadata": {},
   "source": [
    "### 07. 다음 데이터 테이블을 pandas의 DataFrame 자료형으로 저장한 뒤 CSV 파일에 저장하시오.\n",
    "연도\t1분기\t2분기\t3분기\t4분기\n",
    "2015\t500\t450\t520\t610\n",
    "2016\t690\t700\t820\t900\n",
    "2017\t1100\t1030\t1200\t1380\n",
    "2018\t1500\t1650\t1700\t1850\n",
    "2019\t1990\t2020\t2300\t2420\n",
    "2020\t1020\t1600\t2200\t2550"
   ]
  },
  {
   "cell_type": "code",
   "execution_count": 34,
   "id": "c4fd3791-33e4-44ba-b101-084d704a8f90",
   "metadata": {},
   "outputs": [
    {
     "name": "stdout",
     "output_type": "stream",
     "text": [
      "       1분기   2분기   3분기   4분기\n",
      "2015   500   450   520   610\n",
      "2016   690   700   820   900\n",
      "2017  1100  1030  1200  1380\n",
      "2018  1500  1650  1700  1850\n",
      "2019  1990  2020  2300  2420\n",
      "2020  1020  1600  2200  2550\n"
     ]
    }
   ],
   "source": [
    "import pandas as pd\n",
    "\n",
    "data = {\n",
    "    \"1분기\": [500, 690, 1100, 1500, 1990, 1020],\n",
    "    \"2분기\": [450, 700, 1030, 1650, 2020, 1600],\n",
    "    \"3분기\": [520, 820, 1200, 1700, 2300, 2200],\n",
    "    \"4분기\": [610, 900, 1380, 1850, 2420, 2550]\n",
    "}\n",
    "\n",
    "index = [2015, 2016, 2017, 2018, 2019, 2020]\n",
    "df = pd.DataFrame(data, index=index)\n",
    "df.to_csv(\"Q07.csv\", encoding='utf-8-sig')\n",
    "print(df)"
   ]
  },
  {
   "cell_type": "markdown",
   "id": "a3750e8c-426a-4798-a31b-573603cb0bce",
   "metadata": {},
   "source": [
    "### 08. 07번의 데이터를 이용해 연도별 라인플롯 차트를 그리시오."
   ]
  },
  {
   "cell_type": "code",
   "execution_count": 43,
   "id": "20559285-1211-4549-bafa-be986fcbfa2b",
   "metadata": {},
   "outputs": [
    {
     "name": "stderr",
     "output_type": "stream",
     "text": [
      "C:\\Users\\MinGi\\AppData\\Local\\Temp\\ipykernel_26032\\4292388620.py:15: UserWarning: Glyph 48516 (\\N{HANGUL SYLLABLE BUN}) missing from font(s) DejaVu Sans.\n",
      "  plt.tight_layout()\n",
      "C:\\Users\\MinGi\\AppData\\Local\\Temp\\ipykernel_26032\\4292388620.py:15: UserWarning: Glyph 44592 (\\N{HANGUL SYLLABLE GI}) missing from font(s) DejaVu Sans.\n",
      "  plt.tight_layout()\n",
      "C:\\Users\\MinGi\\AppData\\Roaming\\Python\\Python312\\site-packages\\IPython\\core\\pylabtools.py:170: UserWarning: Glyph 48516 (\\N{HANGUL SYLLABLE BUN}) missing from font(s) DejaVu Sans.\n",
      "  fig.canvas.print_figure(bytes_io, **kw)\n",
      "C:\\Users\\MinGi\\AppData\\Roaming\\Python\\Python312\\site-packages\\IPython\\core\\pylabtools.py:170: UserWarning: Glyph 44592 (\\N{HANGUL SYLLABLE GI}) missing from font(s) DejaVu Sans.\n",
      "  fig.canvas.print_figure(bytes_io, **kw)\n"
     ]
    },
    {
     "data": {
      "image/png": "[encoded data removed]",
      "text/plain": [
       "<Figure size 1000x600 with 1 Axes>"
      ]
     },
     "metadata": {},
     "output_type": "display_data"
    }
   ],
   "source": [
    "import pandas as pd\n",
    "import matplotlib.pyplot as plt\n",
    "\n",
    "df = pd.read_csv(\"Q07.csv\", index_col=0)\n",
    "\n",
    "plt.figure(figsize=(10, 6))\n",
    "for year in df.index:\n",
    "    plt.plot(df.columns, df.loc[year], label=year)\n",
    "\n",
    "plt.title(\"2015~2020 Quarterly sales\")\n",
    "plt.xlabel(\"Quarters\")\n",
    "plt.ylabel(\"Sales\")\n",
    "plt.legend()\n",
    "plt.grid(True)\n",
    "plt.tight_layout()\n",
    "\n",
    "plt.show()"
   ]
  },
  {
   "cell_type": "markdown",
   "id": "64a66f58-876d-4c51-b06e-8bfddb64f12c",
   "metadata": {},
   "source": [
    "### 09. 한식 식당에서는 메인 메뉴와 토핑을 1개씩 선택할 수 있다. 주문할 수 있는 모든 메뉴를 출력하는 set_menu 함수를 완성하시오. 단, '냉면'에는 '치즈' 토핑을 선택할 수 없다.\n",
    "```python\n",
    "def set_menu():\n",
    "    main = ['김밥', '장조림', '돈까스', '된장국', '냉면']\n",
    "    topping = ['계란', '치즈']\n",
    "    menu = []\n",
    "\n",
    "    \n",
    "    \n",
    "    return menu\n",
    "\n",
    "print(set_menu())\n",
    "```"
   ]
  },
  {
   "cell_type": "code",
   "execution_count": 44,
   "id": "5ef9a269-6041-4769-a48f-8a99adc64e86",
   "metadata": {},
   "outputs": [
    {
     "name": "stdout",
     "output_type": "stream",
     "text": [
      "[('김밥', '계란'), ('김밥', '치즈'), ('장조림', '계란'), ('장조림', '치즈'), ('돈까스', '계란'), ('돈까스', '치즈'), ('된장국', '계란'), ('된장국', '치즈'), ('냉면', '계란')]\n"
     ]
    }
   ],
   "source": [
    "def set_menu():\n",
    "    main = ['김밥', '장조림', '돈까스', '된장국', '냉면']\n",
    "    topping = ['계란', '치즈']\n",
    "    menu = []\n",
    "\n",
    "    # 여기에 코드 작성\n",
    "    for m in main:\n",
    "        for t in topping:\n",
    "            if m == '냉면' and t == '치즈':\n",
    "                continue\n",
    "            menu.append((m, t))\n",
    "\n",
    "    return menu\n",
    "\n",
    "print(set_menu())"
   ]
  },
  {
   "cell_type": "markdown",
   "id": "f767ffb7-dbf4-4b8a-a8db-c74015ffc5fc",
   "metadata": {},
   "source": [
    "### 10. 한빛 가구점에서는 책상이 하루에 1개씩 판매된다. 현재 N개의 책상을 가지고 있고, M일에 한 번씩 도매점으로부터 책상이 1개씩 입고된다. 책상의 재고가 0이 될 때까지 며칠이 걸리는지를 계산하여 반환하는 solution 함수를 작성하시오. 단, 책상의 재고가 0이 되는 날이 도매점으로부터 입고되는 날이면 재고가 다시 1개 늘어나므로 결국 그날은 재고가 1인 날이 된다.\n",
    "\n",
    "**제한 사항**\n",
    "- N: 100 이하의 자연수\n",
    "- M: 2보다 크거나 같고, 100보다 작거나 같은 자연수"
   ]
  },
  {
   "cell_type": "code",
   "execution_count": 47,
   "id": "a2691aef-18fe-4a22-bb7c-fa7738f7ab9f",
   "metadata": {},
   "outputs": [
    {
     "data": {
      "text/plain": [
       "13"
      ]
     },
     "execution_count": 47,
     "metadata": {},
     "output_type": "execute_result"
    }
   ],
   "source": [
    "def solution(N, M):\n",
    "    day = 0\n",
    "    stock = N\n",
    "\n",
    "    while stock > 0:\n",
    "        day += 1\n",
    "        stock -= 1\n",
    "        if day % M == 0:\n",
    "            stock += 1\n",
    "\n",
    "    return day\n",
    "\n",
    "solution(N=9, M=3)"
   ]
  }
 ],
 "metadata": {
  "kernelspec": {
   "display_name": "Python 3 (ipykernel)",
   "language": "python",
   "name": "python3"
  },
  "language_info": {
   "codemirror_mode": {
    "name": "ipython",
    "version": 3
   },
   "file_extension": ".py",
   "mimetype": "text/x-python",
   "name": "python",
   "nbconvert_exporter": "python",
   "pygments_lexer": "ipython3",
   "version": "3.12.3"
  }
 },
 "nbformat": 4,
 "nbformat_minor": 5
}
